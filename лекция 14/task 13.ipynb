{
 "cells": [
  {
   "cell_type": "code",
   "execution_count": 49,
   "metadata": {
    "collapsed": true
   },
   "outputs": [],
   "source": [
    "import random\n",
    "\n",
    "import numpy as np\n",
    "import pandas as pd\n",
    "import seaborn as sns\n",
    "from matplotlib import cm\n",
    "import matplotlib.pyplot as plt\n",
    "from mpl_toolkits import mplot3d\n",
    "from tensorflow.keras.datasets import imdb\n",
    "from tensorflow.keras.models import Sequential\n",
    "from tensorflow.keras.utils import to_categorical\n",
    "from tensorflow.keras.optimizers import Adam\n",
    "from tensorflow.keras.layers import Dense, Dropout, Flatten\n",
    "from tensorflow.keras.layers import Conv2D, MaxPooling2D, BatchNormalization\n",
    "from sklearn.metrics import confusion_matrix\n",
    "import random\n",
    "from sklearn.model_selection import train_test_split\n",
    "np.random.seed(0)"
   ]
  },
  {
   "cell_type": "code",
   "execution_count": 7,
   "outputs": [],
   "source": [
    "(X_train, y_train), (X_test, y_test) = imdb.load_data()"
   ],
   "metadata": {
    "collapsed": false
   }
  },
  {
   "cell_type": "code",
   "execution_count": 13,
   "outputs": [
    {
     "name": "stdout",
     "output_type": "stream",
     "text": [
      "Downloading data from https://storage.googleapis.com/tensorflow/tf-keras-datasets/imdb_word_index.json\n",
      "1641221/1641221 [==============================] - 1s 0us/step\n"
     ]
    }
   ],
   "source": [
    "indexes = imdb.get_word_index(path=\"imdb_word_index.json\")"
   ],
   "metadata": {
    "collapsed": false
   }
  },
  {
   "cell_type": "code",
   "execution_count": 8,
   "outputs": [
    {
     "name": "stdout",
     "output_type": "stream",
     "text": [
      "x_train:\t(25000,)\n",
      "y_train:\t(25000,)\n",
      "x_test:\t\t(25000,)\n",
      "y_test:\t\t(25000,)\n"
     ]
    }
   ],
   "source": [
    "print('x_train:\\t{}' .format(X_train.shape))\n",
    "print('y_train:\\t{}' .format(y_train.shape))\n",
    "print('x_test:\\t\\t{}'.format(X_test.shape))\n",
    "print('y_test:\\t\\t{}'.format(y_test.shape))"
   ],
   "metadata": {
    "collapsed": false
   }
  },
  {
   "cell_type": "code",
   "execution_count": 20,
   "outputs": [
    {
     "data": {
      "text/plain": "123"
     },
     "execution_count": 20,
     "metadata": {},
     "output_type": "execute_result"
    }
   ],
   "source": [
    "len(X_train[6])"
   ],
   "metadata": {
    "collapsed": false
   }
  },
  {
   "cell_type": "code",
   "execution_count": 69,
   "outputs": [],
   "source": [
    "# Use the default parameters to keras.datasets.imdb.load_data\n",
    "start_char = 1\n",
    "oov_char = 2\n",
    "index_from = 3\n",
    "# Retrieve the training sequences.\n",
    "(x_train, _), _ = imdb.load_data(\n",
    "    start_char=start_char, oov_char=oov_char, index_from=index_from\n",
    ")\n",
    "# Retrieve the word index file mapping words to indices\n",
    "word_index = imdb.get_word_index()\n",
    "# Reverse the word index to obtain a dict mapping indices to words\n",
    "# And add `index_from` to indices to sync with `x_train`\n",
    "inverted_word_index = dict(\n",
    "    (i + index_from, word) for (word, i) in word_index.items()\n",
    ")\n",
    "# Update `inverted_word_index` to include `start_char` and `oov_char`\n",
    "inverted_word_index[start_char] = \"\"\n",
    "inverted_word_index[oov_char] = \"[OOV]\"\n",
    "# Decode the first sequence in the dataset\n",
    "decoded_sequences= []\n",
    "for sequence in x_train:\n",
    "    decoded_sequences.append(\" \".join(inverted_word_index[i] for i in sequence))\n",
    "\n",
    "decoded_sequences= pd.Series(decoded_sequences)"
   ],
   "metadata": {
    "collapsed": false
   }
  },
  {
   "cell_type": "code",
   "execution_count": 70,
   "outputs": [],
   "source": [
    "random_elem = random.choices(decoded_sequences, k=10)"
   ],
   "metadata": {
    "collapsed": false
   }
  },
  {
   "cell_type": "code",
   "execution_count": 71,
   "outputs": [
    {
     "data": {
      "text/plain": "[\" gena rowlands plays an actress who loses her grip on reality when she witnesses the death of a fan of hers she becomes increasingly deluded from reality and as a result her emotional turmoil intrudes with her work as an actress in the sense that she breaks all the rules of acting and improvises everything yet still manages to engage her audience makes the film interesting if a bit self important as a parallel of cassavettes' own struggles as a filmmaker there's so many ideas thrown around and as result it becomes a bit muddled i'm still pondering the relation between the dead fan and rowlands among many other things but the way they're presented in their rawest form makes it a consistently interesting and thought provoking film would be great on a double bill with mulholland drive br br\",\n \" the latest rumor going around is that vh1 is starting casting calls for i love new york 3 mid 2008 so does this mean budah or tailor made dumped new york or does this mean new york dumped the winner br br i know flavor of love is coming up to it's 3rd season so now with a flavor of love 3 and a i love new york 3 will there ever be a true winner br br i've also heard a few rumors that chance will be brought back for the 3rd season of i love new york i have also heard rumors that new york will be specially featured on flavor of love 3 br br hopefully this was not too much of a spoiler for the ending of i love new york 2 i'm just stating the latest rumor\",\n ' docteur petiot starring michel serrault is a brutal story about a brutal man a doctor who heals the sick in occupied france even if their ability to compensate is not there yet he preys on the weakest amidst the populace the imagery and cinematography are superb and lend an additional macabre feeling to this complex story he is the perfect psychopath seductive and altruistic intelligent and caring calculating and murderous a movie certain not to be forgotten soon by the viewer kudos to mr serrault for his chilling portrayal',\n \" i've had a morbid fascination with tornadoes for more than 40 years since my 5th grade teacher a native texan told stories of ones he saw in his youth fortunately i've lived my whole life in the middle atlantic states where tornadoes are rare and usually not as violent as the ones in the midwest but i have had two close encounters one in pa and the other in nj in the past decade br br i enjoyed the family scenes particularly the conflicts between jack and dan hatch when the tornado was close dan knew most of what he had to do and he probably learned this in school since i know that tornado safety is an important subject in parts of the u s where these storms are more frequent however characters in the movie did two things that some people think are supposed to be done or are safe to do in tornadoes but are actually not supposed to be done or are unsafe br br when the siren first sounded dan and arthur went through the house and opened the windows for years this is what people were told to do but tornado safety web sites now advise against doing this also people were shown hiding in a highway underpass this method was made popular by an early 1990s video made by a t v crew during a relatively weak twister in kansas however in the most serious tornadoes people can be sucked out from these underpasses this happened during a may 1999 outbreak in oklahoma br br the tornadoes in this movie hit in the fall which is not a common time for them to happen then again one of my close encounters took place in late september also they traveled from northwest to southeast while most such storms in the northern hemisphere go from southwest to northeast however this is not all that unusual a famous tornado that struck joliet il in the early 1990s traveled in that direction as did the one involved in my other close encounter br br i think that the movie should have been set in the spring this movie was based on a book that in turn was based on an actual event that happened on june 3 1980 but it was still a compelling story\",\n \" i know i know plan 9 from outer space is the worst movie or maybe manos the hands of fate but i can't get worked up over those sock monkey movies of course they're bad how could they be any good but if you're talking about movies with respectable production values and bankable talent the t rex of all turkeys has to be yentl all the treacly phoniness all the self absorbed asininity that stains everything barbra streisand has done since 1964 reaches its culmination in this movie from its lonely summit of awfulness yentl looks back to a star is born and forward to the mirror has two faces there is nothing else quite like it what emotional undertow dragged streisand out to make this movie i would rather not speculate and what audience she was playing to i cannot possibly imagine although i'll bet there's a nine in ten chance you aren't a member of it br br nobel prize winner and saintly guardian of yiddish literature isaac bashevis singer was so outraged by what streisand did to his story that he blasted her in public for it it is a tribute to streisand's impenetrable vulgarity that she not only didn't commit suicide but went on to make more awful movies\",\n \" when gundam0079 became the movie trilogy most of us are familiar with a lot of it was sheer action and less of anything else this ova is kinda the opposite though there're only half a dozen episodes it isn't filled with action but emotional things the two main action sequences in this i believe are enough to satisfy me after seeing so many gundam series movies and ovas i was completely ready for a civilian esquire movie this movie did a fantastic job of that what makes this movie stand out is that shows both sides of the war have good and bad people it made the zeons seem more human rather than the original movies where they're depicted as the second rise of evil nazis most people that don't like anime that i've forced to watch this movie lol liked it so i'd recommend it to a lot of people just for the anti war story if you're a gundam fan and haven't seen this you shouldn't be reading this you should already be watching it right now\",\n \" brian dennehy bill paxton joe pantalino and best of all jeff fahey all in one film wow is all i can think to say about that these are four of the most underrated actors in the biz and they work beautifully together it's like poetry the way they play off each other and ooze the natural ability to seem as though they had been best buddies for eons for even shooting the film br br the film itself is fine and one that can be quite intense to view the first time and the four stars help the re watch ability to a great extent i cannot describe how good it was to see bill paxton and jeff fahey together on screen the greatest moment being when they watch a couple from a distance and fill in the vocals themselves it almost brought a tear to my eyes br br a good film a great cast go see why four words fahey dennehy paxton pantalino\",\n \" i enjoyed this film i thought it was an excellent political thriller about something that's never happened before a secret service agent going bad and involved in an assassination plot unfortunately for michael douglas' character pete garrison they think he's the mole but he isn't br br he's just a morally flawed agent having an affair with the first lady since he's doing that he's unable to give an acceptable polygraph exam and that makes him suspect number one when it's revealed there is a plot to kill the president br br garrison is forced to go on the lam but at the same time he's still trying to do the right thing by protecting the president douglas does a fine job in this role i don't always care the people he plays but he's an excellent actor keifer sutherland david breckinridge is equally as good at least in here as the fellow ss boss who hunts down douglas until convinced he has been telling the truth when he does the two of them work together in the finale to discover and then stop if they can the plot the crooks are interesting too by the way also i have never and never will unfortunately see a first lady who looks as good as kim basinger br br this is simply a slick action flick that entertains start to finish are there holes in it of course probably a number of them and a reason you see so many critical comments however it is unfairly bashed here it just isn't intelligent enough for the geniuses here on this website my advice chill just go along for the ride and enjoy all the action and intrigue yes it gets a little rambo ish at the end but otherwise it gets high marks for entertainment which is what movies are all about\",\n \" vaguely reminiscent of great 1940's westerns like the treasure of the sierra madre 1948 red rock west is a story about conscience greed and betrayal michael nicolas cage is a down and out but honest young man from texas who goes west in search of work and money he finds both but not in the way he had expected br br the film's screenplay contains plenty of surprises and plot twists excellent cinematography adroit film editing and moody western music add tension and suspense the expansiveness of the big sky country provides a wonderful setting and the acting ranges from good to excellent with great performances from dennis hopper and j t walsh dwight yoakam's specially recorded country western song provides the film with a strong finale br br correctly labeled as neo noir red rock west strikes me as being something else as well the plot is full of amazing coincidences and improbable timing so much so that others may regard the screenplay as flawed ordinarily i would agree in this case however when combined with the moody atmosphere and the fact that the small town of red rock seems almost empty of normal daily life the coincidences and unlikely timing suggest a story that beyond noirish is surreal it's almost as if fate deliberately intervenes with improbable events so as to force michael to come to grips with himself from this point of view the coincidences are not script flaws at all they are necessary plot points in a nightmarish story of a young man who must confront his own demons disguised as other characters br br all we need here is rod serling in a postscript explaining in his always clearly enunciated voice that a young man searching for himself stops in a small almost deserted town a thousand miles from nowhere it's his final layover in a journey to the twilight zone\",\n \" the 74th oscars was a very good one whoopi's work as emcee was very funny and light i personally loved her last apperance which garnered some frigid reviews due to coarse language and salacious jokes but that's fine the audience seemed to like it halle berry denzel washington ron howard woody allen and sidney poitier made this an oscar telecast to remember br br\"]"
     },
     "execution_count": 71,
     "metadata": {},
     "output_type": "execute_result"
    }
   ],
   "source": [
    "random_elem"
   ],
   "metadata": {
    "collapsed": false
   }
  },
  {
   "cell_type": "code",
   "execution_count": 5,
   "outputs": [
    {
     "data": {
      "text/plain": "<Figure size 600x600 with 64 Axes>",
      "image/png": "[encoded data removed]"
     },
     "metadata": {},
     "output_type": "display_data"
    }
   ],
   "source": [
    "# set up the figure\n",
    "fig = plt.figure(figsize=(6, 6))\n",
    "fig.subplots_adjust(left=0, right=1, bottom=0, top=1, hspace=0.05, wspace=0.05)\n",
    "\n",
    "# plot the digits: each image is 28x28 pixels\n",
    "for i in range(64):\n",
    "    ax = fig.add_subplot(8, 8, i + 1, xticks=[], yticks=[])\n",
    "    ax.imshow(X_train[i], cmap=plt.cm.binary, interpolation='nearest')\n",
    "\n",
    "    # label the image with the target value\n",
    "    ax.text(0, 7, str(y_train[i]))\n"
   ],
   "metadata": {
    "collapsed": false
   }
  },
  {
   "cell_type": "code",
   "execution_count": 6,
   "outputs": [
    {
     "name": "stdout",
     "output_type": "stream",
     "text": [
      "X_train:\t(60000, 28, 28, 1)  -reshaped\n",
      "X_test: \t(10000, 28, 28, 1)  -reshaped\n"
     ]
    }
   ],
   "source": [
    "img_rows, img_cols = 28, 28\n",
    "\n",
    "X_train = X_train.reshape(X_train.shape[0], img_rows, img_cols, 1)\n",
    "X_test = X_test.reshape(X_test.shape[0], img_rows, img_cols, 1)\n",
    "\n",
    "X_train = X_train.astype('float32')\n",
    "X_test = X_test.astype('float32')\n",
    "\n",
    "X_train /= 255.\n",
    "X_test /= 255.\n",
    "\n",
    "print('X_train:\\t{}' .format(X_train.shape),' -reshaped')\n",
    "print('X_test: \\t{}' .format(X_test.shape),' -reshaped')"
   ],
   "metadata": {
    "collapsed": false
   }
  },
  {
   "cell_type": "code",
   "execution_count": 7,
   "outputs": [],
   "source": [
    "y_train = to_categorical(y_train)\n",
    "y_test = to_categorical(y_test)\n",
    "num_classes = y_test.shape[1]"
   ],
   "metadata": {
    "collapsed": false
   }
  },
  {
   "cell_type": "code",
   "execution_count": 8,
   "outputs": [
    {
     "data": {
      "text/plain": "         0    1    2    3    4    5    6    7    8    9\n0      0.0  0.0  0.0  0.0  0.0  1.0  0.0  0.0  0.0  0.0\n1      1.0  0.0  0.0  0.0  0.0  0.0  0.0  0.0  0.0  0.0\n2      0.0  0.0  0.0  0.0  1.0  0.0  0.0  0.0  0.0  0.0\n3      0.0  1.0  0.0  0.0  0.0  0.0  0.0  0.0  0.0  0.0\n4      0.0  0.0  0.0  0.0  0.0  0.0  0.0  0.0  0.0  1.0\n...    ...  ...  ...  ...  ...  ...  ...  ...  ...  ...\n59995  0.0  0.0  0.0  0.0  0.0  0.0  0.0  0.0  1.0  0.0\n59996  0.0  0.0  0.0  1.0  0.0  0.0  0.0  0.0  0.0  0.0\n59997  0.0  0.0  0.0  0.0  0.0  1.0  0.0  0.0  0.0  0.0\n59998  0.0  0.0  0.0  0.0  0.0  0.0  1.0  0.0  0.0  0.0\n59999  0.0  0.0  0.0  0.0  0.0  0.0  0.0  0.0  1.0  0.0\n\n[60000 rows x 10 columns]",
      "text/html": "<div>\n<style scoped>\n    .dataframe tbody tr th:only-of-type {\n        vertical-align: middle;\n    }\n\n    .dataframe tbody tr th {\n        vertical-align: top;\n    }\n\n    .dataframe thead th {\n        text-align: right;\n    }\n</style>\n<table border=\"1\" class=\"dataframe\">\n  <thead>\n    <tr style=\"text-align: right;\">\n      <th></th>\n      <th>0</th>\n      <th>1</th>\n      <th>2</th>\n      <th>3</th>\n      <th>4</th>\n      <th>5</th>\n      <th>6</th>\n      <th>7</th>\n      <th>8</th>\n      <th>9</th>\n    </tr>\n  </thead>\n  <tbody>\n    <tr>\n      <th>0</th>\n      <td>0.0</td>\n      <td>0.0</td>\n      <td>0.0</td>\n      <td>0.0</td>\n      <td>0.0</td>\n      <td>1.0</td>\n      <td>0.0</td>\n      <td>0.0</td>\n      <td>0.0</td>\n      <td>0.0</td>\n    </tr>\n    <tr>\n      <th>1</th>\n      <td>1.0</td>\n      <td>0.0</td>\n      <td>0.0</td>\n      <td>0.0</td>\n      <td>0.0</td>\n      <td>0.0</td>\n      <td>0.0</td>\n      <td>0.0</td>\n      <td>0.0</td>\n      <td>0.0</td>\n    </tr>\n    <tr>\n      <th>2</th>\n      <td>0.0</td>\n      <td>0.0</td>\n      <td>0.0</td>\n      <td>0.0</td>\n      <td>1.0</td>\n      <td>0.0</td>\n      <td>0.0</td>\n      <td>0.0</td>\n      <td>0.0</td>\n      <td>0.0</td>\n    </tr>\n    <tr>\n      <th>3</th>\n      <td>0.0</td>\n      <td>1.0</td>\n      <td>0.0</td>\n      <td>0.0</td>\n      <td>0.0</td>\n      <td>0.0</td>\n      <td>0.0</td>\n      <td>0.0</td>\n      <td>0.0</td>\n      <td>0.0</td>\n    </tr>\n    <tr>\n      <th>4</th>\n      <td>0.0</td>\n      <td>0.0</td>\n      <td>0.0</td>\n      <td>0.0</td>\n      <td>0.0</td>\n      <td>0.0</td>\n      <td>0.0</td>\n      <td>0.0</td>\n      <td>0.0</td>\n      <td>1.0</td>\n    </tr>\n    <tr>\n      <th>...</th>\n      <td>...</td>\n      <td>...</td>\n      <td>...</td>\n      <td>...</td>\n      <td>...</td>\n      <td>...</td>\n      <td>...</td>\n      <td>...</td>\n      <td>...</td>\n      <td>...</td>\n    </tr>\n    <tr>\n      <th>59995</th>\n      <td>0.0</td>\n      <td>0.0</td>\n      <td>0.0</td>\n      <td>0.0</td>\n      <td>0.0</td>\n      <td>0.0</td>\n      <td>0.0</td>\n      <td>0.0</td>\n      <td>1.0</td>\n      <td>0.0</td>\n    </tr>\n    <tr>\n      <th>59996</th>\n      <td>0.0</td>\n      <td>0.0</td>\n      <td>0.0</td>\n      <td>1.0</td>\n      <td>0.0</td>\n      <td>0.0</td>\n      <td>0.0</td>\n      <td>0.0</td>\n      <td>0.0</td>\n      <td>0.0</td>\n    </tr>\n    <tr>\n      <th>59997</th>\n      <td>0.0</td>\n      <td>0.0</td>\n      <td>0.0</td>\n      <td>0.0</td>\n      <td>0.0</td>\n      <td>1.0</td>\n      <td>0.0</td>\n      <td>0.0</td>\n      <td>0.0</td>\n      <td>0.0</td>\n    </tr>\n    <tr>\n      <th>59998</th>\n      <td>0.0</td>\n      <td>0.0</td>\n      <td>0.0</td>\n      <td>0.0</td>\n      <td>0.0</td>\n      <td>0.0</td>\n      <td>1.0</td>\n      <td>0.0</td>\n      <td>0.0</td>\n      <td>0.0</td>\n    </tr>\n    <tr>\n      <th>59999</th>\n      <td>0.0</td>\n      <td>0.0</td>\n      <td>0.0</td>\n      <td>0.0</td>\n      <td>0.0</td>\n      <td>0.0</td>\n      <td>0.0</td>\n      <td>0.0</td>\n      <td>1.0</td>\n      <td>0.0</td>\n    </tr>\n  </tbody>\n</table>\n<p>60000 rows × 10 columns</p>\n</div>"
     },
     "execution_count": 8,
     "metadata": {},
     "output_type": "execute_result"
    }
   ],
   "source": [
    "pd.DataFrame(y_train)"
   ],
   "metadata": {
    "collapsed": false
   }
  },
  {
   "cell_type": "code",
   "execution_count": 9,
   "outputs": [],
   "source": [
    "# Hyperparameters\n",
    "training_epochs = 10 # Total number of training epochs\n",
    "learning_rate = 0.001 # The learning rate"
   ],
   "metadata": {
    "collapsed": false
   }
  },
  {
   "cell_type": "code",
   "execution_count": 10,
   "outputs": [
    {
     "name": "stdout",
     "output_type": "stream",
     "text": [
      "Model: \"sequential\"\n",
      "_________________________________________________________________\n",
      " Layer (type)                Output Shape              Param #   \n",
      "=================================================================\n",
      " conv2d (Conv2D)             (None, 26, 26, 32)        320       \n",
      "                                                                 \n",
      " max_pooling2d (MaxPooling2D  (None, 13, 13, 32)       0         \n",
      " )                                                               \n",
      "                                                                 \n",
      " conv2d_1 (Conv2D)           (None, 11, 11, 32)        9248      \n",
      "                                                                 \n",
      " max_pooling2d_1 (MaxPooling  (None, 5, 5, 32)         0         \n",
      " 2D)                                                             \n",
      "                                                                 \n",
      " batch_normalization (BatchN  (None, 5, 5, 32)         128       \n",
      " ormalization)                                                   \n",
      "                                                                 \n",
      " flatten (Flatten)           (None, 800)               0         \n",
      "                                                                 \n",
      " dense (Dense)               (None, 128)               102528    \n",
      "                                                                 \n",
      " dense_1 (Dense)             (None, 10)                1290      \n",
      "                                                                 \n",
      "=================================================================\n",
      "Total params: 113,514\n",
      "Trainable params: 113,450\n",
      "Non-trainable params: 64\n",
      "_________________________________________________________________\n"
     ]
    }
   ],
   "source": [
    "# create a model\n",
    "def create_model():\n",
    "    model = Sequential()\n",
    "\n",
    "    model.add(Conv2D(32, (3, 3), activation='relu', input_shape=(28, 28, 1)))\n",
    "    model.add(MaxPooling2D((2, 2)))\n",
    "    model.add(Conv2D(32, (3, 3), activation='relu'))\n",
    "    model.add(MaxPooling2D((2, 2)))\n",
    "    model.add(BatchNormalization())\n",
    "\n",
    "    model.add(Flatten())\n",
    "    model.add(Dense(128, activation='relu'))\n",
    "    model.add(Dense(10, activation='softmax'))\n",
    "    model.compile(optimizer=Adam(learning_rate), loss='categorical_crossentropy', metrics=['accuracy'])\n",
    "    return model\n",
    "\n",
    "model = create_model()\n",
    "model.summary()"
   ],
   "metadata": {
    "collapsed": false
   }
  },
  {
   "cell_type": "code",
   "execution_count": 11,
   "outputs": [
    {
     "name": "stdout",
     "output_type": "stream",
     "text": [
      "Epoch 1/10\n",
      "1875/1875 - 19s - loss: 0.0922 - accuracy: 0.9712 - val_loss: 0.0747 - val_accuracy: 0.9772 - 19s/epoch - 10ms/step\n",
      "Epoch 2/10\n"
     ]
    },
    {
     "name": "stderr",
     "output_type": "stream",
     "text": [
      "\n",
      "KeyboardInterrupt\n",
      "\n"
     ]
    }
   ],
   "source": [
    "results = model.fit(\n",
    "    X_train, y_train,\n",
    "    epochs= training_epochs,\n",
    "    batch_size = 32,\n",
    "    validation_data = (X_test, y_test),\n",
    "    verbose = 2\n",
    ")"
   ],
   "metadata": {
    "collapsed": false
   }
  },
  {
   "cell_type": "code",
   "execution_count": null,
   "outputs": [],
   "source": [
    "model.evaluate(X_test,y_test)"
   ],
   "metadata": {
    "collapsed": false
   }
  },
  {
   "cell_type": "code",
   "execution_count": null,
   "outputs": [],
   "source": [
    "prediction_values = model.predict(X_test, max_queue_size=1)"
   ],
   "metadata": {
    "collapsed": false
   }
  },
  {
   "cell_type": "code",
   "execution_count": null,
   "outputs": [],
   "source": [
    "print(prediction_values[2])"
   ],
   "metadata": {
    "collapsed": false
   }
  },
  {
   "cell_type": "code",
   "execution_count": null,
   "outputs": [],
   "source": [
    "print(\"Evaluating on training set...\")\n",
    "(loss, accuracy) = model.evaluate(X_train,y_train, verbose=0)\n",
    "print(\"loss={:.4f}, accuracy: {:.4f}%\".format(loss,accuracy * 100))\n",
    "\n",
    "\n",
    "print(\"Evaluating on testing set...\")\n",
    "(loss, accuracy) = model.evaluate(X_test, y_test, verbose=0)\n",
    "print(\"loss={:.4f}, accuracy: {:.4f}%\".format(loss,accuracy * 100))"
   ],
   "metadata": {
    "collapsed": false
   }
  },
  {
   "cell_type": "code",
   "execution_count": null,
   "outputs": [],
   "source": [
    "# summarize history for accuracy\n",
    "plt.subplot(211)\n",
    "plt.plot(results.history['accuracy'])\n",
    "plt.plot(results.history['val_accuracy'])\n",
    "plt.title('model accuracy')\n",
    "plt.ylabel('accuracy')\n",
    "plt.xlabel('epoch')\n",
    "plt.legend(['train', 'test'])\n",
    "\n",
    "# summarize history for loss\n",
    "plt.subplot(212)\n",
    "plt.plot(results.history['loss'])\n",
    "plt.plot(results.history['val_loss'])\n",
    "plt.title('model loss')\n",
    "plt.ylabel('loss')\n",
    "plt.xlabel('epoch')\n",
    "plt.legend(['train', 'test'])\n",
    "plt.tight_layout()\n",
    "\n",
    "max_loss = np.max(results.history['loss'])\n",
    "min_loss = np.min(results.history['loss'])\n",
    "print(\"Maximum Loss : {:.4f}\".format(max_loss))\n",
    "print(\"Minimum Loss : {:.4f}\".format(min_loss))\n",
    "print(\"Loss difference : {:.4f}\".format((max_loss - min_loss)))"
   ],
   "metadata": {
    "collapsed": false
   }
  },
  {
   "cell_type": "markdown",
   "source": [
    "По графиками видно что оптимальное количество епох 2, дальше растёт количество потерь и падает accuracy. Пересоздаём модель с меньшшим количеством эпох."
   ],
   "metadata": {
    "collapsed": false
   }
  },
  {
   "cell_type": "code",
   "execution_count": null,
   "outputs": [],
   "source": [
    "# Hyperparameters\n",
    "training_epochs = 2 # Total number of training epochs\n",
    "learning_rate = 0.001 # The learning rate"
   ],
   "metadata": {
    "collapsed": false
   }
  },
  {
   "cell_type": "code",
   "execution_count": null,
   "outputs": [],
   "source": [
    "# create a model\n",
    "def create_model():\n",
    "    model = Sequential()\n",
    "\n",
    "    model.add(Conv2D(32, (3, 3), activation='relu', input_shape=(28, 28, 1)))\n",
    "    model.add(MaxPooling2D((2, 2)))\n",
    "    model.add(Conv2D(32, (3, 3), activation='relu'))\n",
    "    model.add(MaxPooling2D((2, 2)))\n",
    "    model.add(BatchNormalization())\n",
    "\n",
    "    model.add(Flatten())\n",
    "    model.add(Dense(128, activation='relu'))\n",
    "    model.add(Dense(10, activation='softmax'))\n",
    "    model.compile(optimizer=Adam(learning_rate), loss='categorical_crossentropy', metrics=['accuracy'])\n",
    "    return model\n",
    "\n",
    "model = create_model()\n",
    "model.summary()"
   ],
   "metadata": {
    "collapsed": false
   }
  },
  {
   "cell_type": "code",
   "execution_count": null,
   "outputs": [],
   "source": [
    "results = model.fit(\n",
    "    X_train, y_train,\n",
    "    epochs= training_epochs,\n",
    "    batch_size = 32,\n",
    "    validation_data = (X_test, y_test),\n",
    "    verbose = 2\n",
    ")"
   ],
   "metadata": {
    "collapsed": false
   }
  },
  {
   "cell_type": "code",
   "execution_count": null,
   "outputs": [],
   "source": [
    "model.evaluate(X_test,y_test)"
   ],
   "metadata": {
    "collapsed": false
   }
  },
  {
   "cell_type": "code",
   "execution_count": null,
   "outputs": [],
   "source": [
    "prediction_values = model.predict(X_test, max_queue_size=1)"
   ],
   "metadata": {
    "collapsed": false
   }
  },
  {
   "cell_type": "code",
   "execution_count": null,
   "outputs": [],
   "source": [
    "Y_true = np.argmax(y_test,axis = 1)\n",
    "pred_values = np.argmax(prediction_values,axis = 1)\n",
    "confusion_mtx = confusion_matrix(Y_true, pred_values)\n",
    "sns.heatmap(confusion_mtx, annot=True, fmt=\"d\")\n",
    "plt.ylabel('True')\n",
    "plt.xlabel('Predicted')"
   ],
   "metadata": {
    "collapsed": false
   }
  },
  {
   "cell_type": "markdown",
   "source": [],
   "metadata": {
    "collapsed": false
   }
  }
 ],
 "metadata": {
  "kernelspec": {
   "display_name": "Python 3",
   "language": "python",
   "name": "python3"
  },
  "language_info": {
   "codemirror_mode": {
    "name": "ipython",
    "version": 2
   },
   "file_extension": ".py",
   "mimetype": "text/x-python",
   "name": "python",
   "nbconvert_exporter": "python",
   "pygments_lexer": "ipython2",
   "version": "2.7.6"
  }
 },
 "nbformat": 4,
 "nbformat_minor": 0
}
