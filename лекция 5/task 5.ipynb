{
 "cells": [
  {
   "cell_type": "code",
   "execution_count": 43,
   "metadata": {},
   "outputs": [],
   "source": [
    "import numpy as np\n",
    "import pandas as pd\n",
    "import seaborn as sns\n",
    "from sklearn import preprocessing,svm\n",
    "from sklearn.model_selection import  train_test_split, cross_validate\n",
    "from sklearn.linear_model import Lasso, SGDRegressor, Ridge, LinearRegression\n",
    "from sklearn.metrics import mean_squared_error\n",
    "from sklearn.model_selection import GridSearchCV\n",
    "from sklearn.pipeline import make_pipeline\n",
    "sns.set()"
   ]
  },
  {
   "cell_type": "markdown",
   "source": [
    "Загрузка данных первого сета."
   ],
   "metadata": {
    "collapsed": false
   }
  },
  {
   "cell_type": "code",
   "execution_count": 44,
   "outputs": [
    {
     "name": "stderr",
     "output_type": "stream",
     "text": [
      "/tmp/ipykernel_13436/199712251.py:3: FutureWarning: The frame.append method is deprecated and will be removed from pandas in a future version. Use pandas.concat instead.\n",
      "  wines = red_wine_data.append(white_wine_data)\n"
     ]
    }
   ],
   "source": [
    "red_wine_data = pd.read_csv('winequality-red.csv', delimiter=';')\n",
    "white_wine_data = pd.read_csv('winequality-white.csv', delimiter=';')\n",
    "wines = red_wine_data.append(white_wine_data)\n",
    "#Смотрим основные параметры."
   ],
   "metadata": {
    "collapsed": false
   }
  },
  {
   "cell_type": "markdown",
   "source": [],
   "metadata": {
    "collapsed": false
   }
  },
  {
   "cell_type": "markdown",
   "source": [
    "Оцениваем что в дата-сете есть, и с чем прийдется иметь дело."
   ],
   "metadata": {
    "collapsed": false
   }
  },
  {
   "cell_type": "code",
   "execution_count": 45,
   "outputs": [
    {
     "data": {
      "text/plain": "    fixed acidity  volatile acidity  citric acid  residual sugar  chlorides  \\\n0             7.4             0.700         0.00             1.9      0.076   \n1             7.8             0.880         0.00             2.6      0.098   \n2             7.8             0.760         0.04             2.3      0.092   \n3            11.2             0.280         0.56             1.9      0.075   \n4             7.4             0.700         0.00             1.9      0.076   \n..            ...               ...          ...             ...        ...   \n95            4.7             0.600         0.17             2.3      0.058   \n96            6.8             0.775         0.00             3.0      0.102   \n97            7.0             0.500         0.25             2.0      0.070   \n98            7.6             0.900         0.06             2.5      0.079   \n99            8.1             0.545         0.18             1.9      0.080   \n\n    free sulfur dioxide  total sulfur dioxide  density    pH  sulphates  \\\n0                  11.0                  34.0   0.9978  3.51       0.56   \n1                  25.0                  67.0   0.9968  3.20       0.68   \n2                  15.0                  54.0   0.9970  3.26       0.65   \n3                  17.0                  60.0   0.9980  3.16       0.58   \n4                  11.0                  34.0   0.9978  3.51       0.56   \n..                  ...                   ...      ...   ...        ...   \n95                 17.0                 106.0   0.9932  3.85       0.60   \n96                  8.0                  23.0   0.9965  3.45       0.56   \n97                  3.0                  22.0   0.9963  3.25       0.63   \n98                  5.0                  10.0   0.9967  3.39       0.56   \n99                 13.0                  35.0   0.9972  3.30       0.59   \n\n    alcohol  quality  \n0       9.4        5  \n1       9.8        5  \n2       9.8        5  \n3       9.8        6  \n4       9.4        5  \n..      ...      ...  \n95     12.9        6  \n96     10.7        5  \n97      9.2        5  \n98      9.8        5  \n99      9.0        6  \n\n[100 rows x 12 columns]",
      "text/html": "<div>\n<style scoped>\n    .dataframe tbody tr th:only-of-type {\n        vertical-align: middle;\n    }\n\n    .dataframe tbody tr th {\n        vertical-align: top;\n    }\n\n    .dataframe thead th {\n        text-align: right;\n    }\n</style>\n<table border=\"1\" class=\"dataframe\">\n  <thead>\n    <tr style=\"text-align: right;\">\n      <th></th>\n      <th>fixed acidity</th>\n      <th>volatile acidity</th>\n      <th>citric acid</th>\n      <th>residual sugar</th>\n      <th>chlorides</th>\n      <th>free sulfur dioxide</th>\n      <th>total sulfur dioxide</th>\n      <th>density</th>\n      <th>pH</th>\n      <th>sulphates</th>\n      <th>alcohol</th>\n      <th>quality</th>\n    </tr>\n  </thead>\n  <tbody>\n    <tr>\n      <th>0</th>\n      <td>7.4</td>\n      <td>0.700</td>\n      <td>0.00</td>\n      <td>1.9</td>\n      <td>0.076</td>\n      <td>11.0</td>\n      <td>34.0</td>\n      <td>0.9978</td>\n      <td>3.51</td>\n      <td>0.56</td>\n      <td>9.4</td>\n      <td>5</td>\n    </tr>\n    <tr>\n      <th>1</th>\n      <td>7.8</td>\n      <td>0.880</td>\n      <td>0.00</td>\n      <td>2.6</td>\n      <td>0.098</td>\n      <td>25.0</td>\n      <td>67.0</td>\n      <td>0.9968</td>\n      <td>3.20</td>\n      <td>0.68</td>\n      <td>9.8</td>\n      <td>5</td>\n    </tr>\n    <tr>\n      <th>2</th>\n      <td>7.8</td>\n      <td>0.760</td>\n      <td>0.04</td>\n      <td>2.3</td>\n      <td>0.092</td>\n      <td>15.0</td>\n      <td>54.0</td>\n      <td>0.9970</td>\n      <td>3.26</td>\n      <td>0.65</td>\n      <td>9.8</td>\n      <td>5</td>\n    </tr>\n    <tr>\n      <th>3</th>\n      <td>11.2</td>\n      <td>0.280</td>\n      <td>0.56</td>\n      <td>1.9</td>\n      <td>0.075</td>\n      <td>17.0</td>\n      <td>60.0</td>\n      <td>0.9980</td>\n      <td>3.16</td>\n      <td>0.58</td>\n      <td>9.8</td>\n      <td>6</td>\n    </tr>\n    <tr>\n      <th>4</th>\n      <td>7.4</td>\n      <td>0.700</td>\n      <td>0.00</td>\n      <td>1.9</td>\n      <td>0.076</td>\n      <td>11.0</td>\n      <td>34.0</td>\n      <td>0.9978</td>\n      <td>3.51</td>\n      <td>0.56</td>\n      <td>9.4</td>\n      <td>5</td>\n    </tr>\n    <tr>\n      <th>...</th>\n      <td>...</td>\n      <td>...</td>\n      <td>...</td>\n      <td>...</td>\n      <td>...</td>\n      <td>...</td>\n      <td>...</td>\n      <td>...</td>\n      <td>...</td>\n      <td>...</td>\n      <td>...</td>\n      <td>...</td>\n    </tr>\n    <tr>\n      <th>95</th>\n      <td>4.7</td>\n      <td>0.600</td>\n      <td>0.17</td>\n      <td>2.3</td>\n      <td>0.058</td>\n      <td>17.0</td>\n      <td>106.0</td>\n      <td>0.9932</td>\n      <td>3.85</td>\n      <td>0.60</td>\n      <td>12.9</td>\n      <td>6</td>\n    </tr>\n    <tr>\n      <th>96</th>\n      <td>6.8</td>\n      <td>0.775</td>\n      <td>0.00</td>\n      <td>3.0</td>\n      <td>0.102</td>\n      <td>8.0</td>\n      <td>23.0</td>\n      <td>0.9965</td>\n      <td>3.45</td>\n      <td>0.56</td>\n      <td>10.7</td>\n      <td>5</td>\n    </tr>\n    <tr>\n      <th>97</th>\n      <td>7.0</td>\n      <td>0.500</td>\n      <td>0.25</td>\n      <td>2.0</td>\n      <td>0.070</td>\n      <td>3.0</td>\n      <td>22.0</td>\n      <td>0.9963</td>\n      <td>3.25</td>\n      <td>0.63</td>\n      <td>9.2</td>\n      <td>5</td>\n    </tr>\n    <tr>\n      <th>98</th>\n      <td>7.6</td>\n      <td>0.900</td>\n      <td>0.06</td>\n      <td>2.5</td>\n      <td>0.079</td>\n      <td>5.0</td>\n      <td>10.0</td>\n      <td>0.9967</td>\n      <td>3.39</td>\n      <td>0.56</td>\n      <td>9.8</td>\n      <td>5</td>\n    </tr>\n    <tr>\n      <th>99</th>\n      <td>8.1</td>\n      <td>0.545</td>\n      <td>0.18</td>\n      <td>1.9</td>\n      <td>0.080</td>\n      <td>13.0</td>\n      <td>35.0</td>\n      <td>0.9972</td>\n      <td>3.30</td>\n      <td>0.59</td>\n      <td>9.0</td>\n      <td>6</td>\n    </tr>\n  </tbody>\n</table>\n<p>100 rows × 12 columns</p>\n</div>"
     },
     "execution_count": 45,
     "metadata": {},
     "output_type": "execute_result"
    }
   ],
   "source": [
    "wines.head(100)"
   ],
   "metadata": {
    "collapsed": false
   }
  },
  {
   "cell_type": "markdown",
   "source": [
    "Удалим повторяющиеся записи"
   ],
   "metadata": {
    "collapsed": false
   }
  },
  {
   "cell_type": "code",
   "execution_count": 46,
   "outputs": [],
   "source": [
    "# first_data.drop_duplicates(\"Player\", inplace=True)\n",
    "# first_data[\"Player\"].value_counts()"
   ],
   "metadata": {
    "collapsed": false
   }
  },
  {
   "cell_type": "markdown",
   "source": [
    "Cмотрим насколько однородны данные и сколько пропущенных элементов в тех или иных столбцах."
   ],
   "metadata": {
    "collapsed": false
   }
  },
  {
   "cell_type": "code",
   "execution_count": 47,
   "outputs": [
    {
     "data": {
      "text/plain": "fixed acidity           6497\nvolatile acidity        6497\ncitric acid             6497\nresidual sugar          6497\nchlorides               6497\nfree sulfur dioxide     6497\ntotal sulfur dioxide    6497\ndensity                 6497\npH                      6497\nsulphates               6497\nalcohol                 6497\nquality                 6497\ndtype: int64"
     },
     "execution_count": 47,
     "metadata": {},
     "output_type": "execute_result"
    }
   ],
   "source": [
    "wines.count()"
   ],
   "metadata": {
    "collapsed": false
   }
  },
  {
   "cell_type": "markdown",
   "source": [
    "В процентном соотношении."
   ],
   "metadata": {
    "collapsed": false
   }
  },
  {
   "cell_type": "code",
   "execution_count": 48,
   "outputs": [
    {
     "name": "stdout",
     "output_type": "stream",
     "text": [
      "fixed acidity - 0.0     min: 3.8     max:15.9\n",
      "volatile acidity - 0.0     min: 0.08     max:1.58\n",
      "citric acid - 0.0     min: 0.0     max:1.66\n",
      "residual sugar - 0.0     min: 0.6     max:65.8\n",
      "chlorides - 0.0     min: 0.009     max:0.611\n",
      "free sulfur dioxide - 0.0     min: 1.0     max:289.0\n",
      "total sulfur dioxide - 0.0     min: 6.0     max:440.0\n",
      "density - 0.0     min: 0.98711     max:1.03898\n",
      "pH - 0.0     min: 2.72     max:4.01\n",
      "sulphates - 0.0     min: 0.22     max:2.0\n",
      "alcohol - 0.0     min: 8.0     max:14.9\n",
      "quality - 0.0     min: 3     max:9\n"
     ]
    }
   ],
   "source": [
    "for col in wines.columns:\n",
    "    pct_missing = np.mean(wines[col].isnull())\n",
    "    print(f'{col} - {round(pct_missing * 100, 5)}     min: {wines[col].min()}     max:{wines[col].max()}')"
   ],
   "metadata": {
    "collapsed": false
   }
  },
  {
   "cell_type": "markdown",
   "source": [
    "Пропущенных значений нет, как и заявлялось в описании. Странность есть в минимальном значении столбца \"chlorides\", исправим:"
   ],
   "metadata": {
    "collapsed": false
   }
  },
  {
   "cell_type": "code",
   "execution_count": 49,
   "outputs": [],
   "source": [
    "wines[\"chlorides\"] = round(wines[\"chlorides\"], 3)"
   ],
   "metadata": {
    "collapsed": false
   }
  },
  {
   "cell_type": "code",
   "execution_count": 50,
   "outputs": [
    {
     "data": {
      "text/plain": "       fixed acidity  volatile acidity  citric acid  residual sugar  \\\ncount    6497.000000       6497.000000  6497.000000     6497.000000   \nmean        7.215307          0.339666     0.318633        5.443235   \nstd         1.296434          0.164636     0.145318        4.757804   \nmin         3.800000          0.080000     0.000000        0.600000   \n25%         6.400000          0.230000     0.250000        1.800000   \n50%         7.000000          0.290000     0.310000        3.000000   \n75%         7.700000          0.400000     0.390000        8.100000   \nmax        15.900000          1.580000     1.660000       65.800000   \n\n         chlorides  free sulfur dioxide  total sulfur dioxide      density  \\\ncount  6497.000000          6497.000000           6497.000000  6497.000000   \nmean      0.056034            30.525319            115.744574     0.994697   \nstd       0.035034            17.749400             56.521855     0.002999   \nmin       0.009000             1.000000              6.000000     0.987110   \n25%       0.038000            17.000000             77.000000     0.992340   \n50%       0.047000            29.000000            118.000000     0.994890   \n75%       0.065000            41.000000            156.000000     0.996990   \nmax       0.611000           289.000000            440.000000     1.038980   \n\n                pH    sulphates      alcohol      quality  \ncount  6497.000000  6497.000000  6497.000000  6497.000000  \nmean      3.218501     0.531268    10.491801     5.818378  \nstd       0.160787     0.148806     1.192712     0.873255  \nmin       2.720000     0.220000     8.000000     3.000000  \n25%       3.110000     0.430000     9.500000     5.000000  \n50%       3.210000     0.510000    10.300000     6.000000  \n75%       3.320000     0.600000    11.300000     6.000000  \nmax       4.010000     2.000000    14.900000     9.000000  ",
      "text/html": "<div>\n<style scoped>\n    .dataframe tbody tr th:only-of-type {\n        vertical-align: middle;\n    }\n\n    .dataframe tbody tr th {\n        vertical-align: top;\n    }\n\n    .dataframe thead th {\n        text-align: right;\n    }\n</style>\n<table border=\"1\" class=\"dataframe\">\n  <thead>\n    <tr style=\"text-align: right;\">\n      <th></th>\n      <th>fixed acidity</th>\n      <th>volatile acidity</th>\n      <th>citric acid</th>\n      <th>residual sugar</th>\n      <th>chlorides</th>\n      <th>free sulfur dioxide</th>\n      <th>total sulfur dioxide</th>\n      <th>density</th>\n      <th>pH</th>\n      <th>sulphates</th>\n      <th>alcohol</th>\n      <th>quality</th>\n    </tr>\n  </thead>\n  <tbody>\n    <tr>\n      <th>count</th>\n      <td>6497.000000</td>\n      <td>6497.000000</td>\n      <td>6497.000000</td>\n      <td>6497.000000</td>\n      <td>6497.000000</td>\n      <td>6497.000000</td>\n      <td>6497.000000</td>\n      <td>6497.000000</td>\n      <td>6497.000000</td>\n      <td>6497.000000</td>\n      <td>6497.000000</td>\n      <td>6497.000000</td>\n    </tr>\n    <tr>\n      <th>mean</th>\n      <td>7.215307</td>\n      <td>0.339666</td>\n      <td>0.318633</td>\n      <td>5.443235</td>\n      <td>0.056034</td>\n      <td>30.525319</td>\n      <td>115.744574</td>\n      <td>0.994697</td>\n      <td>3.218501</td>\n      <td>0.531268</td>\n      <td>10.491801</td>\n      <td>5.818378</td>\n    </tr>\n    <tr>\n      <th>std</th>\n      <td>1.296434</td>\n      <td>0.164636</td>\n      <td>0.145318</td>\n      <td>4.757804</td>\n      <td>0.035034</td>\n      <td>17.749400</td>\n      <td>56.521855</td>\n      <td>0.002999</td>\n      <td>0.160787</td>\n      <td>0.148806</td>\n      <td>1.192712</td>\n      <td>0.873255</td>\n    </tr>\n    <tr>\n      <th>min</th>\n      <td>3.800000</td>\n      <td>0.080000</td>\n      <td>0.000000</td>\n      <td>0.600000</td>\n      <td>0.009000</td>\n      <td>1.000000</td>\n      <td>6.000000</td>\n      <td>0.987110</td>\n      <td>2.720000</td>\n      <td>0.220000</td>\n      <td>8.000000</td>\n      <td>3.000000</td>\n    </tr>\n    <tr>\n      <th>25%</th>\n      <td>6.400000</td>\n      <td>0.230000</td>\n      <td>0.250000</td>\n      <td>1.800000</td>\n      <td>0.038000</td>\n      <td>17.000000</td>\n      <td>77.000000</td>\n      <td>0.992340</td>\n      <td>3.110000</td>\n      <td>0.430000</td>\n      <td>9.500000</td>\n      <td>5.000000</td>\n    </tr>\n    <tr>\n      <th>50%</th>\n      <td>7.000000</td>\n      <td>0.290000</td>\n      <td>0.310000</td>\n      <td>3.000000</td>\n      <td>0.047000</td>\n      <td>29.000000</td>\n      <td>118.000000</td>\n      <td>0.994890</td>\n      <td>3.210000</td>\n      <td>0.510000</td>\n      <td>10.300000</td>\n      <td>6.000000</td>\n    </tr>\n    <tr>\n      <th>75%</th>\n      <td>7.700000</td>\n      <td>0.400000</td>\n      <td>0.390000</td>\n      <td>8.100000</td>\n      <td>0.065000</td>\n      <td>41.000000</td>\n      <td>156.000000</td>\n      <td>0.996990</td>\n      <td>3.320000</td>\n      <td>0.600000</td>\n      <td>11.300000</td>\n      <td>6.000000</td>\n    </tr>\n    <tr>\n      <th>max</th>\n      <td>15.900000</td>\n      <td>1.580000</td>\n      <td>1.660000</td>\n      <td>65.800000</td>\n      <td>0.611000</td>\n      <td>289.000000</td>\n      <td>440.000000</td>\n      <td>1.038980</td>\n      <td>4.010000</td>\n      <td>2.000000</td>\n      <td>14.900000</td>\n      <td>9.000000</td>\n    </tr>\n  </tbody>\n</table>\n</div>"
     },
     "execution_count": 50,
     "metadata": {},
     "output_type": "execute_result"
    }
   ],
   "source": [
    "wines.describe()"
   ],
   "metadata": {
    "collapsed": false
   }
  },
  {
   "cell_type": "markdown",
   "source": [
    "Из таблицы резко выбиваются значения \"free sulfur dioxide\":289 и \"total sulfur dioxide\": 400. Проверим не ошибочные ли это данные."
   ],
   "metadata": {
    "collapsed": false
   }
  },
  {
   "cell_type": "code",
   "execution_count": 51,
   "outputs": [
    {
     "data": {
      "text/plain": "<AxesSubplot: >"
     },
     "execution_count": 51,
     "metadata": {},
     "output_type": "execute_result"
    }
   ],
   "source": [
    "wines.boxplot(column=[\"free sulfur dioxide\", \"total sulfur dioxide\"])"
   ],
   "metadata": {
    "collapsed": false
   }
  },
  {
   "cell_type": "markdown",
   "source": [
    "Можно предположить что значение столбца \"free sulfur dioxide\" значением около 300 может быть ошибочным, как и значение \"total sulfur dioxide\" более 400. Посмотрим на эти записи ближе."
   ],
   "metadata": {
    "collapsed": false
   }
  },
  {
   "cell_type": "code",
   "execution_count": 52,
   "outputs": [
    {
     "data": {
      "text/plain": "      fixed acidity  volatile acidity  citric acid  residual sugar  chlorides  \\\n4745            6.1              0.26         0.25             2.9      0.047   \n\n      free sulfur dioxide  total sulfur dioxide  density    pH  sulphates  \\\n4745                289.0                 440.0  0.99314  3.44       0.64   \n\n      alcohol  quality  \n4745     10.5        3  ",
      "text/html": "<div>\n<style scoped>\n    .dataframe tbody tr th:only-of-type {\n        vertical-align: middle;\n    }\n\n    .dataframe tbody tr th {\n        vertical-align: top;\n    }\n\n    .dataframe thead th {\n        text-align: right;\n    }\n</style>\n<table border=\"1\" class=\"dataframe\">\n  <thead>\n    <tr style=\"text-align: right;\">\n      <th></th>\n      <th>fixed acidity</th>\n      <th>volatile acidity</th>\n      <th>citric acid</th>\n      <th>residual sugar</th>\n      <th>chlorides</th>\n      <th>free sulfur dioxide</th>\n      <th>total sulfur dioxide</th>\n      <th>density</th>\n      <th>pH</th>\n      <th>sulphates</th>\n      <th>alcohol</th>\n      <th>quality</th>\n    </tr>\n  </thead>\n  <tbody>\n    <tr>\n      <th>4745</th>\n      <td>6.1</td>\n      <td>0.26</td>\n      <td>0.25</td>\n      <td>2.9</td>\n      <td>0.047</td>\n      <td>289.0</td>\n      <td>440.0</td>\n      <td>0.99314</td>\n      <td>3.44</td>\n      <td>0.64</td>\n      <td>10.5</td>\n      <td>3</td>\n    </tr>\n  </tbody>\n</table>\n</div>"
     },
     "execution_count": 52,
     "metadata": {},
     "output_type": "execute_result"
    }
   ],
   "source": [
    "wines[wines[\"free sulfur dioxide\"] > 200]"
   ],
   "metadata": {
    "collapsed": false
   }
  },
  {
   "cell_type": "markdown",
   "source": [
    "Как видно это оказывается одна запись. И хоть это и выбросы  но их объяснение просто: сверх высокая кислотность привод к минимальной оценке. Эти данные не являются ошибочными."
   ],
   "metadata": {
    "collapsed": false
   }
  },
  {
   "cell_type": "code",
   "execution_count": 53,
   "outputs": [],
   "source": [
    "# sns.pairplot(wines);"
   ],
   "metadata": {
    "collapsed": false
   }
  },
  {
   "cell_type": "code",
   "execution_count": 54,
   "outputs": [],
   "source": [
    "# corr_matrix = wines.corr()\n",
    "# sns.heatmap(corr_matrix);"
   ],
   "metadata": {
    "collapsed": false
   }
  },
  {
   "cell_type": "markdown",
   "source": [
    "На таблицах корреляции, видно интересную картину, во первых корреляция присутствует в столбцах отвечающих за \"кислость\" вина, в принципе это не удивительно, чем больше сахара тем меньше кислости, и наоборот. Но есть один параметр напрямую коррелирующий с оценкой от экспертов, этот столбец \"alcohol\"."
   ],
   "metadata": {
    "collapsed": false
   }
  },
  {
   "cell_type": "markdown",
   "source": [
    "Добавим столбцы долей зависимых величин."
   ],
   "metadata": {
    "collapsed": false
   }
  },
  {
   "cell_type": "code",
   "execution_count": 55,
   "outputs": [],
   "source": [
    "wines[\"free sulfur dioxide share\"] = round((wines[\"free sulfur dioxide\"] / wines[\"total sulfur dioxide\"]) * 100)\n",
    "wines[\"volatile acidity share\"] = round((wines[\"volatile acidity\"] / wines[\"fixed acidity\"]) * 100)"
   ],
   "metadata": {
    "collapsed": false
   }
  },
  {
   "cell_type": "markdown",
   "source": [
    "Применим самый простой скалер Min-max."
   ],
   "metadata": {
    "collapsed": false
   }
  },
  {
   "cell_type": "code",
   "execution_count": 56,
   "outputs": [],
   "source": [
    "scaler = preprocessing.MinMaxScaler()\n",
    "\n",
    "target = wines[\"quality\"]\n",
    "wines.drop(columns=[\"quality\"],inplace=True)\n",
    "\n",
    "columns = wines.columns\n",
    "wines[columns] = scaler.fit_transform(wines[columns])"
   ],
   "metadata": {
    "collapsed": false
   }
  },
  {
   "cell_type": "markdown",
   "source": [
    "Разделим наш датасет на 3 составляющие тренировочную, валидационную и тестовую."
   ],
   "metadata": {
    "collapsed": false
   }
  },
  {
   "cell_type": "code",
   "execution_count": 57,
   "outputs": [],
   "source": [
    "datasets= {\"train\":{},\"validation\":{},\"test\":{}}\n",
    "datasets[\"train\"][\"data\"], test_val_data, datasets[\"train\"][\"target\"], test_val_target = train_test_split(wines, target, train_size=0.769585962753, shuffle=True)\n",
    "datasets[\"test\"][\"data\"], datasets[\"validation\"][\"data\"], datasets[\"test\"][\"target\"], datasets[\"validation\"][\"target\"] = train_test_split(test_val_data, test_val_target, test_size=0.668002672011, shuffle=True)"
   ],
   "metadata": {
    "collapsed": false
   }
  },
  {
   "cell_type": "markdown",
   "source": [
    "Предоставим нашим 4 моделям тестовые данные, пусть работают."
   ],
   "metadata": {
    "collapsed": false
   }
  },
  {
   "cell_type": "code",
   "execution_count": 58,
   "outputs": [
    {
     "data": {
      "text/plain": "LinearRegression()",
      "text/html": "<style>#sk-container-id-5 {color: black;background-color: white;}#sk-container-id-5 pre{padding: 0;}#sk-container-id-5 div.sk-toggleable {background-color: white;}#sk-container-id-5 label.sk-toggleable__label {cursor: pointer;display: block;width: 100%;margin-bottom: 0;padding: 0.3em;box-sizing: border-box;text-align: center;}#sk-container-id-5 label.sk-toggleable__label-arrow:before {content: \"▸\";float: left;margin-right: 0.25em;color: #696969;}#sk-container-id-5 label.sk-toggleable__label-arrow:hover:before {color: black;}#sk-container-id-5 div.sk-estimator:hover label.sk-toggleable__label-arrow:before {color: black;}#sk-container-id-5 div.sk-toggleable__content {max-height: 0;max-width: 0;overflow: hidden;text-align: left;background-color: #f0f8ff;}#sk-container-id-5 div.sk-toggleable__content pre {margin: 0.2em;color: black;border-radius: 0.25em;background-color: #f0f8ff;}#sk-container-id-5 input.sk-toggleable__control:checked~div.sk-toggleable__content {max-height: 200px;max-width: 100%;overflow: auto;}#sk-container-id-5 input.sk-toggleable__control:checked~label.sk-toggleable__label-arrow:before {content: \"▾\";}#sk-container-id-5 div.sk-estimator input.sk-toggleable__control:checked~label.sk-toggleable__label {background-color: #d4ebff;}#sk-container-id-5 div.sk-label input.sk-toggleable__control:checked~label.sk-toggleable__label {background-color: #d4ebff;}#sk-container-id-5 input.sk-hidden--visually {border: 0;clip: rect(1px 1px 1px 1px);clip: rect(1px, 1px, 1px, 1px);height: 1px;margin: -1px;overflow: hidden;padding: 0;position: absolute;width: 1px;}#sk-container-id-5 div.sk-estimator {font-family: monospace;background-color: #f0f8ff;border: 1px dotted black;border-radius: 0.25em;box-sizing: border-box;margin-bottom: 0.5em;}#sk-container-id-5 div.sk-estimator:hover {background-color: #d4ebff;}#sk-container-id-5 div.sk-parallel-item::after {content: \"\";width: 100%;border-bottom: 1px solid gray;flex-grow: 1;}#sk-container-id-5 div.sk-label:hover label.sk-toggleable__label {background-color: #d4ebff;}#sk-container-id-5 div.sk-serial::before {content: \"\";position: absolute;border-left: 1px solid gray;box-sizing: border-box;top: 0;bottom: 0;left: 50%;z-index: 0;}#sk-container-id-5 div.sk-serial {display: flex;flex-direction: column;align-items: center;background-color: white;padding-right: 0.2em;padding-left: 0.2em;position: relative;}#sk-container-id-5 div.sk-item {position: relative;z-index: 1;}#sk-container-id-5 div.sk-parallel {display: flex;align-items: stretch;justify-content: center;background-color: white;position: relative;}#sk-container-id-5 div.sk-item::before, #sk-container-id-5 div.sk-parallel-item::before {content: \"\";position: absolute;border-left: 1px solid gray;box-sizing: border-box;top: 0;bottom: 0;left: 50%;z-index: -1;}#sk-container-id-5 div.sk-parallel-item {display: flex;flex-direction: column;z-index: 1;position: relative;background-color: white;}#sk-container-id-5 div.sk-parallel-item:first-child::after {align-self: flex-end;width: 50%;}#sk-container-id-5 div.sk-parallel-item:last-child::after {align-self: flex-start;width: 50%;}#sk-container-id-5 div.sk-parallel-item:only-child::after {width: 0;}#sk-container-id-5 div.sk-dashed-wrapped {border: 1px dashed gray;margin: 0 0.4em 0.5em 0.4em;box-sizing: border-box;padding-bottom: 0.4em;background-color: white;}#sk-container-id-5 div.sk-label label {font-family: monospace;font-weight: bold;display: inline-block;line-height: 1.2em;}#sk-container-id-5 div.sk-label-container {text-align: center;}#sk-container-id-5 div.sk-container {/* jupyter's `normalize.less` sets `[hidden] { display: none; }` but bootstrap.min.css set `[hidden] { display: none !important; }` so we also need the `!important` here to be able to override the default hidden behavior on the sphinx rendered scikit-learn.org. See: https://github.com/scikit-learn/scikit-learn/issues/21755 */display: inline-block !important;position: relative;}#sk-container-id-5 div.sk-text-repr-fallback {display: none;}</style><div id=\"sk-container-id-5\" class=\"sk-top-container\"><div class=\"sk-text-repr-fallback\"><pre>LinearRegression()</pre><b>In a Jupyter environment, please rerun this cell to show the HTML representation or trust the notebook. <br />On GitHub, the HTML representation is unable to render, please try loading this page with nbviewer.org.</b></div><div class=\"sk-container\" hidden><div class=\"sk-item\"><div class=\"sk-estimator sk-toggleable\"><input class=\"sk-toggleable__control sk-hidden--visually\" id=\"sk-estimator-id-9\" type=\"checkbox\" checked><label for=\"sk-estimator-id-9\" class=\"sk-toggleable__label sk-toggleable__label-arrow\">LinearRegression</label><div class=\"sk-toggleable__content\"><pre>LinearRegression()</pre></div></div></div></div></div>"
     },
     "execution_count": 58,
     "metadata": {},
     "output_type": "execute_result"
    }
   ],
   "source": [
    "sgd = SGDRegressor()\n",
    "sgd.fit(datasets[\"train\"][\"data\"],datasets[\"train\"][\"target\"])\n",
    "lasso = Lasso()\n",
    "lasso.fit(datasets[\"train\"][\"data\"],datasets[\"train\"][\"target\"])\n",
    "ridge = Ridge()\n",
    "ridge.fit(datasets[\"train\"][\"data\"],datasets[\"train\"][\"target\"])\n",
    "linear = LinearRegression()\n",
    "linear.fit(datasets[\"train\"][\"data\"],datasets[\"train\"][\"target\"])"
   ],
   "metadata": {
    "collapsed": false
   }
  },
  {
   "cell_type": "markdown",
   "source": [
    "Сравним какая модель лучше себя покажет на валидационных данных, вычислив среднеквадратическую ошибку для каждой."
   ],
   "metadata": {
    "collapsed": false
   }
  },
  {
   "cell_type": "code",
   "execution_count": 59,
   "outputs": [
    {
     "name": "stdout",
     "output_type": "stream",
     "text": [
      "RMSE for sgd: 0.7477044576025016\n",
      "RMSE for lasso: 0.8912615808137168\n",
      "RMSE for ridge: 0.7238345048755408\n",
      "RMSE for linear: 0.7229077751865124\n"
     ]
    }
   ],
   "source": [
    "predictions = sgd.predict(datasets[\"validation\"][\"data\"])\n",
    "mse = mean_squared_error(datasets[\"validation\"][\"target\"], predictions)\n",
    "cv_sgd = cross_validate(lasso,datasets[\"train\"][\"data\"],datasets[\"train\"][\"target\"])\n",
    "print(\"RMSE for sgd: {}\".format(np.sqrt(mse)))\n",
    "predictions = lasso.predict(datasets[\"validation\"][\"data\"])\n",
    "mse = mean_squared_error(datasets[\"validation\"][\"target\"], predictions)\n",
    "print(\"RMSE for lasso: {}\".format(np.sqrt(mse)))\n",
    "predictions = ridge.predict(datasets[\"validation\"][\"data\"])\n",
    "mse = mean_squared_error(datasets[\"validation\"][\"target\"], predictions)\n",
    "print(\"RMSE for ridge: {}\".format(np.sqrt(mse)))\n",
    "predictions = linear.predict(datasets[\"validation\"][\"data\"])\n",
    "mse = mean_squared_error(datasets[\"validation\"][\"target\"], predictions)\n",
    "print(\"RMSE for linear: {}\".format(np.sqrt(mse)))"
   ],
   "metadata": {
    "collapsed": false
   }
  },
  {
   "cell_type": "markdown",
   "source": [
    "Как видно лучше всего справляется модель Lasso, её и возьмём за основу."
   ],
   "metadata": {
    "collapsed": false
   }
  },
  {
   "cell_type": "code",
   "execution_count": 60,
   "outputs": [
    {
     "name": "stdout",
     "output_type": "stream",
     "text": [
      "RMSE: 0.8912615808137168\n"
     ]
    }
   ],
   "source": [
    "lasso = Lasso(max_iter=5000,selection=\"cyclic\",alpha=3,positive=True)\n",
    "lasso.fit(datasets[\"train\"][\"data\"],datasets[\"train\"][\"target\"])\n",
    "predictions = lasso.predict(datasets[\"validation\"][\"data\"])\n",
    "mse = mean_squared_error(datasets[\"validation\"][\"target\"], predictions)\n",
    "print(\"RMSE: {}\".format(np.sqrt(mse)))"
   ],
   "metadata": {
    "collapsed": false
   }
  },
  {
   "cell_type": "markdown",
   "source": [
    "Посмотрим какая ошибка будет на тестовой части данных."
   ],
   "metadata": {
    "collapsed": false
   }
  },
  {
   "cell_type": "code",
   "execution_count": 61,
   "outputs": [
    {
     "name": "stdout",
     "output_type": "stream",
     "text": [
      "RMSE: 0.853297056016515\n"
     ]
    }
   ],
   "source": [
    "predictions = lasso.predict(datasets[\"test\"][\"data\"])\n",
    "mse = mean_squared_error(datasets[\"test\"][\"target\"], predictions)\n",
    "print(\"RMSE: {}\".format(np.sqrt(mse)))"
   ],
   "metadata": {
    "collapsed": false
   }
  },
  {
   "cell_type": "markdown",
   "source": [
    "(Если я не ошибаюсь) Процент правильности предсказания лежит где-то между 85-90%, нас это удовлетворяет."
   ],
   "metadata": {
    "collapsed": false
   }
  },
  {
   "cell_type": "markdown",
   "source": [
    "Попробуем прогнать нашу же модель Lasso через подборку лучших гиперпараметров."
   ],
   "metadata": {
    "collapsed": false
   }
  },
  {
   "cell_type": "code",
   "execution_count": 62,
   "outputs": [
    {
     "data": {
      "text/plain": "GridSearchCV(estimator=Lasso(),\n             param_grid={'max_iter': [1000, 2000, 3000, 4000, 5000],\n                         'positive': [True, False],\n                         'selection': ['cyclic', 'random'],\n                         'warm_start': [True, False]})",
      "text/html": "<style>#sk-container-id-6 {color: black;background-color: white;}#sk-container-id-6 pre{padding: 0;}#sk-container-id-6 div.sk-toggleable {background-color: white;}#sk-container-id-6 label.sk-toggleable__label {cursor: pointer;display: block;width: 100%;margin-bottom: 0;padding: 0.3em;box-sizing: border-box;text-align: center;}#sk-container-id-6 label.sk-toggleable__label-arrow:before {content: \"▸\";float: left;margin-right: 0.25em;color: #696969;}#sk-container-id-6 label.sk-toggleable__label-arrow:hover:before {color: black;}#sk-container-id-6 div.sk-estimator:hover label.sk-toggleable__label-arrow:before {color: black;}#sk-container-id-6 div.sk-toggleable__content {max-height: 0;max-width: 0;overflow: hidden;text-align: left;background-color: #f0f8ff;}#sk-container-id-6 div.sk-toggleable__content pre {margin: 0.2em;color: black;border-radius: 0.25em;background-color: #f0f8ff;}#sk-container-id-6 input.sk-toggleable__control:checked~div.sk-toggleable__content {max-height: 200px;max-width: 100%;overflow: auto;}#sk-container-id-6 input.sk-toggleable__control:checked~label.sk-toggleable__label-arrow:before {content: \"▾\";}#sk-container-id-6 div.sk-estimator input.sk-toggleable__control:checked~label.sk-toggleable__label {background-color: #d4ebff;}#sk-container-id-6 div.sk-label input.sk-toggleable__control:checked~label.sk-toggleable__label {background-color: #d4ebff;}#sk-container-id-6 input.sk-hidden--visually {border: 0;clip: rect(1px 1px 1px 1px);clip: rect(1px, 1px, 1px, 1px);height: 1px;margin: -1px;overflow: hidden;padding: 0;position: absolute;width: 1px;}#sk-container-id-6 div.sk-estimator {font-family: monospace;background-color: #f0f8ff;border: 1px dotted black;border-radius: 0.25em;box-sizing: border-box;margin-bottom: 0.5em;}#sk-container-id-6 div.sk-estimator:hover {background-color: #d4ebff;}#sk-container-id-6 div.sk-parallel-item::after {content: \"\";width: 100%;border-bottom: 1px solid gray;flex-grow: 1;}#sk-container-id-6 div.sk-label:hover label.sk-toggleable__label {background-color: #d4ebff;}#sk-container-id-6 div.sk-serial::before {content: \"\";position: absolute;border-left: 1px solid gray;box-sizing: border-box;top: 0;bottom: 0;left: 50%;z-index: 0;}#sk-container-id-6 div.sk-serial {display: flex;flex-direction: column;align-items: center;background-color: white;padding-right: 0.2em;padding-left: 0.2em;position: relative;}#sk-container-id-6 div.sk-item {position: relative;z-index: 1;}#sk-container-id-6 div.sk-parallel {display: flex;align-items: stretch;justify-content: center;background-color: white;position: relative;}#sk-container-id-6 div.sk-item::before, #sk-container-id-6 div.sk-parallel-item::before {content: \"\";position: absolute;border-left: 1px solid gray;box-sizing: border-box;top: 0;bottom: 0;left: 50%;z-index: -1;}#sk-container-id-6 div.sk-parallel-item {display: flex;flex-direction: column;z-index: 1;position: relative;background-color: white;}#sk-container-id-6 div.sk-parallel-item:first-child::after {align-self: flex-end;width: 50%;}#sk-container-id-6 div.sk-parallel-item:last-child::after {align-self: flex-start;width: 50%;}#sk-container-id-6 div.sk-parallel-item:only-child::after {width: 0;}#sk-container-id-6 div.sk-dashed-wrapped {border: 1px dashed gray;margin: 0 0.4em 0.5em 0.4em;box-sizing: border-box;padding-bottom: 0.4em;background-color: white;}#sk-container-id-6 div.sk-label label {font-family: monospace;font-weight: bold;display: inline-block;line-height: 1.2em;}#sk-container-id-6 div.sk-label-container {text-align: center;}#sk-container-id-6 div.sk-container {/* jupyter's `normalize.less` sets `[hidden] { display: none; }` but bootstrap.min.css set `[hidden] { display: none !important; }` so we also need the `!important` here to be able to override the default hidden behavior on the sphinx rendered scikit-learn.org. See: https://github.com/scikit-learn/scikit-learn/issues/21755 */display: inline-block !important;position: relative;}#sk-container-id-6 div.sk-text-repr-fallback {display: none;}</style><div id=\"sk-container-id-6\" class=\"sk-top-container\"><div class=\"sk-text-repr-fallback\"><pre>GridSearchCV(estimator=Lasso(),\n             param_grid={&#x27;max_iter&#x27;: [1000, 2000, 3000, 4000, 5000],\n                         &#x27;positive&#x27;: [True, False],\n                         &#x27;selection&#x27;: [&#x27;cyclic&#x27;, &#x27;random&#x27;],\n                         &#x27;warm_start&#x27;: [True, False]})</pre><b>In a Jupyter environment, please rerun this cell to show the HTML representation or trust the notebook. <br />On GitHub, the HTML representation is unable to render, please try loading this page with nbviewer.org.</b></div><div class=\"sk-container\" hidden><div class=\"sk-item sk-dashed-wrapped\"><div class=\"sk-label-container\"><div class=\"sk-label sk-toggleable\"><input class=\"sk-toggleable__control sk-hidden--visually\" id=\"sk-estimator-id-10\" type=\"checkbox\" ><label for=\"sk-estimator-id-10\" class=\"sk-toggleable__label sk-toggleable__label-arrow\">GridSearchCV</label><div class=\"sk-toggleable__content\"><pre>GridSearchCV(estimator=Lasso(),\n             param_grid={&#x27;max_iter&#x27;: [1000, 2000, 3000, 4000, 5000],\n                         &#x27;positive&#x27;: [True, False],\n                         &#x27;selection&#x27;: [&#x27;cyclic&#x27;, &#x27;random&#x27;],\n                         &#x27;warm_start&#x27;: [True, False]})</pre></div></div></div><div class=\"sk-parallel\"><div class=\"sk-parallel-item\"><div class=\"sk-item\"><div class=\"sk-label-container\"><div class=\"sk-label sk-toggleable\"><input class=\"sk-toggleable__control sk-hidden--visually\" id=\"sk-estimator-id-11\" type=\"checkbox\" ><label for=\"sk-estimator-id-11\" class=\"sk-toggleable__label sk-toggleable__label-arrow\">estimator: Lasso</label><div class=\"sk-toggleable__content\"><pre>Lasso()</pre></div></div></div><div class=\"sk-serial\"><div class=\"sk-item\"><div class=\"sk-estimator sk-toggleable\"><input class=\"sk-toggleable__control sk-hidden--visually\" id=\"sk-estimator-id-12\" type=\"checkbox\" ><label for=\"sk-estimator-id-12\" class=\"sk-toggleable__label sk-toggleable__label-arrow\">Lasso</label><div class=\"sk-toggleable__content\"><pre>Lasso()</pre></div></div></div></div></div></div></div></div></div></div>"
     },
     "execution_count": 62,
     "metadata": {},
     "output_type": "execute_result"
    }
   ],
   "source": [
    "parameters = {\"max_iter\":[1000,2000,3000,4000,5000],\"warm_start\":[True,False],\"positive\":[True,False],\"selection\":[\"cyclic\",\"random\"]}\n",
    "clf = GridSearchCV(Lasso(), parameters)\n",
    "clf.fit(datasets[\"train\"][\"data\"],datasets[\"train\"][\"target\"])"
   ],
   "metadata": {
    "collapsed": false
   }
  },
  {
   "cell_type": "code",
   "execution_count": 63,
   "outputs": [
    {
     "name": "stdout",
     "output_type": "stream",
     "text": [
      "RMSE: 0.853297056016515\n"
     ]
    }
   ],
   "source": [
    "predictions = clf.predict(datasets[\"test\"][\"data\"])\n",
    "mse = mean_squared_error(datasets[\"test\"][\"target\"], predictions)\n",
    "print(\"RMSE: {}\".format(np.sqrt(mse)))"
   ],
   "metadata": {
    "collapsed": false
   }
  },
  {
   "cell_type": "markdown",
   "source": [
    "Для меня лично удивительно что показатели не изменились, но значит или я что-то сделал не так, или модель мало восприимчива к имениям параметров. Точность так же осталась в пределах 85-90% что довольно высокий показатель. Мне кажется что не последнюю роль в таких результатах сыграла прямая корреляция столбца alcohol напрямую на таргет, из-за чего модель может предположить только по этому параметру оценку, и уже из двух соседних оценок выбрать на основе всех остальных столбцов."
   ],
   "metadata": {
    "collapsed": false
   }
  }
 ],
 "metadata": {
  "anaconda-cloud": {},
  "kernelspec": {
   "display_name": "Python 3",
   "language": "python",
   "name": "python3"
  },
  "language_info": {
   "codemirror_mode": {
    "name": "ipython",
    "version": 3
   },
   "file_extension": ".py",
   "mimetype": "text/x-python",
   "name": "python",
   "nbconvert_exporter": "python",
   "pygments_lexer": "ipython3",
   "version": "3.6.6"
  }
 },
 "nbformat": 4,
 "nbformat_minor": 1
}
