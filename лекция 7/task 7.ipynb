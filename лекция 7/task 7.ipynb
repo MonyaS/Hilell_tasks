{
 "cells": [
  {
   "cell_type": "code",
   "execution_count": 1,
   "metadata": {},
   "outputs": [],
   "source": [
    "import numpy as np\n",
    "import pandas as pd\n",
    "import seaborn as sns\n",
    "from category_encoders.target_encoder import TargetEncoder\n",
    "from category_encoders.sum_coding import SumEncoder\n",
    "from category_encoders.m_estimate import MEstimateEncoder\n",
    "from category_encoders.leave_one_out import LeaveOneOutEncoder\n",
    "from category_encoders.helmert import HelmertEncoder\n",
    "from category_encoders.cat_boost import CatBoostEncoder\n",
    "from category_encoders.james_stein import JamesSteinEncoder\n",
    "from category_encoders.one_hot import OneHotEncoder\n",
    "from category_encoders.backward_difference import BackwardDifferenceEncoder\n",
    "from category_encoders.glmm import GLMMEncoder\n",
    "from category_encoders.polynomial import PolynomialEncoder\n",
    "from sklearn import metrics\n",
    "from sklearn import preprocessing\n",
    "from sklearn.metrics import mean_squared_error\n",
    "from sklearn.model_selection import GridSearchCV\n",
    "from sklearn.model_selection import train_test_split\n",
    "from sklearn.neighbors import KNeighborsClassifier\n",
    "\n",
    "sns.set()"
   ]
  },
  {
   "cell_type": "markdown",
   "source": [
    "Загрузка данных первого сета."
   ],
   "metadata": {
    "collapsed": false
   }
  },
  {
   "cell_type": "code",
   "execution_count": 2,
   "outputs": [
    {
     "ename": "FileNotFoundError",
     "evalue": "[Errno 2] No such file or directory: 'glass.data'",
     "output_type": "error",
     "traceback": [
      "\u001B[0;31m---------------------------------------------------------------------------\u001B[0m",
      "\u001B[0;31mFileNotFoundError\u001B[0m                         Traceback (most recent call last)",
      "Cell \u001B[0;32mIn[2], line 1\u001B[0m\n\u001B[0;32m----> 1\u001B[0m cars_global \u001B[38;5;241m=\u001B[39m \u001B[43mpd\u001B[49m\u001B[38;5;241;43m.\u001B[39;49m\u001B[43mread_csv\u001B[49m\u001B[43m(\u001B[49m\u001B[38;5;124;43m'\u001B[39;49m\u001B[38;5;124;43mglass.data\u001B[39;49m\u001B[38;5;124;43m'\u001B[39;49m\u001B[43m,\u001B[49m\u001B[43m \u001B[49m\u001B[43mnames\u001B[49m\u001B[38;5;241;43m=\u001B[39;49m\u001B[43m[\u001B[49m\u001B[38;5;124;43m\"\u001B[39;49m\u001B[38;5;124;43mId\u001B[39;49m\u001B[38;5;124;43m\"\u001B[39;49m\u001B[43m,\u001B[49m\u001B[43m \u001B[49m\u001B[38;5;124;43m\"\u001B[39;49m\u001B[38;5;124;43mRI\u001B[39;49m\u001B[38;5;124;43m\"\u001B[39;49m\u001B[43m,\u001B[49m\u001B[43m \u001B[49m\u001B[38;5;124;43m\"\u001B[39;49m\u001B[38;5;124;43mNa\u001B[39;49m\u001B[38;5;124;43m\"\u001B[39;49m\u001B[43m,\u001B[49m\u001B[43m \u001B[49m\u001B[38;5;124;43m\"\u001B[39;49m\u001B[38;5;124;43mMg\u001B[39;49m\u001B[38;5;124;43m\"\u001B[39;49m\u001B[43m,\u001B[49m\u001B[43m \u001B[49m\u001B[38;5;124;43m\"\u001B[39;49m\u001B[38;5;124;43mAl\u001B[39;49m\u001B[38;5;124;43m\"\u001B[39;49m\u001B[43m,\u001B[49m\u001B[43m \u001B[49m\u001B[38;5;124;43m\"\u001B[39;49m\u001B[38;5;124;43mSi\u001B[39;49m\u001B[38;5;124;43m\"\u001B[39;49m\u001B[43m,\u001B[49m\u001B[43m \u001B[49m\u001B[38;5;124;43m\"\u001B[39;49m\u001B[38;5;124;43mK\u001B[39;49m\u001B[38;5;124;43m\"\u001B[39;49m\u001B[43m,\u001B[49m\u001B[38;5;124;43m\"\u001B[39;49m\u001B[38;5;124;43mCa\u001B[39;49m\u001B[38;5;124;43m\"\u001B[39;49m\u001B[43m,\u001B[49m\u001B[38;5;124;43m\"\u001B[39;49m\u001B[38;5;124;43mBa\u001B[39;49m\u001B[38;5;124;43m\"\u001B[39;49m\u001B[43m,\u001B[49m\u001B[38;5;124;43m\"\u001B[39;49m\u001B[38;5;124;43mFe\u001B[39;49m\u001B[38;5;124;43m\"\u001B[39;49m\u001B[43m,\u001B[49m\u001B[38;5;124;43m\"\u001B[39;49m\u001B[38;5;124;43mClass\u001B[39;49m\u001B[38;5;124;43m\"\u001B[39;49m\u001B[43m]\u001B[49m\u001B[43m)\u001B[49m\n\u001B[1;32m      2\u001B[0m \u001B[38;5;66;03m#Смотрим основные параметры.\u001B[39;00m\n",
      "File \u001B[0;32m~/.local/lib/python3.10/site-packages/pandas/util/_decorators.py:211\u001B[0m, in \u001B[0;36mdeprecate_kwarg.<locals>._deprecate_kwarg.<locals>.wrapper\u001B[0;34m(*args, **kwargs)\u001B[0m\n\u001B[1;32m    209\u001B[0m     \u001B[38;5;28;01melse\u001B[39;00m:\n\u001B[1;32m    210\u001B[0m         kwargs[new_arg_name] \u001B[38;5;241m=\u001B[39m new_arg_value\n\u001B[0;32m--> 211\u001B[0m \u001B[38;5;28;01mreturn\u001B[39;00m \u001B[43mfunc\u001B[49m\u001B[43m(\u001B[49m\u001B[38;5;241;43m*\u001B[39;49m\u001B[43margs\u001B[49m\u001B[43m,\u001B[49m\u001B[43m \u001B[49m\u001B[38;5;241;43m*\u001B[39;49m\u001B[38;5;241;43m*\u001B[39;49m\u001B[43mkwargs\u001B[49m\u001B[43m)\u001B[49m\n",
      "File \u001B[0;32m~/.local/lib/python3.10/site-packages/pandas/util/_decorators.py:331\u001B[0m, in \u001B[0;36mdeprecate_nonkeyword_arguments.<locals>.decorate.<locals>.wrapper\u001B[0;34m(*args, **kwargs)\u001B[0m\n\u001B[1;32m    325\u001B[0m \u001B[38;5;28;01mif\u001B[39;00m \u001B[38;5;28mlen\u001B[39m(args) \u001B[38;5;241m>\u001B[39m num_allow_args:\n\u001B[1;32m    326\u001B[0m     warnings\u001B[38;5;241m.\u001B[39mwarn(\n\u001B[1;32m    327\u001B[0m         msg\u001B[38;5;241m.\u001B[39mformat(arguments\u001B[38;5;241m=\u001B[39m_format_argument_list(allow_args)),\n\u001B[1;32m    328\u001B[0m         \u001B[38;5;167;01mFutureWarning\u001B[39;00m,\n\u001B[1;32m    329\u001B[0m         stacklevel\u001B[38;5;241m=\u001B[39mfind_stack_level(),\n\u001B[1;32m    330\u001B[0m     )\n\u001B[0;32m--> 331\u001B[0m \u001B[38;5;28;01mreturn\u001B[39;00m \u001B[43mfunc\u001B[49m\u001B[43m(\u001B[49m\u001B[38;5;241;43m*\u001B[39;49m\u001B[43margs\u001B[49m\u001B[43m,\u001B[49m\u001B[43m \u001B[49m\u001B[38;5;241;43m*\u001B[39;49m\u001B[38;5;241;43m*\u001B[39;49m\u001B[43mkwargs\u001B[49m\u001B[43m)\u001B[49m\n",
      "File \u001B[0;32m~/.local/lib/python3.10/site-packages/pandas/io/parsers/readers.py:950\u001B[0m, in \u001B[0;36mread_csv\u001B[0;34m(filepath_or_buffer, sep, delimiter, header, names, index_col, usecols, squeeze, prefix, mangle_dupe_cols, dtype, engine, converters, true_values, false_values, skipinitialspace, skiprows, skipfooter, nrows, na_values, keep_default_na, na_filter, verbose, skip_blank_lines, parse_dates, infer_datetime_format, keep_date_col, date_parser, dayfirst, cache_dates, iterator, chunksize, compression, thousands, decimal, lineterminator, quotechar, quoting, doublequote, escapechar, comment, encoding, encoding_errors, dialect, error_bad_lines, warn_bad_lines, on_bad_lines, delim_whitespace, low_memory, memory_map, float_precision, storage_options)\u001B[0m\n\u001B[1;32m    935\u001B[0m kwds_defaults \u001B[38;5;241m=\u001B[39m _refine_defaults_read(\n\u001B[1;32m    936\u001B[0m     dialect,\n\u001B[1;32m    937\u001B[0m     delimiter,\n\u001B[0;32m   (...)\u001B[0m\n\u001B[1;32m    946\u001B[0m     defaults\u001B[38;5;241m=\u001B[39m{\u001B[38;5;124m\"\u001B[39m\u001B[38;5;124mdelimiter\u001B[39m\u001B[38;5;124m\"\u001B[39m: \u001B[38;5;124m\"\u001B[39m\u001B[38;5;124m,\u001B[39m\u001B[38;5;124m\"\u001B[39m},\n\u001B[1;32m    947\u001B[0m )\n\u001B[1;32m    948\u001B[0m kwds\u001B[38;5;241m.\u001B[39mupdate(kwds_defaults)\n\u001B[0;32m--> 950\u001B[0m \u001B[38;5;28;01mreturn\u001B[39;00m \u001B[43m_read\u001B[49m\u001B[43m(\u001B[49m\u001B[43mfilepath_or_buffer\u001B[49m\u001B[43m,\u001B[49m\u001B[43m \u001B[49m\u001B[43mkwds\u001B[49m\u001B[43m)\u001B[49m\n",
      "File \u001B[0;32m~/.local/lib/python3.10/site-packages/pandas/io/parsers/readers.py:605\u001B[0m, in \u001B[0;36m_read\u001B[0;34m(filepath_or_buffer, kwds)\u001B[0m\n\u001B[1;32m    602\u001B[0m _validate_names(kwds\u001B[38;5;241m.\u001B[39mget(\u001B[38;5;124m\"\u001B[39m\u001B[38;5;124mnames\u001B[39m\u001B[38;5;124m\"\u001B[39m, \u001B[38;5;28;01mNone\u001B[39;00m))\n\u001B[1;32m    604\u001B[0m \u001B[38;5;66;03m# Create the parser.\u001B[39;00m\n\u001B[0;32m--> 605\u001B[0m parser \u001B[38;5;241m=\u001B[39m \u001B[43mTextFileReader\u001B[49m\u001B[43m(\u001B[49m\u001B[43mfilepath_or_buffer\u001B[49m\u001B[43m,\u001B[49m\u001B[43m \u001B[49m\u001B[38;5;241;43m*\u001B[39;49m\u001B[38;5;241;43m*\u001B[39;49m\u001B[43mkwds\u001B[49m\u001B[43m)\u001B[49m\n\u001B[1;32m    607\u001B[0m \u001B[38;5;28;01mif\u001B[39;00m chunksize \u001B[38;5;129;01mor\u001B[39;00m iterator:\n\u001B[1;32m    608\u001B[0m     \u001B[38;5;28;01mreturn\u001B[39;00m parser\n",
      "File \u001B[0;32m~/.local/lib/python3.10/site-packages/pandas/io/parsers/readers.py:1442\u001B[0m, in \u001B[0;36mTextFileReader.__init__\u001B[0;34m(self, f, engine, **kwds)\u001B[0m\n\u001B[1;32m   1439\u001B[0m     \u001B[38;5;28mself\u001B[39m\u001B[38;5;241m.\u001B[39moptions[\u001B[38;5;124m\"\u001B[39m\u001B[38;5;124mhas_index_names\u001B[39m\u001B[38;5;124m\"\u001B[39m] \u001B[38;5;241m=\u001B[39m kwds[\u001B[38;5;124m\"\u001B[39m\u001B[38;5;124mhas_index_names\u001B[39m\u001B[38;5;124m\"\u001B[39m]\n\u001B[1;32m   1441\u001B[0m \u001B[38;5;28mself\u001B[39m\u001B[38;5;241m.\u001B[39mhandles: IOHandles \u001B[38;5;241m|\u001B[39m \u001B[38;5;28;01mNone\u001B[39;00m \u001B[38;5;241m=\u001B[39m \u001B[38;5;28;01mNone\u001B[39;00m\n\u001B[0;32m-> 1442\u001B[0m \u001B[38;5;28mself\u001B[39m\u001B[38;5;241m.\u001B[39m_engine \u001B[38;5;241m=\u001B[39m \u001B[38;5;28;43mself\u001B[39;49m\u001B[38;5;241;43m.\u001B[39;49m\u001B[43m_make_engine\u001B[49m\u001B[43m(\u001B[49m\u001B[43mf\u001B[49m\u001B[43m,\u001B[49m\u001B[43m \u001B[49m\u001B[38;5;28;43mself\u001B[39;49m\u001B[38;5;241;43m.\u001B[39;49m\u001B[43mengine\u001B[49m\u001B[43m)\u001B[49m\n",
      "File \u001B[0;32m~/.local/lib/python3.10/site-packages/pandas/io/parsers/readers.py:1735\u001B[0m, in \u001B[0;36mTextFileReader._make_engine\u001B[0;34m(self, f, engine)\u001B[0m\n\u001B[1;32m   1733\u001B[0m     \u001B[38;5;28;01mif\u001B[39;00m \u001B[38;5;124m\"\u001B[39m\u001B[38;5;124mb\u001B[39m\u001B[38;5;124m\"\u001B[39m \u001B[38;5;129;01mnot\u001B[39;00m \u001B[38;5;129;01min\u001B[39;00m mode:\n\u001B[1;32m   1734\u001B[0m         mode \u001B[38;5;241m+\u001B[39m\u001B[38;5;241m=\u001B[39m \u001B[38;5;124m\"\u001B[39m\u001B[38;5;124mb\u001B[39m\u001B[38;5;124m\"\u001B[39m\n\u001B[0;32m-> 1735\u001B[0m \u001B[38;5;28mself\u001B[39m\u001B[38;5;241m.\u001B[39mhandles \u001B[38;5;241m=\u001B[39m \u001B[43mget_handle\u001B[49m\u001B[43m(\u001B[49m\n\u001B[1;32m   1736\u001B[0m \u001B[43m    \u001B[49m\u001B[43mf\u001B[49m\u001B[43m,\u001B[49m\n\u001B[1;32m   1737\u001B[0m \u001B[43m    \u001B[49m\u001B[43mmode\u001B[49m\u001B[43m,\u001B[49m\n\u001B[1;32m   1738\u001B[0m \u001B[43m    \u001B[49m\u001B[43mencoding\u001B[49m\u001B[38;5;241;43m=\u001B[39;49m\u001B[38;5;28;43mself\u001B[39;49m\u001B[38;5;241;43m.\u001B[39;49m\u001B[43moptions\u001B[49m\u001B[38;5;241;43m.\u001B[39;49m\u001B[43mget\u001B[49m\u001B[43m(\u001B[49m\u001B[38;5;124;43m\"\u001B[39;49m\u001B[38;5;124;43mencoding\u001B[39;49m\u001B[38;5;124;43m\"\u001B[39;49m\u001B[43m,\u001B[49m\u001B[43m \u001B[49m\u001B[38;5;28;43;01mNone\u001B[39;49;00m\u001B[43m)\u001B[49m\u001B[43m,\u001B[49m\n\u001B[1;32m   1739\u001B[0m \u001B[43m    \u001B[49m\u001B[43mcompression\u001B[49m\u001B[38;5;241;43m=\u001B[39;49m\u001B[38;5;28;43mself\u001B[39;49m\u001B[38;5;241;43m.\u001B[39;49m\u001B[43moptions\u001B[49m\u001B[38;5;241;43m.\u001B[39;49m\u001B[43mget\u001B[49m\u001B[43m(\u001B[49m\u001B[38;5;124;43m\"\u001B[39;49m\u001B[38;5;124;43mcompression\u001B[39;49m\u001B[38;5;124;43m\"\u001B[39;49m\u001B[43m,\u001B[49m\u001B[43m \u001B[49m\u001B[38;5;28;43;01mNone\u001B[39;49;00m\u001B[43m)\u001B[49m\u001B[43m,\u001B[49m\n\u001B[1;32m   1740\u001B[0m \u001B[43m    \u001B[49m\u001B[43mmemory_map\u001B[49m\u001B[38;5;241;43m=\u001B[39;49m\u001B[38;5;28;43mself\u001B[39;49m\u001B[38;5;241;43m.\u001B[39;49m\u001B[43moptions\u001B[49m\u001B[38;5;241;43m.\u001B[39;49m\u001B[43mget\u001B[49m\u001B[43m(\u001B[49m\u001B[38;5;124;43m\"\u001B[39;49m\u001B[38;5;124;43mmemory_map\u001B[39;49m\u001B[38;5;124;43m\"\u001B[39;49m\u001B[43m,\u001B[49m\u001B[43m \u001B[49m\u001B[38;5;28;43;01mFalse\u001B[39;49;00m\u001B[43m)\u001B[49m\u001B[43m,\u001B[49m\n\u001B[1;32m   1741\u001B[0m \u001B[43m    \u001B[49m\u001B[43mis_text\u001B[49m\u001B[38;5;241;43m=\u001B[39;49m\u001B[43mis_text\u001B[49m\u001B[43m,\u001B[49m\n\u001B[1;32m   1742\u001B[0m \u001B[43m    \u001B[49m\u001B[43merrors\u001B[49m\u001B[38;5;241;43m=\u001B[39;49m\u001B[38;5;28;43mself\u001B[39;49m\u001B[38;5;241;43m.\u001B[39;49m\u001B[43moptions\u001B[49m\u001B[38;5;241;43m.\u001B[39;49m\u001B[43mget\u001B[49m\u001B[43m(\u001B[49m\u001B[38;5;124;43m\"\u001B[39;49m\u001B[38;5;124;43mencoding_errors\u001B[39;49m\u001B[38;5;124;43m\"\u001B[39;49m\u001B[43m,\u001B[49m\u001B[43m \u001B[49m\u001B[38;5;124;43m\"\u001B[39;49m\u001B[38;5;124;43mstrict\u001B[39;49m\u001B[38;5;124;43m\"\u001B[39;49m\u001B[43m)\u001B[49m\u001B[43m,\u001B[49m\n\u001B[1;32m   1743\u001B[0m \u001B[43m    \u001B[49m\u001B[43mstorage_options\u001B[49m\u001B[38;5;241;43m=\u001B[39;49m\u001B[38;5;28;43mself\u001B[39;49m\u001B[38;5;241;43m.\u001B[39;49m\u001B[43moptions\u001B[49m\u001B[38;5;241;43m.\u001B[39;49m\u001B[43mget\u001B[49m\u001B[43m(\u001B[49m\u001B[38;5;124;43m\"\u001B[39;49m\u001B[38;5;124;43mstorage_options\u001B[39;49m\u001B[38;5;124;43m\"\u001B[39;49m\u001B[43m,\u001B[49m\u001B[43m \u001B[49m\u001B[38;5;28;43;01mNone\u001B[39;49;00m\u001B[43m)\u001B[49m\u001B[43m,\u001B[49m\n\u001B[1;32m   1744\u001B[0m \u001B[43m\u001B[49m\u001B[43m)\u001B[49m\n\u001B[1;32m   1745\u001B[0m \u001B[38;5;28;01massert\u001B[39;00m \u001B[38;5;28mself\u001B[39m\u001B[38;5;241m.\u001B[39mhandles \u001B[38;5;129;01mis\u001B[39;00m \u001B[38;5;129;01mnot\u001B[39;00m \u001B[38;5;28;01mNone\u001B[39;00m\n\u001B[1;32m   1746\u001B[0m f \u001B[38;5;241m=\u001B[39m \u001B[38;5;28mself\u001B[39m\u001B[38;5;241m.\u001B[39mhandles\u001B[38;5;241m.\u001B[39mhandle\n",
      "File \u001B[0;32m~/.local/lib/python3.10/site-packages/pandas/io/common.py:856\u001B[0m, in \u001B[0;36mget_handle\u001B[0;34m(path_or_buf, mode, encoding, compression, memory_map, is_text, errors, storage_options)\u001B[0m\n\u001B[1;32m    851\u001B[0m \u001B[38;5;28;01melif\u001B[39;00m \u001B[38;5;28misinstance\u001B[39m(handle, \u001B[38;5;28mstr\u001B[39m):\n\u001B[1;32m    852\u001B[0m     \u001B[38;5;66;03m# Check whether the filename is to be opened in binary mode.\u001B[39;00m\n\u001B[1;32m    853\u001B[0m     \u001B[38;5;66;03m# Binary mode does not support 'encoding' and 'newline'.\u001B[39;00m\n\u001B[1;32m    854\u001B[0m     \u001B[38;5;28;01mif\u001B[39;00m ioargs\u001B[38;5;241m.\u001B[39mencoding \u001B[38;5;129;01mand\u001B[39;00m \u001B[38;5;124m\"\u001B[39m\u001B[38;5;124mb\u001B[39m\u001B[38;5;124m\"\u001B[39m \u001B[38;5;129;01mnot\u001B[39;00m \u001B[38;5;129;01min\u001B[39;00m ioargs\u001B[38;5;241m.\u001B[39mmode:\n\u001B[1;32m    855\u001B[0m         \u001B[38;5;66;03m# Encoding\u001B[39;00m\n\u001B[0;32m--> 856\u001B[0m         handle \u001B[38;5;241m=\u001B[39m \u001B[38;5;28;43mopen\u001B[39;49m\u001B[43m(\u001B[49m\n\u001B[1;32m    857\u001B[0m \u001B[43m            \u001B[49m\u001B[43mhandle\u001B[49m\u001B[43m,\u001B[49m\n\u001B[1;32m    858\u001B[0m \u001B[43m            \u001B[49m\u001B[43mioargs\u001B[49m\u001B[38;5;241;43m.\u001B[39;49m\u001B[43mmode\u001B[49m\u001B[43m,\u001B[49m\n\u001B[1;32m    859\u001B[0m \u001B[43m            \u001B[49m\u001B[43mencoding\u001B[49m\u001B[38;5;241;43m=\u001B[39;49m\u001B[43mioargs\u001B[49m\u001B[38;5;241;43m.\u001B[39;49m\u001B[43mencoding\u001B[49m\u001B[43m,\u001B[49m\n\u001B[1;32m    860\u001B[0m \u001B[43m            \u001B[49m\u001B[43merrors\u001B[49m\u001B[38;5;241;43m=\u001B[39;49m\u001B[43merrors\u001B[49m\u001B[43m,\u001B[49m\n\u001B[1;32m    861\u001B[0m \u001B[43m            \u001B[49m\u001B[43mnewline\u001B[49m\u001B[38;5;241;43m=\u001B[39;49m\u001B[38;5;124;43m\"\u001B[39;49m\u001B[38;5;124;43m\"\u001B[39;49m\u001B[43m,\u001B[49m\n\u001B[1;32m    862\u001B[0m \u001B[43m        \u001B[49m\u001B[43m)\u001B[49m\n\u001B[1;32m    863\u001B[0m     \u001B[38;5;28;01melse\u001B[39;00m:\n\u001B[1;32m    864\u001B[0m         \u001B[38;5;66;03m# Binary mode\u001B[39;00m\n\u001B[1;32m    865\u001B[0m         handle \u001B[38;5;241m=\u001B[39m \u001B[38;5;28mopen\u001B[39m(handle, ioargs\u001B[38;5;241m.\u001B[39mmode)\n",
      "\u001B[0;31mFileNotFoundError\u001B[0m: [Errno 2] No such file or directory: 'glass.data'"
     ]
    }
   ],
   "source": [
    "cars_global = pd.read_csv('car.data', names=[\"buying\", \"maint\", \"doors\", \"persons\", \"lug_boot\", \"safety\", \"class\"])\n",
    "#Смотрим основные параметры."
   ],
   "metadata": {
    "collapsed": false
   }
  },
  {
   "cell_type": "markdown",
   "source": [],
   "metadata": {
    "collapsed": false
   }
  },
  {
   "cell_type": "markdown",
   "source": [
    "Оцениваем что в дата-сете есть, и с чем прийдется иметь дело."
   ],
   "metadata": {
    "collapsed": false
   }
  },
  {
   "cell_type": "code",
   "execution_count": 51,
   "outputs": [
    {
     "data": {
      "text/plain": "   buying  maint  doors persons lug_boot safety  class\n0   vhigh  vhigh      2       2    small    low  unacc\n1   vhigh  vhigh      2       2    small    med  unacc\n2   vhigh  vhigh      2       2    small   high  unacc\n3   vhigh  vhigh      2       2      med    low  unacc\n4   vhigh  vhigh      2       2      med    med  unacc\n..    ...    ...    ...     ...      ...    ...    ...\n95  vhigh  vhigh  5more       4      med   high  unacc\n96  vhigh  vhigh  5more       4      big    low  unacc\n97  vhigh  vhigh  5more       4      big    med  unacc\n98  vhigh  vhigh  5more       4      big   high  unacc\n99  vhigh  vhigh  5more    more    small    low  unacc\n\n[100 rows x 7 columns]",
      "text/html": "<div>\n<style scoped>\n    .dataframe tbody tr th:only-of-type {\n        vertical-align: middle;\n    }\n\n    .dataframe tbody tr th {\n        vertical-align: top;\n    }\n\n    .dataframe thead th {\n        text-align: right;\n    }\n</style>\n<table border=\"1\" class=\"dataframe\">\n  <thead>\n    <tr style=\"text-align: right;\">\n      <th></th>\n      <th>buying</th>\n      <th>maint</th>\n      <th>doors</th>\n      <th>persons</th>\n      <th>lug_boot</th>\n      <th>safety</th>\n      <th>class</th>\n    </tr>\n  </thead>\n  <tbody>\n    <tr>\n      <th>0</th>\n      <td>vhigh</td>\n      <td>vhigh</td>\n      <td>2</td>\n      <td>2</td>\n      <td>small</td>\n      <td>low</td>\n      <td>unacc</td>\n    </tr>\n    <tr>\n      <th>1</th>\n      <td>vhigh</td>\n      <td>vhigh</td>\n      <td>2</td>\n      <td>2</td>\n      <td>small</td>\n      <td>med</td>\n      <td>unacc</td>\n    </tr>\n    <tr>\n      <th>2</th>\n      <td>vhigh</td>\n      <td>vhigh</td>\n      <td>2</td>\n      <td>2</td>\n      <td>small</td>\n      <td>high</td>\n      <td>unacc</td>\n    </tr>\n    <tr>\n      <th>3</th>\n      <td>vhigh</td>\n      <td>vhigh</td>\n      <td>2</td>\n      <td>2</td>\n      <td>med</td>\n      <td>low</td>\n      <td>unacc</td>\n    </tr>\n    <tr>\n      <th>4</th>\n      <td>vhigh</td>\n      <td>vhigh</td>\n      <td>2</td>\n      <td>2</td>\n      <td>med</td>\n      <td>med</td>\n      <td>unacc</td>\n    </tr>\n    <tr>\n      <th>...</th>\n      <td>...</td>\n      <td>...</td>\n      <td>...</td>\n      <td>...</td>\n      <td>...</td>\n      <td>...</td>\n      <td>...</td>\n    </tr>\n    <tr>\n      <th>95</th>\n      <td>vhigh</td>\n      <td>vhigh</td>\n      <td>5more</td>\n      <td>4</td>\n      <td>med</td>\n      <td>high</td>\n      <td>unacc</td>\n    </tr>\n    <tr>\n      <th>96</th>\n      <td>vhigh</td>\n      <td>vhigh</td>\n      <td>5more</td>\n      <td>4</td>\n      <td>big</td>\n      <td>low</td>\n      <td>unacc</td>\n    </tr>\n    <tr>\n      <th>97</th>\n      <td>vhigh</td>\n      <td>vhigh</td>\n      <td>5more</td>\n      <td>4</td>\n      <td>big</td>\n      <td>med</td>\n      <td>unacc</td>\n    </tr>\n    <tr>\n      <th>98</th>\n      <td>vhigh</td>\n      <td>vhigh</td>\n      <td>5more</td>\n      <td>4</td>\n      <td>big</td>\n      <td>high</td>\n      <td>unacc</td>\n    </tr>\n    <tr>\n      <th>99</th>\n      <td>vhigh</td>\n      <td>vhigh</td>\n      <td>5more</td>\n      <td>more</td>\n      <td>small</td>\n      <td>low</td>\n      <td>unacc</td>\n    </tr>\n  </tbody>\n</table>\n<p>100 rows × 7 columns</p>\n</div>"
     },
     "execution_count": 51,
     "metadata": {},
     "output_type": "execute_result"
    }
   ],
   "source": [
    "cars_global.head(100)"
   ],
   "metadata": {
    "collapsed": false
   }
  },
  {
   "cell_type": "markdown",
   "source": [
    "Cмотрим насколько однородны данные и сколько пропущенных элементов в тех или иных столбцах."
   ],
   "metadata": {
    "collapsed": false
   }
  },
  {
   "cell_type": "code",
   "execution_count": 52,
   "outputs": [
    {
     "data": {
      "text/plain": "buying      1728\nmaint       1728\ndoors       1728\npersons     1728\nlug_boot    1728\nsafety      1728\nclass       1728\ndtype: int64"
     },
     "execution_count": 52,
     "metadata": {},
     "output_type": "execute_result"
    }
   ],
   "source": [
    "cars_global.count()"
   ],
   "metadata": {
    "collapsed": false
   }
  },
  {
   "cell_type": "markdown",
   "source": [
    "В процентном соотношении."
   ],
   "metadata": {
    "collapsed": false
   }
  },
  {
   "cell_type": "code",
   "execution_count": 53,
   "outputs": [
    {
     "name": "stdout",
     "output_type": "stream",
     "text": [
      "buying - 0.0     min: high     max:vhigh\n",
      "maint - 0.0     min: high     max:vhigh\n",
      "doors - 0.0     min: 2     max:5more\n",
      "persons - 0.0     min: 2     max:more\n",
      "lug_boot - 0.0     min: big     max:small\n",
      "safety - 0.0     min: high     max:med\n",
      "class - 0.0     min: acc     max:vgood\n"
     ]
    }
   ],
   "source": [
    "for col in cars_global.columns:\n",
    "    pct_missing = np.mean(cars_global[col].isnull())\n",
    "    print(f'{col} - {round(pct_missing * 100, 5)}     min: {cars_global[col].min()}     max:{cars_global[col].max()}')"
   ],
   "metadata": {
    "collapsed": false
   }
  },
  {
   "cell_type": "code",
   "execution_count": 54,
   "outputs": [],
   "source": [
    "def test_encoder(encoder):\n",
    "    cars = cars_global.copy()\n",
    "    encoder.fit(cars, target)\n",
    "    cars = encoder.transform(cars)\n",
    "    datasets = {\"train\": {}, \"test\": {}}\n",
    "    datasets[\"train\"][\"data\"], datasets[\"test\"][\"data\"], datasets[\"train\"][\"target\"], datasets[\"test\"][\n",
    "        \"target\"] = train_test_split(cars, target, train_size=0.868055555556, shuffle=True)\n",
    "\n",
    "    # Попробуем прогнать нашу же модель KNeighborsClassifier через подборку лучших гиперпараметров.\n",
    "\n",
    "    parameters = {\"n_neighbors\": (3, 4, 5, 6, 7, 8, 9), \"weights\": (\"uniform\", \"distance\"),\n",
    "                  \"algorithm\": (\"ball_tree\", \"kd_tree\", \"brute\"), \"p\": [1, 2]}\n",
    "    clf = GridSearchCV(KNeighborsClassifier(), parameters)\n",
    "    clf.fit(datasets[\"train\"][\"data\"], datasets[\"train\"][\"target\"])\n",
    "    prediction_test = clf.predict(datasets[\"test\"][\"data\"])\n",
    "    print(clf.get_params())\n",
    "    # Считаем метрики\n",
    "    mse = mean_squared_error(datasets[\"test\"][\"target\"], prediction_test)\n",
    "    accuracy = metrics.accuracy_score(datasets[\"test\"][\"target\"], prediction_test)\n",
    "    balanced_accuracy = metrics.balanced_accuracy_score(datasets[\"test\"][\"target\"], prediction_test)\n",
    "    precision = metrics.precision_score(datasets[\"test\"][\"target\"], prediction_test, average='weighted')\n",
    "    recall = metrics.recall_score(datasets[\"test\"][\"target\"], prediction_test, average='weighted')\n",
    "\n",
    "    return [cars, mse, round(precision, 2), round(recall, 2), round(accuracy, 2), round(balanced_accuracy, 2)]"
   ],
   "metadata": {
    "collapsed": false
   }
  },
  {
   "cell_type": "markdown",
   "source": [
    "ROC curve:"
   ],
   "metadata": {
    "collapsed": false
   }
  },
  {
   "cell_type": "code",
   "execution_count": 55,
   "outputs": [],
   "source": [
    "target_encoder = preprocessing.LabelEncoder()\n",
    "target = target_encoder.fit_transform(cars_global[\"class\"])\n",
    "\n",
    "cars_global.drop(columns=[\"class\"], inplace=True)"
   ],
   "metadata": {
    "collapsed": false
   }
  },
  {
   "cell_type": "code",
   "execution_count": 56,
   "outputs": [
    {
     "name": "stdout",
     "output_type": "stream",
     "text": [
      "Metrics for encoder 'Target Encoder': \n",
      "{'cv': None, 'error_score': nan, 'estimator__algorithm': 'auto', 'estimator__leaf_size': 30, 'estimator__metric': 'minkowski', 'estimator__metric_params': None, 'estimator__n_jobs': None, 'estimator__n_neighbors': 5, 'estimator__p': 2, 'estimator__weights': 'uniform', 'estimator': KNeighborsClassifier(), 'n_jobs': None, 'param_grid': {'n_neighbors': (3, 4, 5, 6, 7, 8, 9), 'weights': ('uniform', 'distance'), 'algorithm': ('ball_tree', 'kd_tree', 'brute'), 'p': [1, 2]}, 'pre_dispatch': '2*n_jobs', 'refit': True, 'return_train_score': False, 'scoring': None, 'verbose': 0}\n"
     ]
    }
   ],
   "source": [
    "print(\"Metrics for encoder 'Target Encoder': \")\n",
    "target_encoder_result = test_encoder(TargetEncoder())"
   ],
   "metadata": {
    "collapsed": false
   }
  },
  {
   "cell_type": "code",
   "execution_count": null,
   "outputs": [],
   "source": [
    "target_encoder_result.pop(0)"
   ],
   "metadata": {
    "collapsed": false
   }
  },
  {
   "cell_type": "code",
   "execution_count": 64,
   "outputs": [
    {
     "name": "stdout",
     "output_type": "stream",
     "text": [
      "Data after encoder 'Sum Encoder': \n"
     ]
    },
    {
     "name": "stderr",
     "output_type": "stream",
     "text": [
      "/home/monya/.local/lib/python3.10/site-packages/category_encoders/base_contrast_encoder.py:126: FutureWarning: Intercept column might not be added anymore in future releases (c.f. issue #370)\n",
      "  warnings.warn(\"Intercept column might not be added anymore in future releases (c.f. issue #370)\",\n",
      "/home/monya/.local/lib/python3.10/site-packages/category_encoders/base_contrast_encoder.py:126: FutureWarning: Intercept column might not be added anymore in future releases (c.f. issue #370)\n",
      "  warnings.warn(\"Intercept column might not be added anymore in future releases (c.f. issue #370)\",\n"
     ]
    }
   ],
   "source": [
    "print(\"Data after encoder 'Sum Encoder': \")\n",
    "sum_encoder_result = test_encoder(SumEncoder())"
   ],
   "metadata": {
    "collapsed": false
   }
  },
  {
   "cell_type": "code",
   "execution_count": 65,
   "outputs": [
    {
     "data": {
      "text/plain": "      intercept  buying_0  buying_1  buying_2  maint_0  maint_1  maint_2  \\\n0             1       1.0       0.0       0.0      1.0      0.0      0.0   \n1             1       1.0       0.0       0.0      1.0      0.0      0.0   \n2             1       1.0       0.0       0.0      1.0      0.0      0.0   \n3             1       1.0       0.0       0.0      1.0      0.0      0.0   \n4             1       1.0       0.0       0.0      1.0      0.0      0.0   \n...         ...       ...       ...       ...      ...      ...      ...   \n1723          1      -1.0      -1.0      -1.0     -1.0     -1.0     -1.0   \n1724          1      -1.0      -1.0      -1.0     -1.0     -1.0     -1.0   \n1725          1      -1.0      -1.0      -1.0     -1.0     -1.0     -1.0   \n1726          1      -1.0      -1.0      -1.0     -1.0     -1.0     -1.0   \n1727          1      -1.0      -1.0      -1.0     -1.0     -1.0     -1.0   \n\n      doors_0  doors_1  doors_2  persons_0  persons_1  lug_boot_0  lug_boot_1  \\\n0         1.0      0.0      0.0        1.0        0.0         1.0         0.0   \n1         1.0      0.0      0.0        1.0        0.0         1.0         0.0   \n2         1.0      0.0      0.0        1.0        0.0         1.0         0.0   \n3         1.0      0.0      0.0        1.0        0.0         0.0         1.0   \n4         1.0      0.0      0.0        1.0        0.0         0.0         1.0   \n...       ...      ...      ...        ...        ...         ...         ...   \n1723     -1.0     -1.0     -1.0       -1.0       -1.0         0.0         1.0   \n1724     -1.0     -1.0     -1.0       -1.0       -1.0         0.0         1.0   \n1725     -1.0     -1.0     -1.0       -1.0       -1.0        -1.0        -1.0   \n1726     -1.0     -1.0     -1.0       -1.0       -1.0        -1.0        -1.0   \n1727     -1.0     -1.0     -1.0       -1.0       -1.0        -1.0        -1.0   \n\n      safety_0  safety_1  \n0          1.0       0.0  \n1          0.0       1.0  \n2         -1.0      -1.0  \n3          1.0       0.0  \n4          0.0       1.0  \n...        ...       ...  \n1723       0.0       1.0  \n1724      -1.0      -1.0  \n1725       1.0       0.0  \n1726       0.0       1.0  \n1727      -1.0      -1.0  \n\n[1728 rows x 16 columns]",
      "text/html": "<div>\n<style scoped>\n    .dataframe tbody tr th:only-of-type {\n        vertical-align: middle;\n    }\n\n    .dataframe tbody tr th {\n        vertical-align: top;\n    }\n\n    .dataframe thead th {\n        text-align: right;\n    }\n</style>\n<table border=\"1\" class=\"dataframe\">\n  <thead>\n    <tr style=\"text-align: right;\">\n      <th></th>\n      <th>intercept</th>\n      <th>buying_0</th>\n      <th>buying_1</th>\n      <th>buying_2</th>\n      <th>maint_0</th>\n      <th>maint_1</th>\n      <th>maint_2</th>\n      <th>doors_0</th>\n      <th>doors_1</th>\n      <th>doors_2</th>\n      <th>persons_0</th>\n      <th>persons_1</th>\n      <th>lug_boot_0</th>\n      <th>lug_boot_1</th>\n      <th>safety_0</th>\n      <th>safety_1</th>\n    </tr>\n  </thead>\n  <tbody>\n    <tr>\n      <th>0</th>\n      <td>1</td>\n      <td>1.0</td>\n      <td>0.0</td>\n      <td>0.0</td>\n      <td>1.0</td>\n      <td>0.0</td>\n      <td>0.0</td>\n      <td>1.0</td>\n      <td>0.0</td>\n      <td>0.0</td>\n      <td>1.0</td>\n      <td>0.0</td>\n      <td>1.0</td>\n      <td>0.0</td>\n      <td>1.0</td>\n      <td>0.0</td>\n    </tr>\n    <tr>\n      <th>1</th>\n      <td>1</td>\n      <td>1.0</td>\n      <td>0.0</td>\n      <td>0.0</td>\n      <td>1.0</td>\n      <td>0.0</td>\n      <td>0.0</td>\n      <td>1.0</td>\n      <td>0.0</td>\n      <td>0.0</td>\n      <td>1.0</td>\n      <td>0.0</td>\n      <td>1.0</td>\n      <td>0.0</td>\n      <td>0.0</td>\n      <td>1.0</td>\n    </tr>\n    <tr>\n      <th>2</th>\n      <td>1</td>\n      <td>1.0</td>\n      <td>0.0</td>\n      <td>0.0</td>\n      <td>1.0</td>\n      <td>0.0</td>\n      <td>0.0</td>\n      <td>1.0</td>\n      <td>0.0</td>\n      <td>0.0</td>\n      <td>1.0</td>\n      <td>0.0</td>\n      <td>1.0</td>\n      <td>0.0</td>\n      <td>-1.0</td>\n      <td>-1.0</td>\n    </tr>\n    <tr>\n      <th>3</th>\n      <td>1</td>\n      <td>1.0</td>\n      <td>0.0</td>\n      <td>0.0</td>\n      <td>1.0</td>\n      <td>0.0</td>\n      <td>0.0</td>\n      <td>1.0</td>\n      <td>0.0</td>\n      <td>0.0</td>\n      <td>1.0</td>\n      <td>0.0</td>\n      <td>0.0</td>\n      <td>1.0</td>\n      <td>1.0</td>\n      <td>0.0</td>\n    </tr>\n    <tr>\n      <th>4</th>\n      <td>1</td>\n      <td>1.0</td>\n      <td>0.0</td>\n      <td>0.0</td>\n      <td>1.0</td>\n      <td>0.0</td>\n      <td>0.0</td>\n      <td>1.0</td>\n      <td>0.0</td>\n      <td>0.0</td>\n      <td>1.0</td>\n      <td>0.0</td>\n      <td>0.0</td>\n      <td>1.0</td>\n      <td>0.0</td>\n      <td>1.0</td>\n    </tr>\n    <tr>\n      <th>...</th>\n      <td>...</td>\n      <td>...</td>\n      <td>...</td>\n      <td>...</td>\n      <td>...</td>\n      <td>...</td>\n      <td>...</td>\n      <td>...</td>\n      <td>...</td>\n      <td>...</td>\n      <td>...</td>\n      <td>...</td>\n      <td>...</td>\n      <td>...</td>\n      <td>...</td>\n      <td>...</td>\n    </tr>\n    <tr>\n      <th>1723</th>\n      <td>1</td>\n      <td>-1.0</td>\n      <td>-1.0</td>\n      <td>-1.0</td>\n      <td>-1.0</td>\n      <td>-1.0</td>\n      <td>-1.0</td>\n      <td>-1.0</td>\n      <td>-1.0</td>\n      <td>-1.0</td>\n      <td>-1.0</td>\n      <td>-1.0</td>\n      <td>0.0</td>\n      <td>1.0</td>\n      <td>0.0</td>\n      <td>1.0</td>\n    </tr>\n    <tr>\n      <th>1724</th>\n      <td>1</td>\n      <td>-1.0</td>\n      <td>-1.0</td>\n      <td>-1.0</td>\n      <td>-1.0</td>\n      <td>-1.0</td>\n      <td>-1.0</td>\n      <td>-1.0</td>\n      <td>-1.0</td>\n      <td>-1.0</td>\n      <td>-1.0</td>\n      <td>-1.0</td>\n      <td>0.0</td>\n      <td>1.0</td>\n      <td>-1.0</td>\n      <td>-1.0</td>\n    </tr>\n    <tr>\n      <th>1725</th>\n      <td>1</td>\n      <td>-1.0</td>\n      <td>-1.0</td>\n      <td>-1.0</td>\n      <td>-1.0</td>\n      <td>-1.0</td>\n      <td>-1.0</td>\n      <td>-1.0</td>\n      <td>-1.0</td>\n      <td>-1.0</td>\n      <td>-1.0</td>\n      <td>-1.0</td>\n      <td>-1.0</td>\n      <td>-1.0</td>\n      <td>1.0</td>\n      <td>0.0</td>\n    </tr>\n    <tr>\n      <th>1726</th>\n      <td>1</td>\n      <td>-1.0</td>\n      <td>-1.0</td>\n      <td>-1.0</td>\n      <td>-1.0</td>\n      <td>-1.0</td>\n      <td>-1.0</td>\n      <td>-1.0</td>\n      <td>-1.0</td>\n      <td>-1.0</td>\n      <td>-1.0</td>\n      <td>-1.0</td>\n      <td>-1.0</td>\n      <td>-1.0</td>\n      <td>0.0</td>\n      <td>1.0</td>\n    </tr>\n    <tr>\n      <th>1727</th>\n      <td>1</td>\n      <td>-1.0</td>\n      <td>-1.0</td>\n      <td>-1.0</td>\n      <td>-1.0</td>\n      <td>-1.0</td>\n      <td>-1.0</td>\n      <td>-1.0</td>\n      <td>-1.0</td>\n      <td>-1.0</td>\n      <td>-1.0</td>\n      <td>-1.0</td>\n      <td>-1.0</td>\n      <td>-1.0</td>\n      <td>-1.0</td>\n      <td>-1.0</td>\n    </tr>\n  </tbody>\n</table>\n<p>1728 rows × 16 columns</p>\n</div>"
     },
     "execution_count": 65,
     "metadata": {},
     "output_type": "execute_result"
    }
   ],
   "source": [
    "sum_encoder_result.pop(0)"
   ],
   "metadata": {
    "collapsed": false
   }
  },
  {
   "cell_type": "code",
   "execution_count": 80,
   "outputs": [
    {
     "name": "stdout",
     "output_type": "stream",
     "text": [
      "Data after encoder 'M Estimate Encoder': \n"
     ]
    }
   ],
   "source": [
    "print(\"Data after encoder 'M Estimate Encoder': \")\n",
    "m_estimator_encoder_result =test_encoder(MEstimateEncoder())"
   ],
   "metadata": {
    "collapsed": false
   }
  },
  {
   "cell_type": "code",
   "execution_count": 81,
   "outputs": [
    {
     "data": {
      "text/plain": "        buying     maint     doors   persons  lug_boot    safety\n0     1.666405  1.666405  1.613287  1.999226  1.598879  1.999226\n1     1.666405  1.666405  1.613287  1.999226  1.598879  1.307718\n2     1.666405  1.666405  1.613287  1.999226  1.598879  1.352779\n3     1.666405  1.666405  1.613287  1.999226  1.533021  1.999226\n4     1.666405  1.666405  1.613287  1.999226  1.533021  1.307718\n...        ...       ...       ...       ...       ...       ...\n1723  1.571716  1.527837  1.532456  1.357978  1.533021  1.307718\n1724  1.571716  1.527837  1.532456  1.357978  1.533021  1.352779\n1725  1.571716  1.527837  1.532456  1.357978  1.527822  1.999226\n1726  1.571716  1.527837  1.532456  1.357978  1.527822  1.307718\n1727  1.571716  1.527837  1.532456  1.357978  1.527822  1.352779\n\n[1728 rows x 6 columns]",
      "text/html": "<div>\n<style scoped>\n    .dataframe tbody tr th:only-of-type {\n        vertical-align: middle;\n    }\n\n    .dataframe tbody tr th {\n        vertical-align: top;\n    }\n\n    .dataframe thead th {\n        text-align: right;\n    }\n</style>\n<table border=\"1\" class=\"dataframe\">\n  <thead>\n    <tr style=\"text-align: right;\">\n      <th></th>\n      <th>buying</th>\n      <th>maint</th>\n      <th>doors</th>\n      <th>persons</th>\n      <th>lug_boot</th>\n      <th>safety</th>\n    </tr>\n  </thead>\n  <tbody>\n    <tr>\n      <th>0</th>\n      <td>1.666405</td>\n      <td>1.666405</td>\n      <td>1.613287</td>\n      <td>1.999226</td>\n      <td>1.598879</td>\n      <td>1.999226</td>\n    </tr>\n    <tr>\n      <th>1</th>\n      <td>1.666405</td>\n      <td>1.666405</td>\n      <td>1.613287</td>\n      <td>1.999226</td>\n      <td>1.598879</td>\n      <td>1.307718</td>\n    </tr>\n    <tr>\n      <th>2</th>\n      <td>1.666405</td>\n      <td>1.666405</td>\n      <td>1.613287</td>\n      <td>1.999226</td>\n      <td>1.598879</td>\n      <td>1.352779</td>\n    </tr>\n    <tr>\n      <th>3</th>\n      <td>1.666405</td>\n      <td>1.666405</td>\n      <td>1.613287</td>\n      <td>1.999226</td>\n      <td>1.533021</td>\n      <td>1.999226</td>\n    </tr>\n    <tr>\n      <th>4</th>\n      <td>1.666405</td>\n      <td>1.666405</td>\n      <td>1.613287</td>\n      <td>1.999226</td>\n      <td>1.533021</td>\n      <td>1.307718</td>\n    </tr>\n    <tr>\n      <th>...</th>\n      <td>...</td>\n      <td>...</td>\n      <td>...</td>\n      <td>...</td>\n      <td>...</td>\n      <td>...</td>\n    </tr>\n    <tr>\n      <th>1723</th>\n      <td>1.571716</td>\n      <td>1.527837</td>\n      <td>1.532456</td>\n      <td>1.357978</td>\n      <td>1.533021</td>\n      <td>1.307718</td>\n    </tr>\n    <tr>\n      <th>1724</th>\n      <td>1.571716</td>\n      <td>1.527837</td>\n      <td>1.532456</td>\n      <td>1.357978</td>\n      <td>1.533021</td>\n      <td>1.352779</td>\n    </tr>\n    <tr>\n      <th>1725</th>\n      <td>1.571716</td>\n      <td>1.527837</td>\n      <td>1.532456</td>\n      <td>1.357978</td>\n      <td>1.527822</td>\n      <td>1.999226</td>\n    </tr>\n    <tr>\n      <th>1726</th>\n      <td>1.571716</td>\n      <td>1.527837</td>\n      <td>1.532456</td>\n      <td>1.357978</td>\n      <td>1.527822</td>\n      <td>1.307718</td>\n    </tr>\n    <tr>\n      <th>1727</th>\n      <td>1.571716</td>\n      <td>1.527837</td>\n      <td>1.532456</td>\n      <td>1.357978</td>\n      <td>1.527822</td>\n      <td>1.352779</td>\n    </tr>\n  </tbody>\n</table>\n<p>1728 rows × 6 columns</p>\n</div>"
     },
     "execution_count": 81,
     "metadata": {},
     "output_type": "execute_result"
    }
   ],
   "source": [
    "m_estimator_encoder_result.pop(0)"
   ],
   "metadata": {
    "collapsed": false
   }
  },
  {
   "cell_type": "code",
   "execution_count": 70,
   "outputs": [
    {
     "name": "stdout",
     "output_type": "stream",
     "text": [
      "Data after encoder 'Leave One Out Encoder': \n"
     ]
    }
   ],
   "source": [
    "print(\"Data after encoder 'Leave One Out Encoder': \")\n",
    "leave_one_out_encoder_result = test_encoder(LeaveOneOutEncoder())"
   ],
   "metadata": {
    "collapsed": false
   }
  },
  {
   "cell_type": "code",
   "execution_count": 79,
   "outputs": [
    {
     "data": {
      "text/plain": "        buying     maint     doors   persons  lug_boot    safety\n0     1.666667  1.666667  1.613426  2.000000  1.598958  2.000000\n1     1.666667  1.666667  1.613426  2.000000  1.598958  1.307292\n2     1.666667  1.666667  1.613426  2.000000  1.598958  1.352431\n3     1.666667  1.666667  1.613426  2.000000  1.532986  2.000000\n4     1.666667  1.666667  1.613426  2.000000  1.532986  1.307292\n...        ...       ...       ...       ...       ...       ...\n1723  1.571759  1.527778  1.532407  1.357639  1.532986  1.307292\n1724  1.571759  1.527778  1.532407  1.357639  1.532986  1.352431\n1725  1.571759  1.527778  1.532407  1.357639  1.527778  2.000000\n1726  1.571759  1.527778  1.532407  1.357639  1.527778  1.307292\n1727  1.571759  1.527778  1.532407  1.357639  1.527778  1.352431\n\n[1728 rows x 6 columns]",
      "text/html": "<div>\n<style scoped>\n    .dataframe tbody tr th:only-of-type {\n        vertical-align: middle;\n    }\n\n    .dataframe tbody tr th {\n        vertical-align: top;\n    }\n\n    .dataframe thead th {\n        text-align: right;\n    }\n</style>\n<table border=\"1\" class=\"dataframe\">\n  <thead>\n    <tr style=\"text-align: right;\">\n      <th></th>\n      <th>buying</th>\n      <th>maint</th>\n      <th>doors</th>\n      <th>persons</th>\n      <th>lug_boot</th>\n      <th>safety</th>\n    </tr>\n  </thead>\n  <tbody>\n    <tr>\n      <th>0</th>\n      <td>1.666667</td>\n      <td>1.666667</td>\n      <td>1.613426</td>\n      <td>2.000000</td>\n      <td>1.598958</td>\n      <td>2.000000</td>\n    </tr>\n    <tr>\n      <th>1</th>\n      <td>1.666667</td>\n      <td>1.666667</td>\n      <td>1.613426</td>\n      <td>2.000000</td>\n      <td>1.598958</td>\n      <td>1.307292</td>\n    </tr>\n    <tr>\n      <th>2</th>\n      <td>1.666667</td>\n      <td>1.666667</td>\n      <td>1.613426</td>\n      <td>2.000000</td>\n      <td>1.598958</td>\n      <td>1.352431</td>\n    </tr>\n    <tr>\n      <th>3</th>\n      <td>1.666667</td>\n      <td>1.666667</td>\n      <td>1.613426</td>\n      <td>2.000000</td>\n      <td>1.532986</td>\n      <td>2.000000</td>\n    </tr>\n    <tr>\n      <th>4</th>\n      <td>1.666667</td>\n      <td>1.666667</td>\n      <td>1.613426</td>\n      <td>2.000000</td>\n      <td>1.532986</td>\n      <td>1.307292</td>\n    </tr>\n    <tr>\n      <th>...</th>\n      <td>...</td>\n      <td>...</td>\n      <td>...</td>\n      <td>...</td>\n      <td>...</td>\n      <td>...</td>\n    </tr>\n    <tr>\n      <th>1723</th>\n      <td>1.571759</td>\n      <td>1.527778</td>\n      <td>1.532407</td>\n      <td>1.357639</td>\n      <td>1.532986</td>\n      <td>1.307292</td>\n    </tr>\n    <tr>\n      <th>1724</th>\n      <td>1.571759</td>\n      <td>1.527778</td>\n      <td>1.532407</td>\n      <td>1.357639</td>\n      <td>1.532986</td>\n      <td>1.352431</td>\n    </tr>\n    <tr>\n      <th>1725</th>\n      <td>1.571759</td>\n      <td>1.527778</td>\n      <td>1.532407</td>\n      <td>1.357639</td>\n      <td>1.527778</td>\n      <td>2.000000</td>\n    </tr>\n    <tr>\n      <th>1726</th>\n      <td>1.571759</td>\n      <td>1.527778</td>\n      <td>1.532407</td>\n      <td>1.357639</td>\n      <td>1.527778</td>\n      <td>1.307292</td>\n    </tr>\n    <tr>\n      <th>1727</th>\n      <td>1.571759</td>\n      <td>1.527778</td>\n      <td>1.532407</td>\n      <td>1.357639</td>\n      <td>1.527778</td>\n      <td>1.352431</td>\n    </tr>\n  </tbody>\n</table>\n<p>1728 rows × 6 columns</p>\n</div>"
     },
     "execution_count": 79,
     "metadata": {},
     "output_type": "execute_result"
    }
   ],
   "source": [
    "leave_one_out_encoder_result.pop(0)"
   ],
   "metadata": {
    "collapsed": false
   }
  },
  {
   "cell_type": "code",
   "execution_count": 71,
   "outputs": [
    {
     "name": "stdout",
     "output_type": "stream",
     "text": [
      "Data after encoder 'Helmert Encoder': \n"
     ]
    },
    {
     "name": "stderr",
     "output_type": "stream",
     "text": [
      "/home/monya/.local/lib/python3.10/site-packages/category_encoders/base_contrast_encoder.py:126: FutureWarning: Intercept column might not be added anymore in future releases (c.f. issue #370)\n",
      "  warnings.warn(\"Intercept column might not be added anymore in future releases (c.f. issue #370)\",\n",
      "/home/monya/.local/lib/python3.10/site-packages/category_encoders/base_contrast_encoder.py:126: FutureWarning: Intercept column might not be added anymore in future releases (c.f. issue #370)\n",
      "  warnings.warn(\"Intercept column might not be added anymore in future releases (c.f. issue #370)\",\n"
     ]
    }
   ],
   "source": [
    "print(\"Data after encoder 'Helmert Encoder': \")\n",
    "helmert_encoder_result = test_encoder(HelmertEncoder())"
   ],
   "metadata": {
    "collapsed": false
   }
  },
  {
   "cell_type": "code",
   "execution_count": 82,
   "outputs": [
    {
     "data": {
      "text/plain": "      intercept  buying_0  buying_1  buying_2  maint_0  maint_1  maint_2  \\\n0             1      -1.0      -1.0      -1.0     -1.0     -1.0     -1.0   \n1             1      -1.0      -1.0      -1.0     -1.0     -1.0     -1.0   \n2             1      -1.0      -1.0      -1.0     -1.0     -1.0     -1.0   \n3             1      -1.0      -1.0      -1.0     -1.0     -1.0     -1.0   \n4             1      -1.0      -1.0      -1.0     -1.0     -1.0     -1.0   \n...         ...       ...       ...       ...      ...      ...      ...   \n1723          1       0.0       0.0       3.0      0.0      0.0      3.0   \n1724          1       0.0       0.0       3.0      0.0      0.0      3.0   \n1725          1       0.0       0.0       3.0      0.0      0.0      3.0   \n1726          1       0.0       0.0       3.0      0.0      0.0      3.0   \n1727          1       0.0       0.0       3.0      0.0      0.0      3.0   \n\n      doors_0  doors_1  doors_2  persons_0  persons_1  lug_boot_0  lug_boot_1  \\\n0        -1.0     -1.0     -1.0       -1.0       -1.0        -1.0        -1.0   \n1        -1.0     -1.0     -1.0       -1.0       -1.0        -1.0        -1.0   \n2        -1.0     -1.0     -1.0       -1.0       -1.0        -1.0        -1.0   \n3        -1.0     -1.0     -1.0       -1.0       -1.0         1.0        -1.0   \n4        -1.0     -1.0     -1.0       -1.0       -1.0         1.0        -1.0   \n...       ...      ...      ...        ...        ...         ...         ...   \n1723      0.0      0.0      3.0        0.0        2.0         1.0        -1.0   \n1724      0.0      0.0      3.0        0.0        2.0         1.0        -1.0   \n1725      0.0      0.0      3.0        0.0        2.0         0.0         2.0   \n1726      0.0      0.0      3.0        0.0        2.0         0.0         2.0   \n1727      0.0      0.0      3.0        0.0        2.0         0.0         2.0   \n\n      safety_0  safety_1  \n0         -1.0      -1.0  \n1          1.0      -1.0  \n2          0.0       2.0  \n3         -1.0      -1.0  \n4          1.0      -1.0  \n...        ...       ...  \n1723       1.0      -1.0  \n1724       0.0       2.0  \n1725      -1.0      -1.0  \n1726       1.0      -1.0  \n1727       0.0       2.0  \n\n[1728 rows x 16 columns]",
      "text/html": "<div>\n<style scoped>\n    .dataframe tbody tr th:only-of-type {\n        vertical-align: middle;\n    }\n\n    .dataframe tbody tr th {\n        vertical-align: top;\n    }\n\n    .dataframe thead th {\n        text-align: right;\n    }\n</style>\n<table border=\"1\" class=\"dataframe\">\n  <thead>\n    <tr style=\"text-align: right;\">\n      <th></th>\n      <th>intercept</th>\n      <th>buying_0</th>\n      <th>buying_1</th>\n      <th>buying_2</th>\n      <th>maint_0</th>\n      <th>maint_1</th>\n      <th>maint_2</th>\n      <th>doors_0</th>\n      <th>doors_1</th>\n      <th>doors_2</th>\n      <th>persons_0</th>\n      <th>persons_1</th>\n      <th>lug_boot_0</th>\n      <th>lug_boot_1</th>\n      <th>safety_0</th>\n      <th>safety_1</th>\n    </tr>\n  </thead>\n  <tbody>\n    <tr>\n      <th>0</th>\n      <td>1</td>\n      <td>-1.0</td>\n      <td>-1.0</td>\n      <td>-1.0</td>\n      <td>-1.0</td>\n      <td>-1.0</td>\n      <td>-1.0</td>\n      <td>-1.0</td>\n      <td>-1.0</td>\n      <td>-1.0</td>\n      <td>-1.0</td>\n      <td>-1.0</td>\n      <td>-1.0</td>\n      <td>-1.0</td>\n      <td>-1.0</td>\n      <td>-1.0</td>\n    </tr>\n    <tr>\n      <th>1</th>\n      <td>1</td>\n      <td>-1.0</td>\n      <td>-1.0</td>\n      <td>-1.0</td>\n      <td>-1.0</td>\n      <td>-1.0</td>\n      <td>-1.0</td>\n      <td>-1.0</td>\n      <td>-1.0</td>\n      <td>-1.0</td>\n      <td>-1.0</td>\n      <td>-1.0</td>\n      <td>-1.0</td>\n      <td>-1.0</td>\n      <td>1.0</td>\n      <td>-1.0</td>\n    </tr>\n    <tr>\n      <th>2</th>\n      <td>1</td>\n      <td>-1.0</td>\n      <td>-1.0</td>\n      <td>-1.0</td>\n      <td>-1.0</td>\n      <td>-1.0</td>\n      <td>-1.0</td>\n      <td>-1.0</td>\n      <td>-1.0</td>\n      <td>-1.0</td>\n      <td>-1.0</td>\n      <td>-1.0</td>\n      <td>-1.0</td>\n      <td>-1.0</td>\n      <td>0.0</td>\n      <td>2.0</td>\n    </tr>\n    <tr>\n      <th>3</th>\n      <td>1</td>\n      <td>-1.0</td>\n      <td>-1.0</td>\n      <td>-1.0</td>\n      <td>-1.0</td>\n      <td>-1.0</td>\n      <td>-1.0</td>\n      <td>-1.0</td>\n      <td>-1.0</td>\n      <td>-1.0</td>\n      <td>-1.0</td>\n      <td>-1.0</td>\n      <td>1.0</td>\n      <td>-1.0</td>\n      <td>-1.0</td>\n      <td>-1.0</td>\n    </tr>\n    <tr>\n      <th>4</th>\n      <td>1</td>\n      <td>-1.0</td>\n      <td>-1.0</td>\n      <td>-1.0</td>\n      <td>-1.0</td>\n      <td>-1.0</td>\n      <td>-1.0</td>\n      <td>-1.0</td>\n      <td>-1.0</td>\n      <td>-1.0</td>\n      <td>-1.0</td>\n      <td>-1.0</td>\n      <td>1.0</td>\n      <td>-1.0</td>\n      <td>1.0</td>\n      <td>-1.0</td>\n    </tr>\n    <tr>\n      <th>...</th>\n      <td>...</td>\n      <td>...</td>\n      <td>...</td>\n      <td>...</td>\n      <td>...</td>\n      <td>...</td>\n      <td>...</td>\n      <td>...</td>\n      <td>...</td>\n      <td>...</td>\n      <td>...</td>\n      <td>...</td>\n      <td>...</td>\n      <td>...</td>\n      <td>...</td>\n      <td>...</td>\n    </tr>\n    <tr>\n      <th>1723</th>\n      <td>1</td>\n      <td>0.0</td>\n      <td>0.0</td>\n      <td>3.0</td>\n      <td>0.0</td>\n      <td>0.0</td>\n      <td>3.0</td>\n      <td>0.0</td>\n      <td>0.0</td>\n      <td>3.0</td>\n      <td>0.0</td>\n      <td>2.0</td>\n      <td>1.0</td>\n      <td>-1.0</td>\n      <td>1.0</td>\n      <td>-1.0</td>\n    </tr>\n    <tr>\n      <th>1724</th>\n      <td>1</td>\n      <td>0.0</td>\n      <td>0.0</td>\n      <td>3.0</td>\n      <td>0.0</td>\n      <td>0.0</td>\n      <td>3.0</td>\n      <td>0.0</td>\n      <td>0.0</td>\n      <td>3.0</td>\n      <td>0.0</td>\n      <td>2.0</td>\n      <td>1.0</td>\n      <td>-1.0</td>\n      <td>0.0</td>\n      <td>2.0</td>\n    </tr>\n    <tr>\n      <th>1725</th>\n      <td>1</td>\n      <td>0.0</td>\n      <td>0.0</td>\n      <td>3.0</td>\n      <td>0.0</td>\n      <td>0.0</td>\n      <td>3.0</td>\n      <td>0.0</td>\n      <td>0.0</td>\n      <td>3.0</td>\n      <td>0.0</td>\n      <td>2.0</td>\n      <td>0.0</td>\n      <td>2.0</td>\n      <td>-1.0</td>\n      <td>-1.0</td>\n    </tr>\n    <tr>\n      <th>1726</th>\n      <td>1</td>\n      <td>0.0</td>\n      <td>0.0</td>\n      <td>3.0</td>\n      <td>0.0</td>\n      <td>0.0</td>\n      <td>3.0</td>\n      <td>0.0</td>\n      <td>0.0</td>\n      <td>3.0</td>\n      <td>0.0</td>\n      <td>2.0</td>\n      <td>0.0</td>\n      <td>2.0</td>\n      <td>1.0</td>\n      <td>-1.0</td>\n    </tr>\n    <tr>\n      <th>1727</th>\n      <td>1</td>\n      <td>0.0</td>\n      <td>0.0</td>\n      <td>3.0</td>\n      <td>0.0</td>\n      <td>0.0</td>\n      <td>3.0</td>\n      <td>0.0</td>\n      <td>0.0</td>\n      <td>3.0</td>\n      <td>0.0</td>\n      <td>2.0</td>\n      <td>0.0</td>\n      <td>2.0</td>\n      <td>0.0</td>\n      <td>2.0</td>\n    </tr>\n  </tbody>\n</table>\n<p>1728 rows × 16 columns</p>\n</div>"
     },
     "execution_count": 82,
     "metadata": {},
     "output_type": "execute_result"
    }
   ],
   "source": [
    "helmert_encoder_result.pop(0)"
   ],
   "metadata": {
    "collapsed": false
   }
  },
  {
   "cell_type": "code",
   "execution_count": 72,
   "outputs": [
    {
     "name": "stdout",
     "output_type": "stream",
     "text": [
      "Data after encoder 'Cat Boost Encoder': \n"
     ]
    }
   ],
   "source": [
    "print(\"Data after encoder 'Cat Boost Encoder': \")\n",
    "cat_boost_encoder_result = test_encoder(CatBoostEncoder())"
   ],
   "metadata": {
    "collapsed": false
   }
  },
  {
   "cell_type": "code",
   "execution_count": 83,
   "outputs": [
    {
     "data": {
      "text/plain": "        buying     maint     doors   persons  lug_boot    safety\n0     1.666405  1.666405  1.613287  1.999226  1.598879  1.999226\n1     1.666405  1.666405  1.613287  1.999226  1.598879  1.307718\n2     1.666405  1.666405  1.613287  1.999226  1.598879  1.352779\n3     1.666405  1.666405  1.613287  1.999226  1.533021  1.999226\n4     1.666405  1.666405  1.613287  1.999226  1.533021  1.307718\n...        ...       ...       ...       ...       ...       ...\n1723  1.571716  1.527837  1.532456  1.357978  1.533021  1.307718\n1724  1.571716  1.527837  1.532456  1.357978  1.533021  1.352779\n1725  1.571716  1.527837  1.532456  1.357978  1.527822  1.999226\n1726  1.571716  1.527837  1.532456  1.357978  1.527822  1.307718\n1727  1.571716  1.527837  1.532456  1.357978  1.527822  1.352779\n\n[1728 rows x 6 columns]",
      "text/html": "<div>\n<style scoped>\n    .dataframe tbody tr th:only-of-type {\n        vertical-align: middle;\n    }\n\n    .dataframe tbody tr th {\n        vertical-align: top;\n    }\n\n    .dataframe thead th {\n        text-align: right;\n    }\n</style>\n<table border=\"1\" class=\"dataframe\">\n  <thead>\n    <tr style=\"text-align: right;\">\n      <th></th>\n      <th>buying</th>\n      <th>maint</th>\n      <th>doors</th>\n      <th>persons</th>\n      <th>lug_boot</th>\n      <th>safety</th>\n    </tr>\n  </thead>\n  <tbody>\n    <tr>\n      <th>0</th>\n      <td>1.666405</td>\n      <td>1.666405</td>\n      <td>1.613287</td>\n      <td>1.999226</td>\n      <td>1.598879</td>\n      <td>1.999226</td>\n    </tr>\n    <tr>\n      <th>1</th>\n      <td>1.666405</td>\n      <td>1.666405</td>\n      <td>1.613287</td>\n      <td>1.999226</td>\n      <td>1.598879</td>\n      <td>1.307718</td>\n    </tr>\n    <tr>\n      <th>2</th>\n      <td>1.666405</td>\n      <td>1.666405</td>\n      <td>1.613287</td>\n      <td>1.999226</td>\n      <td>1.598879</td>\n      <td>1.352779</td>\n    </tr>\n    <tr>\n      <th>3</th>\n      <td>1.666405</td>\n      <td>1.666405</td>\n      <td>1.613287</td>\n      <td>1.999226</td>\n      <td>1.533021</td>\n      <td>1.999226</td>\n    </tr>\n    <tr>\n      <th>4</th>\n      <td>1.666405</td>\n      <td>1.666405</td>\n      <td>1.613287</td>\n      <td>1.999226</td>\n      <td>1.533021</td>\n      <td>1.307718</td>\n    </tr>\n    <tr>\n      <th>...</th>\n      <td>...</td>\n      <td>...</td>\n      <td>...</td>\n      <td>...</td>\n      <td>...</td>\n      <td>...</td>\n    </tr>\n    <tr>\n      <th>1723</th>\n      <td>1.571716</td>\n      <td>1.527837</td>\n      <td>1.532456</td>\n      <td>1.357978</td>\n      <td>1.533021</td>\n      <td>1.307718</td>\n    </tr>\n    <tr>\n      <th>1724</th>\n      <td>1.571716</td>\n      <td>1.527837</td>\n      <td>1.532456</td>\n      <td>1.357978</td>\n      <td>1.533021</td>\n      <td>1.352779</td>\n    </tr>\n    <tr>\n      <th>1725</th>\n      <td>1.571716</td>\n      <td>1.527837</td>\n      <td>1.532456</td>\n      <td>1.357978</td>\n      <td>1.527822</td>\n      <td>1.999226</td>\n    </tr>\n    <tr>\n      <th>1726</th>\n      <td>1.571716</td>\n      <td>1.527837</td>\n      <td>1.532456</td>\n      <td>1.357978</td>\n      <td>1.527822</td>\n      <td>1.307718</td>\n    </tr>\n    <tr>\n      <th>1727</th>\n      <td>1.571716</td>\n      <td>1.527837</td>\n      <td>1.532456</td>\n      <td>1.357978</td>\n      <td>1.527822</td>\n      <td>1.352779</td>\n    </tr>\n  </tbody>\n</table>\n<p>1728 rows × 6 columns</p>\n</div>"
     },
     "execution_count": 83,
     "metadata": {},
     "output_type": "execute_result"
    }
   ],
   "source": [
    "cat_boost_encoder_result.pop(0)"
   ],
   "metadata": {
    "collapsed": false
   }
  },
  {
   "cell_type": "code",
   "execution_count": 73,
   "outputs": [
    {
     "name": "stdout",
     "output_type": "stream",
     "text": [
      "Data after encoder 'James Stein Encoder': \n"
     ]
    }
   ],
   "source": [
    "print(\"Data after encoder 'James Stein Encoder': \")\n",
    "james_stein_encoder = test_encoder(JamesSteinEncoder())"
   ],
   "metadata": {
    "collapsed": false
   }
  },
  {
   "cell_type": "code",
   "execution_count": 84,
   "outputs": [
    {
     "data": {
      "text/plain": "        buying     maint     doors   persons  lug_boot    safety\n0     1.650767  1.650767  1.604149  2.000000  1.598958  2.000000\n1     1.650767  1.650767  1.604149  2.000000  1.598958  1.307292\n2     1.650767  1.650767  1.604149  2.000000  1.598958  1.352431\n3     1.650767  1.650767  1.604149  2.000000  1.532986  2.000000\n4     1.650767  1.650767  1.604149  2.000000  1.532986  1.307292\n...        ...       ...       ...       ...       ...       ...\n1723  1.568534  1.532103  1.535986  1.357639  1.532986  1.307292\n1724  1.568534  1.532103  1.535986  1.357639  1.532986  1.352431\n1725  1.568534  1.532103  1.535986  1.357639  1.527778  2.000000\n1726  1.568534  1.532103  1.535986  1.357639  1.527778  1.307292\n1727  1.568534  1.532103  1.535986  1.357639  1.527778  1.352431\n\n[1728 rows x 6 columns]",
      "text/html": "<div>\n<style scoped>\n    .dataframe tbody tr th:only-of-type {\n        vertical-align: middle;\n    }\n\n    .dataframe tbody tr th {\n        vertical-align: top;\n    }\n\n    .dataframe thead th {\n        text-align: right;\n    }\n</style>\n<table border=\"1\" class=\"dataframe\">\n  <thead>\n    <tr style=\"text-align: right;\">\n      <th></th>\n      <th>buying</th>\n      <th>maint</th>\n      <th>doors</th>\n      <th>persons</th>\n      <th>lug_boot</th>\n      <th>safety</th>\n    </tr>\n  </thead>\n  <tbody>\n    <tr>\n      <th>0</th>\n      <td>1.650767</td>\n      <td>1.650767</td>\n      <td>1.604149</td>\n      <td>2.000000</td>\n      <td>1.598958</td>\n      <td>2.000000</td>\n    </tr>\n    <tr>\n      <th>1</th>\n      <td>1.650767</td>\n      <td>1.650767</td>\n      <td>1.604149</td>\n      <td>2.000000</td>\n      <td>1.598958</td>\n      <td>1.307292</td>\n    </tr>\n    <tr>\n      <th>2</th>\n      <td>1.650767</td>\n      <td>1.650767</td>\n      <td>1.604149</td>\n      <td>2.000000</td>\n      <td>1.598958</td>\n      <td>1.352431</td>\n    </tr>\n    <tr>\n      <th>3</th>\n      <td>1.650767</td>\n      <td>1.650767</td>\n      <td>1.604149</td>\n      <td>2.000000</td>\n      <td>1.532986</td>\n      <td>2.000000</td>\n    </tr>\n    <tr>\n      <th>4</th>\n      <td>1.650767</td>\n      <td>1.650767</td>\n      <td>1.604149</td>\n      <td>2.000000</td>\n      <td>1.532986</td>\n      <td>1.307292</td>\n    </tr>\n    <tr>\n      <th>...</th>\n      <td>...</td>\n      <td>...</td>\n      <td>...</td>\n      <td>...</td>\n      <td>...</td>\n      <td>...</td>\n    </tr>\n    <tr>\n      <th>1723</th>\n      <td>1.568534</td>\n      <td>1.532103</td>\n      <td>1.535986</td>\n      <td>1.357639</td>\n      <td>1.532986</td>\n      <td>1.307292</td>\n    </tr>\n    <tr>\n      <th>1724</th>\n      <td>1.568534</td>\n      <td>1.532103</td>\n      <td>1.535986</td>\n      <td>1.357639</td>\n      <td>1.532986</td>\n      <td>1.352431</td>\n    </tr>\n    <tr>\n      <th>1725</th>\n      <td>1.568534</td>\n      <td>1.532103</td>\n      <td>1.535986</td>\n      <td>1.357639</td>\n      <td>1.527778</td>\n      <td>2.000000</td>\n    </tr>\n    <tr>\n      <th>1726</th>\n      <td>1.568534</td>\n      <td>1.532103</td>\n      <td>1.535986</td>\n      <td>1.357639</td>\n      <td>1.527778</td>\n      <td>1.307292</td>\n    </tr>\n    <tr>\n      <th>1727</th>\n      <td>1.568534</td>\n      <td>1.532103</td>\n      <td>1.535986</td>\n      <td>1.357639</td>\n      <td>1.527778</td>\n      <td>1.352431</td>\n    </tr>\n  </tbody>\n</table>\n<p>1728 rows × 6 columns</p>\n</div>"
     },
     "execution_count": 84,
     "metadata": {},
     "output_type": "execute_result"
    }
   ],
   "source": [
    "james_stein_encoder.pop(0)"
   ],
   "metadata": {
    "collapsed": false
   }
  },
  {
   "cell_type": "code",
   "execution_count": 74,
   "outputs": [
    {
     "name": "stdout",
     "output_type": "stream",
     "text": [
      "Data after encoder 'One Hot Encoder': \n"
     ]
    }
   ],
   "source": [
    "print(\"Data after encoder 'One Hot Encoder': \")\n",
    "one_hot_encoder_result = test_encoder(OneHotEncoder())"
   ],
   "metadata": {
    "collapsed": false
   }
  },
  {
   "cell_type": "code",
   "execution_count": 85,
   "outputs": [
    {
     "data": {
      "text/plain": "      buying_1  buying_2  buying_3  buying_4  maint_1  maint_2  maint_3  \\\n0            1         0         0         0        1        0        0   \n1            1         0         0         0        1        0        0   \n2            1         0         0         0        1        0        0   \n3            1         0         0         0        1        0        0   \n4            1         0         0         0        1        0        0   \n...        ...       ...       ...       ...      ...      ...      ...   \n1723         0         0         0         1        0        0        0   \n1724         0         0         0         1        0        0        0   \n1725         0         0         0         1        0        0        0   \n1726         0         0         0         1        0        0        0   \n1727         0         0         0         1        0        0        0   \n\n      maint_4  doors_1  doors_2  ...  doors_4  persons_1  persons_2  \\\n0           0        1        0  ...        0          1          0   \n1           0        1        0  ...        0          1          0   \n2           0        1        0  ...        0          1          0   \n3           0        1        0  ...        0          1          0   \n4           0        1        0  ...        0          1          0   \n...       ...      ...      ...  ...      ...        ...        ...   \n1723        1        0        0  ...        1          0          0   \n1724        1        0        0  ...        1          0          0   \n1725        1        0        0  ...        1          0          0   \n1726        1        0        0  ...        1          0          0   \n1727        1        0        0  ...        1          0          0   \n\n      persons_3  lug_boot_1  lug_boot_2  lug_boot_3  safety_1  safety_2  \\\n0             0           1           0           0         1         0   \n1             0           1           0           0         0         1   \n2             0           1           0           0         0         0   \n3             0           0           1           0         1         0   \n4             0           0           1           0         0         1   \n...         ...         ...         ...         ...       ...       ...   \n1723          1           0           1           0         0         1   \n1724          1           0           1           0         0         0   \n1725          1           0           0           1         1         0   \n1726          1           0           0           1         0         1   \n1727          1           0           0           1         0         0   \n\n      safety_3  \n0            0  \n1            0  \n2            1  \n3            0  \n4            0  \n...        ...  \n1723         0  \n1724         1  \n1725         0  \n1726         0  \n1727         1  \n\n[1728 rows x 21 columns]",
      "text/html": "<div>\n<style scoped>\n    .dataframe tbody tr th:only-of-type {\n        vertical-align: middle;\n    }\n\n    .dataframe tbody tr th {\n        vertical-align: top;\n    }\n\n    .dataframe thead th {\n        text-align: right;\n    }\n</style>\n<table border=\"1\" class=\"dataframe\">\n  <thead>\n    <tr style=\"text-align: right;\">\n      <th></th>\n      <th>buying_1</th>\n      <th>buying_2</th>\n      <th>buying_3</th>\n      <th>buying_4</th>\n      <th>maint_1</th>\n      <th>maint_2</th>\n      <th>maint_3</th>\n      <th>maint_4</th>\n      <th>doors_1</th>\n      <th>doors_2</th>\n      <th>...</th>\n      <th>doors_4</th>\n      <th>persons_1</th>\n      <th>persons_2</th>\n      <th>persons_3</th>\n      <th>lug_boot_1</th>\n      <th>lug_boot_2</th>\n      <th>lug_boot_3</th>\n      <th>safety_1</th>\n      <th>safety_2</th>\n      <th>safety_3</th>\n    </tr>\n  </thead>\n  <tbody>\n    <tr>\n      <th>0</th>\n      <td>1</td>\n      <td>0</td>\n      <td>0</td>\n      <td>0</td>\n      <td>1</td>\n      <td>0</td>\n      <td>0</td>\n      <td>0</td>\n      <td>1</td>\n      <td>0</td>\n      <td>...</td>\n      <td>0</td>\n      <td>1</td>\n      <td>0</td>\n      <td>0</td>\n      <td>1</td>\n      <td>0</td>\n      <td>0</td>\n      <td>1</td>\n      <td>0</td>\n      <td>0</td>\n    </tr>\n    <tr>\n      <th>1</th>\n      <td>1</td>\n      <td>0</td>\n      <td>0</td>\n      <td>0</td>\n      <td>1</td>\n      <td>0</td>\n      <td>0</td>\n      <td>0</td>\n      <td>1</td>\n      <td>0</td>\n      <td>...</td>\n      <td>0</td>\n      <td>1</td>\n      <td>0</td>\n      <td>0</td>\n      <td>1</td>\n      <td>0</td>\n      <td>0</td>\n      <td>0</td>\n      <td>1</td>\n      <td>0</td>\n    </tr>\n    <tr>\n      <th>2</th>\n      <td>1</td>\n      <td>0</td>\n      <td>0</td>\n      <td>0</td>\n      <td>1</td>\n      <td>0</td>\n      <td>0</td>\n      <td>0</td>\n      <td>1</td>\n      <td>0</td>\n      <td>...</td>\n      <td>0</td>\n      <td>1</td>\n      <td>0</td>\n      <td>0</td>\n      <td>1</td>\n      <td>0</td>\n      <td>0</td>\n      <td>0</td>\n      <td>0</td>\n      <td>1</td>\n    </tr>\n    <tr>\n      <th>3</th>\n      <td>1</td>\n      <td>0</td>\n      <td>0</td>\n      <td>0</td>\n      <td>1</td>\n      <td>0</td>\n      <td>0</td>\n      <td>0</td>\n      <td>1</td>\n      <td>0</td>\n      <td>...</td>\n      <td>0</td>\n      <td>1</td>\n      <td>0</td>\n      <td>0</td>\n      <td>0</td>\n      <td>1</td>\n      <td>0</td>\n      <td>1</td>\n      <td>0</td>\n      <td>0</td>\n    </tr>\n    <tr>\n      <th>4</th>\n      <td>1</td>\n      <td>0</td>\n      <td>0</td>\n      <td>0</td>\n      <td>1</td>\n      <td>0</td>\n      <td>0</td>\n      <td>0</td>\n      <td>1</td>\n      <td>0</td>\n      <td>...</td>\n      <td>0</td>\n      <td>1</td>\n      <td>0</td>\n      <td>0</td>\n      <td>0</td>\n      <td>1</td>\n      <td>0</td>\n      <td>0</td>\n      <td>1</td>\n      <td>0</td>\n    </tr>\n    <tr>\n      <th>...</th>\n      <td>...</td>\n      <td>...</td>\n      <td>...</td>\n      <td>...</td>\n      <td>...</td>\n      <td>...</td>\n      <td>...</td>\n      <td>...</td>\n      <td>...</td>\n      <td>...</td>\n      <td>...</td>\n      <td>...</td>\n      <td>...</td>\n      <td>...</td>\n      <td>...</td>\n      <td>...</td>\n      <td>...</td>\n      <td>...</td>\n      <td>...</td>\n      <td>...</td>\n      <td>...</td>\n    </tr>\n    <tr>\n      <th>1723</th>\n      <td>0</td>\n      <td>0</td>\n      <td>0</td>\n      <td>1</td>\n      <td>0</td>\n      <td>0</td>\n      <td>0</td>\n      <td>1</td>\n      <td>0</td>\n      <td>0</td>\n      <td>...</td>\n      <td>1</td>\n      <td>0</td>\n      <td>0</td>\n      <td>1</td>\n      <td>0</td>\n      <td>1</td>\n      <td>0</td>\n      <td>0</td>\n      <td>1</td>\n      <td>0</td>\n    </tr>\n    <tr>\n      <th>1724</th>\n      <td>0</td>\n      <td>0</td>\n      <td>0</td>\n      <td>1</td>\n      <td>0</td>\n      <td>0</td>\n      <td>0</td>\n      <td>1</td>\n      <td>0</td>\n      <td>0</td>\n      <td>...</td>\n      <td>1</td>\n      <td>0</td>\n      <td>0</td>\n      <td>1</td>\n      <td>0</td>\n      <td>1</td>\n      <td>0</td>\n      <td>0</td>\n      <td>0</td>\n      <td>1</td>\n    </tr>\n    <tr>\n      <th>1725</th>\n      <td>0</td>\n      <td>0</td>\n      <td>0</td>\n      <td>1</td>\n      <td>0</td>\n      <td>0</td>\n      <td>0</td>\n      <td>1</td>\n      <td>0</td>\n      <td>0</td>\n      <td>...</td>\n      <td>1</td>\n      <td>0</td>\n      <td>0</td>\n      <td>1</td>\n      <td>0</td>\n      <td>0</td>\n      <td>1</td>\n      <td>1</td>\n      <td>0</td>\n      <td>0</td>\n    </tr>\n    <tr>\n      <th>1726</th>\n      <td>0</td>\n      <td>0</td>\n      <td>0</td>\n      <td>1</td>\n      <td>0</td>\n      <td>0</td>\n      <td>0</td>\n      <td>1</td>\n      <td>0</td>\n      <td>0</td>\n      <td>...</td>\n      <td>1</td>\n      <td>0</td>\n      <td>0</td>\n      <td>1</td>\n      <td>0</td>\n      <td>0</td>\n      <td>1</td>\n      <td>0</td>\n      <td>1</td>\n      <td>0</td>\n    </tr>\n    <tr>\n      <th>1727</th>\n      <td>0</td>\n      <td>0</td>\n      <td>0</td>\n      <td>1</td>\n      <td>0</td>\n      <td>0</td>\n      <td>0</td>\n      <td>1</td>\n      <td>0</td>\n      <td>0</td>\n      <td>...</td>\n      <td>1</td>\n      <td>0</td>\n      <td>0</td>\n      <td>1</td>\n      <td>0</td>\n      <td>0</td>\n      <td>1</td>\n      <td>0</td>\n      <td>0</td>\n      <td>1</td>\n    </tr>\n  </tbody>\n</table>\n<p>1728 rows × 21 columns</p>\n</div>"
     },
     "execution_count": 85,
     "metadata": {},
     "output_type": "execute_result"
    }
   ],
   "source": [
    "one_hot_encoder_result.pop(0)"
   ],
   "metadata": {
    "collapsed": false
   }
  },
  {
   "cell_type": "code",
   "execution_count": 75,
   "outputs": [
    {
     "name": "stdout",
     "output_type": "stream",
     "text": [
      "Data after encoder 'Backward Difference Encoder': \n"
     ]
    },
    {
     "name": "stderr",
     "output_type": "stream",
     "text": [
      "/home/monya/.local/lib/python3.10/site-packages/category_encoders/base_contrast_encoder.py:126: FutureWarning: Intercept column might not be added anymore in future releases (c.f. issue #370)\n",
      "  warnings.warn(\"Intercept column might not be added anymore in future releases (c.f. issue #370)\",\n",
      "/home/monya/.local/lib/python3.10/site-packages/category_encoders/base_contrast_encoder.py:126: FutureWarning: Intercept column might not be added anymore in future releases (c.f. issue #370)\n",
      "  warnings.warn(\"Intercept column might not be added anymore in future releases (c.f. issue #370)\",\n"
     ]
    }
   ],
   "source": [
    "print(\"Data after encoder 'Backward Difference Encoder': \")\n",
    "backward_difference_encoder = test_encoder(BackwardDifferenceEncoder())"
   ],
   "metadata": {
    "collapsed": false
   }
  },
  {
   "cell_type": "code",
   "execution_count": 86,
   "outputs": [
    {
     "data": {
      "text/plain": "      intercept  buying_0  buying_1  buying_2  maint_0  maint_1  maint_2  \\\n0             1     -0.75      -0.5     -0.25    -0.75     -0.5    -0.25   \n1             1     -0.75      -0.5     -0.25    -0.75     -0.5    -0.25   \n2             1     -0.75      -0.5     -0.25    -0.75     -0.5    -0.25   \n3             1     -0.75      -0.5     -0.25    -0.75     -0.5    -0.25   \n4             1     -0.75      -0.5     -0.25    -0.75     -0.5    -0.25   \n...         ...       ...       ...       ...      ...      ...      ...   \n1723          1      0.25       0.5      0.75     0.25      0.5     0.75   \n1724          1      0.25       0.5      0.75     0.25      0.5     0.75   \n1725          1      0.25       0.5      0.75     0.25      0.5     0.75   \n1726          1      0.25       0.5      0.75     0.25      0.5     0.75   \n1727          1      0.25       0.5      0.75     0.25      0.5     0.75   \n\n      doors_0  doors_1  doors_2  persons_0  persons_1  lug_boot_0  lug_boot_1  \\\n0       -0.75     -0.5    -0.25  -0.666667  -0.333333   -0.666667   -0.333333   \n1       -0.75     -0.5    -0.25  -0.666667  -0.333333   -0.666667   -0.333333   \n2       -0.75     -0.5    -0.25  -0.666667  -0.333333   -0.666667   -0.333333   \n3       -0.75     -0.5    -0.25  -0.666667  -0.333333    0.333333   -0.333333   \n4       -0.75     -0.5    -0.25  -0.666667  -0.333333    0.333333   -0.333333   \n...       ...      ...      ...        ...        ...         ...         ...   \n1723     0.25      0.5     0.75   0.333333   0.666667    0.333333   -0.333333   \n1724     0.25      0.5     0.75   0.333333   0.666667    0.333333   -0.333333   \n1725     0.25      0.5     0.75   0.333333   0.666667    0.333333    0.666667   \n1726     0.25      0.5     0.75   0.333333   0.666667    0.333333    0.666667   \n1727     0.25      0.5     0.75   0.333333   0.666667    0.333333    0.666667   \n\n      safety_0  safety_1  \n0    -0.666667 -0.333333  \n1     0.333333 -0.333333  \n2     0.333333  0.666667  \n3    -0.666667 -0.333333  \n4     0.333333 -0.333333  \n...        ...       ...  \n1723  0.333333 -0.333333  \n1724  0.333333  0.666667  \n1725 -0.666667 -0.333333  \n1726  0.333333 -0.333333  \n1727  0.333333  0.666667  \n\n[1728 rows x 16 columns]",
      "text/html": "<div>\n<style scoped>\n    .dataframe tbody tr th:only-of-type {\n        vertical-align: middle;\n    }\n\n    .dataframe tbody tr th {\n        vertical-align: top;\n    }\n\n    .dataframe thead th {\n        text-align: right;\n    }\n</style>\n<table border=\"1\" class=\"dataframe\">\n  <thead>\n    <tr style=\"text-align: right;\">\n      <th></th>\n      <th>intercept</th>\n      <th>buying_0</th>\n      <th>buying_1</th>\n      <th>buying_2</th>\n      <th>maint_0</th>\n      <th>maint_1</th>\n      <th>maint_2</th>\n      <th>doors_0</th>\n      <th>doors_1</th>\n      <th>doors_2</th>\n      <th>persons_0</th>\n      <th>persons_1</th>\n      <th>lug_boot_0</th>\n      <th>lug_boot_1</th>\n      <th>safety_0</th>\n      <th>safety_1</th>\n    </tr>\n  </thead>\n  <tbody>\n    <tr>\n      <th>0</th>\n      <td>1</td>\n      <td>-0.75</td>\n      <td>-0.5</td>\n      <td>-0.25</td>\n      <td>-0.75</td>\n      <td>-0.5</td>\n      <td>-0.25</td>\n      <td>-0.75</td>\n      <td>-0.5</td>\n      <td>-0.25</td>\n      <td>-0.666667</td>\n      <td>-0.333333</td>\n      <td>-0.666667</td>\n      <td>-0.333333</td>\n      <td>-0.666667</td>\n      <td>-0.333333</td>\n    </tr>\n    <tr>\n      <th>1</th>\n      <td>1</td>\n      <td>-0.75</td>\n      <td>-0.5</td>\n      <td>-0.25</td>\n      <td>-0.75</td>\n      <td>-0.5</td>\n      <td>-0.25</td>\n      <td>-0.75</td>\n      <td>-0.5</td>\n      <td>-0.25</td>\n      <td>-0.666667</td>\n      <td>-0.333333</td>\n      <td>-0.666667</td>\n      <td>-0.333333</td>\n      <td>0.333333</td>\n      <td>-0.333333</td>\n    </tr>\n    <tr>\n      <th>2</th>\n      <td>1</td>\n      <td>-0.75</td>\n      <td>-0.5</td>\n      <td>-0.25</td>\n      <td>-0.75</td>\n      <td>-0.5</td>\n      <td>-0.25</td>\n      <td>-0.75</td>\n      <td>-0.5</td>\n      <td>-0.25</td>\n      <td>-0.666667</td>\n      <td>-0.333333</td>\n      <td>-0.666667</td>\n      <td>-0.333333</td>\n      <td>0.333333</td>\n      <td>0.666667</td>\n    </tr>\n    <tr>\n      <th>3</th>\n      <td>1</td>\n      <td>-0.75</td>\n      <td>-0.5</td>\n      <td>-0.25</td>\n      <td>-0.75</td>\n      <td>-0.5</td>\n      <td>-0.25</td>\n      <td>-0.75</td>\n      <td>-0.5</td>\n      <td>-0.25</td>\n      <td>-0.666667</td>\n      <td>-0.333333</td>\n      <td>0.333333</td>\n      <td>-0.333333</td>\n      <td>-0.666667</td>\n      <td>-0.333333</td>\n    </tr>\n    <tr>\n      <th>4</th>\n      <td>1</td>\n      <td>-0.75</td>\n      <td>-0.5</td>\n      <td>-0.25</td>\n      <td>-0.75</td>\n      <td>-0.5</td>\n      <td>-0.25</td>\n      <td>-0.75</td>\n      <td>-0.5</td>\n      <td>-0.25</td>\n      <td>-0.666667</td>\n      <td>-0.333333</td>\n      <td>0.333333</td>\n      <td>-0.333333</td>\n      <td>0.333333</td>\n      <td>-0.333333</td>\n    </tr>\n    <tr>\n      <th>...</th>\n      <td>...</td>\n      <td>...</td>\n      <td>...</td>\n      <td>...</td>\n      <td>...</td>\n      <td>...</td>\n      <td>...</td>\n      <td>...</td>\n      <td>...</td>\n      <td>...</td>\n      <td>...</td>\n      <td>...</td>\n      <td>...</td>\n      <td>...</td>\n      <td>...</td>\n      <td>...</td>\n    </tr>\n    <tr>\n      <th>1723</th>\n      <td>1</td>\n      <td>0.25</td>\n      <td>0.5</td>\n      <td>0.75</td>\n      <td>0.25</td>\n      <td>0.5</td>\n      <td>0.75</td>\n      <td>0.25</td>\n      <td>0.5</td>\n      <td>0.75</td>\n      <td>0.333333</td>\n      <td>0.666667</td>\n      <td>0.333333</td>\n      <td>-0.333333</td>\n      <td>0.333333</td>\n      <td>-0.333333</td>\n    </tr>\n    <tr>\n      <th>1724</th>\n      <td>1</td>\n      <td>0.25</td>\n      <td>0.5</td>\n      <td>0.75</td>\n      <td>0.25</td>\n      <td>0.5</td>\n      <td>0.75</td>\n      <td>0.25</td>\n      <td>0.5</td>\n      <td>0.75</td>\n      <td>0.333333</td>\n      <td>0.666667</td>\n      <td>0.333333</td>\n      <td>-0.333333</td>\n      <td>0.333333</td>\n      <td>0.666667</td>\n    </tr>\n    <tr>\n      <th>1725</th>\n      <td>1</td>\n      <td>0.25</td>\n      <td>0.5</td>\n      <td>0.75</td>\n      <td>0.25</td>\n      <td>0.5</td>\n      <td>0.75</td>\n      <td>0.25</td>\n      <td>0.5</td>\n      <td>0.75</td>\n      <td>0.333333</td>\n      <td>0.666667</td>\n      <td>0.333333</td>\n      <td>0.666667</td>\n      <td>-0.666667</td>\n      <td>-0.333333</td>\n    </tr>\n    <tr>\n      <th>1726</th>\n      <td>1</td>\n      <td>0.25</td>\n      <td>0.5</td>\n      <td>0.75</td>\n      <td>0.25</td>\n      <td>0.5</td>\n      <td>0.75</td>\n      <td>0.25</td>\n      <td>0.5</td>\n      <td>0.75</td>\n      <td>0.333333</td>\n      <td>0.666667</td>\n      <td>0.333333</td>\n      <td>0.666667</td>\n      <td>0.333333</td>\n      <td>-0.333333</td>\n    </tr>\n    <tr>\n      <th>1727</th>\n      <td>1</td>\n      <td>0.25</td>\n      <td>0.5</td>\n      <td>0.75</td>\n      <td>0.25</td>\n      <td>0.5</td>\n      <td>0.75</td>\n      <td>0.25</td>\n      <td>0.5</td>\n      <td>0.75</td>\n      <td>0.333333</td>\n      <td>0.666667</td>\n      <td>0.333333</td>\n      <td>0.666667</td>\n      <td>0.333333</td>\n      <td>0.666667</td>\n    </tr>\n  </tbody>\n</table>\n<p>1728 rows × 16 columns</p>\n</div>"
     },
     "execution_count": 86,
     "metadata": {},
     "output_type": "execute_result"
    }
   ],
   "source": [
    "backward_difference_encoder.pop(0)"
   ],
   "metadata": {
    "collapsed": false
   }
  },
  {
   "cell_type": "code",
   "execution_count": 76,
   "outputs": [
    {
     "name": "stdout",
     "output_type": "stream",
     "text": [
      "Data after encoder 'GLMMEncoder': \n"
     ]
    }
   ],
   "source": [
    "print(\"Data after encoder 'GLMMEncoder': \")\n",
    "GLMM_encoder_result = test_encoder(GLMMEncoder())"
   ],
   "metadata": {
    "collapsed": false
   }
  },
  {
   "cell_type": "code",
   "execution_count": 87,
   "outputs": [
    {
     "data": {
      "text/plain": "        buying     maint     doors   persons  lug_boot    safety\n0     0.086404  0.083039  0.001264  0.443318  0.043410  0.443312\n1     0.086404  0.083039  0.001264  0.443318  0.043410 -0.244051\n2     0.086404  0.083039  0.001264  0.443318  0.043410 -0.199261\n3     0.086404  0.083039  0.001264  0.443318 -0.019232  0.443312\n4     0.086404  0.083039  0.001264  0.443318 -0.019232 -0.244051\n...        ...       ...       ...       ...       ...       ...\n1723  0.014107 -0.018641 -0.000438 -0.194095 -0.019232 -0.244051\n1724  0.014107 -0.018641 -0.000438 -0.194095 -0.019232 -0.199261\n1725  0.014107 -0.018641 -0.000438 -0.194095 -0.024178  0.443312\n1726  0.014107 -0.018641 -0.000438 -0.194095 -0.024178 -0.244051\n1727  0.014107 -0.018641 -0.000438 -0.194095 -0.024178 -0.199261\n\n[1728 rows x 6 columns]",
      "text/html": "<div>\n<style scoped>\n    .dataframe tbody tr th:only-of-type {\n        vertical-align: middle;\n    }\n\n    .dataframe tbody tr th {\n        vertical-align: top;\n    }\n\n    .dataframe thead th {\n        text-align: right;\n    }\n</style>\n<table border=\"1\" class=\"dataframe\">\n  <thead>\n    <tr style=\"text-align: right;\">\n      <th></th>\n      <th>buying</th>\n      <th>maint</th>\n      <th>doors</th>\n      <th>persons</th>\n      <th>lug_boot</th>\n      <th>safety</th>\n    </tr>\n  </thead>\n  <tbody>\n    <tr>\n      <th>0</th>\n      <td>0.086404</td>\n      <td>0.083039</td>\n      <td>0.001264</td>\n      <td>0.443318</td>\n      <td>0.043410</td>\n      <td>0.443312</td>\n    </tr>\n    <tr>\n      <th>1</th>\n      <td>0.086404</td>\n      <td>0.083039</td>\n      <td>0.001264</td>\n      <td>0.443318</td>\n      <td>0.043410</td>\n      <td>-0.244051</td>\n    </tr>\n    <tr>\n      <th>2</th>\n      <td>0.086404</td>\n      <td>0.083039</td>\n      <td>0.001264</td>\n      <td>0.443318</td>\n      <td>0.043410</td>\n      <td>-0.199261</td>\n    </tr>\n    <tr>\n      <th>3</th>\n      <td>0.086404</td>\n      <td>0.083039</td>\n      <td>0.001264</td>\n      <td>0.443318</td>\n      <td>-0.019232</td>\n      <td>0.443312</td>\n    </tr>\n    <tr>\n      <th>4</th>\n      <td>0.086404</td>\n      <td>0.083039</td>\n      <td>0.001264</td>\n      <td>0.443318</td>\n      <td>-0.019232</td>\n      <td>-0.244051</td>\n    </tr>\n    <tr>\n      <th>...</th>\n      <td>...</td>\n      <td>...</td>\n      <td>...</td>\n      <td>...</td>\n      <td>...</td>\n      <td>...</td>\n    </tr>\n    <tr>\n      <th>1723</th>\n      <td>0.014107</td>\n      <td>-0.018641</td>\n      <td>-0.000438</td>\n      <td>-0.194095</td>\n      <td>-0.019232</td>\n      <td>-0.244051</td>\n    </tr>\n    <tr>\n      <th>1724</th>\n      <td>0.014107</td>\n      <td>-0.018641</td>\n      <td>-0.000438</td>\n      <td>-0.194095</td>\n      <td>-0.019232</td>\n      <td>-0.199261</td>\n    </tr>\n    <tr>\n      <th>1725</th>\n      <td>0.014107</td>\n      <td>-0.018641</td>\n      <td>-0.000438</td>\n      <td>-0.194095</td>\n      <td>-0.024178</td>\n      <td>0.443312</td>\n    </tr>\n    <tr>\n      <th>1726</th>\n      <td>0.014107</td>\n      <td>-0.018641</td>\n      <td>-0.000438</td>\n      <td>-0.194095</td>\n      <td>-0.024178</td>\n      <td>-0.244051</td>\n    </tr>\n    <tr>\n      <th>1727</th>\n      <td>0.014107</td>\n      <td>-0.018641</td>\n      <td>-0.000438</td>\n      <td>-0.194095</td>\n      <td>-0.024178</td>\n      <td>-0.199261</td>\n    </tr>\n  </tbody>\n</table>\n<p>1728 rows × 6 columns</p>\n</div>"
     },
     "execution_count": 87,
     "metadata": {},
     "output_type": "execute_result"
    }
   ],
   "source": [
    "GLMM_encoder_result.pop(0)"
   ],
   "metadata": {
    "collapsed": false
   }
  },
  {
   "cell_type": "code",
   "execution_count": 77,
   "outputs": [
    {
     "name": "stdout",
     "output_type": "stream",
     "text": [
      "Data after encoder 'Polynomial Encoder': \n"
     ]
    },
    {
     "name": "stderr",
     "output_type": "stream",
     "text": [
      "/home/monya/.local/lib/python3.10/site-packages/category_encoders/base_contrast_encoder.py:126: FutureWarning: Intercept column might not be added anymore in future releases (c.f. issue #370)\n",
      "  warnings.warn(\"Intercept column might not be added anymore in future releases (c.f. issue #370)\",\n",
      "/home/monya/.local/lib/python3.10/site-packages/category_encoders/base_contrast_encoder.py:126: FutureWarning: Intercept column might not be added anymore in future releases (c.f. issue #370)\n",
      "  warnings.warn(\"Intercept column might not be added anymore in future releases (c.f. issue #370)\",\n"
     ]
    }
   ],
   "source": [
    "print(\"Data after encoder 'Polynomial Encoder': \")\n",
    "Polynomial_encoder_result = test_encoder(PolynomialEncoder())"
   ],
   "metadata": {
    "collapsed": false
   }
  },
  {
   "cell_type": "code",
   "execution_count": 88,
   "outputs": [
    {
     "data": {
      "text/plain": "      intercept  buying_0  buying_1  buying_2  maint_0  maint_1   maint_2  \\\n0             1  -0.67082       0.5 -0.223607 -0.67082      0.5 -0.223607   \n1             1  -0.67082       0.5 -0.223607 -0.67082      0.5 -0.223607   \n2             1  -0.67082       0.5 -0.223607 -0.67082      0.5 -0.223607   \n3             1  -0.67082       0.5 -0.223607 -0.67082      0.5 -0.223607   \n4             1  -0.67082       0.5 -0.223607 -0.67082      0.5 -0.223607   \n...         ...       ...       ...       ...      ...      ...       ...   \n1723          1   0.67082       0.5  0.223607  0.67082      0.5  0.223607   \n1724          1   0.67082       0.5  0.223607  0.67082      0.5  0.223607   \n1725          1   0.67082       0.5  0.223607  0.67082      0.5  0.223607   \n1726          1   0.67082       0.5  0.223607  0.67082      0.5  0.223607   \n1727          1   0.67082       0.5  0.223607  0.67082      0.5  0.223607   \n\n      doors_0  doors_1   doors_2  persons_0  persons_1    lug_boot_0  \\\n0    -0.67082      0.5 -0.223607  -0.707107   0.408248 -7.071068e-01   \n1    -0.67082      0.5 -0.223607  -0.707107   0.408248 -7.071068e-01   \n2    -0.67082      0.5 -0.223607  -0.707107   0.408248 -7.071068e-01   \n3    -0.67082      0.5 -0.223607  -0.707107   0.408248 -5.551115e-17   \n4    -0.67082      0.5 -0.223607  -0.707107   0.408248 -5.551115e-17   \n...       ...      ...       ...        ...        ...           ...   \n1723  0.67082      0.5  0.223607   0.707107   0.408248 -5.551115e-17   \n1724  0.67082      0.5  0.223607   0.707107   0.408248 -5.551115e-17   \n1725  0.67082      0.5  0.223607   0.707107   0.408248  7.071068e-01   \n1726  0.67082      0.5  0.223607   0.707107   0.408248  7.071068e-01   \n1727  0.67082      0.5  0.223607   0.707107   0.408248  7.071068e-01   \n\n      lug_boot_1      safety_0  safety_1  \n0       0.408248 -7.071068e-01  0.408248  \n1       0.408248 -5.551115e-17 -0.816497  \n2       0.408248  7.071068e-01  0.408248  \n3      -0.816497 -7.071068e-01  0.408248  \n4      -0.816497 -5.551115e-17 -0.816497  \n...          ...           ...       ...  \n1723   -0.816497 -5.551115e-17 -0.816497  \n1724   -0.816497  7.071068e-01  0.408248  \n1725    0.408248 -7.071068e-01  0.408248  \n1726    0.408248 -5.551115e-17 -0.816497  \n1727    0.408248  7.071068e-01  0.408248  \n\n[1728 rows x 16 columns]",
      "text/html": "<div>\n<style scoped>\n    .dataframe tbody tr th:only-of-type {\n        vertical-align: middle;\n    }\n\n    .dataframe tbody tr th {\n        vertical-align: top;\n    }\n\n    .dataframe thead th {\n        text-align: right;\n    }\n</style>\n<table border=\"1\" class=\"dataframe\">\n  <thead>\n    <tr style=\"text-align: right;\">\n      <th></th>\n      <th>intercept</th>\n      <th>buying_0</th>\n      <th>buying_1</th>\n      <th>buying_2</th>\n      <th>maint_0</th>\n      <th>maint_1</th>\n      <th>maint_2</th>\n      <th>doors_0</th>\n      <th>doors_1</th>\n      <th>doors_2</th>\n      <th>persons_0</th>\n      <th>persons_1</th>\n      <th>lug_boot_0</th>\n      <th>lug_boot_1</th>\n      <th>safety_0</th>\n      <th>safety_1</th>\n    </tr>\n  </thead>\n  <tbody>\n    <tr>\n      <th>0</th>\n      <td>1</td>\n      <td>-0.67082</td>\n      <td>0.5</td>\n      <td>-0.223607</td>\n      <td>-0.67082</td>\n      <td>0.5</td>\n      <td>-0.223607</td>\n      <td>-0.67082</td>\n      <td>0.5</td>\n      <td>-0.223607</td>\n      <td>-0.707107</td>\n      <td>0.408248</td>\n      <td>-7.071068e-01</td>\n      <td>0.408248</td>\n      <td>-7.071068e-01</td>\n      <td>0.408248</td>\n    </tr>\n    <tr>\n      <th>1</th>\n      <td>1</td>\n      <td>-0.67082</td>\n      <td>0.5</td>\n      <td>-0.223607</td>\n      <td>-0.67082</td>\n      <td>0.5</td>\n      <td>-0.223607</td>\n      <td>-0.67082</td>\n      <td>0.5</td>\n      <td>-0.223607</td>\n      <td>-0.707107</td>\n      <td>0.408248</td>\n      <td>-7.071068e-01</td>\n      <td>0.408248</td>\n      <td>-5.551115e-17</td>\n      <td>-0.816497</td>\n    </tr>\n    <tr>\n      <th>2</th>\n      <td>1</td>\n      <td>-0.67082</td>\n      <td>0.5</td>\n      <td>-0.223607</td>\n      <td>-0.67082</td>\n      <td>0.5</td>\n      <td>-0.223607</td>\n      <td>-0.67082</td>\n      <td>0.5</td>\n      <td>-0.223607</td>\n      <td>-0.707107</td>\n      <td>0.408248</td>\n      <td>-7.071068e-01</td>\n      <td>0.408248</td>\n      <td>7.071068e-01</td>\n      <td>0.408248</td>\n    </tr>\n    <tr>\n      <th>3</th>\n      <td>1</td>\n      <td>-0.67082</td>\n      <td>0.5</td>\n      <td>-0.223607</td>\n      <td>-0.67082</td>\n      <td>0.5</td>\n      <td>-0.223607</td>\n      <td>-0.67082</td>\n      <td>0.5</td>\n      <td>-0.223607</td>\n      <td>-0.707107</td>\n      <td>0.408248</td>\n      <td>-5.551115e-17</td>\n      <td>-0.816497</td>\n      <td>-7.071068e-01</td>\n      <td>0.408248</td>\n    </tr>\n    <tr>\n      <th>4</th>\n      <td>1</td>\n      <td>-0.67082</td>\n      <td>0.5</td>\n      <td>-0.223607</td>\n      <td>-0.67082</td>\n      <td>0.5</td>\n      <td>-0.223607</td>\n      <td>-0.67082</td>\n      <td>0.5</td>\n      <td>-0.223607</td>\n      <td>-0.707107</td>\n      <td>0.408248</td>\n      <td>-5.551115e-17</td>\n      <td>-0.816497</td>\n      <td>-5.551115e-17</td>\n      <td>-0.816497</td>\n    </tr>\n    <tr>\n      <th>...</th>\n      <td>...</td>\n      <td>...</td>\n      <td>...</td>\n      <td>...</td>\n      <td>...</td>\n      <td>...</td>\n      <td>...</td>\n      <td>...</td>\n      <td>...</td>\n      <td>...</td>\n      <td>...</td>\n      <td>...</td>\n      <td>...</td>\n      <td>...</td>\n      <td>...</td>\n      <td>...</td>\n    </tr>\n    <tr>\n      <th>1723</th>\n      <td>1</td>\n      <td>0.67082</td>\n      <td>0.5</td>\n      <td>0.223607</td>\n      <td>0.67082</td>\n      <td>0.5</td>\n      <td>0.223607</td>\n      <td>0.67082</td>\n      <td>0.5</td>\n      <td>0.223607</td>\n      <td>0.707107</td>\n      <td>0.408248</td>\n      <td>-5.551115e-17</td>\n      <td>-0.816497</td>\n      <td>-5.551115e-17</td>\n      <td>-0.816497</td>\n    </tr>\n    <tr>\n      <th>1724</th>\n      <td>1</td>\n      <td>0.67082</td>\n      <td>0.5</td>\n      <td>0.223607</td>\n      <td>0.67082</td>\n      <td>0.5</td>\n      <td>0.223607</td>\n      <td>0.67082</td>\n      <td>0.5</td>\n      <td>0.223607</td>\n      <td>0.707107</td>\n      <td>0.408248</td>\n      <td>-5.551115e-17</td>\n      <td>-0.816497</td>\n      <td>7.071068e-01</td>\n      <td>0.408248</td>\n    </tr>\n    <tr>\n      <th>1725</th>\n      <td>1</td>\n      <td>0.67082</td>\n      <td>0.5</td>\n      <td>0.223607</td>\n      <td>0.67082</td>\n      <td>0.5</td>\n      <td>0.223607</td>\n      <td>0.67082</td>\n      <td>0.5</td>\n      <td>0.223607</td>\n      <td>0.707107</td>\n      <td>0.408248</td>\n      <td>7.071068e-01</td>\n      <td>0.408248</td>\n      <td>-7.071068e-01</td>\n      <td>0.408248</td>\n    </tr>\n    <tr>\n      <th>1726</th>\n      <td>1</td>\n      <td>0.67082</td>\n      <td>0.5</td>\n      <td>0.223607</td>\n      <td>0.67082</td>\n      <td>0.5</td>\n      <td>0.223607</td>\n      <td>0.67082</td>\n      <td>0.5</td>\n      <td>0.223607</td>\n      <td>0.707107</td>\n      <td>0.408248</td>\n      <td>7.071068e-01</td>\n      <td>0.408248</td>\n      <td>-5.551115e-17</td>\n      <td>-0.816497</td>\n    </tr>\n    <tr>\n      <th>1727</th>\n      <td>1</td>\n      <td>0.67082</td>\n      <td>0.5</td>\n      <td>0.223607</td>\n      <td>0.67082</td>\n      <td>0.5</td>\n      <td>0.223607</td>\n      <td>0.67082</td>\n      <td>0.5</td>\n      <td>0.223607</td>\n      <td>0.707107</td>\n      <td>0.408248</td>\n      <td>7.071068e-01</td>\n      <td>0.408248</td>\n      <td>7.071068e-01</td>\n      <td>0.408248</td>\n    </tr>\n  </tbody>\n</table>\n<p>1728 rows × 16 columns</p>\n</div>"
     },
     "execution_count": 88,
     "metadata": {},
     "output_type": "execute_result"
    }
   ],
   "source": [
    "Polynomial_encoder_result.pop(0)"
   ],
   "metadata": {
    "collapsed": false
   }
  },
  {
   "cell_type": "code",
   "execution_count": 94,
   "outputs": [],
   "source": [
    "results = pd.DataFrame([target_encoder_result,sum_encoder_result,m_estimator_encoder_result,leave_one_out_encoder_result,helmert_encoder_result,cat_boost_encoder_result,james_stein_encoder,one_hot_encoder_result,backward_difference_encoder,GLMM_encoder_result,Polynomial_encoder_result],columns=[\"MSE\",\"Precision\",\"Recall\",\"Accuracy\",\"Balanced accuracy\"],index=[\"TargetEncoder\",\"SumEncoder\",\"MEstimateEncoder\",\"LeaveOneOutEncoder\",\"HelmertEncoder\",\"CatBoostEncoder\",\"JamesSteinEncoder\",\"OneHotEncoder\",\"BackwardDifferenceEncoder\",\"GLMMEncoder\",\"PolynomialEncoder\"])"
   ],
   "metadata": {
    "collapsed": false
   }
  },
  {
   "cell_type": "code",
   "execution_count": 95,
   "outputs": [
    {
     "data": {
      "text/plain": "                                MSE  Precision  Recall  Accuracy  \\\nTargetEncoder              0.166667       0.96    0.96      0.96   \nSumEncoder                 0.364035       0.89    0.89      0.89   \nMEstimateEncoder           0.078947       0.97    0.97      0.97   \nLeaveOneOutEncoder         0.188596       0.95    0.95      0.95   \nHelmertEncoder             0.557018       0.80    0.82      0.82   \nCatBoostEncoder            0.105263       0.96    0.96      0.96   \nJamesSteinEncoder          0.188596       0.96    0.95      0.95   \nOneHotEncoder              0.293860       0.91    0.91      0.91   \nBackwardDifferenceEncoder  0.026316       0.99    0.99      0.99   \nGLMMEncoder                0.166667       0.97    0.97      0.97   \nPolynomialEncoder          0.241228       0.94    0.93      0.93   \n\n                           Balanced accuracy  \nTargetEncoder                           0.90  \nSumEncoder                              0.64  \nMEstimateEncoder                        0.92  \nLeaveOneOutEncoder                      0.79  \nHelmertEncoder                          0.55  \nCatBoostEncoder                         0.91  \nJamesSteinEncoder                       0.93  \nOneHotEncoder                           0.69  \nBackwardDifferenceEncoder               0.94  \nGLMMEncoder                             0.96  \nPolynomialEncoder                       0.74  ",
      "text/html": "<div>\n<style scoped>\n    .dataframe tbody tr th:only-of-type {\n        vertical-align: middle;\n    }\n\n    .dataframe tbody tr th {\n        vertical-align: top;\n    }\n\n    .dataframe thead th {\n        text-align: right;\n    }\n</style>\n<table border=\"1\" class=\"dataframe\">\n  <thead>\n    <tr style=\"text-align: right;\">\n      <th></th>\n      <th>MSE</th>\n      <th>Precision</th>\n      <th>Recall</th>\n      <th>Accuracy</th>\n      <th>Balanced accuracy</th>\n    </tr>\n  </thead>\n  <tbody>\n    <tr>\n      <th>TargetEncoder</th>\n      <td>0.166667</td>\n      <td>0.96</td>\n      <td>0.96</td>\n      <td>0.96</td>\n      <td>0.90</td>\n    </tr>\n    <tr>\n      <th>SumEncoder</th>\n      <td>0.364035</td>\n      <td>0.89</td>\n      <td>0.89</td>\n      <td>0.89</td>\n      <td>0.64</td>\n    </tr>\n    <tr>\n      <th>MEstimateEncoder</th>\n      <td>0.078947</td>\n      <td>0.97</td>\n      <td>0.97</td>\n      <td>0.97</td>\n      <td>0.92</td>\n    </tr>\n    <tr>\n      <th>LeaveOneOutEncoder</th>\n      <td>0.188596</td>\n      <td>0.95</td>\n      <td>0.95</td>\n      <td>0.95</td>\n      <td>0.79</td>\n    </tr>\n    <tr>\n      <th>HelmertEncoder</th>\n      <td>0.557018</td>\n      <td>0.80</td>\n      <td>0.82</td>\n      <td>0.82</td>\n      <td>0.55</td>\n    </tr>\n    <tr>\n      <th>CatBoostEncoder</th>\n      <td>0.105263</td>\n      <td>0.96</td>\n      <td>0.96</td>\n      <td>0.96</td>\n      <td>0.91</td>\n    </tr>\n    <tr>\n      <th>JamesSteinEncoder</th>\n      <td>0.188596</td>\n      <td>0.96</td>\n      <td>0.95</td>\n      <td>0.95</td>\n      <td>0.93</td>\n    </tr>\n    <tr>\n      <th>OneHotEncoder</th>\n      <td>0.293860</td>\n      <td>0.91</td>\n      <td>0.91</td>\n      <td>0.91</td>\n      <td>0.69</td>\n    </tr>\n    <tr>\n      <th>BackwardDifferenceEncoder</th>\n      <td>0.026316</td>\n      <td>0.99</td>\n      <td>0.99</td>\n      <td>0.99</td>\n      <td>0.94</td>\n    </tr>\n    <tr>\n      <th>GLMMEncoder</th>\n      <td>0.166667</td>\n      <td>0.97</td>\n      <td>0.97</td>\n      <td>0.97</td>\n      <td>0.96</td>\n    </tr>\n    <tr>\n      <th>PolynomialEncoder</th>\n      <td>0.241228</td>\n      <td>0.94</td>\n      <td>0.93</td>\n      <td>0.93</td>\n      <td>0.74</td>\n    </tr>\n  </tbody>\n</table>\n</div>"
     },
     "execution_count": 95,
     "metadata": {},
     "output_type": "execute_result"
    }
   ],
   "source": [
    "results"
   ],
   "metadata": {
    "collapsed": false
   }
  },
  {
   "cell_type": "code",
   "execution_count": 97,
   "outputs": [
    {
     "data": {
      "text/plain": "<AxesSubplot: xlabel='MSE', ylabel='Count'>"
     },
     "execution_count": 97,
     "metadata": {},
     "output_type": "execute_result"
    },
    {
     "data": {
      "text/plain": "<Figure size 640x480 with 1 Axes>",
      "image/png": "[encoded data removed]"
     },
     "metadata": {},
     "output_type": "display_data"
    }
   ],
   "source": [
    "sns.histplot(results[\"MSE\"])"
   ],
   "metadata": {
    "collapsed": false
   }
  },
  {
   "cell_type": "code",
   "execution_count": 98,
   "outputs": [
    {
     "data": {
      "text/plain": "<AxesSubplot: >"
     },
     "execution_count": 98,
     "metadata": {},
     "output_type": "execute_result"
    },
    {
     "data": {
      "text/plain": "<Figure size 640x480 with 2 Axes>",
      "image/png": "[encoded data removed]"
     },
     "metadata": {},
     "output_type": "display_data"
    }
   ],
   "source": [
    "sns.displot()"
   ],
   "metadata": {
    "collapsed": false
   }
  }
 ],
 "metadata": {
  "anaconda-cloud": {},
  "kernelspec": {
   "display_name": "Python 3",
   "language": "python",
   "name": "python3"
  },
  "language_info": {
   "codemirror_mode": {
    "name": "ipython",
    "version": 3
   },
   "file_extension": ".py",
   "mimetype": "text/x-python",
   "name": "python",
   "nbconvert_exporter": "python",
   "pygments_lexer": "ipython3",
   "version": "3.6.6"
  }
 },
 "nbformat": 4,
 "nbformat_minor": 1
}
