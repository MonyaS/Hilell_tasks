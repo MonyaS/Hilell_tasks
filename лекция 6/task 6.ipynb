{
 "cells": [
  {
   "cell_type": "code",
   "execution_count": 2,
   "metadata": {},
   "outputs": [],
   "source": [
    "import numpy as np\n",
    "import pandas as pd\n",
    "import seaborn as sns\n",
    "from sklearn import preprocessing,svm\n",
    "from sklearn.model_selection import  train_test_split, cross_validate\n",
    "from sklearn.linear_model import Lasso, SGDRegressor, Ridge, LinearRegression\n",
    "from sklearn.metrics import mean_squared_error\n",
    "from sklearn.model_selection import GridSearchCV\n",
    "from sklearn.pipeline import make_pipeline\n",
    "sns.set()"
   ]
  },
  {
   "cell_type": "markdown",
   "source": [
    "Загрузка данных первого сета."
   ],
   "metadata": {
    "collapsed": false
   }
  },
  {
   "cell_type": "code",
   "execution_count": 3,
   "outputs": [],
   "source": [
    "abalone = pd.read_csv('abalone.data',names=[\"Sex\",\"Length\",\"Diameter\",\"Height\",\"Whole weight\",\"Shucked weight\",\"Viscera weight\",\"Shell weight\",\"Rings\"])\n",
    "#Смотрим основные параметры."
   ],
   "metadata": {
    "collapsed": false
   }
  },
  {
   "cell_type": "markdown",
   "source": [],
   "metadata": {
    "collapsed": false
   }
  },
  {
   "cell_type": "markdown",
   "source": [
    "Оцениваем что в дата-сете есть, и с чем прийдется иметь дело."
   ],
   "metadata": {
    "collapsed": false
   }
  },
  {
   "cell_type": "code",
   "execution_count": 4,
   "outputs": [
    {
     "data": {
      "text/plain": "   Sex  Length  Diameter  Height  Whole weight  Shucked weight  \\\n0    M   0.455     0.365   0.095        0.5140          0.2245   \n1    M   0.350     0.265   0.090        0.2255          0.0995   \n2    F   0.530     0.420   0.135        0.6770          0.2565   \n3    M   0.440     0.365   0.125        0.5160          0.2155   \n4    I   0.330     0.255   0.080        0.2050          0.0895   \n..  ..     ...       ...     ...           ...             ...   \n95   M   0.665     0.535   0.195        1.6060          0.5755   \n96   M   0.535     0.435   0.150        0.7250          0.2690   \n97   M   0.470     0.375   0.130        0.5230          0.2140   \n98   M   0.470     0.370   0.130        0.5225          0.2010   \n99   F   0.475     0.375   0.125        0.5785          0.2775   \n\n    Viscera weight  Shell weight  Rings  \n0           0.1010         0.150     15  \n1           0.0485         0.070      7  \n2           0.1415         0.210      9  \n3           0.1140         0.155     10  \n4           0.0395         0.055      7  \n..             ...           ...    ...  \n95          0.3880         0.480     14  \n96          0.1385         0.250      9  \n97          0.1320         0.145      8  \n98          0.1330         0.165      7  \n99          0.0850         0.155     10  \n\n[100 rows x 9 columns]",
      "text/html": "<div>\n<style scoped>\n    .dataframe tbody tr th:only-of-type {\n        vertical-align: middle;\n    }\n\n    .dataframe tbody tr th {\n        vertical-align: top;\n    }\n\n    .dataframe thead th {\n        text-align: right;\n    }\n</style>\n<table border=\"1\" class=\"dataframe\">\n  <thead>\n    <tr style=\"text-align: right;\">\n      <th></th>\n      <th>Sex</th>\n      <th>Length</th>\n      <th>Diameter</th>\n      <th>Height</th>\n      <th>Whole weight</th>\n      <th>Shucked weight</th>\n      <th>Viscera weight</th>\n      <th>Shell weight</th>\n      <th>Rings</th>\n    </tr>\n  </thead>\n  <tbody>\n    <tr>\n      <th>0</th>\n      <td>M</td>\n      <td>0.455</td>\n      <td>0.365</td>\n      <td>0.095</td>\n      <td>0.5140</td>\n      <td>0.2245</td>\n      <td>0.1010</td>\n      <td>0.150</td>\n      <td>15</td>\n    </tr>\n    <tr>\n      <th>1</th>\n      <td>M</td>\n      <td>0.350</td>\n      <td>0.265</td>\n      <td>0.090</td>\n      <td>0.2255</td>\n      <td>0.0995</td>\n      <td>0.0485</td>\n      <td>0.070</td>\n      <td>7</td>\n    </tr>\n    <tr>\n      <th>2</th>\n      <td>F</td>\n      <td>0.530</td>\n      <td>0.420</td>\n      <td>0.135</td>\n      <td>0.6770</td>\n      <td>0.2565</td>\n      <td>0.1415</td>\n      <td>0.210</td>\n      <td>9</td>\n    </tr>\n    <tr>\n      <th>3</th>\n      <td>M</td>\n      <td>0.440</td>\n      <td>0.365</td>\n      <td>0.125</td>\n      <td>0.5160</td>\n      <td>0.2155</td>\n      <td>0.1140</td>\n      <td>0.155</td>\n      <td>10</td>\n    </tr>\n    <tr>\n      <th>4</th>\n      <td>I</td>\n      <td>0.330</td>\n      <td>0.255</td>\n      <td>0.080</td>\n      <td>0.2050</td>\n      <td>0.0895</td>\n      <td>0.0395</td>\n      <td>0.055</td>\n      <td>7</td>\n    </tr>\n    <tr>\n      <th>...</th>\n      <td>...</td>\n      <td>...</td>\n      <td>...</td>\n      <td>...</td>\n      <td>...</td>\n      <td>...</td>\n      <td>...</td>\n      <td>...</td>\n      <td>...</td>\n    </tr>\n    <tr>\n      <th>95</th>\n      <td>M</td>\n      <td>0.665</td>\n      <td>0.535</td>\n      <td>0.195</td>\n      <td>1.6060</td>\n      <td>0.5755</td>\n      <td>0.3880</td>\n      <td>0.480</td>\n      <td>14</td>\n    </tr>\n    <tr>\n      <th>96</th>\n      <td>M</td>\n      <td>0.535</td>\n      <td>0.435</td>\n      <td>0.150</td>\n      <td>0.7250</td>\n      <td>0.2690</td>\n      <td>0.1385</td>\n      <td>0.250</td>\n      <td>9</td>\n    </tr>\n    <tr>\n      <th>97</th>\n      <td>M</td>\n      <td>0.470</td>\n      <td>0.375</td>\n      <td>0.130</td>\n      <td>0.5230</td>\n      <td>0.2140</td>\n      <td>0.1320</td>\n      <td>0.145</td>\n      <td>8</td>\n    </tr>\n    <tr>\n      <th>98</th>\n      <td>M</td>\n      <td>0.470</td>\n      <td>0.370</td>\n      <td>0.130</td>\n      <td>0.5225</td>\n      <td>0.2010</td>\n      <td>0.1330</td>\n      <td>0.165</td>\n      <td>7</td>\n    </tr>\n    <tr>\n      <th>99</th>\n      <td>F</td>\n      <td>0.475</td>\n      <td>0.375</td>\n      <td>0.125</td>\n      <td>0.5785</td>\n      <td>0.2775</td>\n      <td>0.0850</td>\n      <td>0.155</td>\n      <td>10</td>\n    </tr>\n  </tbody>\n</table>\n<p>100 rows × 9 columns</p>\n</div>"
     },
     "execution_count": 4,
     "metadata": {},
     "output_type": "execute_result"
    }
   ],
   "source": [
    "abalone.head(100)"
   ],
   "metadata": {
    "collapsed": false
   }
  },
  {
   "cell_type": "code",
   "execution_count": 5,
   "outputs": [
    {
     "name": "stderr",
     "output_type": "stream",
     "text": [
      "C:\\Users\\Monya\\AppData\\Local\\Programs\\Python\\Python37\\lib\\site-packages\\ipykernel_launcher.py:1: SettingWithCopyWarning: \n",
      "A value is trying to be set on a copy of a slice from a DataFrame.\n",
      "Try using .loc[row_indexer,col_indexer] = value instead\n",
      "\n",
      "See the caveats in the documentation: https://pandas.pydata.org/pandas-docs/stable/user_guide/indexing.html#returning-a-view-versus-a-copy\n",
      "  \"\"\"Entry point for launching an IPython kernel.\n",
      "C:\\Users\\Monya\\AppData\\Local\\Programs\\Python\\Python37\\lib\\site-packages\\ipykernel_launcher.py:2: SettingWithCopyWarning: \n",
      "A value is trying to be set on a copy of a slice from a DataFrame.\n",
      "Try using .loc[row_indexer,col_indexer] = value instead\n",
      "\n",
      "See the caveats in the documentation: https://pandas.pydata.org/pandas-docs/stable/user_guide/indexing.html#returning-a-view-versus-a-copy\n",
      "  \n",
      "C:\\Users\\Monya\\AppData\\Local\\Programs\\Python\\Python37\\lib\\site-packages\\ipykernel_launcher.py:3: SettingWithCopyWarning: \n",
      "A value is trying to be set on a copy of a slice from a DataFrame.\n",
      "Try using .loc[row_indexer,col_indexer] = value instead\n",
      "\n",
      "See the caveats in the documentation: https://pandas.pydata.org/pandas-docs/stable/user_guide/indexing.html#returning-a-view-versus-a-copy\n",
      "  This is separate from the ipykernel package so we can avoid doing imports until\n"
     ]
    }
   ],
   "source": [
    "abalone[abalone['Sex']==\"M\"]['Sex'] = 1\n",
    "abalone[abalone['Sex']==\"F\"]['Sex'] = -1\n",
    "abalone[abalone['Sex']==\"I\"]['Sex'] = 0"
   ],
   "metadata": {
    "collapsed": false
   }
  },
  {
   "cell_type": "markdown",
   "source": [
    "Cмотрим насколько однородны данные и сколько пропущенных элементов в тех или иных столбцах."
   ],
   "metadata": {
    "collapsed": false
   }
  },
  {
   "cell_type": "code",
   "execution_count": 6,
   "outputs": [
    {
     "data": {
      "text/plain": "Sex               4177\nLength            4177\nDiameter          4177\nHeight            4177\nWhole weight      4177\nShucked weight    4177\nViscera weight    4177\nShell weight      4177\nRings             4177\ndtype: int64"
     },
     "execution_count": 6,
     "metadata": {},
     "output_type": "execute_result"
    }
   ],
   "source": [
    "abalone.count()"
   ],
   "metadata": {
    "collapsed": false
   }
  },
  {
   "cell_type": "markdown",
   "source": [
    "В процентном соотношении."
   ],
   "metadata": {
    "collapsed": false
   }
  },
  {
   "cell_type": "code",
   "execution_count": 7,
   "outputs": [
    {
     "name": "stdout",
     "output_type": "stream",
     "text": [
      "Sex - 0.0     min: F     max:M\n",
      "Length - 0.0     min: 0.075     max:0.815\n",
      "Diameter - 0.0     min: 0.055     max:0.65\n",
      "Height - 0.0     min: 0.0     max:1.13\n",
      "Whole weight - 0.0     min: 0.002     max:2.8255\n",
      "Shucked weight - 0.0     min: 0.001     max:1.4880000000000002\n",
      "Viscera weight - 0.0     min: 0.0005     max:0.76\n",
      "Shell weight - 0.0     min: 0.0015     max:1.005\n",
      "Rings - 0.0     min: 1     max:29\n"
     ]
    }
   ],
   "source": [
    "for col in abalone.columns:\n",
    "    pct_missing = np.mean(abalone[col].isnull())\n",
    "    print(f'{col} - {round(pct_missing * 100, 5)}     min: {abalone[col].min()}     max:{abalone[col].max()}')"
   ],
   "metadata": {
    "collapsed": false
   }
  },
  {
   "cell_type": "markdown",
   "source": [
    "Пропущенных значений нет, как и заявлялось в описании. Странность есть в минимальном значении столбца \"chlorides\", исправим:"
   ],
   "metadata": {
    "collapsed": false
   }
  },
  {
   "cell_type": "code",
   "execution_count": 8,
   "outputs": [],
   "source": [
    "abalone[\"Shucked weight\"] = round(abalone[\"Shucked weight\"], 3)"
   ],
   "metadata": {
    "collapsed": false
   }
  },
  {
   "cell_type": "code",
   "execution_count": 9,
   "outputs": [
    {
     "data": {
      "text/plain": "            Length     Diameter       Height  Whole weight  Shucked weight  \\\ncount  4177.000000  4177.000000  4177.000000   4177.000000     4177.000000   \nmean      0.523992     0.407881     0.139516      0.828742        0.359363   \nstd       0.120093     0.099240     0.041827      0.490389        0.221969   \nmin       0.075000     0.055000     0.000000      0.002000        0.001000   \n25%       0.450000     0.350000     0.115000      0.441500        0.186000   \n50%       0.545000     0.425000     0.140000      0.799500        0.336000   \n75%       0.615000     0.480000     0.165000      1.153000        0.502000   \nmax       0.815000     0.650000     1.130000      2.825500        1.488000   \n\n       Viscera weight  Shell weight        Rings  \ncount     4177.000000   4177.000000  4177.000000  \nmean         0.180594      0.238831     9.933684  \nstd          0.109614      0.139203     3.224169  \nmin          0.000500      0.001500     1.000000  \n25%          0.093500      0.130000     8.000000  \n50%          0.171000      0.234000     9.000000  \n75%          0.253000      0.329000    11.000000  \nmax          0.760000      1.005000    29.000000  ",
      "text/html": "<div>\n<style scoped>\n    .dataframe tbody tr th:only-of-type {\n        vertical-align: middle;\n    }\n\n    .dataframe tbody tr th {\n        vertical-align: top;\n    }\n\n    .dataframe thead th {\n        text-align: right;\n    }\n</style>\n<table border=\"1\" class=\"dataframe\">\n  <thead>\n    <tr style=\"text-align: right;\">\n      <th></th>\n      <th>Length</th>\n      <th>Diameter</th>\n      <th>Height</th>\n      <th>Whole weight</th>\n      <th>Shucked weight</th>\n      <th>Viscera weight</th>\n      <th>Shell weight</th>\n      <th>Rings</th>\n    </tr>\n  </thead>\n  <tbody>\n    <tr>\n      <th>count</th>\n      <td>4177.000000</td>\n      <td>4177.000000</td>\n      <td>4177.000000</td>\n      <td>4177.000000</td>\n      <td>4177.000000</td>\n      <td>4177.000000</td>\n      <td>4177.000000</td>\n      <td>4177.000000</td>\n    </tr>\n    <tr>\n      <th>mean</th>\n      <td>0.523992</td>\n      <td>0.407881</td>\n      <td>0.139516</td>\n      <td>0.828742</td>\n      <td>0.359363</td>\n      <td>0.180594</td>\n      <td>0.238831</td>\n      <td>9.933684</td>\n    </tr>\n    <tr>\n      <th>std</th>\n      <td>0.120093</td>\n      <td>0.099240</td>\n      <td>0.041827</td>\n      <td>0.490389</td>\n      <td>0.221969</td>\n      <td>0.109614</td>\n      <td>0.139203</td>\n      <td>3.224169</td>\n    </tr>\n    <tr>\n      <th>min</th>\n      <td>0.075000</td>\n      <td>0.055000</td>\n      <td>0.000000</td>\n      <td>0.002000</td>\n      <td>0.001000</td>\n      <td>0.000500</td>\n      <td>0.001500</td>\n      <td>1.000000</td>\n    </tr>\n    <tr>\n      <th>25%</th>\n      <td>0.450000</td>\n      <td>0.350000</td>\n      <td>0.115000</td>\n      <td>0.441500</td>\n      <td>0.186000</td>\n      <td>0.093500</td>\n      <td>0.130000</td>\n      <td>8.000000</td>\n    </tr>\n    <tr>\n      <th>50%</th>\n      <td>0.545000</td>\n      <td>0.425000</td>\n      <td>0.140000</td>\n      <td>0.799500</td>\n      <td>0.336000</td>\n      <td>0.171000</td>\n      <td>0.234000</td>\n      <td>9.000000</td>\n    </tr>\n    <tr>\n      <th>75%</th>\n      <td>0.615000</td>\n      <td>0.480000</td>\n      <td>0.165000</td>\n      <td>1.153000</td>\n      <td>0.502000</td>\n      <td>0.253000</td>\n      <td>0.329000</td>\n      <td>11.000000</td>\n    </tr>\n    <tr>\n      <th>max</th>\n      <td>0.815000</td>\n      <td>0.650000</td>\n      <td>1.130000</td>\n      <td>2.825500</td>\n      <td>1.488000</td>\n      <td>0.760000</td>\n      <td>1.005000</td>\n      <td>29.000000</td>\n    </tr>\n  </tbody>\n</table>\n</div>"
     },
     "execution_count": 9,
     "metadata": {},
     "output_type": "execute_result"
    }
   ],
   "source": [
    "abalone.describe()"
   ],
   "metadata": {
    "collapsed": false
   }
  },
  {
   "cell_type": "markdown",
   "source": [
    "Из таблицы резко выбиваются значения \"free sulfur dioxide\":289 и \"total sulfur dioxide\": 400. Проверим не ошибочные ли это данные."
   ],
   "metadata": {
    "collapsed": false
   }
  },
  {
   "cell_type": "code",
   "execution_count": 23,
   "outputs": [
    {
     "data": {
      "text/plain": "<AxesSubplot:xlabel='Sex', ylabel='Height'>"
     },
     "execution_count": 23,
     "metadata": {},
     "output_type": "execute_result"
    },
    {
     "data": {
      "text/plain": "<Figure size 640x480 with 1 Axes>",
      "image/png": "[encoded data removed]"
     },
     "metadata": {},
     "output_type": "display_data"
    }
   ],
   "source": [
    "sns.boxplot(x=\"Sex\", y=\"Height\", data=abalone)"
   ],
   "metadata": {
    "collapsed": false
   }
  },
  {
   "cell_type": "code",
   "execution_count": 21,
   "outputs": [
    {
     "data": {
      "text/plain": "     Sex  Length  Diameter  Height  Whole weight  Shucked weight  \\\n1417   M   0.705     0.565   0.515          2.21           1.108   \n\n      Viscera weight  Shell weight  Rings  \n1417          0.4865         0.512     10  ",
      "text/html": "<div>\n<style scoped>\n    .dataframe tbody tr th:only-of-type {\n        vertical-align: middle;\n    }\n\n    .dataframe tbody tr th {\n        vertical-align: top;\n    }\n\n    .dataframe thead th {\n        text-align: right;\n    }\n</style>\n<table border=\"1\" class=\"dataframe\">\n  <thead>\n    <tr style=\"text-align: right;\">\n      <th></th>\n      <th>Sex</th>\n      <th>Length</th>\n      <th>Diameter</th>\n      <th>Height</th>\n      <th>Whole weight</th>\n      <th>Shucked weight</th>\n      <th>Viscera weight</th>\n      <th>Shell weight</th>\n      <th>Rings</th>\n    </tr>\n  </thead>\n  <tbody>\n    <tr>\n      <th>1417</th>\n      <td>M</td>\n      <td>0.705</td>\n      <td>0.565</td>\n      <td>0.515</td>\n      <td>2.21</td>\n      <td>1.108</td>\n      <td>0.4865</td>\n      <td>0.512</td>\n      <td>10</td>\n    </tr>\n  </tbody>\n</table>\n</div>"
     },
     "execution_count": 21,
     "metadata": {},
     "output_type": "execute_result"
    }
   ],
   "source": [
    "abalone[abalone[\"Height\"]>0.5]"
   ],
   "metadata": {
    "collapsed": false
   }
  },
  {
   "cell_type": "code",
   "execution_count": 22,
   "outputs": [],
   "source": [
    "abalone['Height'] = np.where((abalone['Height'] > 0.5), abalone[\"Height\"]/10,abalone[\"Height\"])"
   ],
   "metadata": {
    "collapsed": false
   }
  },
  {
   "cell_type": "markdown",
   "source": [
    "Можно предположить что значение столбца \"free sulfur dioxide\" значением около 300 может быть ошибочным, как и значение \"total sulfur dioxide\" более 400. Посмотрим на эти записи ближе."
   ],
   "metadata": {
    "collapsed": false
   }
  },
  {
   "cell_type": "code",
   "execution_count": 13,
   "outputs": [
    {
     "ename": "NameError",
     "evalue": "name 'wines' is not defined",
     "output_type": "error",
     "traceback": [
      "\u001B[1;31m---------------------------------------------------------------------------\u001B[0m",
      "\u001B[1;31mNameError\u001B[0m                                 Traceback (most recent call last)",
      "\u001B[1;32m~\\AppData\\Local\\Temp\\ipykernel_14036\\883021796.py\u001B[0m in \u001B[0;36m<module>\u001B[1;34m\u001B[0m\n\u001B[1;32m----> 1\u001B[1;33m \u001B[0mwines\u001B[0m\u001B[1;33m[\u001B[0m\u001B[0mwines\u001B[0m\u001B[1;33m[\u001B[0m\u001B[1;34m\"free sulfur dioxide\"\u001B[0m\u001B[1;33m]\u001B[0m \u001B[1;33m>\u001B[0m \u001B[1;36m200\u001B[0m\u001B[1;33m]\u001B[0m\u001B[1;33m\u001B[0m\u001B[0m\n\u001B[0m",
      "\u001B[1;31mNameError\u001B[0m: name 'wines' is not defined"
     ]
    }
   ],
   "source": [
    "wines[wines[\"free sulfur dioxide\"] > 200]"
   ],
   "metadata": {
    "collapsed": false
   }
  },
  {
   "cell_type": "markdown",
   "source": [
    "Как видно это оказывается одна запись. И хоть это и выбросы  но их объяснение просто: сверх высокая кислотность привод к минимальной оценке. Эти данные не являются ошибочными."
   ],
   "metadata": {
    "collapsed": false
   }
  },
  {
   "cell_type": "code",
   "execution_count": null,
   "outputs": [],
   "source": [
    "# sns.pairplot(wines);"
   ],
   "metadata": {
    "collapsed": false
   }
  },
  {
   "cell_type": "code",
   "execution_count": null,
   "outputs": [],
   "source": [
    "# corr_matrix = wines.corr()\n",
    "# sns.heatmap(corr_matrix);"
   ],
   "metadata": {
    "collapsed": false
   }
  },
  {
   "cell_type": "markdown",
   "source": [
    "На таблицах корреляции, видно интересную картину, во первых корреляция присутствует в столбцах отвечающих за \"кислость\" вина, в принципе это не удивительно, чем больше сахара тем меньше кислости, и наоборот. Но есть один параметр напрямую коррелирующий с оценкой от экспертов, этот столбец \"alcohol\"."
   ],
   "metadata": {
    "collapsed": false
   }
  },
  {
   "cell_type": "markdown",
   "source": [
    "Добавим столбцы долей зависимых величин."
   ],
   "metadata": {
    "collapsed": false
   }
  },
  {
   "cell_type": "code",
   "execution_count": null,
   "outputs": [],
   "source": [
    "wines[\"free sulfur dioxide share\"] = round((wines[\"free sulfur dioxide\"] / wines[\"total sulfur dioxide\"]) * 100)\n",
    "wines[\"volatile acidity share\"] = round((wines[\"volatile acidity\"] / wines[\"fixed acidity\"]) * 100)"
   ],
   "metadata": {
    "collapsed": false
   }
  },
  {
   "cell_type": "markdown",
   "source": [
    "Применим самый простой скалер Min-max."
   ],
   "metadata": {
    "collapsed": false
   }
  },
  {
   "cell_type": "code",
   "execution_count": null,
   "outputs": [],
   "source": [
    "scaler = preprocessing.MinMaxScaler()\n",
    "\n",
    "target = wines[\"quality\"]\n",
    "wines.drop(columns=[\"quality\"],inplace=True)\n",
    "\n",
    "columns = wines.columns\n",
    "wines[columns] = scaler.fit_transform(wines[columns])"
   ],
   "metadata": {
    "collapsed": false
   }
  },
  {
   "cell_type": "markdown",
   "source": [
    "Разделим наш датасет на 3 составляющие тренировочную, валидационную и тестовую."
   ],
   "metadata": {
    "collapsed": false
   }
  },
  {
   "cell_type": "code",
   "execution_count": null,
   "outputs": [],
   "source": [
    "datasets= {\"train\":{},\"validation\":{},\"test\":{}}\n",
    "datasets[\"train\"][\"data\"], test_val_data, datasets[\"train\"][\"target\"], test_val_target = train_test_split(wines, target, train_size=0.769585962753, shuffle=True)\n",
    "datasets[\"test\"][\"data\"], datasets[\"validation\"][\"data\"], datasets[\"test\"][\"target\"], datasets[\"validation\"][\"target\"] = train_test_split(test_val_data, test_val_target, test_size=0.668002672011, shuffle=True)"
   ],
   "metadata": {
    "collapsed": false
   }
  },
  {
   "cell_type": "markdown",
   "source": [
    "Предоставим нашим 4 моделям тестовые данные, пусть работают."
   ],
   "metadata": {
    "collapsed": false
   }
  },
  {
   "cell_type": "code",
   "execution_count": null,
   "outputs": [],
   "source": [
    "sgd = SGDRegressor()\n",
    "sgd.fit(datasets[\"train\"][\"data\"],datasets[\"train\"][\"target\"])\n",
    "lasso = Lasso()\n",
    "lasso.fit(datasets[\"train\"][\"data\"],datasets[\"train\"][\"target\"])\n",
    "ridge = Ridge()\n",
    "ridge.fit(datasets[\"train\"][\"data\"],datasets[\"train\"][\"target\"])\n",
    "linear = LinearRegression()\n",
    "linear.fit(datasets[\"train\"][\"data\"],datasets[\"train\"][\"target\"])"
   ],
   "metadata": {
    "collapsed": false
   }
  },
  {
   "cell_type": "markdown",
   "source": [
    "Сравним какая модель лучше себя покажет на валидационных данных, вычислив среднеквадратическую ошибку для каждой."
   ],
   "metadata": {
    "collapsed": false
   }
  },
  {
   "cell_type": "code",
   "execution_count": null,
   "outputs": [],
   "source": [
    "predictions = sgd.predict(datasets[\"validation\"][\"data\"])\n",
    "mse = mean_squared_error(datasets[\"validation\"][\"target\"], predictions)\n",
    "cv_sgd = cross_validate(lasso,datasets[\"train\"][\"data\"],datasets[\"train\"][\"target\"])\n",
    "print(\"RMSE for sgd: {}\".format(np.sqrt(mse)))\n",
    "predictions = lasso.predict(datasets[\"validation\"][\"data\"])\n",
    "mse = mean_squared_error(datasets[\"validation\"][\"target\"], predictions)\n",
    "print(\"RMSE for lasso: {}\".format(np.sqrt(mse)))\n",
    "predictions = ridge.predict(datasets[\"validation\"][\"data\"])\n",
    "mse = mean_squared_error(datasets[\"validation\"][\"target\"], predictions)\n",
    "print(\"RMSE for ridge: {}\".format(np.sqrt(mse)))\n",
    "predictions = linear.predict(datasets[\"validation\"][\"data\"])\n",
    "mse = mean_squared_error(datasets[\"validation\"][\"target\"], predictions)\n",
    "print(\"RMSE for linear: {}\".format(np.sqrt(mse)))"
   ],
   "metadata": {
    "collapsed": false
   }
  },
  {
   "cell_type": "markdown",
   "source": [
    "Как видно лучше всего справляется модель Lasso, её и возьмём за основу."
   ],
   "metadata": {
    "collapsed": false
   }
  },
  {
   "cell_type": "code",
   "execution_count": null,
   "outputs": [],
   "source": [
    "lasso = Lasso(max_iter=5000,selection=\"cyclic\",alpha=3,positive=True)\n",
    "lasso.fit(datasets[\"train\"][\"data\"],datasets[\"train\"][\"target\"])\n",
    "predictions = lasso.predict(datasets[\"validation\"][\"data\"])\n",
    "mse = mean_squared_error(datasets[\"validation\"][\"target\"], predictions)\n",
    "print(\"RMSE: {}\".format(np.sqrt(mse)))"
   ],
   "metadata": {
    "collapsed": false
   }
  },
  {
   "cell_type": "markdown",
   "source": [
    "Посмотрим какая ошибка будет на тестовой части данных."
   ],
   "metadata": {
    "collapsed": false
   }
  },
  {
   "cell_type": "code",
   "execution_count": null,
   "outputs": [],
   "source": [
    "predictions = lasso.predict(datasets[\"test\"][\"data\"])\n",
    "mse = mean_squared_error(datasets[\"test\"][\"target\"], predictions)\n",
    "print(\"RMSE: {}\".format(np.sqrt(mse)))"
   ],
   "metadata": {
    "collapsed": false
   }
  },
  {
   "cell_type": "markdown",
   "source": [
    "(Если я не ошибаюсь) Процент правильности предсказания лежит где-то между 85-90%, нас это удовлетворяет."
   ],
   "metadata": {
    "collapsed": false
   }
  },
  {
   "cell_type": "markdown",
   "source": [
    "Попробуем прогнать нашу же модель Lasso через подборку лучших гиперпараметров."
   ],
   "metadata": {
    "collapsed": false
   }
  },
  {
   "cell_type": "code",
   "execution_count": null,
   "outputs": [],
   "source": [
    "parameters = {\"alpha\":[0.1,0.2,0.3,0.4],\"max_iter\":[1000,2000,3000,4000,5000],\"warm_start\":[True,False],\"positive\":[True,False],\"selection\":[\"cyclic\",\"random\"]}\n",
    "clf = GridSearchCV(Lasso(), parameters)\n",
    "clf.fit(datasets[\"train\"][\"data\"],datasets[\"train\"][\"target\"])"
   ],
   "metadata": {
    "collapsed": false
   }
  },
  {
   "cell_type": "code",
   "execution_count": null,
   "outputs": [],
   "source": [
    "predictions = clf.predict(datasets[\"test\"][\"data\"])\n",
    "mse = mean_squared_error(datasets[\"test\"][\"target\"], predictions)\n",
    "print(\"RMSE: {}\".format(np.sqrt(mse)))"
   ],
   "metadata": {
    "collapsed": false
   }
  },
  {
   "cell_type": "markdown",
   "source": [
    "Для меня лично удивительно что показатели не изменились, но значит или я что-то сделал не так, или модель мало восприимчива к имениям параметров. Точность так же осталась в пределах 85-90% что довольно высокий показатель. Мне кажется что не последнюю роль в таких результатах сыграла прямая корреляция столбца alcohol напрямую на таргет, из-за чего модель может предположить только по этому параметру оценку, и уже из двух соседних оценок выбрать на основе всех остальных столбцов."
   ],
   "metadata": {
    "collapsed": false
   }
  }
 ],
 "metadata": {
  "anaconda-cloud": {},
  "kernelspec": {
   "display_name": "Python 3",
   "language": "python",
   "name": "python3"
  },
  "language_info": {
   "codemirror_mode": {
    "name": "ipython",
    "version": 3
   },
   "file_extension": ".py",
   "mimetype": "text/x-python",
   "name": "python",
   "nbconvert_exporter": "python",
   "pygments_lexer": "ipython3",
   "version": "3.6.6"
  }
 },
 "nbformat": 4,
 "nbformat_minor": 1
}
