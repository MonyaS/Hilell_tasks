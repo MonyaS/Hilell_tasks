{
 "cells": [
  {
   "cell_type": "code",
   "execution_count": 45,
   "metadata": {},
   "outputs": [],
   "source": [
    "import numpy as np\n",
    "import pandas as pd\n",
    "import seaborn as sns\n",
    "\n",
    "sns.set()"
   ]
  },
  {
   "cell_type": "markdown",
   "source": [
    "Загрузка данных первого сета."
   ],
   "metadata": {
    "collapsed": false
   }
  },
  {
   "cell_type": "code",
   "execution_count": 46,
   "outputs": [
    {
     "name": "stdout",
     "output_type": "stream",
     "text": [
      "(4550, 8)\n",
      "Player         object\n",
      "year_start      int64\n",
      "year_end        int64\n",
      "position       object\n",
      "height         object\n",
      "weight        float64\n",
      "birth_date     object\n",
      "college        object\n",
      "dtype: object\n"
     ]
    }
   ],
   "source": [
    "first_data = pd.read_csv('player_data.csv')\n",
    "first_data.rename(columns={\"name\": \"Player\"}, inplace=True)\n",
    "#Смотрим основные параметры.\n",
    "print(first_data.shape)\n",
    "print(first_data.dtypes)"
   ],
   "metadata": {
    "collapsed": false
   }
  },
  {
   "cell_type": "markdown",
   "source": [
    "Оцениваем что в дата-сете есть, и с чем прийдется иметь дело."
   ],
   "metadata": {
    "collapsed": false
   }
  },
  {
   "cell_type": "code",
   "execution_count": 47,
   "outputs": [
    {
     "data": {
      "text/plain": "                 Player  year_start  year_end position height  weight  \\\n0        Alaa Abdelnaby        1991      1995      F-C   6-10   240.0   \n1       Zaid Abdul-Aziz        1969      1978      C-F    6-9   235.0   \n2   Kareem Abdul-Jabbar        1970      1989        C    7-2   225.0   \n3    Mahmoud Abdul-Rauf        1991      2001        G    6-1   162.0   \n4     Tariq Abdul-Wahad        1998      2003        F    6-6   223.0   \n5   Shareef Abdur-Rahim        1997      2008        F    6-9   225.0   \n6         Tom Abernethy        1977      1981        F    6-7   220.0   \n7           Forest Able        1957      1957        G    6-3   180.0   \n8        John Abramovic        1947      1948        F    6-3   195.0   \n9          Alex Abrines        2017      2018      G-F    6-6   190.0   \n10           Alex Acker        2006      2009        G    6-5   185.0   \n11         Don Ackerman        1954      1954        G    6-0   183.0   \n12           Mark Acres        1988      1993      F-C   6-11   220.0   \n13            Bud Acton        1968      1968        F    6-6   210.0   \n14           Quincy Acy        2013      2018        F    6-7   240.0   \n15          Alvan Adams        1976      1988      C-F    6-9   210.0   \n16            Don Adams        1971      1977        F    6-6   210.0   \n17         George Adams        1973      1975      F-G    6-5   210.0   \n18         Hassan Adams        2007      2009        G    6-4   220.0   \n19         Jordan Adams        2015      2016        G    6-5   209.0   \n20        Michael Adams        1986      1996        G   5-10   162.0   \n21         Steven Adams        2014      2018        C    7-0   255.0   \n22       Rafael Addison        1987      1997      F-G    6-7   215.0   \n23          Bam Adebayo        2018      2018      C-F   6-10   243.0   \n24         Rick Adelman        1969      1975        G    6-1   175.0   \n25          Jeff Adrien        2011      2015        F    6-7   245.0   \n26        Arron Afflalo        2008      2018        G    6-5   210.0   \n27         Maurice Ager        2007      2011        G    6-5   202.0   \n28         Mark Aguirre        1982      1994      F-G    6-6   232.0   \n29         Blake Ahearn        2008      2012        G    6-2   190.0   \n30          Danny Ainge        1982      1995        G    6-4   175.0   \n31        Matthew Aitch        1968      1968        F    6-7   230.0   \n32        Alexis Ajinca        2009      2017        C    7-2   248.0   \n33           Henry Akin        1967      1969      C-F   6-10   225.0   \n34         Josh Akognon        2013      2013        G   5-11   185.0   \n35        Solomon Alabi        2011      2012        C    7-1   251.0   \n36          Mark Alarie        1987      1991        F    6-8   217.0   \n37          Gary Alcorn        1960      1961        C    6-9   225.0   \n38       Furkan Aldemir        2015      2015      F-C   6-10   240.0   \n39         Cole Aldrich        2011      2018        C   6-11   250.0   \n40    LaMarcus Aldridge        2007      2018      F-C   6-11   260.0   \n41      Chuck Aleksinas        1985      1985        C   6-11   260.0   \n42      Cliff Alexander        2016      2016        F    6-8   245.0   \n43       Cory Alexander        1996      2005        G    6-1   185.0   \n44   Courtney Alexander        2001      2003        G    6-5   205.0   \n45       Gary Alexander        1994      1994        F    6-7   240.0   \n46        Joe Alexander        2009      2010        F    6-8   230.0   \n47     Victor Alexander        1992      2002      C-F    6-9   265.0   \n48         Steve Alford        1988      1991        G    6-2   183.0   \n49           Bill Allen        1968      1968      C-F    6-8   205.0   \n\n            birth_date                                 college  \n0        June 24, 1968                         Duke University  \n1        April 7, 1946                   Iowa State University  \n2       April 16, 1947   University of California, Los Angeles  \n3        March 9, 1969              Louisiana State University  \n4     November 3, 1974               San Jose State University  \n5    December 11, 1976                University of California  \n6          May 6, 1954                      Indiana University  \n7        July 27, 1932             Western Kentucky University  \n8     February 9, 1919          Salem International University  \n9       August 1, 1993                                     NaN  \n10    January 21, 1983                   Pepperdine University  \n11   September 4, 1930                  Long Island University  \n12   November 15, 1962                 Oral Roberts University  \n13    January 11, 1942                       Hillsdale College  \n14     October 6, 1990                       Baylor University  \n15       July 19, 1954                  University of Oklahoma  \n16   November 27, 1947                 Northwestern University  \n17        May 15, 1949                 Gardner-Webb University  \n18       June 20, 1984                   University of Arizona  \n19        July 8, 1994   University of California, Los Angeles  \n20    January 19, 1963                          Boston College  \n21       July 20, 1993                University of Pittsburgh  \n22       July 22, 1964                     Syracuse University  \n23       July 18, 1997                  University of Kentucky  \n24       June 16, 1946             Loyola Marymount University  \n25   February 10, 1986               University of Connecticut  \n26    October 15, 1985   University of California, Los Angeles  \n27    February 9, 1984               Michigan State University  \n28   December 10, 1959                       DePaul University  \n29        May 27, 1984               Missouri State University  \n30      March 17, 1959                Brigham Young University  \n31  September 21, 1944               Michigan State University  \n32         May 6, 1988                                     NaN  \n33       July 31, 1944               Morehead State University  \n34   February 10, 1986  California State University, Fullerton  \n35      March 21, 1988                Florida State University  \n36   December 11, 1963                         Duke University  \n37     October 8, 1936     California State University, Fresno  \n38      August 9, 1991                                     NaN  \n39    October 31, 1988                    University of Kansas  \n40       July 19, 1985           University of Texas at Austin  \n41   February 26, 1959               University of Connecticut  \n42   November 16, 1995                    University of Kansas  \n43       June 22, 1973                  University of Virginia  \n44      April 27, 1977     California State University, Fresno  \n45    November 1, 1969             University of South Florida  \n46   December 26, 1986                West Virginia University  \n47     August 31, 1969                   Iowa State University  \n48   November 23, 1964                      Indiana University  \n49                 NaN             New Mexico State University  ",
      "text/html": "<div>\n<style scoped>\n    .dataframe tbody tr th:only-of-type {\n        vertical-align: middle;\n    }\n\n    .dataframe tbody tr th {\n        vertical-align: top;\n    }\n\n    .dataframe thead th {\n        text-align: right;\n    }\n</style>\n<table border=\"1\" class=\"dataframe\">\n  <thead>\n    <tr style=\"text-align: right;\">\n      <th></th>\n      <th>Player</th>\n      <th>year_start</th>\n      <th>year_end</th>\n      <th>position</th>\n      <th>height</th>\n      <th>weight</th>\n      <th>birth_date</th>\n      <th>college</th>\n    </tr>\n  </thead>\n  <tbody>\n    <tr>\n      <th>0</th>\n      <td>Alaa Abdelnaby</td>\n      <td>1991</td>\n      <td>1995</td>\n      <td>F-C</td>\n      <td>6-10</td>\n      <td>240.0</td>\n      <td>June 24, 1968</td>\n      <td>Duke University</td>\n    </tr>\n    <tr>\n      <th>1</th>\n      <td>Zaid Abdul-Aziz</td>\n      <td>1969</td>\n      <td>1978</td>\n      <td>C-F</td>\n      <td>6-9</td>\n      <td>235.0</td>\n      <td>April 7, 1946</td>\n      <td>Iowa State University</td>\n    </tr>\n    <tr>\n      <th>2</th>\n      <td>Kareem Abdul-Jabbar</td>\n      <td>1970</td>\n      <td>1989</td>\n      <td>C</td>\n      <td>7-2</td>\n      <td>225.0</td>\n      <td>April 16, 1947</td>\n      <td>University of California, Los Angeles</td>\n    </tr>\n    <tr>\n      <th>3</th>\n      <td>Mahmoud Abdul-Rauf</td>\n      <td>1991</td>\n      <td>2001</td>\n      <td>G</td>\n      <td>6-1</td>\n      <td>162.0</td>\n      <td>March 9, 1969</td>\n      <td>Louisiana State University</td>\n    </tr>\n    <tr>\n      <th>4</th>\n      <td>Tariq Abdul-Wahad</td>\n      <td>1998</td>\n      <td>2003</td>\n      <td>F</td>\n      <td>6-6</td>\n      <td>223.0</td>\n      <td>November 3, 1974</td>\n      <td>San Jose State University</td>\n    </tr>\n    <tr>\n      <th>5</th>\n      <td>Shareef Abdur-Rahim</td>\n      <td>1997</td>\n      <td>2008</td>\n      <td>F</td>\n      <td>6-9</td>\n      <td>225.0</td>\n      <td>December 11, 1976</td>\n      <td>University of California</td>\n    </tr>\n    <tr>\n      <th>6</th>\n      <td>Tom Abernethy</td>\n      <td>1977</td>\n      <td>1981</td>\n      <td>F</td>\n      <td>6-7</td>\n      <td>220.0</td>\n      <td>May 6, 1954</td>\n      <td>Indiana University</td>\n    </tr>\n    <tr>\n      <th>7</th>\n      <td>Forest Able</td>\n      <td>1957</td>\n      <td>1957</td>\n      <td>G</td>\n      <td>6-3</td>\n      <td>180.0</td>\n      <td>July 27, 1932</td>\n      <td>Western Kentucky University</td>\n    </tr>\n    <tr>\n      <th>8</th>\n      <td>John Abramovic</td>\n      <td>1947</td>\n      <td>1948</td>\n      <td>F</td>\n      <td>6-3</td>\n      <td>195.0</td>\n      <td>February 9, 1919</td>\n      <td>Salem International University</td>\n    </tr>\n    <tr>\n      <th>9</th>\n      <td>Alex Abrines</td>\n      <td>2017</td>\n      <td>2018</td>\n      <td>G-F</td>\n      <td>6-6</td>\n      <td>190.0</td>\n      <td>August 1, 1993</td>\n      <td>NaN</td>\n    </tr>\n    <tr>\n      <th>10</th>\n      <td>Alex Acker</td>\n      <td>2006</td>\n      <td>2009</td>\n      <td>G</td>\n      <td>6-5</td>\n      <td>185.0</td>\n      <td>January 21, 1983</td>\n      <td>Pepperdine University</td>\n    </tr>\n    <tr>\n      <th>11</th>\n      <td>Don Ackerman</td>\n      <td>1954</td>\n      <td>1954</td>\n      <td>G</td>\n      <td>6-0</td>\n      <td>183.0</td>\n      <td>September 4, 1930</td>\n      <td>Long Island University</td>\n    </tr>\n    <tr>\n      <th>12</th>\n      <td>Mark Acres</td>\n      <td>1988</td>\n      <td>1993</td>\n      <td>F-C</td>\n      <td>6-11</td>\n      <td>220.0</td>\n      <td>November 15, 1962</td>\n      <td>Oral Roberts University</td>\n    </tr>\n    <tr>\n      <th>13</th>\n      <td>Bud Acton</td>\n      <td>1968</td>\n      <td>1968</td>\n      <td>F</td>\n      <td>6-6</td>\n      <td>210.0</td>\n      <td>January 11, 1942</td>\n      <td>Hillsdale College</td>\n    </tr>\n    <tr>\n      <th>14</th>\n      <td>Quincy Acy</td>\n      <td>2013</td>\n      <td>2018</td>\n      <td>F</td>\n      <td>6-7</td>\n      <td>240.0</td>\n      <td>October 6, 1990</td>\n      <td>Baylor University</td>\n    </tr>\n    <tr>\n      <th>15</th>\n      <td>Alvan Adams</td>\n      <td>1976</td>\n      <td>1988</td>\n      <td>C-F</td>\n      <td>6-9</td>\n      <td>210.0</td>\n      <td>July 19, 1954</td>\n      <td>University of Oklahoma</td>\n    </tr>\n    <tr>\n      <th>16</th>\n      <td>Don Adams</td>\n      <td>1971</td>\n      <td>1977</td>\n      <td>F</td>\n      <td>6-6</td>\n      <td>210.0</td>\n      <td>November 27, 1947</td>\n      <td>Northwestern University</td>\n    </tr>\n    <tr>\n      <th>17</th>\n      <td>George Adams</td>\n      <td>1973</td>\n      <td>1975</td>\n      <td>F-G</td>\n      <td>6-5</td>\n      <td>210.0</td>\n      <td>May 15, 1949</td>\n      <td>Gardner-Webb University</td>\n    </tr>\n    <tr>\n      <th>18</th>\n      <td>Hassan Adams</td>\n      <td>2007</td>\n      <td>2009</td>\n      <td>G</td>\n      <td>6-4</td>\n      <td>220.0</td>\n      <td>June 20, 1984</td>\n      <td>University of Arizona</td>\n    </tr>\n    <tr>\n      <th>19</th>\n      <td>Jordan Adams</td>\n      <td>2015</td>\n      <td>2016</td>\n      <td>G</td>\n      <td>6-5</td>\n      <td>209.0</td>\n      <td>July 8, 1994</td>\n      <td>University of California, Los Angeles</td>\n    </tr>\n    <tr>\n      <th>20</th>\n      <td>Michael Adams</td>\n      <td>1986</td>\n      <td>1996</td>\n      <td>G</td>\n      <td>5-10</td>\n      <td>162.0</td>\n      <td>January 19, 1963</td>\n      <td>Boston College</td>\n    </tr>\n    <tr>\n      <th>21</th>\n      <td>Steven Adams</td>\n      <td>2014</td>\n      <td>2018</td>\n      <td>C</td>\n      <td>7-0</td>\n      <td>255.0</td>\n      <td>July 20, 1993</td>\n      <td>University of Pittsburgh</td>\n    </tr>\n    <tr>\n      <th>22</th>\n      <td>Rafael Addison</td>\n      <td>1987</td>\n      <td>1997</td>\n      <td>F-G</td>\n      <td>6-7</td>\n      <td>215.0</td>\n      <td>July 22, 1964</td>\n      <td>Syracuse University</td>\n    </tr>\n    <tr>\n      <th>23</th>\n      <td>Bam Adebayo</td>\n      <td>2018</td>\n      <td>2018</td>\n      <td>C-F</td>\n      <td>6-10</td>\n      <td>243.0</td>\n      <td>July 18, 1997</td>\n      <td>University of Kentucky</td>\n    </tr>\n    <tr>\n      <th>24</th>\n      <td>Rick Adelman</td>\n      <td>1969</td>\n      <td>1975</td>\n      <td>G</td>\n      <td>6-1</td>\n      <td>175.0</td>\n      <td>June 16, 1946</td>\n      <td>Loyola Marymount University</td>\n    </tr>\n    <tr>\n      <th>25</th>\n      <td>Jeff Adrien</td>\n      <td>2011</td>\n      <td>2015</td>\n      <td>F</td>\n      <td>6-7</td>\n      <td>245.0</td>\n      <td>February 10, 1986</td>\n      <td>University of Connecticut</td>\n    </tr>\n    <tr>\n      <th>26</th>\n      <td>Arron Afflalo</td>\n      <td>2008</td>\n      <td>2018</td>\n      <td>G</td>\n      <td>6-5</td>\n      <td>210.0</td>\n      <td>October 15, 1985</td>\n      <td>University of California, Los Angeles</td>\n    </tr>\n    <tr>\n      <th>27</th>\n      <td>Maurice Ager</td>\n      <td>2007</td>\n      <td>2011</td>\n      <td>G</td>\n      <td>6-5</td>\n      <td>202.0</td>\n      <td>February 9, 1984</td>\n      <td>Michigan State University</td>\n    </tr>\n    <tr>\n      <th>28</th>\n      <td>Mark Aguirre</td>\n      <td>1982</td>\n      <td>1994</td>\n      <td>F-G</td>\n      <td>6-6</td>\n      <td>232.0</td>\n      <td>December 10, 1959</td>\n      <td>DePaul University</td>\n    </tr>\n    <tr>\n      <th>29</th>\n      <td>Blake Ahearn</td>\n      <td>2008</td>\n      <td>2012</td>\n      <td>G</td>\n      <td>6-2</td>\n      <td>190.0</td>\n      <td>May 27, 1984</td>\n      <td>Missouri State University</td>\n    </tr>\n    <tr>\n      <th>30</th>\n      <td>Danny Ainge</td>\n      <td>1982</td>\n      <td>1995</td>\n      <td>G</td>\n      <td>6-4</td>\n      <td>175.0</td>\n      <td>March 17, 1959</td>\n      <td>Brigham Young University</td>\n    </tr>\n    <tr>\n      <th>31</th>\n      <td>Matthew Aitch</td>\n      <td>1968</td>\n      <td>1968</td>\n      <td>F</td>\n      <td>6-7</td>\n      <td>230.0</td>\n      <td>September 21, 1944</td>\n      <td>Michigan State University</td>\n    </tr>\n    <tr>\n      <th>32</th>\n      <td>Alexis Ajinca</td>\n      <td>2009</td>\n      <td>2017</td>\n      <td>C</td>\n      <td>7-2</td>\n      <td>248.0</td>\n      <td>May 6, 1988</td>\n      <td>NaN</td>\n    </tr>\n    <tr>\n      <th>33</th>\n      <td>Henry Akin</td>\n      <td>1967</td>\n      <td>1969</td>\n      <td>C-F</td>\n      <td>6-10</td>\n      <td>225.0</td>\n      <td>July 31, 1944</td>\n      <td>Morehead State University</td>\n    </tr>\n    <tr>\n      <th>34</th>\n      <td>Josh Akognon</td>\n      <td>2013</td>\n      <td>2013</td>\n      <td>G</td>\n      <td>5-11</td>\n      <td>185.0</td>\n      <td>February 10, 1986</td>\n      <td>California State University, Fullerton</td>\n    </tr>\n    <tr>\n      <th>35</th>\n      <td>Solomon Alabi</td>\n      <td>2011</td>\n      <td>2012</td>\n      <td>C</td>\n      <td>7-1</td>\n      <td>251.0</td>\n      <td>March 21, 1988</td>\n      <td>Florida State University</td>\n    </tr>\n    <tr>\n      <th>36</th>\n      <td>Mark Alarie</td>\n      <td>1987</td>\n      <td>1991</td>\n      <td>F</td>\n      <td>6-8</td>\n      <td>217.0</td>\n      <td>December 11, 1963</td>\n      <td>Duke University</td>\n    </tr>\n    <tr>\n      <th>37</th>\n      <td>Gary Alcorn</td>\n      <td>1960</td>\n      <td>1961</td>\n      <td>C</td>\n      <td>6-9</td>\n      <td>225.0</td>\n      <td>October 8, 1936</td>\n      <td>California State University, Fresno</td>\n    </tr>\n    <tr>\n      <th>38</th>\n      <td>Furkan Aldemir</td>\n      <td>2015</td>\n      <td>2015</td>\n      <td>F-C</td>\n      <td>6-10</td>\n      <td>240.0</td>\n      <td>August 9, 1991</td>\n      <td>NaN</td>\n    </tr>\n    <tr>\n      <th>39</th>\n      <td>Cole Aldrich</td>\n      <td>2011</td>\n      <td>2018</td>\n      <td>C</td>\n      <td>6-11</td>\n      <td>250.0</td>\n      <td>October 31, 1988</td>\n      <td>University of Kansas</td>\n    </tr>\n    <tr>\n      <th>40</th>\n      <td>LaMarcus Aldridge</td>\n      <td>2007</td>\n      <td>2018</td>\n      <td>F-C</td>\n      <td>6-11</td>\n      <td>260.0</td>\n      <td>July 19, 1985</td>\n      <td>University of Texas at Austin</td>\n    </tr>\n    <tr>\n      <th>41</th>\n      <td>Chuck Aleksinas</td>\n      <td>1985</td>\n      <td>1985</td>\n      <td>C</td>\n      <td>6-11</td>\n      <td>260.0</td>\n      <td>February 26, 1959</td>\n      <td>University of Connecticut</td>\n    </tr>\n    <tr>\n      <th>42</th>\n      <td>Cliff Alexander</td>\n      <td>2016</td>\n      <td>2016</td>\n      <td>F</td>\n      <td>6-8</td>\n      <td>245.0</td>\n      <td>November 16, 1995</td>\n      <td>University of Kansas</td>\n    </tr>\n    <tr>\n      <th>43</th>\n      <td>Cory Alexander</td>\n      <td>1996</td>\n      <td>2005</td>\n      <td>G</td>\n      <td>6-1</td>\n      <td>185.0</td>\n      <td>June 22, 1973</td>\n      <td>University of Virginia</td>\n    </tr>\n    <tr>\n      <th>44</th>\n      <td>Courtney Alexander</td>\n      <td>2001</td>\n      <td>2003</td>\n      <td>G</td>\n      <td>6-5</td>\n      <td>205.0</td>\n      <td>April 27, 1977</td>\n      <td>California State University, Fresno</td>\n    </tr>\n    <tr>\n      <th>45</th>\n      <td>Gary Alexander</td>\n      <td>1994</td>\n      <td>1994</td>\n      <td>F</td>\n      <td>6-7</td>\n      <td>240.0</td>\n      <td>November 1, 1969</td>\n      <td>University of South Florida</td>\n    </tr>\n    <tr>\n      <th>46</th>\n      <td>Joe Alexander</td>\n      <td>2009</td>\n      <td>2010</td>\n      <td>F</td>\n      <td>6-8</td>\n      <td>230.0</td>\n      <td>December 26, 1986</td>\n      <td>West Virginia University</td>\n    </tr>\n    <tr>\n      <th>47</th>\n      <td>Victor Alexander</td>\n      <td>1992</td>\n      <td>2002</td>\n      <td>C-F</td>\n      <td>6-9</td>\n      <td>265.0</td>\n      <td>August 31, 1969</td>\n      <td>Iowa State University</td>\n    </tr>\n    <tr>\n      <th>48</th>\n      <td>Steve Alford</td>\n      <td>1988</td>\n      <td>1991</td>\n      <td>G</td>\n      <td>6-2</td>\n      <td>183.0</td>\n      <td>November 23, 1964</td>\n      <td>Indiana University</td>\n    </tr>\n    <tr>\n      <th>49</th>\n      <td>Bill Allen</td>\n      <td>1968</td>\n      <td>1968</td>\n      <td>C-F</td>\n      <td>6-8</td>\n      <td>205.0</td>\n      <td>NaN</td>\n      <td>New Mexico State University</td>\n    </tr>\n  </tbody>\n</table>\n</div>"
     },
     "execution_count": 47,
     "metadata": {},
     "output_type": "execute_result"
    }
   ],
   "source": [
    "first_data.head(50)"
   ],
   "metadata": {
    "collapsed": false
   }
  },
  {
   "cell_type": "markdown",
   "source": [
    "Удалим повторяющиеся записи"
   ],
   "metadata": {
    "collapsed": false
   }
  },
  {
   "cell_type": "code",
   "execution_count": 48,
   "outputs": [
    {
     "data": {
      "text/plain": "Earnie Killum     1\nToni Kukoc        1\nJeff Foote        1\nWill Frazier      1\nMaurice Ndour     1\n                 ..\nWillie Reed       1\nMac Otten         1\nA.J. Wynder       1\nJulian Hammond    1\nGreg Kite         1\nName: Player, Length: 4500, dtype: int64"
     },
     "execution_count": 48,
     "metadata": {},
     "output_type": "execute_result"
    }
   ],
   "source": [
    "first_data.drop_duplicates(\"Player\", inplace=True)\n",
    "first_data[\"Player\"].value_counts()"
   ],
   "metadata": {
    "collapsed": false
   }
  },
  {
   "cell_type": "markdown",
   "source": [
    "Cмотрим насколько однородны данные и сколько пропущенных элементов в тех или иных столбцах."
   ],
   "metadata": {
    "collapsed": false
   }
  },
  {
   "cell_type": "code",
   "execution_count": 49,
   "outputs": [
    {
     "data": {
      "text/plain": "Player        4500\nyear_start    4500\nyear_end      4500\nposition      4499\nheight        4499\nweight        4494\nbirth_date    4469\ncollege       4198\ndtype: int64"
     },
     "execution_count": 49,
     "metadata": {},
     "output_type": "execute_result"
    }
   ],
   "source": [
    "first_data.count()"
   ],
   "metadata": {
    "collapsed": false
   }
  },
  {
   "cell_type": "markdown",
   "source": [
    "В процентном соотношении."
   ],
   "metadata": {
    "collapsed": false
   }
  },
  {
   "cell_type": "code",
   "execution_count": 50,
   "outputs": [
    {
     "name": "stdout",
     "output_type": "stream",
     "text": [
      "Player - 0.0%\n",
      "year_start - 0.0%\n",
      "year_end - 0.0%\n",
      "position - 0.02222%\n",
      "height - 0.02222%\n",
      "weight - 0.13333%\n",
      "birth_date - 0.68889%\n",
      "college - 6.71111%\n"
     ]
    }
   ],
   "source": [
    "for col in first_data.columns:\n",
    "    pct_missing = np.mean(first_data[col].isnull())\n",
    "    print('{} - {}%'.format(col, round(pct_missing * 100, 5)))"
   ],
   "metadata": {
    "collapsed": false
   }
  },
  {
   "cell_type": "markdown",
   "source": [
    "Работа со столбцом height"
   ],
   "metadata": {
    "collapsed": false
   }
  },
  {
   "cell_type": "code",
   "execution_count": 51,
   "metadata": {},
   "outputs": [],
   "source": [
    "def from_ft_to_m(ft):\n",
    "    if pd.isna(ft):\n",
    "        return\n",
    "    size = ft.split(\"-\")\n",
    "    return (((int(size[0]) * 12) + int(size[1])) / 39.37008) * 100\n",
    "\n",
    "\n",
    "#Перевод поля height из имперской системы в метрическую. Для удобства дальнейшей работы.\n",
    "first_data[\"height\"] = first_data[\"height\"].apply(from_ft_to_m)"
   ]
  },
  {
   "cell_type": "markdown",
   "source": [
    "Работа со столбцом weight"
   ],
   "metadata": {
    "collapsed": false
   }
  },
  {
   "cell_type": "code",
   "execution_count": 52,
   "outputs": [],
   "source": [
    "def from_lb_to_kg(lb):\n",
    "    return round(lb / 2.2046, 2)\n",
    "\n",
    "\n",
    "#Перевод поля weight из имперской системы в метрическую\n",
    "first_data[\"weight\"] = first_data[\"weight\"].apply(from_lb_to_kg)"
   ],
   "metadata": {
    "collapsed": false
   }
  },
  {
   "cell_type": "markdown",
   "source": [
    "На этом работа с первым сетом законченна, нас всё устраивает."
   ],
   "metadata": {
    "collapsed": false
   }
  },
  {
   "cell_type": "markdown",
   "source": [
    "Загрузка данных второго сета."
   ],
   "metadata": {
    "collapsed": false
   }
  },
  {
   "cell_type": "code",
   "execution_count": 53,
   "metadata": {
    "collapsed": true
   },
   "outputs": [
    {
     "name": "stdout",
     "output_type": "stream",
     "text": [
      "(3922, 8)\n",
      "Unnamed: 0       int64\n",
      "Player          object\n",
      "height         float64\n",
      "weight         float64\n",
      "collage         object\n",
      "born           float64\n",
      "birth_city      object\n",
      "birth_state     object\n",
      "dtype: object\n"
     ]
    }
   ],
   "source": [
    "second_data = pd.read_csv('Players.csv')\n",
    "#Смотрим основные параметры.\n",
    "print(second_data.shape)\n",
    "print(second_data.dtypes)"
   ]
  },
  {
   "cell_type": "markdown",
   "source": [
    "Удалим повторяющиеся записи."
   ],
   "metadata": {
    "collapsed": false
   }
  },
  {
   "cell_type": "code",
   "execution_count": 54,
   "outputs": [
    {
     "data": {
      "text/plain": "Earnie Killum     1\nCarlos Terry      1\nJamal Murray      1\nGuy Rucker        1\nRobbie Hummel     1\n                 ..\nSonny Parker      1\nReggie King       1\nMarcus Liberty    1\nJames Bailey      1\nGreg Kite         1\nName: Player, Length: 3921, dtype: int64"
     },
     "execution_count": 54,
     "metadata": {},
     "output_type": "execute_result"
    }
   ],
   "source": [
    "second_data.drop_duplicates(\"Player\", inplace=True)\n",
    "second_data[\"Player\"].value_counts()"
   ],
   "metadata": {
    "collapsed": false
   }
  },
  {
   "cell_type": "markdown",
   "source": [
    "Cмотрим насколько однородны данные и сколько пропущенных элементов в тех или иных столбцах."
   ],
   "metadata": {
    "collapsed": false
   }
  },
  {
   "cell_type": "code",
   "execution_count": 55,
   "outputs": [
    {
     "data": {
      "text/plain": "Unnamed: 0     3922\nPlayer         3921\nheight         3921\nweight         3921\ncollage        3573\nborn           3921\nbirth_city     3452\nbirth_state    3439\ndtype: int64"
     },
     "execution_count": 55,
     "metadata": {},
     "output_type": "execute_result"
    }
   ],
   "source": [
    "second_data.count()"
   ],
   "metadata": {
    "collapsed": false
   }
  },
  {
   "cell_type": "markdown",
   "source": [
    "В процентном соотношении."
   ],
   "metadata": {
    "collapsed": false
   }
  },
  {
   "cell_type": "code",
   "execution_count": 56,
   "outputs": [
    {
     "name": "stdout",
     "output_type": "stream",
     "text": [
      "Unnamed: 0 - 0.0%\n",
      "Player - 0.0255%\n",
      "height - 0.0255%\n",
      "weight - 0.0255%\n",
      "collage - 8.89852%\n",
      "born - 0.0255%\n",
      "birth_city - 11.98368%\n",
      "birth_state - 12.31515%\n"
     ]
    }
   ],
   "source": [
    "for col in second_data.columns:\n",
    "    pct_missing = np.mean(second_data[col].isnull())\n",
    "    print('{} - {}%'.format(col, round(pct_missing * 100, 5)))"
   ],
   "metadata": {
    "collapsed": false
   }
  },
  {
   "cell_type": "markdown",
   "source": [
    "Видно что есть записи в которых пропущены имена игроков, они нам не интересны, они не несут никакой пользы."
   ],
   "metadata": {
    "collapsed": false
   }
  },
  {
   "cell_type": "code",
   "execution_count": 57,
   "outputs": [],
   "source": [
    "ind_missing = second_data[pd.isna(second_data[\"Player\"])].index\n",
    "second_data = second_data.drop(ind_missing, axis=0)"
   ],
   "metadata": {
    "collapsed": false
   }
  },
  {
   "cell_type": "markdown",
   "source": [
    "Оцениваем что в дата-сете есть, и с чем прийдется иметь дело."
   ],
   "metadata": {
    "collapsed": false
   }
  },
  {
   "cell_type": "code",
   "execution_count": 58,
   "outputs": [
    {
     "data": {
      "text/plain": "    Unnamed: 0            Player  height  weight  \\\n0            0   Curly Armstrong   180.0    77.0   \n1            1      Cliff Barker   188.0    83.0   \n2            2     Leo Barnhorst   193.0    86.0   \n3            3        Ed Bartels   196.0    88.0   \n4            4       Ralph Beard   178.0    79.0   \n5            5        Gene Berce   180.0    79.0   \n6            6     Charlie Black   196.0    90.0   \n7            7       Nelson Bobb   183.0    77.0   \n8            8   Jake Bornheimer   196.0    90.0   \n9            9      Vince Boryla   196.0    95.0   \n10          10         Don Boven   193.0    95.0   \n11          11     Harry Boykoff   208.0   102.0   \n12          12       Joe Bradley   190.0    79.0   \n13          13       Bob Brannum   196.0    97.0   \n14          14        Carl Braun   196.0    81.0   \n15          15     Frankie Brian   185.0    81.0   \n16          16  Price Brookfield   193.0    83.0   \n17          17         Bob Brown   193.0    92.0   \n18          18        Jim Browne   208.0   106.0   \n19          19        Walt Budko   196.0    99.0   \n20          20    Jack Burmaster   190.0    86.0   \n21          21      Tommy Byrnes   190.0    79.0   \n22          22      Bill Calhoun   190.0    81.0   \n23          23       Don Carlson   183.0    77.0   \n24          24     Bob Carpenter   196.0    90.0   \n25          25       Jake Carter   193.0    88.0   \n26          26         Al Cervi*   180.0    77.0   \n27          27       John Chaney   190.0    83.0   \n28          28     Leroy Chollet   188.0    86.0   \n29          29        Bill Closs   196.0    88.0   \n30          30        Paul Cloyd   188.0    81.0   \n31          31      Jack Coleman   201.0    88.0   \n32          32        Bobby Cook   178.0    70.0   \n33          33        Ray Corley   183.0    81.0   \n34          34       Jack Cotton   201.0    90.0   \n35          35   Dillard Crocker   193.0    92.0   \n36          36     Chink Crossin   185.0    74.0   \n37          37       Fran Curran   183.0    79.0   \n38          38      Jimmy Darden   185.0    77.0   \n39          39       Bob Davies*   185.0    79.0   \n40          40       Hook Dillon   190.0    81.0   \n41          41         Earl Dodd   196.0    79.0   \n42          42        Joe Dolhon   183.0    79.0   \n43          43          Bob Doll   196.0    88.0   \n44          44     Harry Donovan   188.0    81.0   \n45          45       Andy Duncan   198.0    88.0   \n46          46     Dike Eddleman   190.0    85.0   \n47          47      Gene Englund   196.0    92.0   \n48          48         Bob Evans   188.0    79.0   \n49          49    Johnny Ezersky   190.0    79.0   \n\n                                       collage    born         birth_city  \\\n0                           Indiana University  1918.0                NaN   \n1                       University of Kentucky  1921.0           Yorktown   \n2                     University of Notre Dame  1924.0                NaN   \n3              North Carolina State University  1925.0                NaN   \n4                       University of Kentucky  1927.0        Hardinsburg   \n5                         Marquette University  1926.0                NaN   \n6                         University of Kansas  1921.0               Arco   \n7                            Temple University  1924.0       Philadelphia   \n8                           Muhlenberg College  1927.0      New Brunswick   \n9                         University of Denver  1927.0       East Chicago   \n10                 Western Michigan University  1925.0          Kalamazoo   \n11                       St. John's University  1922.0           Brooklyn   \n12                   Oklahoma State University  1928.0         Washington   \n13                   Michigan State University  1925.0                NaN   \n14                          Colgate University  1927.0           Brooklyn   \n15                  Louisiana State University  1923.0            Zachary   \n16                   West Texas A&M University  1920.0           Floydada   \n17                            Miami University  1923.0         Versailles   \n18                                         NaN  1930.0         Midlothian   \n19                         Columbia University  1925.0            Kearney   \n20  University of Illinois at Urbana-Champaign  1926.0                NaN   \n21                       Seton Hall University  1923.0            Teaneck   \n22               City College of San Francisco  1927.0      San Francisco   \n23                     University of Minnesota  1919.0        Minneapolis   \n24                 East Texas State University  1917.0                NaN   \n25                 East Texas State University  1924.0                NaN   \n26                                         NaN  1917.0            Buffalo   \n27                  Louisiana State University  1920.0                NaN   \n28                            Canisius College  1925.0        New Orleans   \n29                             Rice University  1922.0               Edge   \n30                     University of Wisconsin  1920.0                NaN   \n31                    University of Louisville  1924.0             Burgin   \n32                     University of Wisconsin  1923.0                NaN   \n33                       Georgetown University  1928.0                NaN   \n34                       University of Wyoming  1924.0         Miles City   \n35                 Western Michigan University  1925.0      Coffee County   \n36                  University of Pennsylvania  1923.0            Luzerne   \n37                    University of Notre Dame  1922.0           Sterling   \n38                        University of Denver  1922.0                NaN   \n39                       Seton Hall University  1920.0         Harrisburg   \n40                University of North Carolina  1924.0           Savannah   \n41                     Truman State University  1924.0                NaN   \n42                         New York University  1927.0                NaN   \n43                      University of Colorado  1919.0  Steamboat Springs   \n44                          Muhlenberg College  1926.0         Union City   \n45                   College of William & Mary  1922.0                NaN   \n46  University of Illinois at Urbana-Champaign  1922.0          Centralia   \n47                     University of Wisconsin  1917.0            Kenosha   \n48                           Butler University  1925.0       Indianapolis   \n49                  University of Rhode Island  1922.0           New York   \n\n     birth_state  \n0            NaN  \n1        Indiana  \n2            NaN  \n3            NaN  \n4       Kentucky  \n5            NaN  \n6          Idaho  \n7   Pennsylvania  \n8     New Jersey  \n9        Indiana  \n10      Michigan  \n11      New York  \n12      Oklahoma  \n13           NaN  \n14      New York  \n15     Louisiana  \n16         Texas  \n17          Ohio  \n18      Illinois  \n19    New Jersey  \n20           NaN  \n21    New Jersey  \n22    California  \n23     Minnesota  \n24           NaN  \n25           NaN  \n26      New York  \n27           NaN  \n28     Louisiana  \n29         Texas  \n30           NaN  \n31      Kentucky  \n32           NaN  \n33           NaN  \n34       Montana  \n35     Tennessee  \n36  Pennsylvania  \n37      Illinois  \n38           NaN  \n39  Pennsylvania  \n40       Georgia  \n41           NaN  \n42           NaN  \n43      Colorado  \n44    New Jersey  \n45           NaN  \n46      Illinois  \n47     Wisconsin  \n48       Indiana  \n49      New York  ",
      "text/html": "<div>\n<style scoped>\n    .dataframe tbody tr th:only-of-type {\n        vertical-align: middle;\n    }\n\n    .dataframe tbody tr th {\n        vertical-align: top;\n    }\n\n    .dataframe thead th {\n        text-align: right;\n    }\n</style>\n<table border=\"1\" class=\"dataframe\">\n  <thead>\n    <tr style=\"text-align: right;\">\n      <th></th>\n      <th>Unnamed: 0</th>\n      <th>Player</th>\n      <th>height</th>\n      <th>weight</th>\n      <th>collage</th>\n      <th>born</th>\n      <th>birth_city</th>\n      <th>birth_state</th>\n    </tr>\n  </thead>\n  <tbody>\n    <tr>\n      <th>0</th>\n      <td>0</td>\n      <td>Curly Armstrong</td>\n      <td>180.0</td>\n      <td>77.0</td>\n      <td>Indiana University</td>\n      <td>1918.0</td>\n      <td>NaN</td>\n      <td>NaN</td>\n    </tr>\n    <tr>\n      <th>1</th>\n      <td>1</td>\n      <td>Cliff Barker</td>\n      <td>188.0</td>\n      <td>83.0</td>\n      <td>University of Kentucky</td>\n      <td>1921.0</td>\n      <td>Yorktown</td>\n      <td>Indiana</td>\n    </tr>\n    <tr>\n      <th>2</th>\n      <td>2</td>\n      <td>Leo Barnhorst</td>\n      <td>193.0</td>\n      <td>86.0</td>\n      <td>University of Notre Dame</td>\n      <td>1924.0</td>\n      <td>NaN</td>\n      <td>NaN</td>\n    </tr>\n    <tr>\n      <th>3</th>\n      <td>3</td>\n      <td>Ed Bartels</td>\n      <td>196.0</td>\n      <td>88.0</td>\n      <td>North Carolina State University</td>\n      <td>1925.0</td>\n      <td>NaN</td>\n      <td>NaN</td>\n    </tr>\n    <tr>\n      <th>4</th>\n      <td>4</td>\n      <td>Ralph Beard</td>\n      <td>178.0</td>\n      <td>79.0</td>\n      <td>University of Kentucky</td>\n      <td>1927.0</td>\n      <td>Hardinsburg</td>\n      <td>Kentucky</td>\n    </tr>\n    <tr>\n      <th>5</th>\n      <td>5</td>\n      <td>Gene Berce</td>\n      <td>180.0</td>\n      <td>79.0</td>\n      <td>Marquette University</td>\n      <td>1926.0</td>\n      <td>NaN</td>\n      <td>NaN</td>\n    </tr>\n    <tr>\n      <th>6</th>\n      <td>6</td>\n      <td>Charlie Black</td>\n      <td>196.0</td>\n      <td>90.0</td>\n      <td>University of Kansas</td>\n      <td>1921.0</td>\n      <td>Arco</td>\n      <td>Idaho</td>\n    </tr>\n    <tr>\n      <th>7</th>\n      <td>7</td>\n      <td>Nelson Bobb</td>\n      <td>183.0</td>\n      <td>77.0</td>\n      <td>Temple University</td>\n      <td>1924.0</td>\n      <td>Philadelphia</td>\n      <td>Pennsylvania</td>\n    </tr>\n    <tr>\n      <th>8</th>\n      <td>8</td>\n      <td>Jake Bornheimer</td>\n      <td>196.0</td>\n      <td>90.0</td>\n      <td>Muhlenberg College</td>\n      <td>1927.0</td>\n      <td>New Brunswick</td>\n      <td>New Jersey</td>\n    </tr>\n    <tr>\n      <th>9</th>\n      <td>9</td>\n      <td>Vince Boryla</td>\n      <td>196.0</td>\n      <td>95.0</td>\n      <td>University of Denver</td>\n      <td>1927.0</td>\n      <td>East Chicago</td>\n      <td>Indiana</td>\n    </tr>\n    <tr>\n      <th>10</th>\n      <td>10</td>\n      <td>Don Boven</td>\n      <td>193.0</td>\n      <td>95.0</td>\n      <td>Western Michigan University</td>\n      <td>1925.0</td>\n      <td>Kalamazoo</td>\n      <td>Michigan</td>\n    </tr>\n    <tr>\n      <th>11</th>\n      <td>11</td>\n      <td>Harry Boykoff</td>\n      <td>208.0</td>\n      <td>102.0</td>\n      <td>St. John's University</td>\n      <td>1922.0</td>\n      <td>Brooklyn</td>\n      <td>New York</td>\n    </tr>\n    <tr>\n      <th>12</th>\n      <td>12</td>\n      <td>Joe Bradley</td>\n      <td>190.0</td>\n      <td>79.0</td>\n      <td>Oklahoma State University</td>\n      <td>1928.0</td>\n      <td>Washington</td>\n      <td>Oklahoma</td>\n    </tr>\n    <tr>\n      <th>13</th>\n      <td>13</td>\n      <td>Bob Brannum</td>\n      <td>196.0</td>\n      <td>97.0</td>\n      <td>Michigan State University</td>\n      <td>1925.0</td>\n      <td>NaN</td>\n      <td>NaN</td>\n    </tr>\n    <tr>\n      <th>14</th>\n      <td>14</td>\n      <td>Carl Braun</td>\n      <td>196.0</td>\n      <td>81.0</td>\n      <td>Colgate University</td>\n      <td>1927.0</td>\n      <td>Brooklyn</td>\n      <td>New York</td>\n    </tr>\n    <tr>\n      <th>15</th>\n      <td>15</td>\n      <td>Frankie Brian</td>\n      <td>185.0</td>\n      <td>81.0</td>\n      <td>Louisiana State University</td>\n      <td>1923.0</td>\n      <td>Zachary</td>\n      <td>Louisiana</td>\n    </tr>\n    <tr>\n      <th>16</th>\n      <td>16</td>\n      <td>Price Brookfield</td>\n      <td>193.0</td>\n      <td>83.0</td>\n      <td>West Texas A&amp;M University</td>\n      <td>1920.0</td>\n      <td>Floydada</td>\n      <td>Texas</td>\n    </tr>\n    <tr>\n      <th>17</th>\n      <td>17</td>\n      <td>Bob Brown</td>\n      <td>193.0</td>\n      <td>92.0</td>\n      <td>Miami University</td>\n      <td>1923.0</td>\n      <td>Versailles</td>\n      <td>Ohio</td>\n    </tr>\n    <tr>\n      <th>18</th>\n      <td>18</td>\n      <td>Jim Browne</td>\n      <td>208.0</td>\n      <td>106.0</td>\n      <td>NaN</td>\n      <td>1930.0</td>\n      <td>Midlothian</td>\n      <td>Illinois</td>\n    </tr>\n    <tr>\n      <th>19</th>\n      <td>19</td>\n      <td>Walt Budko</td>\n      <td>196.0</td>\n      <td>99.0</td>\n      <td>Columbia University</td>\n      <td>1925.0</td>\n      <td>Kearney</td>\n      <td>New Jersey</td>\n    </tr>\n    <tr>\n      <th>20</th>\n      <td>20</td>\n      <td>Jack Burmaster</td>\n      <td>190.0</td>\n      <td>86.0</td>\n      <td>University of Illinois at Urbana-Champaign</td>\n      <td>1926.0</td>\n      <td>NaN</td>\n      <td>NaN</td>\n    </tr>\n    <tr>\n      <th>21</th>\n      <td>21</td>\n      <td>Tommy Byrnes</td>\n      <td>190.0</td>\n      <td>79.0</td>\n      <td>Seton Hall University</td>\n      <td>1923.0</td>\n      <td>Teaneck</td>\n      <td>New Jersey</td>\n    </tr>\n    <tr>\n      <th>22</th>\n      <td>22</td>\n      <td>Bill Calhoun</td>\n      <td>190.0</td>\n      <td>81.0</td>\n      <td>City College of San Francisco</td>\n      <td>1927.0</td>\n      <td>San Francisco</td>\n      <td>California</td>\n    </tr>\n    <tr>\n      <th>23</th>\n      <td>23</td>\n      <td>Don Carlson</td>\n      <td>183.0</td>\n      <td>77.0</td>\n      <td>University of Minnesota</td>\n      <td>1919.0</td>\n      <td>Minneapolis</td>\n      <td>Minnesota</td>\n    </tr>\n    <tr>\n      <th>24</th>\n      <td>24</td>\n      <td>Bob Carpenter</td>\n      <td>196.0</td>\n      <td>90.0</td>\n      <td>East Texas State University</td>\n      <td>1917.0</td>\n      <td>NaN</td>\n      <td>NaN</td>\n    </tr>\n    <tr>\n      <th>25</th>\n      <td>25</td>\n      <td>Jake Carter</td>\n      <td>193.0</td>\n      <td>88.0</td>\n      <td>East Texas State University</td>\n      <td>1924.0</td>\n      <td>NaN</td>\n      <td>NaN</td>\n    </tr>\n    <tr>\n      <th>26</th>\n      <td>26</td>\n      <td>Al Cervi*</td>\n      <td>180.0</td>\n      <td>77.0</td>\n      <td>NaN</td>\n      <td>1917.0</td>\n      <td>Buffalo</td>\n      <td>New York</td>\n    </tr>\n    <tr>\n      <th>27</th>\n      <td>27</td>\n      <td>John Chaney</td>\n      <td>190.0</td>\n      <td>83.0</td>\n      <td>Louisiana State University</td>\n      <td>1920.0</td>\n      <td>NaN</td>\n      <td>NaN</td>\n    </tr>\n    <tr>\n      <th>28</th>\n      <td>28</td>\n      <td>Leroy Chollet</td>\n      <td>188.0</td>\n      <td>86.0</td>\n      <td>Canisius College</td>\n      <td>1925.0</td>\n      <td>New Orleans</td>\n      <td>Louisiana</td>\n    </tr>\n    <tr>\n      <th>29</th>\n      <td>29</td>\n      <td>Bill Closs</td>\n      <td>196.0</td>\n      <td>88.0</td>\n      <td>Rice University</td>\n      <td>1922.0</td>\n      <td>Edge</td>\n      <td>Texas</td>\n    </tr>\n    <tr>\n      <th>30</th>\n      <td>30</td>\n      <td>Paul Cloyd</td>\n      <td>188.0</td>\n      <td>81.0</td>\n      <td>University of Wisconsin</td>\n      <td>1920.0</td>\n      <td>NaN</td>\n      <td>NaN</td>\n    </tr>\n    <tr>\n      <th>31</th>\n      <td>31</td>\n      <td>Jack Coleman</td>\n      <td>201.0</td>\n      <td>88.0</td>\n      <td>University of Louisville</td>\n      <td>1924.0</td>\n      <td>Burgin</td>\n      <td>Kentucky</td>\n    </tr>\n    <tr>\n      <th>32</th>\n      <td>32</td>\n      <td>Bobby Cook</td>\n      <td>178.0</td>\n      <td>70.0</td>\n      <td>University of Wisconsin</td>\n      <td>1923.0</td>\n      <td>NaN</td>\n      <td>NaN</td>\n    </tr>\n    <tr>\n      <th>33</th>\n      <td>33</td>\n      <td>Ray Corley</td>\n      <td>183.0</td>\n      <td>81.0</td>\n      <td>Georgetown University</td>\n      <td>1928.0</td>\n      <td>NaN</td>\n      <td>NaN</td>\n    </tr>\n    <tr>\n      <th>34</th>\n      <td>34</td>\n      <td>Jack Cotton</td>\n      <td>201.0</td>\n      <td>90.0</td>\n      <td>University of Wyoming</td>\n      <td>1924.0</td>\n      <td>Miles City</td>\n      <td>Montana</td>\n    </tr>\n    <tr>\n      <th>35</th>\n      <td>35</td>\n      <td>Dillard Crocker</td>\n      <td>193.0</td>\n      <td>92.0</td>\n      <td>Western Michigan University</td>\n      <td>1925.0</td>\n      <td>Coffee County</td>\n      <td>Tennessee</td>\n    </tr>\n    <tr>\n      <th>36</th>\n      <td>36</td>\n      <td>Chink Crossin</td>\n      <td>185.0</td>\n      <td>74.0</td>\n      <td>University of Pennsylvania</td>\n      <td>1923.0</td>\n      <td>Luzerne</td>\n      <td>Pennsylvania</td>\n    </tr>\n    <tr>\n      <th>37</th>\n      <td>37</td>\n      <td>Fran Curran</td>\n      <td>183.0</td>\n      <td>79.0</td>\n      <td>University of Notre Dame</td>\n      <td>1922.0</td>\n      <td>Sterling</td>\n      <td>Illinois</td>\n    </tr>\n    <tr>\n      <th>38</th>\n      <td>38</td>\n      <td>Jimmy Darden</td>\n      <td>185.0</td>\n      <td>77.0</td>\n      <td>University of Denver</td>\n      <td>1922.0</td>\n      <td>NaN</td>\n      <td>NaN</td>\n    </tr>\n    <tr>\n      <th>39</th>\n      <td>39</td>\n      <td>Bob Davies*</td>\n      <td>185.0</td>\n      <td>79.0</td>\n      <td>Seton Hall University</td>\n      <td>1920.0</td>\n      <td>Harrisburg</td>\n      <td>Pennsylvania</td>\n    </tr>\n    <tr>\n      <th>40</th>\n      <td>40</td>\n      <td>Hook Dillon</td>\n      <td>190.0</td>\n      <td>81.0</td>\n      <td>University of North Carolina</td>\n      <td>1924.0</td>\n      <td>Savannah</td>\n      <td>Georgia</td>\n    </tr>\n    <tr>\n      <th>41</th>\n      <td>41</td>\n      <td>Earl Dodd</td>\n      <td>196.0</td>\n      <td>79.0</td>\n      <td>Truman State University</td>\n      <td>1924.0</td>\n      <td>NaN</td>\n      <td>NaN</td>\n    </tr>\n    <tr>\n      <th>42</th>\n      <td>42</td>\n      <td>Joe Dolhon</td>\n      <td>183.0</td>\n      <td>79.0</td>\n      <td>New York University</td>\n      <td>1927.0</td>\n      <td>NaN</td>\n      <td>NaN</td>\n    </tr>\n    <tr>\n      <th>43</th>\n      <td>43</td>\n      <td>Bob Doll</td>\n      <td>196.0</td>\n      <td>88.0</td>\n      <td>University of Colorado</td>\n      <td>1919.0</td>\n      <td>Steamboat Springs</td>\n      <td>Colorado</td>\n    </tr>\n    <tr>\n      <th>44</th>\n      <td>44</td>\n      <td>Harry Donovan</td>\n      <td>188.0</td>\n      <td>81.0</td>\n      <td>Muhlenberg College</td>\n      <td>1926.0</td>\n      <td>Union City</td>\n      <td>New Jersey</td>\n    </tr>\n    <tr>\n      <th>45</th>\n      <td>45</td>\n      <td>Andy Duncan</td>\n      <td>198.0</td>\n      <td>88.0</td>\n      <td>College of William &amp; Mary</td>\n      <td>1922.0</td>\n      <td>NaN</td>\n      <td>NaN</td>\n    </tr>\n    <tr>\n      <th>46</th>\n      <td>46</td>\n      <td>Dike Eddleman</td>\n      <td>190.0</td>\n      <td>85.0</td>\n      <td>University of Illinois at Urbana-Champaign</td>\n      <td>1922.0</td>\n      <td>Centralia</td>\n      <td>Illinois</td>\n    </tr>\n    <tr>\n      <th>47</th>\n      <td>47</td>\n      <td>Gene Englund</td>\n      <td>196.0</td>\n      <td>92.0</td>\n      <td>University of Wisconsin</td>\n      <td>1917.0</td>\n      <td>Kenosha</td>\n      <td>Wisconsin</td>\n    </tr>\n    <tr>\n      <th>48</th>\n      <td>48</td>\n      <td>Bob Evans</td>\n      <td>188.0</td>\n      <td>79.0</td>\n      <td>Butler University</td>\n      <td>1925.0</td>\n      <td>Indianapolis</td>\n      <td>Indiana</td>\n    </tr>\n    <tr>\n      <th>49</th>\n      <td>49</td>\n      <td>Johnny Ezersky</td>\n      <td>190.0</td>\n      <td>79.0</td>\n      <td>University of Rhode Island</td>\n      <td>1922.0</td>\n      <td>New York</td>\n      <td>New York</td>\n    </tr>\n  </tbody>\n</table>\n</div>"
     },
     "execution_count": 58,
     "metadata": {},
     "output_type": "execute_result"
    }
   ],
   "source": [
    "second_data.head(50)"
   ],
   "metadata": {
    "collapsed": false
   }
  },
  {
   "cell_type": "markdown",
   "source": [
    "Видно что столбец \"Unnamed: 0\" не несёт информации, удаляем его. Столбец collage написан с ошибкой, исправляем."
   ],
   "metadata": {
    "collapsed": false
   }
  },
  {
   "cell_type": "code",
   "execution_count": 59,
   "metadata": {
    "collapsed": true
   },
   "outputs": [],
   "source": [
    "second_data.rename(columns={\"collage\": \"college\"}, inplace=True)\n",
    "second_data.drop(columns=[\"Unnamed: 0\"], inplace=True)"
   ]
  },
  {
   "cell_type": "markdown",
   "source": [
    "На этом работа со вторым сетом окончена."
   ],
   "metadata": {
    "collapsed": false
   }
  },
  {
   "cell_type": "markdown",
   "source": [
    "Загрузка данных третьего сета."
   ],
   "metadata": {
    "collapsed": false
   }
  },
  {
   "cell_type": "code",
   "execution_count": 60,
   "outputs": [
    {
     "name": "stdout",
     "output_type": "stream",
     "text": [
      "(3921, 7)\n",
      "Player          object\n",
      "height         float64\n",
      "weight         float64\n",
      "college         object\n",
      "born           float64\n",
      "birth_city      object\n",
      "birth_state     object\n",
      "dtype: object\n"
     ]
    }
   ],
   "source": [
    "third_data = pd.read_csv('Seasons_Stats.csv')\n",
    "#Смотрим основные параметры.\n",
    "print(second_data.shape)\n",
    "print(second_data.dtypes)"
   ],
   "metadata": {
    "collapsed": false
   }
  },
  {
   "cell_type": "markdown",
   "source": [
    "Cмотрим насколько однородны данные и сколько пропущенных элементов в тех или иных столбцах."
   ],
   "metadata": {
    "collapsed": false
   }
  },
  {
   "cell_type": "code",
   "execution_count": 61,
   "outputs": [
    {
     "data": {
      "text/plain": "Unnamed: 0    24691\nYear          24624\nPlayer        24624\nPos           24624\nAge           24616\nTm            24624\nG             24624\nGS            18233\nMP            24138\nPER           24101\nTS%           24538\n3PAr          18839\nFTr           24525\nORB%          20792\nDRB%          20792\nTRB%          21571\nAST%          22555\nSTL%          20792\nBLK%          20792\nTOV%          19582\nUSG%          19640\nblanl             0\nOWS           24585\nDWS           24585\nWS            24585\nWS/48         24101\nblank2            0\nOBPM          20797\nDBPM          20797\nBPM           20797\nVORP          20797\nFG            24624\nFGA           24624\nFG%           24525\n3P            18927\n3PA           18927\n3P%           15416\n2P            24624\n2PA           24624\n2P%           24496\neFG%          24525\nFT            24624\nFTA           24624\nFT%           23766\nORB           20797\nDRB           20797\nTRB           24312\nAST           24624\nSTL           20797\nBLK           20797\nTOV           19645\nPF            24624\nPTS           24624\ndtype: int64"
     },
     "execution_count": 61,
     "metadata": {},
     "output_type": "execute_result"
    }
   ],
   "source": [
    "third_data.count()"
   ],
   "metadata": {
    "collapsed": false
   }
  },
  {
   "cell_type": "markdown",
   "source": [
    "В процентном соотношении."
   ],
   "metadata": {
    "collapsed": false
   }
  },
  {
   "cell_type": "code",
   "execution_count": 62,
   "outputs": [
    {
     "name": "stdout",
     "output_type": "stream",
     "text": [
      "Unnamed: 0 - 0.0%\n",
      "Year - 0.27135%\n",
      "Player - 0.27135%\n",
      "Pos - 0.27135%\n",
      "Age - 0.30375%\n",
      "Tm - 0.27135%\n",
      "G - 0.27135%\n",
      "GS - 26.15528%\n",
      "MP - 2.23968%\n",
      "PER - 2.38953%\n",
      "TS% - 0.61966%\n",
      "3PAr - 23.70094%\n",
      "FTr - 0.67231%\n",
      "ORB% - 15.79118%\n",
      "DRB% - 15.79118%\n",
      "TRB% - 12.63618%\n",
      "AST% - 8.65093%\n",
      "STL% - 15.79118%\n",
      "BLK% - 15.79118%\n",
      "TOV% - 20.69175%\n",
      "USG% - 20.45685%\n",
      "blanl - 100.0%\n",
      "OWS - 0.42931%\n",
      "DWS - 0.42931%\n",
      "WS - 0.42931%\n",
      "WS/48 - 2.38953%\n",
      "blank2 - 100.0%\n",
      "OBPM - 15.77093%\n",
      "DBPM - 15.77093%\n",
      "BPM - 15.77093%\n",
      "VORP - 15.77093%\n",
      "FG - 0.27135%\n",
      "FGA - 0.27135%\n",
      "FG% - 0.67231%\n",
      "3P - 23.34454%\n",
      "3PA - 23.34454%\n",
      "3P% - 37.56429%\n",
      "2P - 0.27135%\n",
      "2PA - 0.27135%\n",
      "2P% - 0.78976%\n",
      "eFG% - 0.67231%\n",
      "FT - 0.27135%\n",
      "FTA - 0.27135%\n",
      "FT% - 3.7463%\n",
      "ORB - 15.77093%\n",
      "DRB - 15.77093%\n",
      "TRB - 1.53497%\n",
      "AST - 0.27135%\n",
      "STL - 15.77093%\n",
      "BLK - 15.77093%\n",
      "TOV - 20.4366%\n",
      "PF - 0.27135%\n",
      "PTS - 0.27135%\n"
     ]
    }
   ],
   "source": [
    "for col in third_data.columns:\n",
    "    pct_missing = np.mean(third_data[col].isnull())\n",
    "    print('{} - {}%'.format(col, round(pct_missing * 100, 5)))"
   ],
   "metadata": {
    "collapsed": false
   }
  },
  {
   "cell_type": "markdown",
   "source": [
    "Видно что есть записи в которых пропущены имена игроков, они нам не интересны, они не несут никакой пользы."
   ],
   "metadata": {
    "collapsed": false
   }
  },
  {
   "cell_type": "code",
   "execution_count": 63,
   "outputs": [],
   "source": [
    "ind_missing = third_data[pd.isna(third_data[\"Player\"])].index\n",
    "third_data = third_data.drop(ind_missing, axis=0)"
   ],
   "metadata": {
    "collapsed": false
   }
  },
  {
   "cell_type": "markdown",
   "source": [
    "Удалим повторяющиеся записи"
   ],
   "metadata": {
    "collapsed": false
   }
  },
  {
   "cell_type": "code",
   "execution_count": 64,
   "outputs": [
    {
     "data": {
      "text/plain": "       Unnamed: 0    Year             Player Pos   Age   Tm     G    GS  \\\n20837       20837  2011.0     Wesley Johnson  SG  23.0  MIN  79.0  63.0   \n20839       20839  2011.0    Dominique Jones  SG  22.0  DAL  18.0   0.0   \n20861       20861  2011.0         Gani Lawal  PF  22.0  PHO   1.0   0.0   \n20868       20868  2011.0         Jeremy Lin  PG  22.0  GSW  29.0   0.0   \n20907       20907  2011.0        Greg Monroe   C  20.0  DET  80.0  48.0   \n...           ...     ...                ...  ..   ...  ...   ...   ...   \n24672       24672  2017.0      Troy Williams  SF  22.0  TOT  30.0  16.0   \n24675       24675  2017.0       Kyle Wiltjer  PF  24.0  HOU  14.0   0.0   \n24688       24688  2017.0  Stephen Zimmerman   C  20.0  ORL  19.0   0.0   \n24689       24689  2017.0        Paul Zipser  SF  22.0  CHI  44.0  18.0   \n24690       24690  2017.0        Ivica Zubac   C  19.0  LAL  38.0  11.0   \n\n           MP   PER  ...    FT%    ORB    DRB    TRB    AST   STL   BLK   TOV  \\\n20837  2069.0  10.2  ...  0.696   51.0  189.0  240.0  148.0  58.0  54.0  95.0   \n20839   135.0  10.6  ...  0.824    6.0   19.0   25.0   19.0   5.0   3.0  10.0   \n20861     2.0  -9.1  ...    NaN    0.0    0.0    0.0    0.0   0.0   0.0   0.0   \n20868   285.0  14.8  ...  0.760   12.0   22.0   34.0   42.0  33.0   9.0  18.0   \n20907  2222.0  18.0  ...  0.622  248.0  353.0  601.0  105.0  93.0  45.0  81.0   \n...       ...   ...  ...    ...    ...    ...    ...    ...   ...   ...   ...   \n24672   557.0   8.9  ...  0.656   15.0   54.0   69.0   25.0  27.0  10.0  33.0   \n24675    44.0   6.7  ...  0.500    4.0    6.0   10.0    2.0   3.0   1.0   5.0   \n24688   108.0   7.3  ...  0.600   11.0   24.0   35.0    4.0   2.0   5.0   3.0   \n24689   843.0   6.9  ...  0.775   15.0  110.0  125.0   36.0  15.0  16.0  40.0   \n24690   609.0  17.0  ...  0.653   41.0  118.0  159.0   30.0  14.0  33.0  30.0   \n\n          PF    PTS  \n20837  163.0  709.0  \n20839    7.0   42.0  \n20861    1.0    0.0  \n20868   31.0   76.0  \n20907  196.0  751.0  \n...      ...    ...  \n24672   60.0  185.0  \n24675    4.0   13.0  \n24688   17.0   23.0  \n24689   78.0  240.0  \n24690   66.0  284.0  \n\n[500 rows x 53 columns]",
      "text/html": "<div>\n<style scoped>\n    .dataframe tbody tr th:only-of-type {\n        vertical-align: middle;\n    }\n\n    .dataframe tbody tr th {\n        vertical-align: top;\n    }\n\n    .dataframe thead th {\n        text-align: right;\n    }\n</style>\n<table border=\"1\" class=\"dataframe\">\n  <thead>\n    <tr style=\"text-align: right;\">\n      <th></th>\n      <th>Unnamed: 0</th>\n      <th>Year</th>\n      <th>Player</th>\n      <th>Pos</th>\n      <th>Age</th>\n      <th>Tm</th>\n      <th>G</th>\n      <th>GS</th>\n      <th>MP</th>\n      <th>PER</th>\n      <th>...</th>\n      <th>FT%</th>\n      <th>ORB</th>\n      <th>DRB</th>\n      <th>TRB</th>\n      <th>AST</th>\n      <th>STL</th>\n      <th>BLK</th>\n      <th>TOV</th>\n      <th>PF</th>\n      <th>PTS</th>\n    </tr>\n  </thead>\n  <tbody>\n    <tr>\n      <th>20837</th>\n      <td>20837</td>\n      <td>2011.0</td>\n      <td>Wesley Johnson</td>\n      <td>SG</td>\n      <td>23.0</td>\n      <td>MIN</td>\n      <td>79.0</td>\n      <td>63.0</td>\n      <td>2069.0</td>\n      <td>10.2</td>\n      <td>...</td>\n      <td>0.696</td>\n      <td>51.0</td>\n      <td>189.0</td>\n      <td>240.0</td>\n      <td>148.0</td>\n      <td>58.0</td>\n      <td>54.0</td>\n      <td>95.0</td>\n      <td>163.0</td>\n      <td>709.0</td>\n    </tr>\n    <tr>\n      <th>20839</th>\n      <td>20839</td>\n      <td>2011.0</td>\n      <td>Dominique Jones</td>\n      <td>SG</td>\n      <td>22.0</td>\n      <td>DAL</td>\n      <td>18.0</td>\n      <td>0.0</td>\n      <td>135.0</td>\n      <td>10.6</td>\n      <td>...</td>\n      <td>0.824</td>\n      <td>6.0</td>\n      <td>19.0</td>\n      <td>25.0</td>\n      <td>19.0</td>\n      <td>5.0</td>\n      <td>3.0</td>\n      <td>10.0</td>\n      <td>7.0</td>\n      <td>42.0</td>\n    </tr>\n    <tr>\n      <th>20861</th>\n      <td>20861</td>\n      <td>2011.0</td>\n      <td>Gani Lawal</td>\n      <td>PF</td>\n      <td>22.0</td>\n      <td>PHO</td>\n      <td>1.0</td>\n      <td>0.0</td>\n      <td>2.0</td>\n      <td>-9.1</td>\n      <td>...</td>\n      <td>NaN</td>\n      <td>0.0</td>\n      <td>0.0</td>\n      <td>0.0</td>\n      <td>0.0</td>\n      <td>0.0</td>\n      <td>0.0</td>\n      <td>0.0</td>\n      <td>1.0</td>\n      <td>0.0</td>\n    </tr>\n    <tr>\n      <th>20868</th>\n      <td>20868</td>\n      <td>2011.0</td>\n      <td>Jeremy Lin</td>\n      <td>PG</td>\n      <td>22.0</td>\n      <td>GSW</td>\n      <td>29.0</td>\n      <td>0.0</td>\n      <td>285.0</td>\n      <td>14.8</td>\n      <td>...</td>\n      <td>0.760</td>\n      <td>12.0</td>\n      <td>22.0</td>\n      <td>34.0</td>\n      <td>42.0</td>\n      <td>33.0</td>\n      <td>9.0</td>\n      <td>18.0</td>\n      <td>31.0</td>\n      <td>76.0</td>\n    </tr>\n    <tr>\n      <th>20907</th>\n      <td>20907</td>\n      <td>2011.0</td>\n      <td>Greg Monroe</td>\n      <td>C</td>\n      <td>20.0</td>\n      <td>DET</td>\n      <td>80.0</td>\n      <td>48.0</td>\n      <td>2222.0</td>\n      <td>18.0</td>\n      <td>...</td>\n      <td>0.622</td>\n      <td>248.0</td>\n      <td>353.0</td>\n      <td>601.0</td>\n      <td>105.0</td>\n      <td>93.0</td>\n      <td>45.0</td>\n      <td>81.0</td>\n      <td>196.0</td>\n      <td>751.0</td>\n    </tr>\n    <tr>\n      <th>...</th>\n      <td>...</td>\n      <td>...</td>\n      <td>...</td>\n      <td>...</td>\n      <td>...</td>\n      <td>...</td>\n      <td>...</td>\n      <td>...</td>\n      <td>...</td>\n      <td>...</td>\n      <td>...</td>\n      <td>...</td>\n      <td>...</td>\n      <td>...</td>\n      <td>...</td>\n      <td>...</td>\n      <td>...</td>\n      <td>...</td>\n      <td>...</td>\n      <td>...</td>\n      <td>...</td>\n    </tr>\n    <tr>\n      <th>24672</th>\n      <td>24672</td>\n      <td>2017.0</td>\n      <td>Troy Williams</td>\n      <td>SF</td>\n      <td>22.0</td>\n      <td>TOT</td>\n      <td>30.0</td>\n      <td>16.0</td>\n      <td>557.0</td>\n      <td>8.9</td>\n      <td>...</td>\n      <td>0.656</td>\n      <td>15.0</td>\n      <td>54.0</td>\n      <td>69.0</td>\n      <td>25.0</td>\n      <td>27.0</td>\n      <td>10.0</td>\n      <td>33.0</td>\n      <td>60.0</td>\n      <td>185.0</td>\n    </tr>\n    <tr>\n      <th>24675</th>\n      <td>24675</td>\n      <td>2017.0</td>\n      <td>Kyle Wiltjer</td>\n      <td>PF</td>\n      <td>24.0</td>\n      <td>HOU</td>\n      <td>14.0</td>\n      <td>0.0</td>\n      <td>44.0</td>\n      <td>6.7</td>\n      <td>...</td>\n      <td>0.500</td>\n      <td>4.0</td>\n      <td>6.0</td>\n      <td>10.0</td>\n      <td>2.0</td>\n      <td>3.0</td>\n      <td>1.0</td>\n      <td>5.0</td>\n      <td>4.0</td>\n      <td>13.0</td>\n    </tr>\n    <tr>\n      <th>24688</th>\n      <td>24688</td>\n      <td>2017.0</td>\n      <td>Stephen Zimmerman</td>\n      <td>C</td>\n      <td>20.0</td>\n      <td>ORL</td>\n      <td>19.0</td>\n      <td>0.0</td>\n      <td>108.0</td>\n      <td>7.3</td>\n      <td>...</td>\n      <td>0.600</td>\n      <td>11.0</td>\n      <td>24.0</td>\n      <td>35.0</td>\n      <td>4.0</td>\n      <td>2.0</td>\n      <td>5.0</td>\n      <td>3.0</td>\n      <td>17.0</td>\n      <td>23.0</td>\n    </tr>\n    <tr>\n      <th>24689</th>\n      <td>24689</td>\n      <td>2017.0</td>\n      <td>Paul Zipser</td>\n      <td>SF</td>\n      <td>22.0</td>\n      <td>CHI</td>\n      <td>44.0</td>\n      <td>18.0</td>\n      <td>843.0</td>\n      <td>6.9</td>\n      <td>...</td>\n      <td>0.775</td>\n      <td>15.0</td>\n      <td>110.0</td>\n      <td>125.0</td>\n      <td>36.0</td>\n      <td>15.0</td>\n      <td>16.0</td>\n      <td>40.0</td>\n      <td>78.0</td>\n      <td>240.0</td>\n    </tr>\n    <tr>\n      <th>24690</th>\n      <td>24690</td>\n      <td>2017.0</td>\n      <td>Ivica Zubac</td>\n      <td>C</td>\n      <td>19.0</td>\n      <td>LAL</td>\n      <td>38.0</td>\n      <td>11.0</td>\n      <td>609.0</td>\n      <td>17.0</td>\n      <td>...</td>\n      <td>0.653</td>\n      <td>41.0</td>\n      <td>118.0</td>\n      <td>159.0</td>\n      <td>30.0</td>\n      <td>14.0</td>\n      <td>33.0</td>\n      <td>30.0</td>\n      <td>66.0</td>\n      <td>284.0</td>\n    </tr>\n  </tbody>\n</table>\n<p>500 rows × 53 columns</p>\n</div>"
     },
     "execution_count": 64,
     "metadata": {},
     "output_type": "execute_result"
    }
   ],
   "source": [
    "third_data.drop_duplicates(\"Player\", inplace=True)\n",
    "third_data.tail(500)"
   ],
   "metadata": {
    "collapsed": false
   }
  },
  {
   "cell_type": "markdown",
   "source": [
    "Оцениваем что в дата-сете есть, и с чем прийдется иметь дело."
   ],
   "metadata": {
    "collapsed": false
   }
  },
  {
   "cell_type": "code",
   "execution_count": 65,
   "outputs": [
    {
     "data": {
      "text/plain": "   Unnamed: 0    Year           Player  Pos   Age   Tm     G  GS  MP  PER  \\\n0           0  1950.0  Curly Armstrong  G-F  31.0  FTW  63.0 NaN NaN  NaN   \n1           1  1950.0     Cliff Barker   SG  29.0  INO  49.0 NaN NaN  NaN   \n2           2  1950.0    Leo Barnhorst   SF  25.0  CHS  67.0 NaN NaN  NaN   \n3           3  1950.0       Ed Bartels    F  24.0  TOT  15.0 NaN NaN  NaN   \n6           6  1950.0      Ralph Beard    G  22.0  INO  60.0 NaN NaN  NaN   \n\n   ...    FT%  ORB  DRB  TRB    AST  STL  BLK  TOV     PF    PTS  \n0  ...  0.705  NaN  NaN  NaN  176.0  NaN  NaN  NaN  217.0  458.0  \n1  ...  0.708  NaN  NaN  NaN  109.0  NaN  NaN  NaN   99.0  279.0  \n2  ...  0.698  NaN  NaN  NaN  140.0  NaN  NaN  NaN  192.0  438.0  \n3  ...  0.559  NaN  NaN  NaN   20.0  NaN  NaN  NaN   29.0   63.0  \n6  ...  0.762  NaN  NaN  NaN  233.0  NaN  NaN  NaN  132.0  895.0  \n\n[5 rows x 53 columns]",
      "text/html": "<div>\n<style scoped>\n    .dataframe tbody tr th:only-of-type {\n        vertical-align: middle;\n    }\n\n    .dataframe tbody tr th {\n        vertical-align: top;\n    }\n\n    .dataframe thead th {\n        text-align: right;\n    }\n</style>\n<table border=\"1\" class=\"dataframe\">\n  <thead>\n    <tr style=\"text-align: right;\">\n      <th></th>\n      <th>Unnamed: 0</th>\n      <th>Year</th>\n      <th>Player</th>\n      <th>Pos</th>\n      <th>Age</th>\n      <th>Tm</th>\n      <th>G</th>\n      <th>GS</th>\n      <th>MP</th>\n      <th>PER</th>\n      <th>...</th>\n      <th>FT%</th>\n      <th>ORB</th>\n      <th>DRB</th>\n      <th>TRB</th>\n      <th>AST</th>\n      <th>STL</th>\n      <th>BLK</th>\n      <th>TOV</th>\n      <th>PF</th>\n      <th>PTS</th>\n    </tr>\n  </thead>\n  <tbody>\n    <tr>\n      <th>0</th>\n      <td>0</td>\n      <td>1950.0</td>\n      <td>Curly Armstrong</td>\n      <td>G-F</td>\n      <td>31.0</td>\n      <td>FTW</td>\n      <td>63.0</td>\n      <td>NaN</td>\n      <td>NaN</td>\n      <td>NaN</td>\n      <td>...</td>\n      <td>0.705</td>\n      <td>NaN</td>\n      <td>NaN</td>\n      <td>NaN</td>\n      <td>176.0</td>\n      <td>NaN</td>\n      <td>NaN</td>\n      <td>NaN</td>\n      <td>217.0</td>\n      <td>458.0</td>\n    </tr>\n    <tr>\n      <th>1</th>\n      <td>1</td>\n      <td>1950.0</td>\n      <td>Cliff Barker</td>\n      <td>SG</td>\n      <td>29.0</td>\n      <td>INO</td>\n      <td>49.0</td>\n      <td>NaN</td>\n      <td>NaN</td>\n      <td>NaN</td>\n      <td>...</td>\n      <td>0.708</td>\n      <td>NaN</td>\n      <td>NaN</td>\n      <td>NaN</td>\n      <td>109.0</td>\n      <td>NaN</td>\n      <td>NaN</td>\n      <td>NaN</td>\n      <td>99.0</td>\n      <td>279.0</td>\n    </tr>\n    <tr>\n      <th>2</th>\n      <td>2</td>\n      <td>1950.0</td>\n      <td>Leo Barnhorst</td>\n      <td>SF</td>\n      <td>25.0</td>\n      <td>CHS</td>\n      <td>67.0</td>\n      <td>NaN</td>\n      <td>NaN</td>\n      <td>NaN</td>\n      <td>...</td>\n      <td>0.698</td>\n      <td>NaN</td>\n      <td>NaN</td>\n      <td>NaN</td>\n      <td>140.0</td>\n      <td>NaN</td>\n      <td>NaN</td>\n      <td>NaN</td>\n      <td>192.0</td>\n      <td>438.0</td>\n    </tr>\n    <tr>\n      <th>3</th>\n      <td>3</td>\n      <td>1950.0</td>\n      <td>Ed Bartels</td>\n      <td>F</td>\n      <td>24.0</td>\n      <td>TOT</td>\n      <td>15.0</td>\n      <td>NaN</td>\n      <td>NaN</td>\n      <td>NaN</td>\n      <td>...</td>\n      <td>0.559</td>\n      <td>NaN</td>\n      <td>NaN</td>\n      <td>NaN</td>\n      <td>20.0</td>\n      <td>NaN</td>\n      <td>NaN</td>\n      <td>NaN</td>\n      <td>29.0</td>\n      <td>63.0</td>\n    </tr>\n    <tr>\n      <th>6</th>\n      <td>6</td>\n      <td>1950.0</td>\n      <td>Ralph Beard</td>\n      <td>G</td>\n      <td>22.0</td>\n      <td>INO</td>\n      <td>60.0</td>\n      <td>NaN</td>\n      <td>NaN</td>\n      <td>NaN</td>\n      <td>...</td>\n      <td>0.762</td>\n      <td>NaN</td>\n      <td>NaN</td>\n      <td>NaN</td>\n      <td>233.0</td>\n      <td>NaN</td>\n      <td>NaN</td>\n      <td>NaN</td>\n      <td>132.0</td>\n      <td>895.0</td>\n    </tr>\n  </tbody>\n</table>\n<p>5 rows × 53 columns</p>\n</div>"
     },
     "execution_count": 65,
     "metadata": {},
     "output_type": "execute_result"
    }
   ],
   "source": [
    "third_data.head()"
   ],
   "metadata": {
    "collapsed": false
   }
  },
  {
   "cell_type": "markdown",
   "source": [
    "Убираем все колонки игровой статистики."
   ],
   "metadata": {
    "collapsed": false
   }
  },
  {
   "cell_type": "code",
   "execution_count": 66,
   "outputs": [],
   "source": [
    "third_data = third_data[[\"Year\", \"Player\", \"Pos\"]]"
   ],
   "metadata": {
    "collapsed": false
   }
  },
  {
   "cell_type": "markdown",
   "source": [
    "Для удобства последующего соединения переименуем некоторые столбцы."
   ],
   "metadata": {
    "collapsed": false
   }
  },
  {
   "cell_type": "code",
   "execution_count": 67,
   "outputs": [],
   "source": [
    "third_data.rename(columns={\"Year\": \"year_start\", \"Pos\": \"position\"}, inplace=True)"
   ],
   "metadata": {
    "collapsed": false
   }
  },
  {
   "cell_type": "markdown",
   "source": [
    "На этом работа с третьим сетом законченна."
   ],
   "metadata": {
    "collapsed": false
   }
  },
  {
   "cell_type": "markdown",
   "source": [
    "Прейдём непосредственно к соединению даннных в один сет игроков"
   ],
   "metadata": {
    "collapsed": false
   }
  },
  {
   "cell_type": "code",
   "execution_count": 68,
   "outputs": [
    {
     "name": "stdout",
     "output_type": "stream",
     "text": [
      "Number of uniq players names:  4656\n",
      "Number of uniq players names in merging frame: 4656\n"
     ]
    }
   ],
   "source": [
    "#Получаем количество уникальных имён игроков во всех трёх сетах отдельно\n",
    "player_list = first_data[\"Player\"].append(second_data[\"Player\"]).append(third_data[\"Player\"])\n",
    "player_list.drop_duplicates(inplace=True)\n",
    "\n",
    "print(\"Number of uniq players names: \", player_list.count())\n",
    "data = pd.merge(left=first_data, right=second_data, on=\"Player\", how=\"outer\")\n",
    "data = pd.merge(left=data, right=third_data, on=\"Player\", how=\"outer\")\n",
    "#Получаем количество уникальных имён игроков после слияние\n",
    "print(\"Number of uniq players names in merging frame:\", data[\"Player\"].count())"
   ],
   "metadata": {
    "collapsed": false
   }
  },
  {
   "cell_type": "markdown",
   "source": [
    "Т.к. Количество уникальных имён выделенных отдельно, и количество уникальных имён выделенных из дата фрейма совпало, можно сделать вывод что слияние 3х массивов прошло успешно."
   ],
   "metadata": {
    "collapsed": false
   }
  },
  {
   "cell_type": "code",
   "execution_count": 69,
   "outputs": [],
   "source": [
    "#Ф-ция для вычисления среднего значения из двух, учитывая пропуски\n",
    "def mean_value(first, second):\n",
    "    if pd.isna(first):\n",
    "        return round(second, 2)\n",
    "    elif pd.isna(second):\n",
    "        return round(first, 2)\n",
    "    elif pd.isna(first) and pd.isna(second):\n",
    "        return \"Undefined\"\n",
    "    else:\n",
    "        return round((first + second) / 2, 2)\n",
    "\n",
    "\n",
    "#Ф-ция для вычисления минимального из двух, учитывая пропуски\n",
    "def min_value(first, second):\n",
    "    if pd.isna(first) and pd.isna(second):\n",
    "        return np.nan\n",
    "    elif pd.isna(first):\n",
    "        return int(second)\n",
    "    elif pd.isna(second):\n",
    "        return int(first)\n",
    "    else:\n",
    "        return round(min(int(first), int(second)))\n",
    "\n",
    "\n",
    "##Ф-ция для создания списка позиция на которых успел побывать игрок\n",
    "def position_list(first, second):\n",
    "    if not pd.isna(first):\n",
    "        first = first.split('-')\n",
    "        if not pd.isna(second):\n",
    "            second = second.split('-')\n",
    "            return ','.join(list(set(first + second)))\n",
    "        else:\n",
    "            return ','.join(first)\n",
    "    else:\n",
    "        second = second.split('-')\n",
    "        return ','.join(second)\n",
    "\n",
    "\n",
    "data['position_x'] = data.apply(lambda x: position_list(x[\"position_x\"], x[\"position_y\"]), axis=1)\n",
    "\n",
    "data['height'] = data.apply(lambda x: mean_value(x[\"height_x\"], x[\"height_y\"]), axis=1)\n",
    "data['weight'] = data.apply(lambda x: mean_value(x[\"weight_x\"], x[\"weight_y\"]), axis=1)\n",
    "\n",
    "data['year_start'] = np.where(data['year_start_x'] > data['year_start_y'], data['year_start_y'], data['year_start_x'])\n",
    "#Разделение даты рождения на три отдельных столбца, и избавления от дубликата столбца года\n",
    "date_data = data[\"birth_date\"].str.split(' ', expand=True)\n",
    "date_data.columns = ['month_of_birth', 'day_of_birth', 'year_of_birth']\n",
    "date_data['day_of_birth'] = date_data['day_of_birth'].str.replace(',', '')\n",
    "date_data = pd.concat([date_data, data[\"born\"]], axis=1)\n",
    "date_data['year_of_birth'] = date_data.apply(lambda x: min_value(x[\"year_of_birth\"], x[\"born\"]), axis=1)\n",
    "date_data.drop(columns=[\"born\"], inplace=True)\n",
    "#Добавления только что созданных столбцов обратно в дата сет\n",
    "data = pd.concat([data, date_data], axis=1)"
   ],
   "metadata": {
    "collapsed": false
   }
  },
  {
   "cell_type": "code",
   "execution_count": 70,
   "outputs": [],
   "source": [
    "#Переименование некоторых столбцов из временных названий\n",
    "data.rename(columns={\"college_x\": \"college\", \"position_x\": \"position\"}, inplace=True)\n",
    "#Изменение порядка столбцов и опускание не нужных\n",
    "data = data[[\"Player\", \"year_start\", \"year_end\", \"position\", \"height\", \"weight\", \"day_of_birth\", \"month_of_birth\",\n",
    "             \"year_of_birth\", \"birth_city\", \"college\"]]"
   ],
   "metadata": {
    "collapsed": false
   }
  },
  {
   "cell_type": "code",
   "execution_count": 71,
   "outputs": [
    {
     "data": {
      "text/plain": "                  Player  year_start  year_end position  height  weight  \\\n0         Alaa Abdelnaby      1991.0    1995.0   F,C,PF  208.14  108.43   \n1        Zaid Abdul-Aziz      1969.0    1978.0      F,C  205.87  106.30   \n2    Kareem Abdul-Jabbar      1970.0    1989.0        C  218.44  102.06   \n3     Mahmoud Abdul-Rauf      1991.0    2001.0     PG,G  186.71   78.24   \n4      Tariq Abdul-Wahad      1998.0    2003.0     F,SG  198.06  101.08   \n..                   ...         ...       ...      ...     ...     ...   \n995      Connie Dierking      1959.0    1971.0      F,C  205.87  100.35   \n996        Coby Dietrick      1971.0    1983.0      F,C  208.14   99.40   \n997     Ernie DiGregorio      1974.0    1978.0     PG,G  182.94   81.33   \n998           Craig Dill      1968.0    1968.0        C  210.82   97.52   \n999       Dwaine Dillard      1976.0    1976.0        F  198.12  104.33   \n\n    day_of_birth month_of_birth  year_of_birth        birth_city  \\\n0             24           June         1968.0             Cairo   \n1              7          April         1946.0          Brooklyn   \n2             16          April         1947.0               NaN   \n3              9          March         1942.0        Wilmington   \n4              3       November         1974.0    Maisons Alfort   \n..           ...            ...            ...               ...   \n995            2        October         1936.0          Brooklyn   \n996           23           July         1948.0         Riverside   \n997           15        January         1951.0  North Providence   \n998           17       December         1944.0               NaN   \n999            9          March         1949.0               NaN   \n\n                                   college  \n0                          Duke University  \n1                    Iowa State University  \n2    University of California, Los Angeles  \n3               Louisiana State University  \n4                San Jose State University  \n..                                     ...  \n995               University of Cincinnati  \n996              San Jose State University  \n997                     Providence College  \n998                 University of Michigan  \n999            Eastern Michigan University  \n\n[1000 rows x 11 columns]",
      "text/html": "<div>\n<style scoped>\n    .dataframe tbody tr th:only-of-type {\n        vertical-align: middle;\n    }\n\n    .dataframe tbody tr th {\n        vertical-align: top;\n    }\n\n    .dataframe thead th {\n        text-align: right;\n    }\n</style>\n<table border=\"1\" class=\"dataframe\">\n  <thead>\n    <tr style=\"text-align: right;\">\n      <th></th>\n      <th>Player</th>\n      <th>year_start</th>\n      <th>year_end</th>\n      <th>position</th>\n      <th>height</th>\n      <th>weight</th>\n      <th>day_of_birth</th>\n      <th>month_of_birth</th>\n      <th>year_of_birth</th>\n      <th>birth_city</th>\n      <th>college</th>\n    </tr>\n  </thead>\n  <tbody>\n    <tr>\n      <th>0</th>\n      <td>Alaa Abdelnaby</td>\n      <td>1991.0</td>\n      <td>1995.0</td>\n      <td>F,C,PF</td>\n      <td>208.14</td>\n      <td>108.43</td>\n      <td>24</td>\n      <td>June</td>\n      <td>1968.0</td>\n      <td>Cairo</td>\n      <td>Duke University</td>\n    </tr>\n    <tr>\n      <th>1</th>\n      <td>Zaid Abdul-Aziz</td>\n      <td>1969.0</td>\n      <td>1978.0</td>\n      <td>F,C</td>\n      <td>205.87</td>\n      <td>106.30</td>\n      <td>7</td>\n      <td>April</td>\n      <td>1946.0</td>\n      <td>Brooklyn</td>\n      <td>Iowa State University</td>\n    </tr>\n    <tr>\n      <th>2</th>\n      <td>Kareem Abdul-Jabbar</td>\n      <td>1970.0</td>\n      <td>1989.0</td>\n      <td>C</td>\n      <td>218.44</td>\n      <td>102.06</td>\n      <td>16</td>\n      <td>April</td>\n      <td>1947.0</td>\n      <td>NaN</td>\n      <td>University of California, Los Angeles</td>\n    </tr>\n    <tr>\n      <th>3</th>\n      <td>Mahmoud Abdul-Rauf</td>\n      <td>1991.0</td>\n      <td>2001.0</td>\n      <td>PG,G</td>\n      <td>186.71</td>\n      <td>78.24</td>\n      <td>9</td>\n      <td>March</td>\n      <td>1942.0</td>\n      <td>Wilmington</td>\n      <td>Louisiana State University</td>\n    </tr>\n    <tr>\n      <th>4</th>\n      <td>Tariq Abdul-Wahad</td>\n      <td>1998.0</td>\n      <td>2003.0</td>\n      <td>F,SG</td>\n      <td>198.06</td>\n      <td>101.08</td>\n      <td>3</td>\n      <td>November</td>\n      <td>1974.0</td>\n      <td>Maisons Alfort</td>\n      <td>San Jose State University</td>\n    </tr>\n    <tr>\n      <th>...</th>\n      <td>...</td>\n      <td>...</td>\n      <td>...</td>\n      <td>...</td>\n      <td>...</td>\n      <td>...</td>\n      <td>...</td>\n      <td>...</td>\n      <td>...</td>\n      <td>...</td>\n      <td>...</td>\n    </tr>\n    <tr>\n      <th>995</th>\n      <td>Connie Dierking</td>\n      <td>1959.0</td>\n      <td>1971.0</td>\n      <td>F,C</td>\n      <td>205.87</td>\n      <td>100.35</td>\n      <td>2</td>\n      <td>October</td>\n      <td>1936.0</td>\n      <td>Brooklyn</td>\n      <td>University of Cincinnati</td>\n    </tr>\n    <tr>\n      <th>996</th>\n      <td>Coby Dietrick</td>\n      <td>1971.0</td>\n      <td>1983.0</td>\n      <td>F,C</td>\n      <td>208.14</td>\n      <td>99.40</td>\n      <td>23</td>\n      <td>July</td>\n      <td>1948.0</td>\n      <td>Riverside</td>\n      <td>San Jose State University</td>\n    </tr>\n    <tr>\n      <th>997</th>\n      <td>Ernie DiGregorio</td>\n      <td>1974.0</td>\n      <td>1978.0</td>\n      <td>PG,G</td>\n      <td>182.94</td>\n      <td>81.33</td>\n      <td>15</td>\n      <td>January</td>\n      <td>1951.0</td>\n      <td>North Providence</td>\n      <td>Providence College</td>\n    </tr>\n    <tr>\n      <th>998</th>\n      <td>Craig Dill</td>\n      <td>1968.0</td>\n      <td>1968.0</td>\n      <td>C</td>\n      <td>210.82</td>\n      <td>97.52</td>\n      <td>17</td>\n      <td>December</td>\n      <td>1944.0</td>\n      <td>NaN</td>\n      <td>University of Michigan</td>\n    </tr>\n    <tr>\n      <th>999</th>\n      <td>Dwaine Dillard</td>\n      <td>1976.0</td>\n      <td>1976.0</td>\n      <td>F</td>\n      <td>198.12</td>\n      <td>104.33</td>\n      <td>9</td>\n      <td>March</td>\n      <td>1949.0</td>\n      <td>NaN</td>\n      <td>Eastern Michigan University</td>\n    </tr>\n  </tbody>\n</table>\n<p>1000 rows × 11 columns</p>\n</div>"
     },
     "execution_count": 71,
     "metadata": {},
     "output_type": "execute_result"
    }
   ],
   "source": [
    "data.head(1000)"
   ],
   "metadata": {
    "collapsed": false
   }
  },
  {
   "cell_type": "markdown",
   "source": [
    "Посмотрим какие данные у нас получились."
   ],
   "metadata": {
    "collapsed": false
   }
  },
  {
   "cell_type": "markdown",
   "source": [
    "Изначально посмотрим долю отсутствующих значений."
   ],
   "metadata": {
    "collapsed": false
   }
  },
  {
   "cell_type": "code",
   "execution_count": 72,
   "outputs": [
    {
     "name": "stdout",
     "output_type": "stream",
     "text": [
      "Player - 0.0%\n",
      "year_start - 3.35052%\n",
      "year_end - 3.35052%\n",
      "position - 0.0%\n",
      "height - 0.0%\n",
      "weight - 0.04296%\n",
      "day_of_birth - 4.01632%\n",
      "month_of_birth - 4.01632%\n",
      "year_of_birth - 0.53694%\n",
      "birth_city - 25.85911%\n",
      "college - 9.83677%\n"
     ]
    }
   ],
   "source": [
    "for col in data.columns:\n",
    "    pct_missing = np.mean(data[col].isnull())\n",
    "    print('{} - {}%'.format(col, round(pct_missing * 100, 5)))\n",
    "#Доли пропусков игроков нет. Доли других столбцов довольно малы, кроме пожалуй города рождения, и колледжа обучения. Но для таких, которые мало где освещаются, это вполне нормально."
   ],
   "metadata": {
    "collapsed": false
   }
  },
  {
   "cell_type": "markdown",
   "source": [
    "Какое распределение у года начала карьеры игроков."
   ],
   "metadata": {
    "collapsed": false
   }
  },
  {
   "cell_type": "code",
   "execution_count": 73,
   "outputs": [
    {
     "data": {
      "text/plain": "<Figure size 1000x400 with 1 Axes>",
      "image/png": "[encoded data removed]"
     },
     "metadata": {},
     "output_type": "display_data"
    }
   ],
   "source": [
    "data[\"year_start\"].hist(bins=50, figsize=(10, 4));\n",
    "#Вроде всё стабильно"
   ],
   "metadata": {
    "collapsed": false
   }
  },
  {
   "cell_type": "markdown",
   "source": [
    "Какое распределение у года начала карьеры игроков."
   ],
   "metadata": {
    "collapsed": false
   }
  },
  {
   "cell_type": "code",
   "execution_count": 74,
   "outputs": [
    {
     "data": {
      "text/plain": "<Figure size 1000x400 with 1 Axes>",
      "image/png": "[encoded data removed]"
     },
     "metadata": {},
     "output_type": "display_data"
    }
   ],
   "source": [
    "data[\"year_end\"].hist(bins=50, figsize=(10, 4));"
   ],
   "metadata": {
    "collapsed": false
   }
  },
  {
   "cell_type": "markdown",
   "source": [
    "Наглядно видно большой скачок данных в конце диапазона. Посмотрим какой процент игроков ушли в этот год, и что это за год."
   ],
   "metadata": {
    "collapsed": false
   }
  },
  {
   "cell_type": "code",
   "execution_count": 75,
   "outputs": [
    {
     "data": {
      "text/plain": "2018.0    0.103778\n2017.0    0.025333\n1950.0    0.022667\n1976.0    0.020667\n2005.0    0.019333\n            ...   \n1965.0    0.003556\n1966.0    0.003111\n1959.0    0.003111\n1961.0    0.002667\n1967.0    0.001333\nName: year_end, Length: 72, dtype: float64"
     },
     "execution_count": 75,
     "metadata": {},
     "output_type": "execute_result"
    }
   ],
   "source": [
    "data[\"year_end\"].value_counts(normalize=True)\n",
    "#На общем процентном соотношении видно что доля ухода игроков в 2018 году, всего 10%. Учитывая что (по моему предположению) 3тий сет как раз составлен на 2018 год, считаю такой исход вполне вероятным."
   ],
   "metadata": {
    "collapsed": false
   }
  },
  {
   "cell_type": "markdown",
   "source": [
    "Посмотрим нет ли выбросов в столбцах веса и роста."
   ],
   "metadata": {
    "collapsed": false
   }
  },
  {
   "cell_type": "code",
   "execution_count": 76,
   "outputs": [
    {
     "data": {
      "text/plain": "<AxesSubplot:>"
     },
     "execution_count": 76,
     "metadata": {},
     "output_type": "execute_result"
    },
    {
     "data": {
      "text/plain": "<Figure size 640x480 with 1 Axes>",
      "image/png": "[encoded data removed]"
     },
     "metadata": {},
     "output_type": "display_data"
    }
   ],
   "source": [
    "sns.boxplot(data[\"height\"])\n",
    "#Хоть 160 в баскетболе редко встретишь"
   ],
   "metadata": {
    "collapsed": false
   }
  },
  {
   "cell_type": "code",
   "execution_count": 77,
   "outputs": [
    {
     "data": {
      "text/plain": "             Player  year_start  year_end position  height  weight  \\\n364   Muggsy Bogues      1988.0    2001.0     PG,G  160.01   61.34   \n1092    Penny Early      1969.0    1969.0        G  160.02   51.71   \n\n     day_of_birth month_of_birth  year_of_birth birth_city  \\\n364             9        January         1965.0  Baltimore   \n1092           30            May         1943.0        NaN   \n\n                     college  \n364   Wake Forest University  \n1092                     NaN  ",
      "text/html": "<div>\n<style scoped>\n    .dataframe tbody tr th:only-of-type {\n        vertical-align: middle;\n    }\n\n    .dataframe tbody tr th {\n        vertical-align: top;\n    }\n\n    .dataframe thead th {\n        text-align: right;\n    }\n</style>\n<table border=\"1\" class=\"dataframe\">\n  <thead>\n    <tr style=\"text-align: right;\">\n      <th></th>\n      <th>Player</th>\n      <th>year_start</th>\n      <th>year_end</th>\n      <th>position</th>\n      <th>height</th>\n      <th>weight</th>\n      <th>day_of_birth</th>\n      <th>month_of_birth</th>\n      <th>year_of_birth</th>\n      <th>birth_city</th>\n      <th>college</th>\n    </tr>\n  </thead>\n  <tbody>\n    <tr>\n      <th>364</th>\n      <td>Muggsy Bogues</td>\n      <td>1988.0</td>\n      <td>2001.0</td>\n      <td>PG,G</td>\n      <td>160.01</td>\n      <td>61.34</td>\n      <td>9</td>\n      <td>January</td>\n      <td>1965.0</td>\n      <td>Baltimore</td>\n      <td>Wake Forest University</td>\n    </tr>\n    <tr>\n      <th>1092</th>\n      <td>Penny Early</td>\n      <td>1969.0</td>\n      <td>1969.0</td>\n      <td>G</td>\n      <td>160.02</td>\n      <td>51.71</td>\n      <td>30</td>\n      <td>May</td>\n      <td>1943.0</td>\n      <td>NaN</td>\n      <td>NaN</td>\n    </tr>\n  </tbody>\n</table>\n</div>"
     },
     "execution_count": 77,
     "metadata": {},
     "output_type": "execute_result"
    }
   ],
   "source": [
    "data[round(data[\"height\"]) == 160]\n",
    "#Но учитывая что грубо у нас таких два игрока такое может быть, это не ошибочные данные"
   ],
   "metadata": {
    "collapsed": false
   }
  },
  {
   "cell_type": "code",
   "execution_count": 78,
   "outputs": [
    {
     "data": {
      "text/plain": "<AxesSubplot:>"
     },
     "execution_count": 78,
     "metadata": {},
     "output_type": "execute_result"
    },
    {
     "data": {
      "text/plain": "<Figure size 640x480 with 1 Axes>",
      "image/png": "[encoded data removed]"
     },
     "metadata": {},
     "output_type": "display_data"
    }
   ],
   "source": [
    "sns.boxplot(data[\"weight\"])\n",
    "# А вот тут видно значение меньше 60, что вызывает подозрение"
   ],
   "metadata": {
    "collapsed": false
   }
  },
  {
   "cell_type": "code",
   "execution_count": 79,
   "outputs": [
    {
     "data": {
      "text/plain": "           Player  year_start  year_end position  height  weight day_of_birth  \\\n1092  Penny Early      1969.0    1969.0        G  160.02   51.71           30   \n\n     month_of_birth  year_of_birth birth_city college  \n1092            May         1943.0        NaN     NaN  ",
      "text/html": "<div>\n<style scoped>\n    .dataframe tbody tr th:only-of-type {\n        vertical-align: middle;\n    }\n\n    .dataframe tbody tr th {\n        vertical-align: top;\n    }\n\n    .dataframe thead th {\n        text-align: right;\n    }\n</style>\n<table border=\"1\" class=\"dataframe\">\n  <thead>\n    <tr style=\"text-align: right;\">\n      <th></th>\n      <th>Player</th>\n      <th>year_start</th>\n      <th>year_end</th>\n      <th>position</th>\n      <th>height</th>\n      <th>weight</th>\n      <th>day_of_birth</th>\n      <th>month_of_birth</th>\n      <th>year_of_birth</th>\n      <th>birth_city</th>\n      <th>college</th>\n    </tr>\n  </thead>\n  <tbody>\n    <tr>\n      <th>1092</th>\n      <td>Penny Early</td>\n      <td>1969.0</td>\n      <td>1969.0</td>\n      <td>G</td>\n      <td>160.02</td>\n      <td>51.71</td>\n      <td>30</td>\n      <td>May</td>\n      <td>1943.0</td>\n      <td>NaN</td>\n      <td>NaN</td>\n    </tr>\n  </tbody>\n</table>\n</div>"
     },
     "execution_count": 79,
     "metadata": {},
     "output_type": "execute_result"
    }
   ],
   "source": [
    "data[data[\"weight\"] < 60]\n",
    "#Но при росте 160 вес в 52кг вполне допустим, это тоже ошибочные данные"
   ],
   "metadata": {
    "collapsed": false
   }
  },
  {
   "cell_type": "markdown",
   "source": [
    "Проверим даты"
   ],
   "metadata": {
    "collapsed": false
   }
  },
  {
   "cell_type": "code",
   "execution_count": 80,
   "outputs": [
    {
     "name": "stdout",
     "output_type": "stream",
     "text": [
      "Min day: 1\n",
      "Max day: 31\n"
     ]
    }
   ],
   "source": [
    "temp_data = data[~pd.isna(data[\"day_of_birth\"])]\n",
    "print(\"Min day:\", temp_data[\"day_of_birth\"].astype(int).min())\n",
    "print(\"Max day:\", temp_data[\"day_of_birth\"].astype(int).max())\n",
    "#Видно что проблем с днями нет, они находятся в допустимых значениях"
   ],
   "metadata": {
    "collapsed": false
   }
  },
  {
   "cell_type": "code",
   "execution_count": 81,
   "outputs": [
    {
     "data": {
      "text/plain": "July         416\nMarch        397\nSeptember    392\nOctober      386\nFebruary     376\nJanuary      372\nMay          366\nJune         366\nAugust       363\nNovember     355\nDecember     348\nApril        332\nName: month_of_birth, dtype: int64"
     },
     "execution_count": 81,
     "metadata": {},
     "output_type": "execute_result"
    }
   ],
   "source": [
    "data[\"month_of_birth\"].value_counts()\n",
    "#Месяцев 12, не 13 или 14"
   ],
   "metadata": {
    "collapsed": false
   }
  },
  {
   "cell_type": "code",
   "execution_count": 82,
   "outputs": [
    {
     "data": {
      "text/plain": "<AxesSubplot:>"
     },
     "execution_count": 82,
     "metadata": {},
     "output_type": "execute_result"
    },
    {
     "data": {
      "text/plain": "<Figure size 640x480 with 1 Axes>",
      "image/png": "[encoded data removed]"
     },
     "metadata": {},
     "output_type": "display_data"
    }
   ],
   "source": [
    "sns.boxplot(data[\"year_of_birth\"])\n",
    "#Аномалий в годах не обнаружено"
   ],
   "metadata": {
    "collapsed": false
   }
  },
  {
   "cell_type": "code",
   "execution_count": 83,
   "outputs": [
    {
     "data": {
      "text/plain": "array(['F,C,PF', 'F,C', 'C', 'PG,G', 'F,SG', 'F,PF', 'F,SF', 'G', 'F',\n       'SG,F,G', 'SG,G', 'F,G', 'F,G,SF', 'C,F', 'C,PF', 'G,SF', 'SG,C',\n       'F,C,SF', 'G,F', 'PG,F,G', 'F,SF,PF', 'SG,G,PG', 'F,G,C',\n       'PG,SG,G', 'F,G,PF', 'F,SG,C', 'F,PG', 'SG,F,G,SF', 'PG', 'C,SF',\n       'PF', 'SF', 'SG'], dtype=object)"
     },
     "execution_count": 83,
     "metadata": {},
     "output_type": "execute_result"
    }
   ],
   "source": [
    "data[\"position\"].unique()\n",
    "#В перечне уникальных списков позиций нет нечего что не может быть позицией игрока"
   ],
   "metadata": {
    "collapsed": false
   }
  },
  {
   "cell_type": "markdown",
   "source": [
    "Так же удалим некоторые элемент nan."
   ],
   "metadata": {
    "collapsed": false
   }
  },
  {
   "cell_type": "code",
   "execution_count": 84,
   "outputs": [],
   "source": [
    "data[\"weight\"].fillna(data[\"weight\"].mean(), inplace = True)\n",
    "data[\"height\"].fillna(data[\"height\"].mean(), inplace = True)\n",
    "data[\"college\"].fillna(\"Unknown\",inplace=True)\n",
    "data[\"birth_city\"].fillna(\"Unknown\",inplace=True)\n",
    "data[\"day_of_birth\"].fillna(0,inplace=True)\n",
    "data[\"month_of_birth\"].fillna(\"January\",inplace=True)\n",
    "data[\"year_of_birth\"].fillna(0,inplace=True)"
   ],
   "metadata": {
    "collapsed": false
   }
  },
  {
   "cell_type": "markdown",
   "source": [
    "Итак мы видим что в получившемся дата сете, нет никаких аномалий, можем с ним работать дальше."
   ],
   "metadata": {
    "collapsed": false
   }
  },
  {
   "cell_type": "markdown",
   "source": [
    "Добавим несколько фичей:"
   ],
   "metadata": {
    "collapsed": false
   }
  },
  {
   "cell_type": "code",
   "execution_count": 85,
   "outputs": [
    {
     "data": {
      "text/plain": "                 Player  year_start  year_end position  height  weight  \\\n0        Alaa Abdelnaby      1991.0    1995.0   F,C,PF  208.14  108.43   \n1       Zaid Abdul-Aziz      1969.0    1978.0      F,C  205.87  106.30   \n2   Kareem Abdul-Jabbar      1970.0    1989.0        C  218.44  102.06   \n3    Mahmoud Abdul-Rauf      1991.0    2001.0     PG,G  186.71   78.24   \n4     Tariq Abdul-Wahad      1998.0    2003.0     F,SG  198.06  101.08   \n5   Shareef Abdur-Rahim      1997.0    2008.0     F,PF  205.87  102.03   \n6         Tom Abernethy      1977.0    1981.0     F,SF  200.83   99.40   \n7           Forest Able      1957.0    1957.0        G  190.25   81.33   \n8        John Abramovic      1947.0    1948.0        F  190.50   88.45   \n9          Alex Abrines      2017.0    2018.0   SG,F,G  198.06   86.09   \n10           Alex Acker      2006.0    2009.0     SG,G  195.79   83.46   \n11         Don Ackerman      1954.0    1954.0     PG,G  182.94   83.00   \n12           Mark Acres      1988.0    1993.0      F,C  210.91   99.40   \n13            Bud Acton      1968.0    1968.0     F,SF  198.06   95.13   \n14           Quincy Acy      2013.0    2018.0     F,PF  200.83  108.43   \n15          Alvan Adams      1976.0    1988.0      F,C  205.87   95.13   \n16            Don Adams      1971.0    1977.0     F,SF  198.06   95.13   \n17         George Adams      1973.0    1975.0      F,G  195.58   95.26   \n18         Hassan Adams      2007.0    2009.0     SG,G  193.02   99.40   \n19         Jordan Adams      2015.0    2016.0     SG,G  195.79   94.40   \n20        Michael Adams      1986.0    1996.0     PG,G  177.90   73.24   \n21         Steven Adams      2014.0    2018.0        C  213.18  115.34   \n22       Rafael Addison      1987.0    1997.0   F,G,SF  200.83   97.26   \n23          Bam Adebayo      2018.0    2018.0      C,F  208.28  110.22   \n24         Rick Adelman      1969.0    1975.0     PG,G  185.21   79.19   \n25          Jeff Adrien      2011.0    2015.0     F,PF  200.83  111.06   \n26        Arron Afflalo      2008.0    2018.0     SG,G  195.79   95.13   \n27         Maurice Ager      2007.0    2011.0     SG,G  195.79   91.31   \n28         Mark Aguirre      1982.0    1994.0   F,G,SF  198.06  105.12   \n29         Blake Ahearn      2008.0    2012.0     PG,G  187.98   86.09   \n30          Danny Ainge      1982.0    1995.0     SG,G  193.02   79.19   \n31        Matthew Aitch      1968.0    1968.0        F  200.66  104.33   \n32        Alexis Ajinca      2009.0    2017.0     C,PF  218.22  112.25   \n33           Henry Akin      1967.0    1969.0   F,C,PF  208.14  102.03   \n34         Josh Akognon      2013.0    2013.0     PG,G  180.17   83.46   \n35        Solomon Alabi      2011.0    2012.0        C  215.95  113.42   \n36          Mark Alarie      1987.0    1991.0     F,PF  203.10   98.22   \n37          Gary Alcorn      1960.0    1961.0        C  205.87  102.03   \n38       Furkan Aldemir      2015.0    2015.0   F,C,PF  208.14  108.43   \n39         Cole Aldrich      2011.0    2018.0        C  210.91  113.20   \n40    LaMarcus Aldridge      2007.0    2018.0      F,C  210.91  117.47   \n41      Chuck Aleksinas      1985.0    1985.0        C  210.91  117.47   \n42      Cliff Alexander      2016.0    2016.0     F,PF  203.10  111.06   \n43       Cory Alexander      1996.0    2005.0     PG,G  185.21   83.46   \n44   Courtney Alexander      2001.0    2003.0     PG,G  190.29   88.00   \n45       Gary Alexander      1994.0    1994.0     F,PF  200.83  108.43   \n46        Joe Alexander      2009.0    2010.0     F,SF  203.10  104.16   \n47     Victor Alexander      1992.0    2002.0      F,C  205.87  120.10   \n48         Steve Alford      1988.0    1991.0     PG,G  187.98   83.00   \n49           Bill Allen      1968.0    1968.0      C,F  203.20   92.99   \n\n   day_of_birth  month_of_birth  year_of_birth         birth_city  ...  id  \\\n0            24               6         1968.0              Cairo  ...   0   \n1             7               4         1946.0           Brooklyn  ...   1   \n2            16               4         1947.0            Unknown  ...   2   \n3             9               3         1942.0         Wilmington  ...   3   \n4             3              11         1974.0     Maisons Alfort  ...   4   \n5            11              12         1976.0           Marietta  ...   5   \n6             6               5         1954.0         South Bend  ...   6   \n7            27               7         1932.0            Unknown  ...   7   \n8             9               2         1919.0            Unknown  ...   8   \n9             1               8         1993.0  Palma de Mallorca  ...   9   \n10           21               1         1983.0            Compton  ...  10   \n11            4               9         1930.0           New York  ...  11   \n12           15              11         1962.0          Inglewood  ...  12   \n13           11               1         1942.0            Unknown  ...  13   \n14            6              10         1990.0              Tyler  ...  14   \n15           19               7         1954.0           Lawrence  ...  15   \n16           27              11         1947.0            Atlanta  ...  16   \n17           15               5         1949.0            Unknown  ...  17   \n18           20               6         1984.0          Inglewood  ...  18   \n19            8               7         1994.0            Atlanta  ...  19   \n20           19               1         1963.0           Hartford  ...  20   \n21           20               7         1993.0            Rotorua  ...  21   \n22           22               7         1964.0        Jersey City  ...  22   \n23           18               7         1997.0            Unknown  ...  23   \n24           16               6         1946.0            Lynwood  ...  24   \n25           10               2         1986.0          Brookline  ...  25   \n26           15              10         1985.0        Los Angeles  ...  26   \n27            9               2         1984.0            Detroit  ...  27   \n28           10              12         1959.0            Chicago  ...  28   \n29           27               5         1984.0          St. Louis  ...  29   \n30           17               3         1959.0             Eugene  ...  30   \n31           21               9         1944.0            Unknown  ...  31   \n32            6               5         1988.0      Saint-Etienne  ...  32   \n33           31               7         1944.0            Detroit  ...  33   \n34           10               2         1986.0          Greenbrae  ...  34   \n35           21               3         1988.0             Kaduna  ...  35   \n36           11              12         1963.0            Phoenix  ...  36   \n37            8              10         1936.0            Unknown  ...  37   \n38            9               8         1991.0              Konak  ...  38   \n39           31              10         1988.0         Burnsville  ...  39   \n40           19               7         1985.0             Dallas  ...  40   \n41           26               2         1959.0         Litchfield  ...  41   \n42           16              11         1995.0            Chicago  ...  42   \n43           22               6         1973.0         Waynesboro  ...  43   \n44           27               4         1973.0         Waynesboro  ...  44   \n45            1              11         1969.0       Jacksonville  ...  45   \n46           26              12         1986.0          Kaohsiung  ...  46   \n47           31               8         1969.0            Detroit  ...  47   \n48           23              11         1964.0           Franklin  ...  48   \n49            0               1            0.0            Unknown  ...  49   \n\n     BMI  career_duration  weight_deviation  height_deviation  \\\n0   25.0              5.0             13.99              9.99   \n1   25.0             10.0             11.86              7.72   \n2   21.0             20.0              7.62             20.29   \n3   22.0             11.0            -16.20            -11.44   \n4   26.0              6.0              6.64             -0.09   \n5   24.0             12.0              7.59              7.72   \n6   25.0              5.0              4.96              2.68   \n7   22.0              1.0            -13.11             -7.90   \n8   24.0              2.0             -5.99             -7.65   \n9   22.0              2.0             -8.35             -0.09   \n10  22.0              4.0            -10.98             -2.36   \n11  25.0              1.0            -11.44            -15.21   \n12  22.0              6.0              4.96             12.76   \n13  24.0              1.0              0.69             -0.09   \n14  27.0              6.0             13.99              2.68   \n15  22.0             13.0              0.69              7.72   \n16  24.0              7.0              0.69             -0.09   \n17  25.0              3.0              0.82             -2.57   \n18  27.0              3.0              4.96             -5.13   \n19  25.0              2.0             -0.04             -2.36   \n20  23.0             11.0            -21.20            -20.25   \n21  25.0              5.0             20.90             15.03   \n22  24.0             11.0              2.82              2.68   \n23  25.0              1.0             15.78             10.13   \n24  23.0              7.0            -15.25            -12.94   \n25  28.0              5.0             16.62              2.68   \n26  25.0             11.0              0.69             -2.36   \n27  24.0              5.0             -3.13             -2.36   \n28  27.0             13.0             10.68             -0.09   \n29  24.0              5.0             -8.35            -10.17   \n30  21.0             14.0            -15.25             -5.13   \n31  26.0              1.0              9.89              2.51   \n32  24.0              9.0             17.81             20.07   \n33  24.0              3.0              7.59              9.99   \n34  26.0              1.0            -10.98            -17.98   \n35  24.0              2.0             18.98             17.80   \n36  24.0              5.0              3.78              4.95   \n37  24.0              2.0              7.59              7.72   \n38  25.0              1.0             13.99              9.99   \n39  25.0              8.0             18.76             12.76   \n40  26.0             12.0             23.03             12.76   \n41  26.0              1.0             23.03             12.76   \n42  27.0              1.0             16.62              4.95   \n43  24.0             10.0            -10.98            -12.94   \n44  24.0              3.0             -6.44             -7.86   \n45  27.0              1.0             13.99              2.68   \n46  25.0              2.0              9.72              4.95   \n47  28.0             11.0             25.66              7.72   \n48  23.0              4.0            -11.44            -10.17   \n49  23.0              1.0             -1.45              5.05   \n\n    start_career_age  end_career_age     age  life_digit  something_so_strange  \n0               23.0            27.0    55.0           9          4.340598e-07  \n1               23.0            32.0    77.0           4          7.644817e-05  \n2               23.0            42.0    76.0           5          1.824728e-05  \n3               49.0            59.0    81.0           1          7.575758e-02  \n4               24.0            29.0    49.0           8          5.193811e-04  \n5               21.0            32.0    47.0           1          4.787234e-01  \n6               23.0            27.0    69.0           3          2.219117e-03  \n7               25.0            25.0    91.0           4          6.128948e-04  \n8               28.0            29.0   104.0           4          1.690409e-06  \n9               24.0            25.0    30.0           4          8.851854e-02  \n10              23.0            26.0    40.0           7          9.143425e-10  \n11              24.0            24.0    93.0           8          8.477280e-07  \n12              26.0            31.0    61.0           8          3.426269e-04  \n13              26.0            26.0    81.0           1          2.314815e-02  \n14              23.0            28.0    33.0           8          4.233294e-03  \n15              22.0            34.0    69.0           9          7.134262e-07  \n16              24.0            30.0    76.0           5          1.471980e-03  \n17              24.0            26.0    74.0           7          3.936185e-07  \n18              23.0            25.0    39.0           3          1.685801e-02  \n19              21.0            22.0    29.0          11          1.041593e-04  \n20              23.0            33.0    60.0           3          3.467371e-05  \n21              21.0            25.0    30.0           4          3.111696e-02  \n22              23.0            33.0    59.0           4          2.449002e-03  \n23              21.0            21.0    26.0           6          1.295338e-02  \n24              23.0            29.0    77.0           6          1.255658e-05  \n25              25.0            29.0    37.0           9          2.818025e-10  \n26              23.0            33.0    38.0           3          1.062837e-01  \n27              23.0            27.0    39.0           6          7.903145e-07  \n28              23.0            35.0    64.0           1          3.125000e-01  \n29              24.0            28.0    39.0           9          2.680156e-06  \n30              23.0            36.0    64.0           8          1.036277e-08  \n31              24.0            24.0    79.0           3          7.665911e-03  \n32              21.0            29.0    35.0           1          2.678571e-01  \n33              23.0            25.0    79.0          11          2.661917e-09  \n34              27.0            27.0    37.0           9          5.490437e-10  \n35              23.0            24.0    35.0           5          1.072192e-04  \n36              24.0            28.0    60.0           6          2.780914e-03  \n37              24.0            25.0    87.0           1          2.155172e-01  \n38              24.0            24.0    32.0           1          4.500000e-01  \n39              23.0            30.0    35.0           4          6.995485e-02  \n40              22.0            33.0    38.0           4          1.033271e-02  \n41              26.0            26.0    64.0           7          1.354018e-09  \n42              21.0            21.0    28.0           6          7.879532e-02  \n43              23.0            32.0    50.0           3          1.139063e-02  \n44              28.0            30.0    50.0           6          1.139062e-05  \n45              25.0            25.0    54.0           1          3.395062e-01  \n46              23.0            24.0    37.0           8          1.349013e-02  \n47              23.0            33.0    54.0           1          2.380952e-01  \n48              24.0            27.0    59.0           9          1.143479e-04  \n49            1968.0          1968.0  2023.0           1          9.671388e-04  \n\n[50 rows x 21 columns]",
      "text/html": "<div>\n<style scoped>\n    .dataframe tbody tr th:only-of-type {\n        vertical-align: middle;\n    }\n\n    .dataframe tbody tr th {\n        vertical-align: top;\n    }\n\n    .dataframe thead th {\n        text-align: right;\n    }\n</style>\n<table border=\"1\" class=\"dataframe\">\n  <thead>\n    <tr style=\"text-align: right;\">\n      <th></th>\n      <th>Player</th>\n      <th>year_start</th>\n      <th>year_end</th>\n      <th>position</th>\n      <th>height</th>\n      <th>weight</th>\n      <th>day_of_birth</th>\n      <th>month_of_birth</th>\n      <th>year_of_birth</th>\n      <th>birth_city</th>\n      <th>...</th>\n      <th>id</th>\n      <th>BMI</th>\n      <th>career_duration</th>\n      <th>weight_deviation</th>\n      <th>height_deviation</th>\n      <th>start_career_age</th>\n      <th>end_career_age</th>\n      <th>age</th>\n      <th>life_digit</th>\n      <th>something_so_strange</th>\n    </tr>\n  </thead>\n  <tbody>\n    <tr>\n      <th>0</th>\n      <td>Alaa Abdelnaby</td>\n      <td>1991.0</td>\n      <td>1995.0</td>\n      <td>F,C,PF</td>\n      <td>208.14</td>\n      <td>108.43</td>\n      <td>24</td>\n      <td>6</td>\n      <td>1968.0</td>\n      <td>Cairo</td>\n      <td>...</td>\n      <td>0</td>\n      <td>25.0</td>\n      <td>5.0</td>\n      <td>13.99</td>\n      <td>9.99</td>\n      <td>23.0</td>\n      <td>27.0</td>\n      <td>55.0</td>\n      <td>9</td>\n      <td>4.340598e-07</td>\n    </tr>\n    <tr>\n      <th>1</th>\n      <td>Zaid Abdul-Aziz</td>\n      <td>1969.0</td>\n      <td>1978.0</td>\n      <td>F,C</td>\n      <td>205.87</td>\n      <td>106.30</td>\n      <td>7</td>\n      <td>4</td>\n      <td>1946.0</td>\n      <td>Brooklyn</td>\n      <td>...</td>\n      <td>1</td>\n      <td>25.0</td>\n      <td>10.0</td>\n      <td>11.86</td>\n      <td>7.72</td>\n      <td>23.0</td>\n      <td>32.0</td>\n      <td>77.0</td>\n      <td>4</td>\n      <td>7.644817e-05</td>\n    </tr>\n    <tr>\n      <th>2</th>\n      <td>Kareem Abdul-Jabbar</td>\n      <td>1970.0</td>\n      <td>1989.0</td>\n      <td>C</td>\n      <td>218.44</td>\n      <td>102.06</td>\n      <td>16</td>\n      <td>4</td>\n      <td>1947.0</td>\n      <td>Unknown</td>\n      <td>...</td>\n      <td>2</td>\n      <td>21.0</td>\n      <td>20.0</td>\n      <td>7.62</td>\n      <td>20.29</td>\n      <td>23.0</td>\n      <td>42.0</td>\n      <td>76.0</td>\n      <td>5</td>\n      <td>1.824728e-05</td>\n    </tr>\n    <tr>\n      <th>3</th>\n      <td>Mahmoud Abdul-Rauf</td>\n      <td>1991.0</td>\n      <td>2001.0</td>\n      <td>PG,G</td>\n      <td>186.71</td>\n      <td>78.24</td>\n      <td>9</td>\n      <td>3</td>\n      <td>1942.0</td>\n      <td>Wilmington</td>\n      <td>...</td>\n      <td>3</td>\n      <td>22.0</td>\n      <td>11.0</td>\n      <td>-16.20</td>\n      <td>-11.44</td>\n      <td>49.0</td>\n      <td>59.0</td>\n      <td>81.0</td>\n      <td>1</td>\n      <td>7.575758e-02</td>\n    </tr>\n    <tr>\n      <th>4</th>\n      <td>Tariq Abdul-Wahad</td>\n      <td>1998.0</td>\n      <td>2003.0</td>\n      <td>F,SG</td>\n      <td>198.06</td>\n      <td>101.08</td>\n      <td>3</td>\n      <td>11</td>\n      <td>1974.0</td>\n      <td>Maisons Alfort</td>\n      <td>...</td>\n      <td>4</td>\n      <td>26.0</td>\n      <td>6.0</td>\n      <td>6.64</td>\n      <td>-0.09</td>\n      <td>24.0</td>\n      <td>29.0</td>\n      <td>49.0</td>\n      <td>8</td>\n      <td>5.193811e-04</td>\n    </tr>\n    <tr>\n      <th>5</th>\n      <td>Shareef Abdur-Rahim</td>\n      <td>1997.0</td>\n      <td>2008.0</td>\n      <td>F,PF</td>\n      <td>205.87</td>\n      <td>102.03</td>\n      <td>11</td>\n      <td>12</td>\n      <td>1976.0</td>\n      <td>Marietta</td>\n      <td>...</td>\n      <td>5</td>\n      <td>24.0</td>\n      <td>12.0</td>\n      <td>7.59</td>\n      <td>7.72</td>\n      <td>21.0</td>\n      <td>32.0</td>\n      <td>47.0</td>\n      <td>1</td>\n      <td>4.787234e-01</td>\n    </tr>\n    <tr>\n      <th>6</th>\n      <td>Tom Abernethy</td>\n      <td>1977.0</td>\n      <td>1981.0</td>\n      <td>F,SF</td>\n      <td>200.83</td>\n      <td>99.40</td>\n      <td>6</td>\n      <td>5</td>\n      <td>1954.0</td>\n      <td>South Bend</td>\n      <td>...</td>\n      <td>6</td>\n      <td>25.0</td>\n      <td>5.0</td>\n      <td>4.96</td>\n      <td>2.68</td>\n      <td>23.0</td>\n      <td>27.0</td>\n      <td>69.0</td>\n      <td>3</td>\n      <td>2.219117e-03</td>\n    </tr>\n    <tr>\n      <th>7</th>\n      <td>Forest Able</td>\n      <td>1957.0</td>\n      <td>1957.0</td>\n      <td>G</td>\n      <td>190.25</td>\n      <td>81.33</td>\n      <td>27</td>\n      <td>7</td>\n      <td>1932.0</td>\n      <td>Unknown</td>\n      <td>...</td>\n      <td>7</td>\n      <td>22.0</td>\n      <td>1.0</td>\n      <td>-13.11</td>\n      <td>-7.90</td>\n      <td>25.0</td>\n      <td>25.0</td>\n      <td>91.0</td>\n      <td>4</td>\n      <td>6.128948e-04</td>\n    </tr>\n    <tr>\n      <th>8</th>\n      <td>John Abramovic</td>\n      <td>1947.0</td>\n      <td>1948.0</td>\n      <td>F</td>\n      <td>190.50</td>\n      <td>88.45</td>\n      <td>9</td>\n      <td>2</td>\n      <td>1919.0</td>\n      <td>Unknown</td>\n      <td>...</td>\n      <td>8</td>\n      <td>24.0</td>\n      <td>2.0</td>\n      <td>-5.99</td>\n      <td>-7.65</td>\n      <td>28.0</td>\n      <td>29.0</td>\n      <td>104.0</td>\n      <td>4</td>\n      <td>1.690409e-06</td>\n    </tr>\n    <tr>\n      <th>9</th>\n      <td>Alex Abrines</td>\n      <td>2017.0</td>\n      <td>2018.0</td>\n      <td>SG,F,G</td>\n      <td>198.06</td>\n      <td>86.09</td>\n      <td>1</td>\n      <td>8</td>\n      <td>1993.0</td>\n      <td>Palma de Mallorca</td>\n      <td>...</td>\n      <td>9</td>\n      <td>22.0</td>\n      <td>2.0</td>\n      <td>-8.35</td>\n      <td>-0.09</td>\n      <td>24.0</td>\n      <td>25.0</td>\n      <td>30.0</td>\n      <td>4</td>\n      <td>8.851854e-02</td>\n    </tr>\n    <tr>\n      <th>10</th>\n      <td>Alex Acker</td>\n      <td>2006.0</td>\n      <td>2009.0</td>\n      <td>SG,G</td>\n      <td>195.79</td>\n      <td>83.46</td>\n      <td>21</td>\n      <td>1</td>\n      <td>1983.0</td>\n      <td>Compton</td>\n      <td>...</td>\n      <td>10</td>\n      <td>22.0</td>\n      <td>4.0</td>\n      <td>-10.98</td>\n      <td>-2.36</td>\n      <td>23.0</td>\n      <td>26.0</td>\n      <td>40.0</td>\n      <td>7</td>\n      <td>9.143425e-10</td>\n    </tr>\n    <tr>\n      <th>11</th>\n      <td>Don Ackerman</td>\n      <td>1954.0</td>\n      <td>1954.0</td>\n      <td>PG,G</td>\n      <td>182.94</td>\n      <td>83.00</td>\n      <td>4</td>\n      <td>9</td>\n      <td>1930.0</td>\n      <td>New York</td>\n      <td>...</td>\n      <td>11</td>\n      <td>25.0</td>\n      <td>1.0</td>\n      <td>-11.44</td>\n      <td>-15.21</td>\n      <td>24.0</td>\n      <td>24.0</td>\n      <td>93.0</td>\n      <td>8</td>\n      <td>8.477280e-07</td>\n    </tr>\n    <tr>\n      <th>12</th>\n      <td>Mark Acres</td>\n      <td>1988.0</td>\n      <td>1993.0</td>\n      <td>F,C</td>\n      <td>210.91</td>\n      <td>99.40</td>\n      <td>15</td>\n      <td>11</td>\n      <td>1962.0</td>\n      <td>Inglewood</td>\n      <td>...</td>\n      <td>12</td>\n      <td>22.0</td>\n      <td>6.0</td>\n      <td>4.96</td>\n      <td>12.76</td>\n      <td>26.0</td>\n      <td>31.0</td>\n      <td>61.0</td>\n      <td>8</td>\n      <td>3.426269e-04</td>\n    </tr>\n    <tr>\n      <th>13</th>\n      <td>Bud Acton</td>\n      <td>1968.0</td>\n      <td>1968.0</td>\n      <td>F,SF</td>\n      <td>198.06</td>\n      <td>95.13</td>\n      <td>11</td>\n      <td>1</td>\n      <td>1942.0</td>\n      <td>Unknown</td>\n      <td>...</td>\n      <td>13</td>\n      <td>24.0</td>\n      <td>1.0</td>\n      <td>0.69</td>\n      <td>-0.09</td>\n      <td>26.0</td>\n      <td>26.0</td>\n      <td>81.0</td>\n      <td>1</td>\n      <td>2.314815e-02</td>\n    </tr>\n    <tr>\n      <th>14</th>\n      <td>Quincy Acy</td>\n      <td>2013.0</td>\n      <td>2018.0</td>\n      <td>F,PF</td>\n      <td>200.83</td>\n      <td>108.43</td>\n      <td>6</td>\n      <td>10</td>\n      <td>1990.0</td>\n      <td>Tyler</td>\n      <td>...</td>\n      <td>14</td>\n      <td>27.0</td>\n      <td>6.0</td>\n      <td>13.99</td>\n      <td>2.68</td>\n      <td>23.0</td>\n      <td>28.0</td>\n      <td>33.0</td>\n      <td>8</td>\n      <td>4.233294e-03</td>\n    </tr>\n    <tr>\n      <th>15</th>\n      <td>Alvan Adams</td>\n      <td>1976.0</td>\n      <td>1988.0</td>\n      <td>F,C</td>\n      <td>205.87</td>\n      <td>95.13</td>\n      <td>19</td>\n      <td>7</td>\n      <td>1954.0</td>\n      <td>Lawrence</td>\n      <td>...</td>\n      <td>15</td>\n      <td>22.0</td>\n      <td>13.0</td>\n      <td>0.69</td>\n      <td>7.72</td>\n      <td>22.0</td>\n      <td>34.0</td>\n      <td>69.0</td>\n      <td>9</td>\n      <td>7.134262e-07</td>\n    </tr>\n    <tr>\n      <th>16</th>\n      <td>Don Adams</td>\n      <td>1971.0</td>\n      <td>1977.0</td>\n      <td>F,SF</td>\n      <td>198.06</td>\n      <td>95.13</td>\n      <td>27</td>\n      <td>11</td>\n      <td>1947.0</td>\n      <td>Atlanta</td>\n      <td>...</td>\n      <td>16</td>\n      <td>24.0</td>\n      <td>7.0</td>\n      <td>0.69</td>\n      <td>-0.09</td>\n      <td>24.0</td>\n      <td>30.0</td>\n      <td>76.0</td>\n      <td>5</td>\n      <td>1.471980e-03</td>\n    </tr>\n    <tr>\n      <th>17</th>\n      <td>George Adams</td>\n      <td>1973.0</td>\n      <td>1975.0</td>\n      <td>F,G</td>\n      <td>195.58</td>\n      <td>95.26</td>\n      <td>15</td>\n      <td>5</td>\n      <td>1949.0</td>\n      <td>Unknown</td>\n      <td>...</td>\n      <td>17</td>\n      <td>25.0</td>\n      <td>3.0</td>\n      <td>0.82</td>\n      <td>-2.57</td>\n      <td>24.0</td>\n      <td>26.0</td>\n      <td>74.0</td>\n      <td>7</td>\n      <td>3.936185e-07</td>\n    </tr>\n    <tr>\n      <th>18</th>\n      <td>Hassan Adams</td>\n      <td>2007.0</td>\n      <td>2009.0</td>\n      <td>SG,G</td>\n      <td>193.02</td>\n      <td>99.40</td>\n      <td>20</td>\n      <td>6</td>\n      <td>1984.0</td>\n      <td>Inglewood</td>\n      <td>...</td>\n      <td>18</td>\n      <td>27.0</td>\n      <td>3.0</td>\n      <td>4.96</td>\n      <td>-5.13</td>\n      <td>23.0</td>\n      <td>25.0</td>\n      <td>39.0</td>\n      <td>3</td>\n      <td>1.685801e-02</td>\n    </tr>\n    <tr>\n      <th>19</th>\n      <td>Jordan Adams</td>\n      <td>2015.0</td>\n      <td>2016.0</td>\n      <td>SG,G</td>\n      <td>195.79</td>\n      <td>94.40</td>\n      <td>8</td>\n      <td>7</td>\n      <td>1994.0</td>\n      <td>Atlanta</td>\n      <td>...</td>\n      <td>19</td>\n      <td>25.0</td>\n      <td>2.0</td>\n      <td>-0.04</td>\n      <td>-2.36</td>\n      <td>21.0</td>\n      <td>22.0</td>\n      <td>29.0</td>\n      <td>11</td>\n      <td>1.041593e-04</td>\n    </tr>\n    <tr>\n      <th>20</th>\n      <td>Michael Adams</td>\n      <td>1986.0</td>\n      <td>1996.0</td>\n      <td>PG,G</td>\n      <td>177.90</td>\n      <td>73.24</td>\n      <td>19</td>\n      <td>1</td>\n      <td>1963.0</td>\n      <td>Hartford</td>\n      <td>...</td>\n      <td>20</td>\n      <td>23.0</td>\n      <td>11.0</td>\n      <td>-21.20</td>\n      <td>-20.25</td>\n      <td>23.0</td>\n      <td>33.0</td>\n      <td>60.0</td>\n      <td>3</td>\n      <td>3.467371e-05</td>\n    </tr>\n    <tr>\n      <th>21</th>\n      <td>Steven Adams</td>\n      <td>2014.0</td>\n      <td>2018.0</td>\n      <td>C</td>\n      <td>213.18</td>\n      <td>115.34</td>\n      <td>20</td>\n      <td>7</td>\n      <td>1993.0</td>\n      <td>Rotorua</td>\n      <td>...</td>\n      <td>21</td>\n      <td>25.0</td>\n      <td>5.0</td>\n      <td>20.90</td>\n      <td>15.03</td>\n      <td>21.0</td>\n      <td>25.0</td>\n      <td>30.0</td>\n      <td>4</td>\n      <td>3.111696e-02</td>\n    </tr>\n    <tr>\n      <th>22</th>\n      <td>Rafael Addison</td>\n      <td>1987.0</td>\n      <td>1997.0</td>\n      <td>F,G,SF</td>\n      <td>200.83</td>\n      <td>97.26</td>\n      <td>22</td>\n      <td>7</td>\n      <td>1964.0</td>\n      <td>Jersey City</td>\n      <td>...</td>\n      <td>22</td>\n      <td>24.0</td>\n      <td>11.0</td>\n      <td>2.82</td>\n      <td>2.68</td>\n      <td>23.0</td>\n      <td>33.0</td>\n      <td>59.0</td>\n      <td>4</td>\n      <td>2.449002e-03</td>\n    </tr>\n    <tr>\n      <th>23</th>\n      <td>Bam Adebayo</td>\n      <td>2018.0</td>\n      <td>2018.0</td>\n      <td>C,F</td>\n      <td>208.28</td>\n      <td>110.22</td>\n      <td>18</td>\n      <td>7</td>\n      <td>1997.0</td>\n      <td>Unknown</td>\n      <td>...</td>\n      <td>23</td>\n      <td>25.0</td>\n      <td>1.0</td>\n      <td>15.78</td>\n      <td>10.13</td>\n      <td>21.0</td>\n      <td>21.0</td>\n      <td>26.0</td>\n      <td>6</td>\n      <td>1.295338e-02</td>\n    </tr>\n    <tr>\n      <th>24</th>\n      <td>Rick Adelman</td>\n      <td>1969.0</td>\n      <td>1975.0</td>\n      <td>PG,G</td>\n      <td>185.21</td>\n      <td>79.19</td>\n      <td>16</td>\n      <td>6</td>\n      <td>1946.0</td>\n      <td>Lynwood</td>\n      <td>...</td>\n      <td>24</td>\n      <td>23.0</td>\n      <td>7.0</td>\n      <td>-15.25</td>\n      <td>-12.94</td>\n      <td>23.0</td>\n      <td>29.0</td>\n      <td>77.0</td>\n      <td>6</td>\n      <td>1.255658e-05</td>\n    </tr>\n    <tr>\n      <th>25</th>\n      <td>Jeff Adrien</td>\n      <td>2011.0</td>\n      <td>2015.0</td>\n      <td>F,PF</td>\n      <td>200.83</td>\n      <td>111.06</td>\n      <td>10</td>\n      <td>2</td>\n      <td>1986.0</td>\n      <td>Brookline</td>\n      <td>...</td>\n      <td>25</td>\n      <td>28.0</td>\n      <td>5.0</td>\n      <td>16.62</td>\n      <td>2.68</td>\n      <td>25.0</td>\n      <td>29.0</td>\n      <td>37.0</td>\n      <td>9</td>\n      <td>2.818025e-10</td>\n    </tr>\n    <tr>\n      <th>26</th>\n      <td>Arron Afflalo</td>\n      <td>2008.0</td>\n      <td>2018.0</td>\n      <td>SG,G</td>\n      <td>195.79</td>\n      <td>95.13</td>\n      <td>15</td>\n      <td>10</td>\n      <td>1985.0</td>\n      <td>Los Angeles</td>\n      <td>...</td>\n      <td>26</td>\n      <td>25.0</td>\n      <td>11.0</td>\n      <td>0.69</td>\n      <td>-2.36</td>\n      <td>23.0</td>\n      <td>33.0</td>\n      <td>38.0</td>\n      <td>3</td>\n      <td>1.062837e-01</td>\n    </tr>\n    <tr>\n      <th>27</th>\n      <td>Maurice Ager</td>\n      <td>2007.0</td>\n      <td>2011.0</td>\n      <td>SG,G</td>\n      <td>195.79</td>\n      <td>91.31</td>\n      <td>9</td>\n      <td>2</td>\n      <td>1984.0</td>\n      <td>Detroit</td>\n      <td>...</td>\n      <td>27</td>\n      <td>24.0</td>\n      <td>5.0</td>\n      <td>-3.13</td>\n      <td>-2.36</td>\n      <td>23.0</td>\n      <td>27.0</td>\n      <td>39.0</td>\n      <td>6</td>\n      <td>7.903145e-07</td>\n    </tr>\n    <tr>\n      <th>28</th>\n      <td>Mark Aguirre</td>\n      <td>1982.0</td>\n      <td>1994.0</td>\n      <td>F,G,SF</td>\n      <td>198.06</td>\n      <td>105.12</td>\n      <td>10</td>\n      <td>12</td>\n      <td>1959.0</td>\n      <td>Chicago</td>\n      <td>...</td>\n      <td>28</td>\n      <td>27.0</td>\n      <td>13.0</td>\n      <td>10.68</td>\n      <td>-0.09</td>\n      <td>23.0</td>\n      <td>35.0</td>\n      <td>64.0</td>\n      <td>1</td>\n      <td>3.125000e-01</td>\n    </tr>\n    <tr>\n      <th>29</th>\n      <td>Blake Ahearn</td>\n      <td>2008.0</td>\n      <td>2012.0</td>\n      <td>PG,G</td>\n      <td>187.98</td>\n      <td>86.09</td>\n      <td>27</td>\n      <td>5</td>\n      <td>1984.0</td>\n      <td>St. Louis</td>\n      <td>...</td>\n      <td>29</td>\n      <td>24.0</td>\n      <td>5.0</td>\n      <td>-8.35</td>\n      <td>-10.17</td>\n      <td>24.0</td>\n      <td>28.0</td>\n      <td>39.0</td>\n      <td>9</td>\n      <td>2.680156e-06</td>\n    </tr>\n    <tr>\n      <th>30</th>\n      <td>Danny Ainge</td>\n      <td>1982.0</td>\n      <td>1995.0</td>\n      <td>SG,G</td>\n      <td>193.02</td>\n      <td>79.19</td>\n      <td>17</td>\n      <td>3</td>\n      <td>1959.0</td>\n      <td>Eugene</td>\n      <td>...</td>\n      <td>30</td>\n      <td>21.0</td>\n      <td>14.0</td>\n      <td>-15.25</td>\n      <td>-5.13</td>\n      <td>23.0</td>\n      <td>36.0</td>\n      <td>64.0</td>\n      <td>8</td>\n      <td>1.036277e-08</td>\n    </tr>\n    <tr>\n      <th>31</th>\n      <td>Matthew Aitch</td>\n      <td>1968.0</td>\n      <td>1968.0</td>\n      <td>F</td>\n      <td>200.66</td>\n      <td>104.33</td>\n      <td>21</td>\n      <td>9</td>\n      <td>1944.0</td>\n      <td>Unknown</td>\n      <td>...</td>\n      <td>31</td>\n      <td>26.0</td>\n      <td>1.0</td>\n      <td>9.89</td>\n      <td>2.51</td>\n      <td>24.0</td>\n      <td>24.0</td>\n      <td>79.0</td>\n      <td>3</td>\n      <td>7.665911e-03</td>\n    </tr>\n    <tr>\n      <th>32</th>\n      <td>Alexis Ajinca</td>\n      <td>2009.0</td>\n      <td>2017.0</td>\n      <td>C,PF</td>\n      <td>218.22</td>\n      <td>112.25</td>\n      <td>6</td>\n      <td>5</td>\n      <td>1988.0</td>\n      <td>Saint-Etienne</td>\n      <td>...</td>\n      <td>32</td>\n      <td>24.0</td>\n      <td>9.0</td>\n      <td>17.81</td>\n      <td>20.07</td>\n      <td>21.0</td>\n      <td>29.0</td>\n      <td>35.0</td>\n      <td>1</td>\n      <td>2.678571e-01</td>\n    </tr>\n    <tr>\n      <th>33</th>\n      <td>Henry Akin</td>\n      <td>1967.0</td>\n      <td>1969.0</td>\n      <td>F,C,PF</td>\n      <td>208.14</td>\n      <td>102.03</td>\n      <td>31</td>\n      <td>7</td>\n      <td>1944.0</td>\n      <td>Detroit</td>\n      <td>...</td>\n      <td>33</td>\n      <td>24.0</td>\n      <td>3.0</td>\n      <td>7.59</td>\n      <td>9.99</td>\n      <td>23.0</td>\n      <td>25.0</td>\n      <td>79.0</td>\n      <td>11</td>\n      <td>2.661917e-09</td>\n    </tr>\n    <tr>\n      <th>34</th>\n      <td>Josh Akognon</td>\n      <td>2013.0</td>\n      <td>2013.0</td>\n      <td>PG,G</td>\n      <td>180.17</td>\n      <td>83.46</td>\n      <td>10</td>\n      <td>2</td>\n      <td>1986.0</td>\n      <td>Greenbrae</td>\n      <td>...</td>\n      <td>34</td>\n      <td>26.0</td>\n      <td>1.0</td>\n      <td>-10.98</td>\n      <td>-17.98</td>\n      <td>27.0</td>\n      <td>27.0</td>\n      <td>37.0</td>\n      <td>9</td>\n      <td>5.490437e-10</td>\n    </tr>\n    <tr>\n      <th>35</th>\n      <td>Solomon Alabi</td>\n      <td>2011.0</td>\n      <td>2012.0</td>\n      <td>C</td>\n      <td>215.95</td>\n      <td>113.42</td>\n      <td>21</td>\n      <td>3</td>\n      <td>1988.0</td>\n      <td>Kaduna</td>\n      <td>...</td>\n      <td>35</td>\n      <td>24.0</td>\n      <td>2.0</td>\n      <td>18.98</td>\n      <td>17.80</td>\n      <td>23.0</td>\n      <td>24.0</td>\n      <td>35.0</td>\n      <td>5</td>\n      <td>1.072192e-04</td>\n    </tr>\n    <tr>\n      <th>36</th>\n      <td>Mark Alarie</td>\n      <td>1987.0</td>\n      <td>1991.0</td>\n      <td>F,PF</td>\n      <td>203.10</td>\n      <td>98.22</td>\n      <td>11</td>\n      <td>12</td>\n      <td>1963.0</td>\n      <td>Phoenix</td>\n      <td>...</td>\n      <td>36</td>\n      <td>24.0</td>\n      <td>5.0</td>\n      <td>3.78</td>\n      <td>4.95</td>\n      <td>24.0</td>\n      <td>28.0</td>\n      <td>60.0</td>\n      <td>6</td>\n      <td>2.780914e-03</td>\n    </tr>\n    <tr>\n      <th>37</th>\n      <td>Gary Alcorn</td>\n      <td>1960.0</td>\n      <td>1961.0</td>\n      <td>C</td>\n      <td>205.87</td>\n      <td>102.03</td>\n      <td>8</td>\n      <td>10</td>\n      <td>1936.0</td>\n      <td>Unknown</td>\n      <td>...</td>\n      <td>37</td>\n      <td>24.0</td>\n      <td>2.0</td>\n      <td>7.59</td>\n      <td>7.72</td>\n      <td>24.0</td>\n      <td>25.0</td>\n      <td>87.0</td>\n      <td>1</td>\n      <td>2.155172e-01</td>\n    </tr>\n    <tr>\n      <th>38</th>\n      <td>Furkan Aldemir</td>\n      <td>2015.0</td>\n      <td>2015.0</td>\n      <td>F,C,PF</td>\n      <td>208.14</td>\n      <td>108.43</td>\n      <td>9</td>\n      <td>8</td>\n      <td>1991.0</td>\n      <td>Konak</td>\n      <td>...</td>\n      <td>38</td>\n      <td>25.0</td>\n      <td>1.0</td>\n      <td>13.99</td>\n      <td>9.99</td>\n      <td>24.0</td>\n      <td>24.0</td>\n      <td>32.0</td>\n      <td>1</td>\n      <td>4.500000e-01</td>\n    </tr>\n    <tr>\n      <th>39</th>\n      <td>Cole Aldrich</td>\n      <td>2011.0</td>\n      <td>2018.0</td>\n      <td>C</td>\n      <td>210.91</td>\n      <td>113.20</td>\n      <td>31</td>\n      <td>10</td>\n      <td>1988.0</td>\n      <td>Burnsville</td>\n      <td>...</td>\n      <td>39</td>\n      <td>25.0</td>\n      <td>8.0</td>\n      <td>18.76</td>\n      <td>12.76</td>\n      <td>23.0</td>\n      <td>30.0</td>\n      <td>35.0</td>\n      <td>4</td>\n      <td>6.995485e-02</td>\n    </tr>\n    <tr>\n      <th>40</th>\n      <td>LaMarcus Aldridge</td>\n      <td>2007.0</td>\n      <td>2018.0</td>\n      <td>F,C</td>\n      <td>210.91</td>\n      <td>117.47</td>\n      <td>19</td>\n      <td>7</td>\n      <td>1985.0</td>\n      <td>Dallas</td>\n      <td>...</td>\n      <td>40</td>\n      <td>26.0</td>\n      <td>12.0</td>\n      <td>23.03</td>\n      <td>12.76</td>\n      <td>22.0</td>\n      <td>33.0</td>\n      <td>38.0</td>\n      <td>4</td>\n      <td>1.033271e-02</td>\n    </tr>\n    <tr>\n      <th>41</th>\n      <td>Chuck Aleksinas</td>\n      <td>1985.0</td>\n      <td>1985.0</td>\n      <td>C</td>\n      <td>210.91</td>\n      <td>117.47</td>\n      <td>26</td>\n      <td>2</td>\n      <td>1959.0</td>\n      <td>Litchfield</td>\n      <td>...</td>\n      <td>41</td>\n      <td>26.0</td>\n      <td>1.0</td>\n      <td>23.03</td>\n      <td>12.76</td>\n      <td>26.0</td>\n      <td>26.0</td>\n      <td>64.0</td>\n      <td>7</td>\n      <td>1.354018e-09</td>\n    </tr>\n    <tr>\n      <th>42</th>\n      <td>Cliff Alexander</td>\n      <td>2016.0</td>\n      <td>2016.0</td>\n      <td>F,PF</td>\n      <td>203.10</td>\n      <td>111.06</td>\n      <td>16</td>\n      <td>11</td>\n      <td>1995.0</td>\n      <td>Chicago</td>\n      <td>...</td>\n      <td>42</td>\n      <td>27.0</td>\n      <td>1.0</td>\n      <td>16.62</td>\n      <td>4.95</td>\n      <td>21.0</td>\n      <td>21.0</td>\n      <td>28.0</td>\n      <td>6</td>\n      <td>7.879532e-02</td>\n    </tr>\n    <tr>\n      <th>43</th>\n      <td>Cory Alexander</td>\n      <td>1996.0</td>\n      <td>2005.0</td>\n      <td>PG,G</td>\n      <td>185.21</td>\n      <td>83.46</td>\n      <td>22</td>\n      <td>6</td>\n      <td>1973.0</td>\n      <td>Waynesboro</td>\n      <td>...</td>\n      <td>43</td>\n      <td>24.0</td>\n      <td>10.0</td>\n      <td>-10.98</td>\n      <td>-12.94</td>\n      <td>23.0</td>\n      <td>32.0</td>\n      <td>50.0</td>\n      <td>3</td>\n      <td>1.139063e-02</td>\n    </tr>\n    <tr>\n      <th>44</th>\n      <td>Courtney Alexander</td>\n      <td>2001.0</td>\n      <td>2003.0</td>\n      <td>PG,G</td>\n      <td>190.29</td>\n      <td>88.00</td>\n      <td>27</td>\n      <td>4</td>\n      <td>1973.0</td>\n      <td>Waynesboro</td>\n      <td>...</td>\n      <td>44</td>\n      <td>24.0</td>\n      <td>3.0</td>\n      <td>-6.44</td>\n      <td>-7.86</td>\n      <td>28.0</td>\n      <td>30.0</td>\n      <td>50.0</td>\n      <td>6</td>\n      <td>1.139062e-05</td>\n    </tr>\n    <tr>\n      <th>45</th>\n      <td>Gary Alexander</td>\n      <td>1994.0</td>\n      <td>1994.0</td>\n      <td>F,PF</td>\n      <td>200.83</td>\n      <td>108.43</td>\n      <td>1</td>\n      <td>11</td>\n      <td>1969.0</td>\n      <td>Jacksonville</td>\n      <td>...</td>\n      <td>45</td>\n      <td>27.0</td>\n      <td>1.0</td>\n      <td>13.99</td>\n      <td>2.68</td>\n      <td>25.0</td>\n      <td>25.0</td>\n      <td>54.0</td>\n      <td>1</td>\n      <td>3.395062e-01</td>\n    </tr>\n    <tr>\n      <th>46</th>\n      <td>Joe Alexander</td>\n      <td>2009.0</td>\n      <td>2010.0</td>\n      <td>F,SF</td>\n      <td>203.10</td>\n      <td>104.16</td>\n      <td>26</td>\n      <td>12</td>\n      <td>1986.0</td>\n      <td>Kaohsiung</td>\n      <td>...</td>\n      <td>46</td>\n      <td>25.0</td>\n      <td>2.0</td>\n      <td>9.72</td>\n      <td>4.95</td>\n      <td>23.0</td>\n      <td>24.0</td>\n      <td>37.0</td>\n      <td>8</td>\n      <td>1.349013e-02</td>\n    </tr>\n    <tr>\n      <th>47</th>\n      <td>Victor Alexander</td>\n      <td>1992.0</td>\n      <td>2002.0</td>\n      <td>F,C</td>\n      <td>205.87</td>\n      <td>120.10</td>\n      <td>31</td>\n      <td>8</td>\n      <td>1969.0</td>\n      <td>Detroit</td>\n      <td>...</td>\n      <td>47</td>\n      <td>28.0</td>\n      <td>11.0</td>\n      <td>25.66</td>\n      <td>7.72</td>\n      <td>23.0</td>\n      <td>33.0</td>\n      <td>54.0</td>\n      <td>1</td>\n      <td>2.380952e-01</td>\n    </tr>\n    <tr>\n      <th>48</th>\n      <td>Steve Alford</td>\n      <td>1988.0</td>\n      <td>1991.0</td>\n      <td>PG,G</td>\n      <td>187.98</td>\n      <td>83.00</td>\n      <td>23</td>\n      <td>11</td>\n      <td>1964.0</td>\n      <td>Franklin</td>\n      <td>...</td>\n      <td>48</td>\n      <td>23.0</td>\n      <td>4.0</td>\n      <td>-11.44</td>\n      <td>-10.17</td>\n      <td>24.0</td>\n      <td>27.0</td>\n      <td>59.0</td>\n      <td>9</td>\n      <td>1.143479e-04</td>\n    </tr>\n    <tr>\n      <th>49</th>\n      <td>Bill Allen</td>\n      <td>1968.0</td>\n      <td>1968.0</td>\n      <td>C,F</td>\n      <td>203.20</td>\n      <td>92.99</td>\n      <td>0</td>\n      <td>1</td>\n      <td>0.0</td>\n      <td>Unknown</td>\n      <td>...</td>\n      <td>49</td>\n      <td>23.0</td>\n      <td>1.0</td>\n      <td>-1.45</td>\n      <td>5.05</td>\n      <td>1968.0</td>\n      <td>1968.0</td>\n      <td>2023.0</td>\n      <td>1</td>\n      <td>9.671388e-04</td>\n    </tr>\n  </tbody>\n</table>\n<p>50 rows × 21 columns</p>\n</div>"
     },
     "execution_count": 85,
     "metadata": {},
     "output_type": "execute_result"
    }
   ],
   "source": [
    "#Создание индекса\n",
    "data[\"id\"]= data.index.astype(int)\n",
    "\n",
    "#Индекс массы тела\n",
    "data[\"BMI\"] = round((data[\"weight\"] / pow(data[\"height\"] / 100, 2)))\n",
    "\n",
    "#Длительность карьеры\n",
    "data[\"career_duration\"] = data['year_end'] - data['year_start'] + 1\n",
    "\n",
    "#Отклонение веса и роста от средних значений\n",
    "data[\"weight_deviation\"] = round(data[\"weight\"] - data[\"weight\"].mean(), 2)\n",
    "data[\"height_deviation\"] = round(data[\"height\"] - data[\"height\"].mean(), 2)\n",
    "\n",
    "#Предположительный возраст в момент начала карьеры\n",
    "data[\"start_career_age\"] = data[\"year_start\"] - data[\"year_of_birth\"]\n",
    "\n",
    "#Предположительный возраст на конец карьеры\n",
    "data[\"end_career_age\"] = data[\"year_end\"] - data[\"year_of_birth\"]\n",
    "\n",
    "#Возможный возраст на сегодняшний день\n",
    "data[\"age\"] = 2023 - data[\"year_of_birth\"]\n",
    "\n",
    "#Замена категориальной фичи на числовую\n",
    "months = {\"January\": 1, \"February\": 2, \"March\": 3, \"April\": 4, \"May\": 5, \"June\": 6, \"July\": 7, \"August\": 8,\n",
    "          \"September\": 9, \"October\": 10, \"November\": 11, \"December\": 12}\n",
    "data[\"month_of_birth\"] = data[\"month_of_birth\"].map(months)\n",
    "\n",
    "#А сейчас бесполезная нумерология\n",
    "def life_digit(day, month, year):\n",
    "    if not pd.isna(day) and not pd.isna(month) and not pd.isna(year):\n",
    "        day_sum = sum(map(int, str(int(day))))\n",
    "        month_sum = sum(map(int, str(int(month))))\n",
    "        year_sum = sum(map(int, str(int(year))))\n",
    "        result = sum(map(int, str(day_sum + month_sum + year_sum)))\n",
    "        if result==10:\n",
    "            return 1\n",
    "        else:\n",
    "            return result\n",
    "    else:\n",
    "        return 0\n",
    "\n",
    "\n",
    "data[\"life_digit\"] = data.apply(lambda x: life_digit(x[\"day_of_birth\"],x[\"month_of_birth\"],x[\"year_of_birth\"]), axis=1)\n",
    "data[\"something_so_strange\"] = pow((45*data[\"month_of_birth\"])/(data[\"BMI\"]*data[\"age\"]),data[\"life_digit\"])\n",
    "\n",
    "data.head(50)"
   ],
   "metadata": {
    "collapsed": false
   }
  },
  {
   "cell_type": "markdown",
   "source": [
    "Когда у нас есть немного больше посчитанных данных, можем убрать неопределённости заменив их на средние значения."
   ],
   "metadata": {
    "collapsed": false
   }
  },
  {
   "cell_type": "code",
   "execution_count": 86,
   "outputs": [
    {
     "name": "stdout",
     "output_type": "stream",
     "text": [
      "Player - 0.0%\n",
      "year_start - 0.0%\n",
      "year_end - 0.0%\n",
      "position - 0.0%\n",
      "height - 0.0%\n",
      "weight - 0.0%\n",
      "day_of_birth - 0.0%\n",
      "month_of_birth - 0.0%\n",
      "year_of_birth - 0.0%\n",
      "birth_city - 0.0%\n",
      "college - 0.0%\n",
      "id - 0.0%\n",
      "BMI - 0.0%\n",
      "career_duration - 0.0%\n",
      "weight_deviation - 0.0%\n",
      "height_deviation - 0.0%\n",
      "start_career_age - 0.0%\n",
      "end_career_age - 0.0%\n",
      "age - 0.0%\n",
      "life_digit - 0.0%\n",
      "something_so_strange - 0.0%\n"
     ]
    }
   ],
   "source": [
    "#заполнение пробелов\n",
    "data[\"year_start\"].fillna(round(data[\"year_of_birth\"]+data[\"start_career_age\"].mean()),inplace=True)\n",
    "data[\"year_end\"].fillna(round(data[\"year_start\"]+data[\"career_duration\"].mean()),inplace=True)\n",
    "data[\"start_career_age\"].fillna(round(data[\"year_start\"]-data[\"year_of_birth\"]),inplace=True)\n",
    "data[\"end_career_age\"].fillna(round(data[\"year_end\"]-data[\"year_of_birth\"]),inplace=True)\n",
    "data[\"career_duration\"].fillna(round(data[\"career_duration\"].mean()),inplace=True)\n",
    "\n",
    "\n",
    "for col in data.columns:\n",
    "    pct_missing = np.mean(data[col].isnull())\n",
    "    print('{} - {}%'.format(col, round(pct_missing * 100, 5)))\n",
    "#Доли пропусков нет, можем идти дальше"
   ],
   "metadata": {
    "collapsed": false
   }
  },
  {
   "cell_type": "markdown",
   "source": [
    "Перейдём к featuretools"
   ],
   "metadata": {
    "collapsed": false
   }
  },
  {
   "cell_type": "code",
   "execution_count": 102,
   "outputs": [
    {
     "name": "stdout",
     "output_type": "stream",
     "text": [
      "Built 113 features\n",
      "EntitySet scattered to 4 workers in 3 seconds\n",
      "Elapsed: 00:02 | Progress: 100%|██████████\n",
      "Index(['player', 'Player', 'year_start', 'year_end', 'position', 'height',\n",
      "       'weight', 'college', 'id', 'BMI',\n",
      "       ...\n",
      "       'player_birth.SUM(player.height)',\n",
      "       'player_birth.SUM(player.height_deviation)',\n",
      "       'player_birth.SUM(player.id)', 'player_birth.SUM(player.life_digit)',\n",
      "       'player_birth.SUM(player.something_so_strange)',\n",
      "       'player_birth.SUM(player.start_career_age)',\n",
      "       'player_birth.SUM(player.weight)',\n",
      "       'player_birth.SUM(player.weight_deviation)',\n",
      "       'player_birth.SUM(player.year_end)',\n",
      "       'player_birth.SUM(player.year_start)'],\n",
      "      dtype='object', length=113)\n",
      "[Entity: player\n",
      "  Variables:\n",
      "    player_1 (dtype: index)\n",
      "    player (dtype: id)\n",
      "    Player (dtype: categorical)\n",
      "    year_start (dtype: numeric)\n",
      "    year_end (dtype: numeric)\n",
      "    position (dtype: categorical)\n",
      "    height (dtype: numeric)\n",
      "    weight (dtype: numeric)\n",
      "    college (dtype: categorical)\n",
      "    id (dtype: numeric)\n",
      "    BMI (dtype: numeric)\n",
      "    career_duration (dtype: numeric)\n",
      "    weight_deviation (dtype: numeric)\n",
      "    height_deviation (dtype: numeric)\n",
      "    start_career_age (dtype: numeric)\n",
      "    end_career_age (dtype: numeric)\n",
      "    age (dtype: numeric)\n",
      "    life_digit (dtype: numeric)\n",
      "    something_so_strange (dtype: numeric)\n",
      "  Shape:\n",
      "    (Rows: 4656, Columns: 19), Entity: player_birth\n",
      "  Variables:\n",
      "    player (dtype: index)\n",
      "    day_of_birth (dtype: categorical)\n",
      "    month_of_birth (dtype: numeric)\n",
      "    year_of_birth (dtype: numeric)\n",
      "    birth_city (dtype: categorical)\n",
      "  Shape:\n",
      "    (Rows: 4656, Columns: 5)]\n"
     ]
    }
   ],
   "source": [
    "import featuretools as ft\n",
    "es = ft.EntitySet(id = 'players')\n",
    "\n",
    "# adding a dataframe\n",
    "es.entity_from_dataframe(entity_id = 'player', dataframe = data, index = 'player_1')\n",
    "es.normalize_entity(base_entity_id='player', new_entity_id='player_birth', index = 'player',\n",
    "            additional_variables = ['day_of_birth', 'month_of_birth', 'year_of_birth','birth_city'])\n",
    "\n",
    "feature_matrix, feature_names = ft.dfs(entityset=es,\n",
    "target_entity = 'player',\n",
    "max_depth = 2,\n",
    "verbose = 1,\n",
    "n_jobs = 4)\n",
    "print(feature_matrix.columns)\n",
    "print(es.entities)"
   ],
   "metadata": {
    "collapsed": false
   }
  }
 ],
 "metadata": {
  "anaconda-cloud": {},
  "kernelspec": {
   "display_name": "Python 3",
   "language": "python",
   "name": "python3"
  },
  "language_info": {
   "codemirror_mode": {
    "name": "ipython",
    "version": 3
   },
   "file_extension": ".py",
   "mimetype": "text/x-python",
   "name": "python",
   "nbconvert_exporter": "python",
   "pygments_lexer": "ipython3",
   "version": "3.6.6"
  }
 },
 "nbformat": 4,
 "nbformat_minor": 1
}
