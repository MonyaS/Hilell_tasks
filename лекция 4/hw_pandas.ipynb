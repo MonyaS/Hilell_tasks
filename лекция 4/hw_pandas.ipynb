{
 "cells": [
  {
   "cell_type": "code",
   "execution_count": 13,
   "metadata": {},
   "outputs": [],
   "source": [
    "import numpy as np\n",
    "import pandas as pd\n",
    "import matplotlib.pylab as plt"
   ]
  },
  {
   "cell_type": "markdown",
   "source": [
    "Загрузка данных первого сета."
   ],
   "metadata": {
    "collapsed": false
   }
  },
  {
   "cell_type": "code",
   "execution_count": 14,
   "outputs": [
    {
     "name": "stdout",
     "output_type": "stream",
     "text": [
      "(4550, 8)\n",
      "Player         object\n",
      "year_start      int64\n",
      "year_end        int64\n",
      "position       object\n",
      "height         object\n",
      "weight        float64\n",
      "birth_date     object\n",
      "college        object\n",
      "dtype: object\n"
     ]
    }
   ],
   "source": [
    "first_data = pd.read_csv('player_data.csv')\n",
    "first_data.rename(columns ={\"name\":\"Player\"},inplace=True)\n",
    "#Смотрим основные параметры.\n",
    "print(first_data.shape)\n",
    "print(first_data.dtypes)"
   ],
   "metadata": {
    "collapsed": false
   }
  },
  {
   "cell_type": "markdown",
   "source": [
    "Оцениваем что в дата-сете есть, и с чем прийдется иметь дело."
   ],
   "metadata": {
    "collapsed": false
   }
  },
  {
   "cell_type": "code",
   "execution_count": 15,
   "outputs": [
    {
     "data": {
      "text/plain": "                 Player  year_start  year_end position height  weight  \\\n0        Alaa Abdelnaby        1991      1995      F-C   6-10   240.0   \n1       Zaid Abdul-Aziz        1969      1978      C-F    6-9   235.0   \n2   Kareem Abdul-Jabbar        1970      1989        C    7-2   225.0   \n3    Mahmoud Abdul-Rauf        1991      2001        G    6-1   162.0   \n4     Tariq Abdul-Wahad        1998      2003        F    6-6   223.0   \n5   Shareef Abdur-Rahim        1997      2008        F    6-9   225.0   \n6         Tom Abernethy        1977      1981        F    6-7   220.0   \n7           Forest Able        1957      1957        G    6-3   180.0   \n8        John Abramovic        1947      1948        F    6-3   195.0   \n9          Alex Abrines        2017      2018      G-F    6-6   190.0   \n10           Alex Acker        2006      2009        G    6-5   185.0   \n11         Don Ackerman        1954      1954        G    6-0   183.0   \n12           Mark Acres        1988      1993      F-C   6-11   220.0   \n13            Bud Acton        1968      1968        F    6-6   210.0   \n14           Quincy Acy        2013      2018        F    6-7   240.0   \n15          Alvan Adams        1976      1988      C-F    6-9   210.0   \n16            Don Adams        1971      1977        F    6-6   210.0   \n17         George Adams        1973      1975      F-G    6-5   210.0   \n18         Hassan Adams        2007      2009        G    6-4   220.0   \n19         Jordan Adams        2015      2016        G    6-5   209.0   \n20        Michael Adams        1986      1996        G   5-10   162.0   \n21         Steven Adams        2014      2018        C    7-0   255.0   \n22       Rafael Addison        1987      1997      F-G    6-7   215.0   \n23          Bam Adebayo        2018      2018      C-F   6-10   243.0   \n24         Rick Adelman        1969      1975        G    6-1   175.0   \n25          Jeff Adrien        2011      2015        F    6-7   245.0   \n26        Arron Afflalo        2008      2018        G    6-5   210.0   \n27         Maurice Ager        2007      2011        G    6-5   202.0   \n28         Mark Aguirre        1982      1994      F-G    6-6   232.0   \n29         Blake Ahearn        2008      2012        G    6-2   190.0   \n30          Danny Ainge        1982      1995        G    6-4   175.0   \n31        Matthew Aitch        1968      1968        F    6-7   230.0   \n32        Alexis Ajinca        2009      2017        C    7-2   248.0   \n33           Henry Akin        1967      1969      C-F   6-10   225.0   \n34         Josh Akognon        2013      2013        G   5-11   185.0   \n35        Solomon Alabi        2011      2012        C    7-1   251.0   \n36          Mark Alarie        1987      1991        F    6-8   217.0   \n37          Gary Alcorn        1960      1961        C    6-9   225.0   \n38       Furkan Aldemir        2015      2015      F-C   6-10   240.0   \n39         Cole Aldrich        2011      2018        C   6-11   250.0   \n40    LaMarcus Aldridge        2007      2018      F-C   6-11   260.0   \n41      Chuck Aleksinas        1985      1985        C   6-11   260.0   \n42      Cliff Alexander        2016      2016        F    6-8   245.0   \n43       Cory Alexander        1996      2005        G    6-1   185.0   \n44   Courtney Alexander        2001      2003        G    6-5   205.0   \n45       Gary Alexander        1994      1994        F    6-7   240.0   \n46        Joe Alexander        2009      2010        F    6-8   230.0   \n47     Victor Alexander        1992      2002      C-F    6-9   265.0   \n48         Steve Alford        1988      1991        G    6-2   183.0   \n49           Bill Allen        1968      1968      C-F    6-8   205.0   \n\n            birth_date                                 college  \n0        June 24, 1968                         Duke University  \n1        April 7, 1946                   Iowa State University  \n2       April 16, 1947   University of California, Los Angeles  \n3        March 9, 1969              Louisiana State University  \n4     November 3, 1974               San Jose State University  \n5    December 11, 1976                University of California  \n6          May 6, 1954                      Indiana University  \n7        July 27, 1932             Western Kentucky University  \n8     February 9, 1919          Salem International University  \n9       August 1, 1993                                     NaN  \n10    January 21, 1983                   Pepperdine University  \n11   September 4, 1930                  Long Island University  \n12   November 15, 1962                 Oral Roberts University  \n13    January 11, 1942                       Hillsdale College  \n14     October 6, 1990                       Baylor University  \n15       July 19, 1954                  University of Oklahoma  \n16   November 27, 1947                 Northwestern University  \n17        May 15, 1949                 Gardner-Webb University  \n18       June 20, 1984                   University of Arizona  \n19        July 8, 1994   University of California, Los Angeles  \n20    January 19, 1963                          Boston College  \n21       July 20, 1993                University of Pittsburgh  \n22       July 22, 1964                     Syracuse University  \n23       July 18, 1997                  University of Kentucky  \n24       June 16, 1946             Loyola Marymount University  \n25   February 10, 1986               University of Connecticut  \n26    October 15, 1985   University of California, Los Angeles  \n27    February 9, 1984               Michigan State University  \n28   December 10, 1959                       DePaul University  \n29        May 27, 1984               Missouri State University  \n30      March 17, 1959                Brigham Young University  \n31  September 21, 1944               Michigan State University  \n32         May 6, 1988                                     NaN  \n33       July 31, 1944               Morehead State University  \n34   February 10, 1986  California State University, Fullerton  \n35      March 21, 1988                Florida State University  \n36   December 11, 1963                         Duke University  \n37     October 8, 1936     California State University, Fresno  \n38      August 9, 1991                                     NaN  \n39    October 31, 1988                    University of Kansas  \n40       July 19, 1985           University of Texas at Austin  \n41   February 26, 1959               University of Connecticut  \n42   November 16, 1995                    University of Kansas  \n43       June 22, 1973                  University of Virginia  \n44      April 27, 1977     California State University, Fresno  \n45    November 1, 1969             University of South Florida  \n46   December 26, 1986                West Virginia University  \n47     August 31, 1969                   Iowa State University  \n48   November 23, 1964                      Indiana University  \n49                 NaN             New Mexico State University  ",
      "text/html": "<div>\n<style scoped>\n    .dataframe tbody tr th:only-of-type {\n        vertical-align: middle;\n    }\n\n    .dataframe tbody tr th {\n        vertical-align: top;\n    }\n\n    .dataframe thead th {\n        text-align: right;\n    }\n</style>\n<table border=\"1\" class=\"dataframe\">\n  <thead>\n    <tr style=\"text-align: right;\">\n      <th></th>\n      <th>Player</th>\n      <th>year_start</th>\n      <th>year_end</th>\n      <th>position</th>\n      <th>height</th>\n      <th>weight</th>\n      <th>birth_date</th>\n      <th>college</th>\n    </tr>\n  </thead>\n  <tbody>\n    <tr>\n      <th>0</th>\n      <td>Alaa Abdelnaby</td>\n      <td>1991</td>\n      <td>1995</td>\n      <td>F-C</td>\n      <td>6-10</td>\n      <td>240.0</td>\n      <td>June 24, 1968</td>\n      <td>Duke University</td>\n    </tr>\n    <tr>\n      <th>1</th>\n      <td>Zaid Abdul-Aziz</td>\n      <td>1969</td>\n      <td>1978</td>\n      <td>C-F</td>\n      <td>6-9</td>\n      <td>235.0</td>\n      <td>April 7, 1946</td>\n      <td>Iowa State University</td>\n    </tr>\n    <tr>\n      <th>2</th>\n      <td>Kareem Abdul-Jabbar</td>\n      <td>1970</td>\n      <td>1989</td>\n      <td>C</td>\n      <td>7-2</td>\n      <td>225.0</td>\n      <td>April 16, 1947</td>\n      <td>University of California, Los Angeles</td>\n    </tr>\n    <tr>\n      <th>3</th>\n      <td>Mahmoud Abdul-Rauf</td>\n      <td>1991</td>\n      <td>2001</td>\n      <td>G</td>\n      <td>6-1</td>\n      <td>162.0</td>\n      <td>March 9, 1969</td>\n      <td>Louisiana State University</td>\n    </tr>\n    <tr>\n      <th>4</th>\n      <td>Tariq Abdul-Wahad</td>\n      <td>1998</td>\n      <td>2003</td>\n      <td>F</td>\n      <td>6-6</td>\n      <td>223.0</td>\n      <td>November 3, 1974</td>\n      <td>San Jose State University</td>\n    </tr>\n    <tr>\n      <th>5</th>\n      <td>Shareef Abdur-Rahim</td>\n      <td>1997</td>\n      <td>2008</td>\n      <td>F</td>\n      <td>6-9</td>\n      <td>225.0</td>\n      <td>December 11, 1976</td>\n      <td>University of California</td>\n    </tr>\n    <tr>\n      <th>6</th>\n      <td>Tom Abernethy</td>\n      <td>1977</td>\n      <td>1981</td>\n      <td>F</td>\n      <td>6-7</td>\n      <td>220.0</td>\n      <td>May 6, 1954</td>\n      <td>Indiana University</td>\n    </tr>\n    <tr>\n      <th>7</th>\n      <td>Forest Able</td>\n      <td>1957</td>\n      <td>1957</td>\n      <td>G</td>\n      <td>6-3</td>\n      <td>180.0</td>\n      <td>July 27, 1932</td>\n      <td>Western Kentucky University</td>\n    </tr>\n    <tr>\n      <th>8</th>\n      <td>John Abramovic</td>\n      <td>1947</td>\n      <td>1948</td>\n      <td>F</td>\n      <td>6-3</td>\n      <td>195.0</td>\n      <td>February 9, 1919</td>\n      <td>Salem International University</td>\n    </tr>\n    <tr>\n      <th>9</th>\n      <td>Alex Abrines</td>\n      <td>2017</td>\n      <td>2018</td>\n      <td>G-F</td>\n      <td>6-6</td>\n      <td>190.0</td>\n      <td>August 1, 1993</td>\n      <td>NaN</td>\n    </tr>\n    <tr>\n      <th>10</th>\n      <td>Alex Acker</td>\n      <td>2006</td>\n      <td>2009</td>\n      <td>G</td>\n      <td>6-5</td>\n      <td>185.0</td>\n      <td>January 21, 1983</td>\n      <td>Pepperdine University</td>\n    </tr>\n    <tr>\n      <th>11</th>\n      <td>Don Ackerman</td>\n      <td>1954</td>\n      <td>1954</td>\n      <td>G</td>\n      <td>6-0</td>\n      <td>183.0</td>\n      <td>September 4, 1930</td>\n      <td>Long Island University</td>\n    </tr>\n    <tr>\n      <th>12</th>\n      <td>Mark Acres</td>\n      <td>1988</td>\n      <td>1993</td>\n      <td>F-C</td>\n      <td>6-11</td>\n      <td>220.0</td>\n      <td>November 15, 1962</td>\n      <td>Oral Roberts University</td>\n    </tr>\n    <tr>\n      <th>13</th>\n      <td>Bud Acton</td>\n      <td>1968</td>\n      <td>1968</td>\n      <td>F</td>\n      <td>6-6</td>\n      <td>210.0</td>\n      <td>January 11, 1942</td>\n      <td>Hillsdale College</td>\n    </tr>\n    <tr>\n      <th>14</th>\n      <td>Quincy Acy</td>\n      <td>2013</td>\n      <td>2018</td>\n      <td>F</td>\n      <td>6-7</td>\n      <td>240.0</td>\n      <td>October 6, 1990</td>\n      <td>Baylor University</td>\n    </tr>\n    <tr>\n      <th>15</th>\n      <td>Alvan Adams</td>\n      <td>1976</td>\n      <td>1988</td>\n      <td>C-F</td>\n      <td>6-9</td>\n      <td>210.0</td>\n      <td>July 19, 1954</td>\n      <td>University of Oklahoma</td>\n    </tr>\n    <tr>\n      <th>16</th>\n      <td>Don Adams</td>\n      <td>1971</td>\n      <td>1977</td>\n      <td>F</td>\n      <td>6-6</td>\n      <td>210.0</td>\n      <td>November 27, 1947</td>\n      <td>Northwestern University</td>\n    </tr>\n    <tr>\n      <th>17</th>\n      <td>George Adams</td>\n      <td>1973</td>\n      <td>1975</td>\n      <td>F-G</td>\n      <td>6-5</td>\n      <td>210.0</td>\n      <td>May 15, 1949</td>\n      <td>Gardner-Webb University</td>\n    </tr>\n    <tr>\n      <th>18</th>\n      <td>Hassan Adams</td>\n      <td>2007</td>\n      <td>2009</td>\n      <td>G</td>\n      <td>6-4</td>\n      <td>220.0</td>\n      <td>June 20, 1984</td>\n      <td>University of Arizona</td>\n    </tr>\n    <tr>\n      <th>19</th>\n      <td>Jordan Adams</td>\n      <td>2015</td>\n      <td>2016</td>\n      <td>G</td>\n      <td>6-5</td>\n      <td>209.0</td>\n      <td>July 8, 1994</td>\n      <td>University of California, Los Angeles</td>\n    </tr>\n    <tr>\n      <th>20</th>\n      <td>Michael Adams</td>\n      <td>1986</td>\n      <td>1996</td>\n      <td>G</td>\n      <td>5-10</td>\n      <td>162.0</td>\n      <td>January 19, 1963</td>\n      <td>Boston College</td>\n    </tr>\n    <tr>\n      <th>21</th>\n      <td>Steven Adams</td>\n      <td>2014</td>\n      <td>2018</td>\n      <td>C</td>\n      <td>7-0</td>\n      <td>255.0</td>\n      <td>July 20, 1993</td>\n      <td>University of Pittsburgh</td>\n    </tr>\n    <tr>\n      <th>22</th>\n      <td>Rafael Addison</td>\n      <td>1987</td>\n      <td>1997</td>\n      <td>F-G</td>\n      <td>6-7</td>\n      <td>215.0</td>\n      <td>July 22, 1964</td>\n      <td>Syracuse University</td>\n    </tr>\n    <tr>\n      <th>23</th>\n      <td>Bam Adebayo</td>\n      <td>2018</td>\n      <td>2018</td>\n      <td>C-F</td>\n      <td>6-10</td>\n      <td>243.0</td>\n      <td>July 18, 1997</td>\n      <td>University of Kentucky</td>\n    </tr>\n    <tr>\n      <th>24</th>\n      <td>Rick Adelman</td>\n      <td>1969</td>\n      <td>1975</td>\n      <td>G</td>\n      <td>6-1</td>\n      <td>175.0</td>\n      <td>June 16, 1946</td>\n      <td>Loyola Marymount University</td>\n    </tr>\n    <tr>\n      <th>25</th>\n      <td>Jeff Adrien</td>\n      <td>2011</td>\n      <td>2015</td>\n      <td>F</td>\n      <td>6-7</td>\n      <td>245.0</td>\n      <td>February 10, 1986</td>\n      <td>University of Connecticut</td>\n    </tr>\n    <tr>\n      <th>26</th>\n      <td>Arron Afflalo</td>\n      <td>2008</td>\n      <td>2018</td>\n      <td>G</td>\n      <td>6-5</td>\n      <td>210.0</td>\n      <td>October 15, 1985</td>\n      <td>University of California, Los Angeles</td>\n    </tr>\n    <tr>\n      <th>27</th>\n      <td>Maurice Ager</td>\n      <td>2007</td>\n      <td>2011</td>\n      <td>G</td>\n      <td>6-5</td>\n      <td>202.0</td>\n      <td>February 9, 1984</td>\n      <td>Michigan State University</td>\n    </tr>\n    <tr>\n      <th>28</th>\n      <td>Mark Aguirre</td>\n      <td>1982</td>\n      <td>1994</td>\n      <td>F-G</td>\n      <td>6-6</td>\n      <td>232.0</td>\n      <td>December 10, 1959</td>\n      <td>DePaul University</td>\n    </tr>\n    <tr>\n      <th>29</th>\n      <td>Blake Ahearn</td>\n      <td>2008</td>\n      <td>2012</td>\n      <td>G</td>\n      <td>6-2</td>\n      <td>190.0</td>\n      <td>May 27, 1984</td>\n      <td>Missouri State University</td>\n    </tr>\n    <tr>\n      <th>30</th>\n      <td>Danny Ainge</td>\n      <td>1982</td>\n      <td>1995</td>\n      <td>G</td>\n      <td>6-4</td>\n      <td>175.0</td>\n      <td>March 17, 1959</td>\n      <td>Brigham Young University</td>\n    </tr>\n    <tr>\n      <th>31</th>\n      <td>Matthew Aitch</td>\n      <td>1968</td>\n      <td>1968</td>\n      <td>F</td>\n      <td>6-7</td>\n      <td>230.0</td>\n      <td>September 21, 1944</td>\n      <td>Michigan State University</td>\n    </tr>\n    <tr>\n      <th>32</th>\n      <td>Alexis Ajinca</td>\n      <td>2009</td>\n      <td>2017</td>\n      <td>C</td>\n      <td>7-2</td>\n      <td>248.0</td>\n      <td>May 6, 1988</td>\n      <td>NaN</td>\n    </tr>\n    <tr>\n      <th>33</th>\n      <td>Henry Akin</td>\n      <td>1967</td>\n      <td>1969</td>\n      <td>C-F</td>\n      <td>6-10</td>\n      <td>225.0</td>\n      <td>July 31, 1944</td>\n      <td>Morehead State University</td>\n    </tr>\n    <tr>\n      <th>34</th>\n      <td>Josh Akognon</td>\n      <td>2013</td>\n      <td>2013</td>\n      <td>G</td>\n      <td>5-11</td>\n      <td>185.0</td>\n      <td>February 10, 1986</td>\n      <td>California State University, Fullerton</td>\n    </tr>\n    <tr>\n      <th>35</th>\n      <td>Solomon Alabi</td>\n      <td>2011</td>\n      <td>2012</td>\n      <td>C</td>\n      <td>7-1</td>\n      <td>251.0</td>\n      <td>March 21, 1988</td>\n      <td>Florida State University</td>\n    </tr>\n    <tr>\n      <th>36</th>\n      <td>Mark Alarie</td>\n      <td>1987</td>\n      <td>1991</td>\n      <td>F</td>\n      <td>6-8</td>\n      <td>217.0</td>\n      <td>December 11, 1963</td>\n      <td>Duke University</td>\n    </tr>\n    <tr>\n      <th>37</th>\n      <td>Gary Alcorn</td>\n      <td>1960</td>\n      <td>1961</td>\n      <td>C</td>\n      <td>6-9</td>\n      <td>225.0</td>\n      <td>October 8, 1936</td>\n      <td>California State University, Fresno</td>\n    </tr>\n    <tr>\n      <th>38</th>\n      <td>Furkan Aldemir</td>\n      <td>2015</td>\n      <td>2015</td>\n      <td>F-C</td>\n      <td>6-10</td>\n      <td>240.0</td>\n      <td>August 9, 1991</td>\n      <td>NaN</td>\n    </tr>\n    <tr>\n      <th>39</th>\n      <td>Cole Aldrich</td>\n      <td>2011</td>\n      <td>2018</td>\n      <td>C</td>\n      <td>6-11</td>\n      <td>250.0</td>\n      <td>October 31, 1988</td>\n      <td>University of Kansas</td>\n    </tr>\n    <tr>\n      <th>40</th>\n      <td>LaMarcus Aldridge</td>\n      <td>2007</td>\n      <td>2018</td>\n      <td>F-C</td>\n      <td>6-11</td>\n      <td>260.0</td>\n      <td>July 19, 1985</td>\n      <td>University of Texas at Austin</td>\n    </tr>\n    <tr>\n      <th>41</th>\n      <td>Chuck Aleksinas</td>\n      <td>1985</td>\n      <td>1985</td>\n      <td>C</td>\n      <td>6-11</td>\n      <td>260.0</td>\n      <td>February 26, 1959</td>\n      <td>University of Connecticut</td>\n    </tr>\n    <tr>\n      <th>42</th>\n      <td>Cliff Alexander</td>\n      <td>2016</td>\n      <td>2016</td>\n      <td>F</td>\n      <td>6-8</td>\n      <td>245.0</td>\n      <td>November 16, 1995</td>\n      <td>University of Kansas</td>\n    </tr>\n    <tr>\n      <th>43</th>\n      <td>Cory Alexander</td>\n      <td>1996</td>\n      <td>2005</td>\n      <td>G</td>\n      <td>6-1</td>\n      <td>185.0</td>\n      <td>June 22, 1973</td>\n      <td>University of Virginia</td>\n    </tr>\n    <tr>\n      <th>44</th>\n      <td>Courtney Alexander</td>\n      <td>2001</td>\n      <td>2003</td>\n      <td>G</td>\n      <td>6-5</td>\n      <td>205.0</td>\n      <td>April 27, 1977</td>\n      <td>California State University, Fresno</td>\n    </tr>\n    <tr>\n      <th>45</th>\n      <td>Gary Alexander</td>\n      <td>1994</td>\n      <td>1994</td>\n      <td>F</td>\n      <td>6-7</td>\n      <td>240.0</td>\n      <td>November 1, 1969</td>\n      <td>University of South Florida</td>\n    </tr>\n    <tr>\n      <th>46</th>\n      <td>Joe Alexander</td>\n      <td>2009</td>\n      <td>2010</td>\n      <td>F</td>\n      <td>6-8</td>\n      <td>230.0</td>\n      <td>December 26, 1986</td>\n      <td>West Virginia University</td>\n    </tr>\n    <tr>\n      <th>47</th>\n      <td>Victor Alexander</td>\n      <td>1992</td>\n      <td>2002</td>\n      <td>C-F</td>\n      <td>6-9</td>\n      <td>265.0</td>\n      <td>August 31, 1969</td>\n      <td>Iowa State University</td>\n    </tr>\n    <tr>\n      <th>48</th>\n      <td>Steve Alford</td>\n      <td>1988</td>\n      <td>1991</td>\n      <td>G</td>\n      <td>6-2</td>\n      <td>183.0</td>\n      <td>November 23, 1964</td>\n      <td>Indiana University</td>\n    </tr>\n    <tr>\n      <th>49</th>\n      <td>Bill Allen</td>\n      <td>1968</td>\n      <td>1968</td>\n      <td>C-F</td>\n      <td>6-8</td>\n      <td>205.0</td>\n      <td>NaN</td>\n      <td>New Mexico State University</td>\n    </tr>\n  </tbody>\n</table>\n</div>"
     },
     "execution_count": 15,
     "metadata": {},
     "output_type": "execute_result"
    }
   ],
   "source": [
    "first_data.head(50)"
   ],
   "metadata": {
    "collapsed": false
   }
  },
  {
   "cell_type": "markdown",
   "source": [
    "Cмотрим насколько однородны данные и сколько пропущенных элементов в тех или иных столбцах."
   ],
   "metadata": {
    "collapsed": false
   }
  },
  {
   "cell_type": "code",
   "execution_count": 16,
   "outputs": [
    {
     "data": {
      "text/plain": "Player        4550\nyear_start    4550\nyear_end      4550\nposition      4549\nheight        4549\nweight        4544\nbirth_date    4519\ncollege       4248\ndtype: int64"
     },
     "execution_count": 16,
     "metadata": {},
     "output_type": "execute_result"
    }
   ],
   "source": [
    "first_data.count()"
   ],
   "metadata": {
    "collapsed": false
   }
  },
  {
   "cell_type": "markdown",
   "source": [
    "Работа со столбцом height"
   ],
   "metadata": {
    "collapsed": false
   }
  },
  {
   "cell_type": "code",
   "execution_count": 18,
   "metadata": {},
   "outputs": [],
   "source": [
    "def from_ft_to_m(ft):\n",
    "    if pd.isna(ft):\n",
    "        return\n",
    "    size = ft.split(\"-\")\n",
    "    return (((int(size[0]) * 12) + int(size[1])) / 39.37008) * 100\n",
    "\n",
    "#Перевод поля height из имперской системы в метрическую. Для удобства дальнейшей работы.\n",
    "first_data[\"height\"] = first_data[\"height\"].apply(from_ft_to_m)"
   ]
  },
  {
   "cell_type": "markdown",
   "source": [
    "Работа со столбцом weight"
   ],
   "metadata": {
    "collapsed": false
   }
  },
  {
   "cell_type": "code",
   "execution_count": 19,
   "outputs": [],
   "source": [
    "def from_lb_to_kg(lb):\n",
    "    return round(lb/2.2046,2)\n",
    "\n",
    "#Перевод поля weight из имперской системы в метрическую\n",
    "first_data[\"weight\"] = first_data[\"weight\"].apply(from_lb_to_kg)"
   ],
   "metadata": {
    "collapsed": false
   }
  },
  {
   "cell_type": "markdown",
   "source": [
    "Загрузка данных второго сета."
   ],
   "metadata": {
    "collapsed": false
   }
  },
  {
   "cell_type": "code",
   "execution_count": 68,
   "metadata": {
    "collapsed": true
   },
   "outputs": [
    {
     "name": "stdout",
     "output_type": "stream",
     "text": [
      "(3922, 8)\n",
      "Unnamed: 0       int64\n",
      "Player          object\n",
      "height         float64\n",
      "weight         float64\n",
      "collage         object\n",
      "born           float64\n",
      "birth_city      object\n",
      "birth_state     object\n",
      "dtype: object\n"
     ]
    }
   ],
   "source": [
    "second_data = pd.read_csv('Players.csv')\n",
    "#Смотрим основные параметры.\n",
    "print(second_data.shape)\n",
    "print(second_data.dtypes)"
   ]
  },
  {
   "cell_type": "markdown",
   "source": [
    "Оцениваем что в дата-сете есть, и с чем прийдется иметь дело."
   ],
   "metadata": {
    "collapsed": false
   }
  },
  {
   "cell_type": "code",
   "execution_count": 69,
   "outputs": [
    {
     "data": {
      "text/plain": "    Unnamed: 0            Player  height  weight  \\\n0            0   Curly Armstrong   180.0    77.0   \n1            1      Cliff Barker   188.0    83.0   \n2            2     Leo Barnhorst   193.0    86.0   \n3            3        Ed Bartels   196.0    88.0   \n4            4       Ralph Beard   178.0    79.0   \n5            5        Gene Berce   180.0    79.0   \n6            6     Charlie Black   196.0    90.0   \n7            7       Nelson Bobb   183.0    77.0   \n8            8   Jake Bornheimer   196.0    90.0   \n9            9      Vince Boryla   196.0    95.0   \n10          10         Don Boven   193.0    95.0   \n11          11     Harry Boykoff   208.0   102.0   \n12          12       Joe Bradley   190.0    79.0   \n13          13       Bob Brannum   196.0    97.0   \n14          14        Carl Braun   196.0    81.0   \n15          15     Frankie Brian   185.0    81.0   \n16          16  Price Brookfield   193.0    83.0   \n17          17         Bob Brown   193.0    92.0   \n18          18        Jim Browne   208.0   106.0   \n19          19        Walt Budko   196.0    99.0   \n20          20    Jack Burmaster   190.0    86.0   \n21          21      Tommy Byrnes   190.0    79.0   \n22          22      Bill Calhoun   190.0    81.0   \n23          23       Don Carlson   183.0    77.0   \n24          24     Bob Carpenter   196.0    90.0   \n25          25       Jake Carter   193.0    88.0   \n26          26         Al Cervi*   180.0    77.0   \n27          27       John Chaney   190.0    83.0   \n28          28     Leroy Chollet   188.0    86.0   \n29          29        Bill Closs   196.0    88.0   \n30          30        Paul Cloyd   188.0    81.0   \n31          31      Jack Coleman   201.0    88.0   \n32          32        Bobby Cook   178.0    70.0   \n33          33        Ray Corley   183.0    81.0   \n34          34       Jack Cotton   201.0    90.0   \n35          35   Dillard Crocker   193.0    92.0   \n36          36     Chink Crossin   185.0    74.0   \n37          37       Fran Curran   183.0    79.0   \n38          38      Jimmy Darden   185.0    77.0   \n39          39       Bob Davies*   185.0    79.0   \n40          40       Hook Dillon   190.0    81.0   \n41          41         Earl Dodd   196.0    79.0   \n42          42        Joe Dolhon   183.0    79.0   \n43          43          Bob Doll   196.0    88.0   \n44          44     Harry Donovan   188.0    81.0   \n45          45       Andy Duncan   198.0    88.0   \n46          46     Dike Eddleman   190.0    85.0   \n47          47      Gene Englund   196.0    92.0   \n48          48         Bob Evans   188.0    79.0   \n49          49    Johnny Ezersky   190.0    79.0   \n\n                                       collage    born         birth_city  \\\n0                           Indiana University  1918.0                NaN   \n1                       University of Kentucky  1921.0           Yorktown   \n2                     University of Notre Dame  1924.0                NaN   \n3              North Carolina State University  1925.0                NaN   \n4                       University of Kentucky  1927.0        Hardinsburg   \n5                         Marquette University  1926.0                NaN   \n6                         University of Kansas  1921.0               Arco   \n7                            Temple University  1924.0       Philadelphia   \n8                           Muhlenberg College  1927.0      New Brunswick   \n9                         University of Denver  1927.0       East Chicago   \n10                 Western Michigan University  1925.0          Kalamazoo   \n11                       St. John's University  1922.0           Brooklyn   \n12                   Oklahoma State University  1928.0         Washington   \n13                   Michigan State University  1925.0                NaN   \n14                          Colgate University  1927.0           Brooklyn   \n15                  Louisiana State University  1923.0            Zachary   \n16                   West Texas A&M University  1920.0           Floydada   \n17                            Miami University  1923.0         Versailles   \n18                                         NaN  1930.0         Midlothian   \n19                         Columbia University  1925.0            Kearney   \n20  University of Illinois at Urbana-Champaign  1926.0                NaN   \n21                       Seton Hall University  1923.0            Teaneck   \n22               City College of San Francisco  1927.0      San Francisco   \n23                     University of Minnesota  1919.0        Minneapolis   \n24                 East Texas State University  1917.0                NaN   \n25                 East Texas State University  1924.0                NaN   \n26                                         NaN  1917.0            Buffalo   \n27                  Louisiana State University  1920.0                NaN   \n28                            Canisius College  1925.0        New Orleans   \n29                             Rice University  1922.0               Edge   \n30                     University of Wisconsin  1920.0                NaN   \n31                    University of Louisville  1924.0             Burgin   \n32                     University of Wisconsin  1923.0                NaN   \n33                       Georgetown University  1928.0                NaN   \n34                       University of Wyoming  1924.0         Miles City   \n35                 Western Michigan University  1925.0      Coffee County   \n36                  University of Pennsylvania  1923.0            Luzerne   \n37                    University of Notre Dame  1922.0           Sterling   \n38                        University of Denver  1922.0                NaN   \n39                       Seton Hall University  1920.0         Harrisburg   \n40                University of North Carolina  1924.0           Savannah   \n41                     Truman State University  1924.0                NaN   \n42                         New York University  1927.0                NaN   \n43                      University of Colorado  1919.0  Steamboat Springs   \n44                          Muhlenberg College  1926.0         Union City   \n45                   College of William & Mary  1922.0                NaN   \n46  University of Illinois at Urbana-Champaign  1922.0          Centralia   \n47                     University of Wisconsin  1917.0            Kenosha   \n48                           Butler University  1925.0       Indianapolis   \n49                  University of Rhode Island  1922.0           New York   \n\n     birth_state  \n0            NaN  \n1        Indiana  \n2            NaN  \n3            NaN  \n4       Kentucky  \n5            NaN  \n6          Idaho  \n7   Pennsylvania  \n8     New Jersey  \n9        Indiana  \n10      Michigan  \n11      New York  \n12      Oklahoma  \n13           NaN  \n14      New York  \n15     Louisiana  \n16         Texas  \n17          Ohio  \n18      Illinois  \n19    New Jersey  \n20           NaN  \n21    New Jersey  \n22    California  \n23     Minnesota  \n24           NaN  \n25           NaN  \n26      New York  \n27           NaN  \n28     Louisiana  \n29         Texas  \n30           NaN  \n31      Kentucky  \n32           NaN  \n33           NaN  \n34       Montana  \n35     Tennessee  \n36  Pennsylvania  \n37      Illinois  \n38           NaN  \n39  Pennsylvania  \n40       Georgia  \n41           NaN  \n42           NaN  \n43      Colorado  \n44    New Jersey  \n45           NaN  \n46      Illinois  \n47     Wisconsin  \n48       Indiana  \n49      New York  ",
      "text/html": "<div>\n<style scoped>\n    .dataframe tbody tr th:only-of-type {\n        vertical-align: middle;\n    }\n\n    .dataframe tbody tr th {\n        vertical-align: top;\n    }\n\n    .dataframe thead th {\n        text-align: right;\n    }\n</style>\n<table border=\"1\" class=\"dataframe\">\n  <thead>\n    <tr style=\"text-align: right;\">\n      <th></th>\n      <th>Unnamed: 0</th>\n      <th>Player</th>\n      <th>height</th>\n      <th>weight</th>\n      <th>collage</th>\n      <th>born</th>\n      <th>birth_city</th>\n      <th>birth_state</th>\n    </tr>\n  </thead>\n  <tbody>\n    <tr>\n      <th>0</th>\n      <td>0</td>\n      <td>Curly Armstrong</td>\n      <td>180.0</td>\n      <td>77.0</td>\n      <td>Indiana University</td>\n      <td>1918.0</td>\n      <td>NaN</td>\n      <td>NaN</td>\n    </tr>\n    <tr>\n      <th>1</th>\n      <td>1</td>\n      <td>Cliff Barker</td>\n      <td>188.0</td>\n      <td>83.0</td>\n      <td>University of Kentucky</td>\n      <td>1921.0</td>\n      <td>Yorktown</td>\n      <td>Indiana</td>\n    </tr>\n    <tr>\n      <th>2</th>\n      <td>2</td>\n      <td>Leo Barnhorst</td>\n      <td>193.0</td>\n      <td>86.0</td>\n      <td>University of Notre Dame</td>\n      <td>1924.0</td>\n      <td>NaN</td>\n      <td>NaN</td>\n    </tr>\n    <tr>\n      <th>3</th>\n      <td>3</td>\n      <td>Ed Bartels</td>\n      <td>196.0</td>\n      <td>88.0</td>\n      <td>North Carolina State University</td>\n      <td>1925.0</td>\n      <td>NaN</td>\n      <td>NaN</td>\n    </tr>\n    <tr>\n      <th>4</th>\n      <td>4</td>\n      <td>Ralph Beard</td>\n      <td>178.0</td>\n      <td>79.0</td>\n      <td>University of Kentucky</td>\n      <td>1927.0</td>\n      <td>Hardinsburg</td>\n      <td>Kentucky</td>\n    </tr>\n    <tr>\n      <th>5</th>\n      <td>5</td>\n      <td>Gene Berce</td>\n      <td>180.0</td>\n      <td>79.0</td>\n      <td>Marquette University</td>\n      <td>1926.0</td>\n      <td>NaN</td>\n      <td>NaN</td>\n    </tr>\n    <tr>\n      <th>6</th>\n      <td>6</td>\n      <td>Charlie Black</td>\n      <td>196.0</td>\n      <td>90.0</td>\n      <td>University of Kansas</td>\n      <td>1921.0</td>\n      <td>Arco</td>\n      <td>Idaho</td>\n    </tr>\n    <tr>\n      <th>7</th>\n      <td>7</td>\n      <td>Nelson Bobb</td>\n      <td>183.0</td>\n      <td>77.0</td>\n      <td>Temple University</td>\n      <td>1924.0</td>\n      <td>Philadelphia</td>\n      <td>Pennsylvania</td>\n    </tr>\n    <tr>\n      <th>8</th>\n      <td>8</td>\n      <td>Jake Bornheimer</td>\n      <td>196.0</td>\n      <td>90.0</td>\n      <td>Muhlenberg College</td>\n      <td>1927.0</td>\n      <td>New Brunswick</td>\n      <td>New Jersey</td>\n    </tr>\n    <tr>\n      <th>9</th>\n      <td>9</td>\n      <td>Vince Boryla</td>\n      <td>196.0</td>\n      <td>95.0</td>\n      <td>University of Denver</td>\n      <td>1927.0</td>\n      <td>East Chicago</td>\n      <td>Indiana</td>\n    </tr>\n    <tr>\n      <th>10</th>\n      <td>10</td>\n      <td>Don Boven</td>\n      <td>193.0</td>\n      <td>95.0</td>\n      <td>Western Michigan University</td>\n      <td>1925.0</td>\n      <td>Kalamazoo</td>\n      <td>Michigan</td>\n    </tr>\n    <tr>\n      <th>11</th>\n      <td>11</td>\n      <td>Harry Boykoff</td>\n      <td>208.0</td>\n      <td>102.0</td>\n      <td>St. John's University</td>\n      <td>1922.0</td>\n      <td>Brooklyn</td>\n      <td>New York</td>\n    </tr>\n    <tr>\n      <th>12</th>\n      <td>12</td>\n      <td>Joe Bradley</td>\n      <td>190.0</td>\n      <td>79.0</td>\n      <td>Oklahoma State University</td>\n      <td>1928.0</td>\n      <td>Washington</td>\n      <td>Oklahoma</td>\n    </tr>\n    <tr>\n      <th>13</th>\n      <td>13</td>\n      <td>Bob Brannum</td>\n      <td>196.0</td>\n      <td>97.0</td>\n      <td>Michigan State University</td>\n      <td>1925.0</td>\n      <td>NaN</td>\n      <td>NaN</td>\n    </tr>\n    <tr>\n      <th>14</th>\n      <td>14</td>\n      <td>Carl Braun</td>\n      <td>196.0</td>\n      <td>81.0</td>\n      <td>Colgate University</td>\n      <td>1927.0</td>\n      <td>Brooklyn</td>\n      <td>New York</td>\n    </tr>\n    <tr>\n      <th>15</th>\n      <td>15</td>\n      <td>Frankie Brian</td>\n      <td>185.0</td>\n      <td>81.0</td>\n      <td>Louisiana State University</td>\n      <td>1923.0</td>\n      <td>Zachary</td>\n      <td>Louisiana</td>\n    </tr>\n    <tr>\n      <th>16</th>\n      <td>16</td>\n      <td>Price Brookfield</td>\n      <td>193.0</td>\n      <td>83.0</td>\n      <td>West Texas A&amp;M University</td>\n      <td>1920.0</td>\n      <td>Floydada</td>\n      <td>Texas</td>\n    </tr>\n    <tr>\n      <th>17</th>\n      <td>17</td>\n      <td>Bob Brown</td>\n      <td>193.0</td>\n      <td>92.0</td>\n      <td>Miami University</td>\n      <td>1923.0</td>\n      <td>Versailles</td>\n      <td>Ohio</td>\n    </tr>\n    <tr>\n      <th>18</th>\n      <td>18</td>\n      <td>Jim Browne</td>\n      <td>208.0</td>\n      <td>106.0</td>\n      <td>NaN</td>\n      <td>1930.0</td>\n      <td>Midlothian</td>\n      <td>Illinois</td>\n    </tr>\n    <tr>\n      <th>19</th>\n      <td>19</td>\n      <td>Walt Budko</td>\n      <td>196.0</td>\n      <td>99.0</td>\n      <td>Columbia University</td>\n      <td>1925.0</td>\n      <td>Kearney</td>\n      <td>New Jersey</td>\n    </tr>\n    <tr>\n      <th>20</th>\n      <td>20</td>\n      <td>Jack Burmaster</td>\n      <td>190.0</td>\n      <td>86.0</td>\n      <td>University of Illinois at Urbana-Champaign</td>\n      <td>1926.0</td>\n      <td>NaN</td>\n      <td>NaN</td>\n    </tr>\n    <tr>\n      <th>21</th>\n      <td>21</td>\n      <td>Tommy Byrnes</td>\n      <td>190.0</td>\n      <td>79.0</td>\n      <td>Seton Hall University</td>\n      <td>1923.0</td>\n      <td>Teaneck</td>\n      <td>New Jersey</td>\n    </tr>\n    <tr>\n      <th>22</th>\n      <td>22</td>\n      <td>Bill Calhoun</td>\n      <td>190.0</td>\n      <td>81.0</td>\n      <td>City College of San Francisco</td>\n      <td>1927.0</td>\n      <td>San Francisco</td>\n      <td>California</td>\n    </tr>\n    <tr>\n      <th>23</th>\n      <td>23</td>\n      <td>Don Carlson</td>\n      <td>183.0</td>\n      <td>77.0</td>\n      <td>University of Minnesota</td>\n      <td>1919.0</td>\n      <td>Minneapolis</td>\n      <td>Minnesota</td>\n    </tr>\n    <tr>\n      <th>24</th>\n      <td>24</td>\n      <td>Bob Carpenter</td>\n      <td>196.0</td>\n      <td>90.0</td>\n      <td>East Texas State University</td>\n      <td>1917.0</td>\n      <td>NaN</td>\n      <td>NaN</td>\n    </tr>\n    <tr>\n      <th>25</th>\n      <td>25</td>\n      <td>Jake Carter</td>\n      <td>193.0</td>\n      <td>88.0</td>\n      <td>East Texas State University</td>\n      <td>1924.0</td>\n      <td>NaN</td>\n      <td>NaN</td>\n    </tr>\n    <tr>\n      <th>26</th>\n      <td>26</td>\n      <td>Al Cervi*</td>\n      <td>180.0</td>\n      <td>77.0</td>\n      <td>NaN</td>\n      <td>1917.0</td>\n      <td>Buffalo</td>\n      <td>New York</td>\n    </tr>\n    <tr>\n      <th>27</th>\n      <td>27</td>\n      <td>John Chaney</td>\n      <td>190.0</td>\n      <td>83.0</td>\n      <td>Louisiana State University</td>\n      <td>1920.0</td>\n      <td>NaN</td>\n      <td>NaN</td>\n    </tr>\n    <tr>\n      <th>28</th>\n      <td>28</td>\n      <td>Leroy Chollet</td>\n      <td>188.0</td>\n      <td>86.0</td>\n      <td>Canisius College</td>\n      <td>1925.0</td>\n      <td>New Orleans</td>\n      <td>Louisiana</td>\n    </tr>\n    <tr>\n      <th>29</th>\n      <td>29</td>\n      <td>Bill Closs</td>\n      <td>196.0</td>\n      <td>88.0</td>\n      <td>Rice University</td>\n      <td>1922.0</td>\n      <td>Edge</td>\n      <td>Texas</td>\n    </tr>\n    <tr>\n      <th>30</th>\n      <td>30</td>\n      <td>Paul Cloyd</td>\n      <td>188.0</td>\n      <td>81.0</td>\n      <td>University of Wisconsin</td>\n      <td>1920.0</td>\n      <td>NaN</td>\n      <td>NaN</td>\n    </tr>\n    <tr>\n      <th>31</th>\n      <td>31</td>\n      <td>Jack Coleman</td>\n      <td>201.0</td>\n      <td>88.0</td>\n      <td>University of Louisville</td>\n      <td>1924.0</td>\n      <td>Burgin</td>\n      <td>Kentucky</td>\n    </tr>\n    <tr>\n      <th>32</th>\n      <td>32</td>\n      <td>Bobby Cook</td>\n      <td>178.0</td>\n      <td>70.0</td>\n      <td>University of Wisconsin</td>\n      <td>1923.0</td>\n      <td>NaN</td>\n      <td>NaN</td>\n    </tr>\n    <tr>\n      <th>33</th>\n      <td>33</td>\n      <td>Ray Corley</td>\n      <td>183.0</td>\n      <td>81.0</td>\n      <td>Georgetown University</td>\n      <td>1928.0</td>\n      <td>NaN</td>\n      <td>NaN</td>\n    </tr>\n    <tr>\n      <th>34</th>\n      <td>34</td>\n      <td>Jack Cotton</td>\n      <td>201.0</td>\n      <td>90.0</td>\n      <td>University of Wyoming</td>\n      <td>1924.0</td>\n      <td>Miles City</td>\n      <td>Montana</td>\n    </tr>\n    <tr>\n      <th>35</th>\n      <td>35</td>\n      <td>Dillard Crocker</td>\n      <td>193.0</td>\n      <td>92.0</td>\n      <td>Western Michigan University</td>\n      <td>1925.0</td>\n      <td>Coffee County</td>\n      <td>Tennessee</td>\n    </tr>\n    <tr>\n      <th>36</th>\n      <td>36</td>\n      <td>Chink Crossin</td>\n      <td>185.0</td>\n      <td>74.0</td>\n      <td>University of Pennsylvania</td>\n      <td>1923.0</td>\n      <td>Luzerne</td>\n      <td>Pennsylvania</td>\n    </tr>\n    <tr>\n      <th>37</th>\n      <td>37</td>\n      <td>Fran Curran</td>\n      <td>183.0</td>\n      <td>79.0</td>\n      <td>University of Notre Dame</td>\n      <td>1922.0</td>\n      <td>Sterling</td>\n      <td>Illinois</td>\n    </tr>\n    <tr>\n      <th>38</th>\n      <td>38</td>\n      <td>Jimmy Darden</td>\n      <td>185.0</td>\n      <td>77.0</td>\n      <td>University of Denver</td>\n      <td>1922.0</td>\n      <td>NaN</td>\n      <td>NaN</td>\n    </tr>\n    <tr>\n      <th>39</th>\n      <td>39</td>\n      <td>Bob Davies*</td>\n      <td>185.0</td>\n      <td>79.0</td>\n      <td>Seton Hall University</td>\n      <td>1920.0</td>\n      <td>Harrisburg</td>\n      <td>Pennsylvania</td>\n    </tr>\n    <tr>\n      <th>40</th>\n      <td>40</td>\n      <td>Hook Dillon</td>\n      <td>190.0</td>\n      <td>81.0</td>\n      <td>University of North Carolina</td>\n      <td>1924.0</td>\n      <td>Savannah</td>\n      <td>Georgia</td>\n    </tr>\n    <tr>\n      <th>41</th>\n      <td>41</td>\n      <td>Earl Dodd</td>\n      <td>196.0</td>\n      <td>79.0</td>\n      <td>Truman State University</td>\n      <td>1924.0</td>\n      <td>NaN</td>\n      <td>NaN</td>\n    </tr>\n    <tr>\n      <th>42</th>\n      <td>42</td>\n      <td>Joe Dolhon</td>\n      <td>183.0</td>\n      <td>79.0</td>\n      <td>New York University</td>\n      <td>1927.0</td>\n      <td>NaN</td>\n      <td>NaN</td>\n    </tr>\n    <tr>\n      <th>43</th>\n      <td>43</td>\n      <td>Bob Doll</td>\n      <td>196.0</td>\n      <td>88.0</td>\n      <td>University of Colorado</td>\n      <td>1919.0</td>\n      <td>Steamboat Springs</td>\n      <td>Colorado</td>\n    </tr>\n    <tr>\n      <th>44</th>\n      <td>44</td>\n      <td>Harry Donovan</td>\n      <td>188.0</td>\n      <td>81.0</td>\n      <td>Muhlenberg College</td>\n      <td>1926.0</td>\n      <td>Union City</td>\n      <td>New Jersey</td>\n    </tr>\n    <tr>\n      <th>45</th>\n      <td>45</td>\n      <td>Andy Duncan</td>\n      <td>198.0</td>\n      <td>88.0</td>\n      <td>College of William &amp; Mary</td>\n      <td>1922.0</td>\n      <td>NaN</td>\n      <td>NaN</td>\n    </tr>\n    <tr>\n      <th>46</th>\n      <td>46</td>\n      <td>Dike Eddleman</td>\n      <td>190.0</td>\n      <td>85.0</td>\n      <td>University of Illinois at Urbana-Champaign</td>\n      <td>1922.0</td>\n      <td>Centralia</td>\n      <td>Illinois</td>\n    </tr>\n    <tr>\n      <th>47</th>\n      <td>47</td>\n      <td>Gene Englund</td>\n      <td>196.0</td>\n      <td>92.0</td>\n      <td>University of Wisconsin</td>\n      <td>1917.0</td>\n      <td>Kenosha</td>\n      <td>Wisconsin</td>\n    </tr>\n    <tr>\n      <th>48</th>\n      <td>48</td>\n      <td>Bob Evans</td>\n      <td>188.0</td>\n      <td>79.0</td>\n      <td>Butler University</td>\n      <td>1925.0</td>\n      <td>Indianapolis</td>\n      <td>Indiana</td>\n    </tr>\n    <tr>\n      <th>49</th>\n      <td>49</td>\n      <td>Johnny Ezersky</td>\n      <td>190.0</td>\n      <td>79.0</td>\n      <td>University of Rhode Island</td>\n      <td>1922.0</td>\n      <td>New York</td>\n      <td>New York</td>\n    </tr>\n  </tbody>\n</table>\n</div>"
     },
     "execution_count": 69,
     "metadata": {},
     "output_type": "execute_result"
    }
   ],
   "source": [
    "second_data.head(50)"
   ],
   "metadata": {
    "collapsed": false
   }
  },
  {
   "cell_type": "markdown",
   "source": [
    "Видно что столбец \"Unnamed: 0\" не несёт информации, удаляем его. Столбец collage написан с ошибкой, исправляем."
   ],
   "metadata": {
    "collapsed": false
   }
  },
  {
   "cell_type": "code",
   "execution_count": 23,
   "metadata": {
    "collapsed": true
   },
   "outputs": [],
   "source": [
    "second_data.rename(columns ={\"collage\":\"college\"},inplace=True)\n",
    "second_data.drop(columns=[\"Unnamed: 0\"],inplace=True)"
   ]
  },
  {
   "cell_type": "code",
   "execution_count": 24,
   "outputs": [
    {
     "data": {
      "text/plain": "   Unnamed: 0    Year           Player  Pos   Age   Tm     G  GS  MP  PER  \\\n0           0  1950.0  Curly Armstrong  G-F  31.0  FTW  63.0 NaN NaN  NaN   \n1           1  1950.0     Cliff Barker   SG  29.0  INO  49.0 NaN NaN  NaN   \n2           2  1950.0    Leo Barnhorst   SF  25.0  CHS  67.0 NaN NaN  NaN   \n3           3  1950.0       Ed Bartels    F  24.0  TOT  15.0 NaN NaN  NaN   \n4           4  1950.0       Ed Bartels    F  24.0  DNN  13.0 NaN NaN  NaN   \n\n   ...    FT%  ORB  DRB  TRB    AST  STL  BLK  TOV     PF    PTS  \n0  ...  0.705  NaN  NaN  NaN  176.0  NaN  NaN  NaN  217.0  458.0  \n1  ...  0.708  NaN  NaN  NaN  109.0  NaN  NaN  NaN   99.0  279.0  \n2  ...  0.698  NaN  NaN  NaN  140.0  NaN  NaN  NaN  192.0  438.0  \n3  ...  0.559  NaN  NaN  NaN   20.0  NaN  NaN  NaN   29.0   63.0  \n4  ...  0.548  NaN  NaN  NaN   20.0  NaN  NaN  NaN   27.0   59.0  \n\n[5 rows x 53 columns]",
      "text/html": "<div>\n<style scoped>\n    .dataframe tbody tr th:only-of-type {\n        vertical-align: middle;\n    }\n\n    .dataframe tbody tr th {\n        vertical-align: top;\n    }\n\n    .dataframe thead th {\n        text-align: right;\n    }\n</style>\n<table border=\"1\" class=\"dataframe\">\n  <thead>\n    <tr style=\"text-align: right;\">\n      <th></th>\n      <th>Unnamed: 0</th>\n      <th>Year</th>\n      <th>Player</th>\n      <th>Pos</th>\n      <th>Age</th>\n      <th>Tm</th>\n      <th>G</th>\n      <th>GS</th>\n      <th>MP</th>\n      <th>PER</th>\n      <th>...</th>\n      <th>FT%</th>\n      <th>ORB</th>\n      <th>DRB</th>\n      <th>TRB</th>\n      <th>AST</th>\n      <th>STL</th>\n      <th>BLK</th>\n      <th>TOV</th>\n      <th>PF</th>\n      <th>PTS</th>\n    </tr>\n  </thead>\n  <tbody>\n    <tr>\n      <th>0</th>\n      <td>0</td>\n      <td>1950.0</td>\n      <td>Curly Armstrong</td>\n      <td>G-F</td>\n      <td>31.0</td>\n      <td>FTW</td>\n      <td>63.0</td>\n      <td>NaN</td>\n      <td>NaN</td>\n      <td>NaN</td>\n      <td>...</td>\n      <td>0.705</td>\n      <td>NaN</td>\n      <td>NaN</td>\n      <td>NaN</td>\n      <td>176.0</td>\n      <td>NaN</td>\n      <td>NaN</td>\n      <td>NaN</td>\n      <td>217.0</td>\n      <td>458.0</td>\n    </tr>\n    <tr>\n      <th>1</th>\n      <td>1</td>\n      <td>1950.0</td>\n      <td>Cliff Barker</td>\n      <td>SG</td>\n      <td>29.0</td>\n      <td>INO</td>\n      <td>49.0</td>\n      <td>NaN</td>\n      <td>NaN</td>\n      <td>NaN</td>\n      <td>...</td>\n      <td>0.708</td>\n      <td>NaN</td>\n      <td>NaN</td>\n      <td>NaN</td>\n      <td>109.0</td>\n      <td>NaN</td>\n      <td>NaN</td>\n      <td>NaN</td>\n      <td>99.0</td>\n      <td>279.0</td>\n    </tr>\n    <tr>\n      <th>2</th>\n      <td>2</td>\n      <td>1950.0</td>\n      <td>Leo Barnhorst</td>\n      <td>SF</td>\n      <td>25.0</td>\n      <td>CHS</td>\n      <td>67.0</td>\n      <td>NaN</td>\n      <td>NaN</td>\n      <td>NaN</td>\n      <td>...</td>\n      <td>0.698</td>\n      <td>NaN</td>\n      <td>NaN</td>\n      <td>NaN</td>\n      <td>140.0</td>\n      <td>NaN</td>\n      <td>NaN</td>\n      <td>NaN</td>\n      <td>192.0</td>\n      <td>438.0</td>\n    </tr>\n    <tr>\n      <th>3</th>\n      <td>3</td>\n      <td>1950.0</td>\n      <td>Ed Bartels</td>\n      <td>F</td>\n      <td>24.0</td>\n      <td>TOT</td>\n      <td>15.0</td>\n      <td>NaN</td>\n      <td>NaN</td>\n      <td>NaN</td>\n      <td>...</td>\n      <td>0.559</td>\n      <td>NaN</td>\n      <td>NaN</td>\n      <td>NaN</td>\n      <td>20.0</td>\n      <td>NaN</td>\n      <td>NaN</td>\n      <td>NaN</td>\n      <td>29.0</td>\n      <td>63.0</td>\n    </tr>\n    <tr>\n      <th>4</th>\n      <td>4</td>\n      <td>1950.0</td>\n      <td>Ed Bartels</td>\n      <td>F</td>\n      <td>24.0</td>\n      <td>DNN</td>\n      <td>13.0</td>\n      <td>NaN</td>\n      <td>NaN</td>\n      <td>NaN</td>\n      <td>...</td>\n      <td>0.548</td>\n      <td>NaN</td>\n      <td>NaN</td>\n      <td>NaN</td>\n      <td>20.0</td>\n      <td>NaN</td>\n      <td>NaN</td>\n      <td>NaN</td>\n      <td>27.0</td>\n      <td>59.0</td>\n    </tr>\n  </tbody>\n</table>\n<p>5 rows × 53 columns</p>\n</div>"
     },
     "execution_count": 24,
     "metadata": {},
     "output_type": "execute_result"
    }
   ],
   "source": [
    "third_data = pd.read_csv('Seasons_Stats.csv')\n",
    "third_data.head()"
   ],
   "metadata": {
    "collapsed": false
   }
  },
  {
   "cell_type": "code",
   "execution_count": 25,
   "outputs": [
    {
     "name": "stdout",
     "output_type": "stream",
     "text": [
      "Index(['Unnamed: 0', 'Tm', 'G', 'GS', 'MP', 'PER', 'TS%', '3PAr', 'FTr',\n",
      "       'ORB%', 'DRB%', 'TRB%', 'AST%', 'STL%', 'BLK%', 'TOV%', 'USG%', 'blanl',\n",
      "       'OWS', 'DWS', 'WS', 'WS/48', 'blank2', 'OBPM', 'DBPM', 'BPM', 'VORP',\n",
      "       'FG', 'FGA', 'FG%', '3P', '3PA', '3P%', '2P', '2PA', '2P%', 'eFG%',\n",
      "       'FT', 'FTA', 'FT%', 'ORB', 'DRB', 'TRB', 'AST', 'STL', 'BLK', 'TOV',\n",
      "       'PF', 'PTS'],\n",
      "      dtype='object')\n"
     ]
    }
   ],
   "source": [
    "columns = third_data.columns\n",
    "columns = columns.drop(\"Year\").drop(\"Player\").drop(\"Age\").drop(\"Pos\")\n",
    "print(columns)\n",
    "third_data.drop(columns=columns,inplace=True)"
   ],
   "metadata": {
    "collapsed": false
   }
  },
  {
   "cell_type": "code",
   "execution_count": 26,
   "outputs": [
    {
     "data": {
      "text/plain": "         Year             Player Pos   Age\n20837  2011.0     Wesley Johnson  SG  23.0\n20839  2011.0    Dominique Jones  SG  22.0\n20861  2011.0         Gani Lawal  PF  22.0\n20868  2011.0         Jeremy Lin  PG  22.0\n20907  2011.0        Greg Monroe   C  20.0\n...       ...                ...  ..   ...\n24672  2017.0      Troy Williams  SF  22.0\n24675  2017.0       Kyle Wiltjer  PF  24.0\n24688  2017.0  Stephen Zimmerman   C  20.0\n24689  2017.0        Paul Zipser  SF  22.0\n24690  2017.0        Ivica Zubac   C  19.0\n\n[500 rows x 4 columns]",
      "text/html": "<div>\n<style scoped>\n    .dataframe tbody tr th:only-of-type {\n        vertical-align: middle;\n    }\n\n    .dataframe tbody tr th {\n        vertical-align: top;\n    }\n\n    .dataframe thead th {\n        text-align: right;\n    }\n</style>\n<table border=\"1\" class=\"dataframe\">\n  <thead>\n    <tr style=\"text-align: right;\">\n      <th></th>\n      <th>Year</th>\n      <th>Player</th>\n      <th>Pos</th>\n      <th>Age</th>\n    </tr>\n  </thead>\n  <tbody>\n    <tr>\n      <th>20837</th>\n      <td>2011.0</td>\n      <td>Wesley Johnson</td>\n      <td>SG</td>\n      <td>23.0</td>\n    </tr>\n    <tr>\n      <th>20839</th>\n      <td>2011.0</td>\n      <td>Dominique Jones</td>\n      <td>SG</td>\n      <td>22.0</td>\n    </tr>\n    <tr>\n      <th>20861</th>\n      <td>2011.0</td>\n      <td>Gani Lawal</td>\n      <td>PF</td>\n      <td>22.0</td>\n    </tr>\n    <tr>\n      <th>20868</th>\n      <td>2011.0</td>\n      <td>Jeremy Lin</td>\n      <td>PG</td>\n      <td>22.0</td>\n    </tr>\n    <tr>\n      <th>20907</th>\n      <td>2011.0</td>\n      <td>Greg Monroe</td>\n      <td>C</td>\n      <td>20.0</td>\n    </tr>\n    <tr>\n      <th>...</th>\n      <td>...</td>\n      <td>...</td>\n      <td>...</td>\n      <td>...</td>\n    </tr>\n    <tr>\n      <th>24672</th>\n      <td>2017.0</td>\n      <td>Troy Williams</td>\n      <td>SF</td>\n      <td>22.0</td>\n    </tr>\n    <tr>\n      <th>24675</th>\n      <td>2017.0</td>\n      <td>Kyle Wiltjer</td>\n      <td>PF</td>\n      <td>24.0</td>\n    </tr>\n    <tr>\n      <th>24688</th>\n      <td>2017.0</td>\n      <td>Stephen Zimmerman</td>\n      <td>C</td>\n      <td>20.0</td>\n    </tr>\n    <tr>\n      <th>24689</th>\n      <td>2017.0</td>\n      <td>Paul Zipser</td>\n      <td>SF</td>\n      <td>22.0</td>\n    </tr>\n    <tr>\n      <th>24690</th>\n      <td>2017.0</td>\n      <td>Ivica Zubac</td>\n      <td>C</td>\n      <td>19.0</td>\n    </tr>\n  </tbody>\n</table>\n<p>500 rows × 4 columns</p>\n</div>"
     },
     "execution_count": 26,
     "metadata": {},
     "output_type": "execute_result"
    }
   ],
   "source": [
    "third_data.drop_duplicates(\"Player\",inplace=True)\n",
    "third_data.tail(500)"
   ],
   "metadata": {
    "collapsed": false
   }
  },
  {
   "cell_type": "code",
   "execution_count": 31,
   "outputs": [],
   "source": [
    "third_data.rename(columns ={\"Year\":\"year_start\",\"Pos\":\"position\"},inplace=True)"
   ],
   "metadata": {
    "collapsed": false
   }
  },
  {
   "cell_type": "code",
   "execution_count": 27,
   "outputs": [
    {
     "name": "stdout",
     "output_type": "stream",
     "text": [
      "Year - 0.0255%\n",
      "Player - 0.0255%\n",
      "Pos - 0.0255%\n",
      "Age - 0.15298%\n"
     ]
    }
   ],
   "source": [
    "for col in third_data.columns:\n",
    "    pct_missing = np.mean(third_data[col].isnull())\n",
    "    print('{} - {}%'.format(col, round(pct_missing*100,5)))"
   ],
   "metadata": {
    "collapsed": false
   }
  },
  {
   "cell_type": "code",
   "execution_count": 28,
   "outputs": [],
   "source": [
    "ind_missing = third_data[pd.isna(third_data[\"Player\"])].index\n",
    "third_data = third_data.drop(ind_missing, axis=0)"
   ],
   "metadata": {
    "collapsed": false
   }
  },
  {
   "cell_type": "code",
   "execution_count": 29,
   "outputs": [
    {
     "name": "stdout",
     "output_type": "stream",
     "text": [
      "Year - 0.0%\n",
      "Player - 0.0%\n",
      "Pos - 0.0%\n",
      "Age - 0.12752%\n"
     ]
    }
   ],
   "source": [
    "for col in third_data.columns:\n",
    "    pct_missing = np.mean(third_data[col].isnull())\n",
    "    print('{} - {}%'.format(col, round(pct_missing*100,5)))"
   ],
   "metadata": {
    "collapsed": false
   }
  },
  {
   "cell_type": "code",
   "execution_count": 67,
   "outputs": [
    {
     "data": {
      "text/plain": "                  Player  year_start_x  year_end position_x    height_x  \\\n0         Alaa Abdelnaby          1991      1995        F-C  208.279993   \n1        Zaid Abdul-Aziz          1969      1978        C-F  205.739993   \n2     Mahmoud Abdul-Rauf          1991      2001          G  185.419994   \n3      Tariq Abdul-Wahad          1998      2003          F  198.119994   \n4    Shareef Abdur-Rahim          1997      2008          F  205.739993   \n..                   ...           ...       ...        ...         ...   \n495      Mitchell Butler          1994      2004        G-F  195.579994   \n496        Rasual Butler          2003      2016        F-G  200.659994   \n497        Dwight Buycks          2014      2015          G  190.499994   \n498        Derrick Byars          2012      2012          F  200.659994   \n499         Andrew Bynum          2006      2014          C  213.359993   \n\n     weight_x         birth_date                              college_x  \\\n0      108.86      June 24, 1968                        Duke University   \n1      106.60      April 7, 1946                  Iowa State University   \n2       73.48      March 9, 1969             Louisiana State University   \n3      101.15   November 3, 1974              San Jose State University   \n4      102.06  December 11, 1976               University of California   \n..        ...                ...                                    ...   \n495     95.26  December 15, 1970  University of California, Los Angeles   \n496     97.52       May 23, 1979                    La Salle University   \n497     86.18      March 6, 1989                   Marquette University   \n498     99.79     April 25, 1984                  Vanderbilt University   \n499    129.28   October 27, 1987                                    NaN   \n\n     height_y  weight_y                              college_y    born  \\\n0       208.0     108.0                        Duke University  1968.0   \n1       206.0     106.0                  Iowa State University  1946.0   \n2       188.0      83.0  University of California, Los Angeles  1942.0   \n3       198.0     101.0              San Jose State University  1974.0   \n4       206.0     102.0               University of California  1976.0   \n..        ...       ...                                    ...     ...   \n495     188.0      77.0                  University of Memphis  1946.0   \n496     201.0      97.0                    La Salle University  1979.0   \n497     190.0      86.0                   Marquette University  1989.0   \n498     201.0      99.0                  Vanderbilt University  1984.0   \n499     213.0     129.0                                    NaN  1987.0   \n\n         birth_city   birth_state  year_start_y position_y   Age  \n0             Cairo         Egypt        1991.0         PF  22.0  \n1          Brooklyn      New York        1969.0          C  22.0  \n2        Wilmington      Delaware        1991.0         PG  21.0  \n3    Maisons Alfort        France        1998.0         SG  23.0  \n4          Marietta       Georgia        1997.0         PF  20.0  \n..              ...           ...           ...        ...   ...  \n495         Memphis     Tennessee        1994.0         SG  23.0  \n496    Philadelphia  Pennsylvania        2003.0         SG  23.0  \n497       Milwaukee     Wisconsin        2014.0         PG  24.0  \n498         Memphis     Tennessee        2012.0         PF  27.0  \n499      Plainsboro    New Jersey        2006.0          C  18.0  \n\n[500 rows x 17 columns]",
      "text/html": "<div>\n<style scoped>\n    .dataframe tbody tr th:only-of-type {\n        vertical-align: middle;\n    }\n\n    .dataframe tbody tr th {\n        vertical-align: top;\n    }\n\n    .dataframe thead th {\n        text-align: right;\n    }\n</style>\n<table border=\"1\" class=\"dataframe\">\n  <thead>\n    <tr style=\"text-align: right;\">\n      <th></th>\n      <th>Player</th>\n      <th>year_start_x</th>\n      <th>year_end</th>\n      <th>position_x</th>\n      <th>height_x</th>\n      <th>weight_x</th>\n      <th>birth_date</th>\n      <th>college_x</th>\n      <th>height_y</th>\n      <th>weight_y</th>\n      <th>college_y</th>\n      <th>born</th>\n      <th>birth_city</th>\n      <th>birth_state</th>\n      <th>year_start_y</th>\n      <th>position_y</th>\n      <th>Age</th>\n    </tr>\n  </thead>\n  <tbody>\n    <tr>\n      <th>0</th>\n      <td>Alaa Abdelnaby</td>\n      <td>1991</td>\n      <td>1995</td>\n      <td>F-C</td>\n      <td>208.279993</td>\n      <td>108.86</td>\n      <td>June 24, 1968</td>\n      <td>Duke University</td>\n      <td>208.0</td>\n      <td>108.0</td>\n      <td>Duke University</td>\n      <td>1968.0</td>\n      <td>Cairo</td>\n      <td>Egypt</td>\n      <td>1991.0</td>\n      <td>PF</td>\n      <td>22.0</td>\n    </tr>\n    <tr>\n      <th>1</th>\n      <td>Zaid Abdul-Aziz</td>\n      <td>1969</td>\n      <td>1978</td>\n      <td>C-F</td>\n      <td>205.739993</td>\n      <td>106.60</td>\n      <td>April 7, 1946</td>\n      <td>Iowa State University</td>\n      <td>206.0</td>\n      <td>106.0</td>\n      <td>Iowa State University</td>\n      <td>1946.0</td>\n      <td>Brooklyn</td>\n      <td>New York</td>\n      <td>1969.0</td>\n      <td>C</td>\n      <td>22.0</td>\n    </tr>\n    <tr>\n      <th>2</th>\n      <td>Mahmoud Abdul-Rauf</td>\n      <td>1991</td>\n      <td>2001</td>\n      <td>G</td>\n      <td>185.419994</td>\n      <td>73.48</td>\n      <td>March 9, 1969</td>\n      <td>Louisiana State University</td>\n      <td>188.0</td>\n      <td>83.0</td>\n      <td>University of California, Los Angeles</td>\n      <td>1942.0</td>\n      <td>Wilmington</td>\n      <td>Delaware</td>\n      <td>1991.0</td>\n      <td>PG</td>\n      <td>21.0</td>\n    </tr>\n    <tr>\n      <th>3</th>\n      <td>Tariq Abdul-Wahad</td>\n      <td>1998</td>\n      <td>2003</td>\n      <td>F</td>\n      <td>198.119994</td>\n      <td>101.15</td>\n      <td>November 3, 1974</td>\n      <td>San Jose State University</td>\n      <td>198.0</td>\n      <td>101.0</td>\n      <td>San Jose State University</td>\n      <td>1974.0</td>\n      <td>Maisons Alfort</td>\n      <td>France</td>\n      <td>1998.0</td>\n      <td>SG</td>\n      <td>23.0</td>\n    </tr>\n    <tr>\n      <th>4</th>\n      <td>Shareef Abdur-Rahim</td>\n      <td>1997</td>\n      <td>2008</td>\n      <td>F</td>\n      <td>205.739993</td>\n      <td>102.06</td>\n      <td>December 11, 1976</td>\n      <td>University of California</td>\n      <td>206.0</td>\n      <td>102.0</td>\n      <td>University of California</td>\n      <td>1976.0</td>\n      <td>Marietta</td>\n      <td>Georgia</td>\n      <td>1997.0</td>\n      <td>PF</td>\n      <td>20.0</td>\n    </tr>\n    <tr>\n      <th>...</th>\n      <td>...</td>\n      <td>...</td>\n      <td>...</td>\n      <td>...</td>\n      <td>...</td>\n      <td>...</td>\n      <td>...</td>\n      <td>...</td>\n      <td>...</td>\n      <td>...</td>\n      <td>...</td>\n      <td>...</td>\n      <td>...</td>\n      <td>...</td>\n      <td>...</td>\n      <td>...</td>\n      <td>...</td>\n    </tr>\n    <tr>\n      <th>495</th>\n      <td>Mitchell Butler</td>\n      <td>1994</td>\n      <td>2004</td>\n      <td>G-F</td>\n      <td>195.579994</td>\n      <td>95.26</td>\n      <td>December 15, 1970</td>\n      <td>University of California, Los Angeles</td>\n      <td>188.0</td>\n      <td>77.0</td>\n      <td>University of Memphis</td>\n      <td>1946.0</td>\n      <td>Memphis</td>\n      <td>Tennessee</td>\n      <td>1994.0</td>\n      <td>SG</td>\n      <td>23.0</td>\n    </tr>\n    <tr>\n      <th>496</th>\n      <td>Rasual Butler</td>\n      <td>2003</td>\n      <td>2016</td>\n      <td>F-G</td>\n      <td>200.659994</td>\n      <td>97.52</td>\n      <td>May 23, 1979</td>\n      <td>La Salle University</td>\n      <td>201.0</td>\n      <td>97.0</td>\n      <td>La Salle University</td>\n      <td>1979.0</td>\n      <td>Philadelphia</td>\n      <td>Pennsylvania</td>\n      <td>2003.0</td>\n      <td>SG</td>\n      <td>23.0</td>\n    </tr>\n    <tr>\n      <th>497</th>\n      <td>Dwight Buycks</td>\n      <td>2014</td>\n      <td>2015</td>\n      <td>G</td>\n      <td>190.499994</td>\n      <td>86.18</td>\n      <td>March 6, 1989</td>\n      <td>Marquette University</td>\n      <td>190.0</td>\n      <td>86.0</td>\n      <td>Marquette University</td>\n      <td>1989.0</td>\n      <td>Milwaukee</td>\n      <td>Wisconsin</td>\n      <td>2014.0</td>\n      <td>PG</td>\n      <td>24.0</td>\n    </tr>\n    <tr>\n      <th>498</th>\n      <td>Derrick Byars</td>\n      <td>2012</td>\n      <td>2012</td>\n      <td>F</td>\n      <td>200.659994</td>\n      <td>99.79</td>\n      <td>April 25, 1984</td>\n      <td>Vanderbilt University</td>\n      <td>201.0</td>\n      <td>99.0</td>\n      <td>Vanderbilt University</td>\n      <td>1984.0</td>\n      <td>Memphis</td>\n      <td>Tennessee</td>\n      <td>2012.0</td>\n      <td>PF</td>\n      <td>27.0</td>\n    </tr>\n    <tr>\n      <th>499</th>\n      <td>Andrew Bynum</td>\n      <td>2006</td>\n      <td>2014</td>\n      <td>C</td>\n      <td>213.359993</td>\n      <td>129.28</td>\n      <td>October 27, 1987</td>\n      <td>NaN</td>\n      <td>213.0</td>\n      <td>129.0</td>\n      <td>NaN</td>\n      <td>1987.0</td>\n      <td>Plainsboro</td>\n      <td>New Jersey</td>\n      <td>2006.0</td>\n      <td>C</td>\n      <td>18.0</td>\n    </tr>\n  </tbody>\n</table>\n<p>500 rows × 17 columns</p>\n</div>"
     },
     "execution_count": 67,
     "metadata": {},
     "output_type": "execute_result"
    }
   ],
   "source": [
    "data = pd.merge(left=first_data,right=second_data,on=\"Player\",how=\"inner\")\n",
    "data = pd.merge(left=data,right=third_data,on = \"Player\",how=\"inner\")\n",
    "data.head(500)"
   ],
   "metadata": {
    "collapsed": false
   }
  },
  {
   "cell_type": "code",
   "execution_count": null,
   "outputs": [],
   "source": [
    "\n",
    "for col in first_data.columns:\n",
    "    pct_missing = np.mean(first_data[col].isnull())\n",
    "    print('{} - {}%'.format(col, round(pct_missing*100,5)))\n",
    "\n",
    "features = [\"height\", \"weight\"]\n",
    "first_data[features].hist(figsize=(10, 4))"
   ],
   "metadata": {
    "collapsed": false
   }
  }
 ],
 "metadata": {
  "anaconda-cloud": {},
  "kernelspec": {
   "display_name": "Python 3",
   "language": "python",
   "name": "python3"
  },
  "language_info": {
   "codemirror_mode": {
    "name": "ipython",
    "version": 3
   },
   "file_extension": ".py",
   "mimetype": "text/x-python",
   "name": "python",
   "nbconvert_exporter": "python",
   "pygments_lexer": "ipython3",
   "version": "3.6.6"
  }
 },
 "nbformat": 4,
 "nbformat_minor": 1
}
