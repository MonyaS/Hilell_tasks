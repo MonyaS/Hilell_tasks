{
 "cells": [
  {
   "cell_type": "code",
   "execution_count": 1,
   "metadata": {},
   "outputs": [],
   "source": [
    "import numpy as np\n",
    "import pandas as pd\n",
    "import matplotlib.pylab as plt"
   ]
  },
  {
   "cell_type": "code",
   "execution_count": 2,
   "outputs": [
    {
     "name": "stdout",
     "output_type": "stream",
     "text": [
      "(4550, 8)\n",
      "name           object\n",
      "year_start      int64\n",
      "year_end        int64\n",
      "position       object\n",
      "height         object\n",
      "weight        float64\n",
      "birth_date     object\n",
      "college        object\n",
      "dtype: object\n"
     ]
    }
   ],
   "source": [
    "#Загрузка данных\n",
    "first_data = pd.read_csv('player_data.csv')\n",
    "#Смотрим основные параметры\n",
    "print(first_data.shape)\n",
    "print(first_data.dtypes)"
   ],
   "metadata": {
    "collapsed": false
   }
  },
  {
   "cell_type": "code",
   "execution_count": 3,
   "outputs": [
    {
     "data": {
      "text/plain": "                   name  year_start  year_end position height  weight  \\\n0        Alaa Abdelnaby        1991      1995      F-C   6-10   240.0   \n1       Zaid Abdul-Aziz        1969      1978      C-F    6-9   235.0   \n2   Kareem Abdul-Jabbar        1970      1989        C    7-2   225.0   \n3    Mahmoud Abdul-Rauf        1991      2001        G    6-1   162.0   \n4     Tariq Abdul-Wahad        1998      2003        F    6-6   223.0   \n5   Shareef Abdur-Rahim        1997      2008        F    6-9   225.0   \n6         Tom Abernethy        1977      1981        F    6-7   220.0   \n7           Forest Able        1957      1957        G    6-3   180.0   \n8        John Abramovic        1947      1948        F    6-3   195.0   \n9          Alex Abrines        2017      2018      G-F    6-6   190.0   \n10           Alex Acker        2006      2009        G    6-5   185.0   \n11         Don Ackerman        1954      1954        G    6-0   183.0   \n12           Mark Acres        1988      1993      F-C   6-11   220.0   \n13            Bud Acton        1968      1968        F    6-6   210.0   \n14           Quincy Acy        2013      2018        F    6-7   240.0   \n15          Alvan Adams        1976      1988      C-F    6-9   210.0   \n16            Don Adams        1971      1977        F    6-6   210.0   \n17         George Adams        1973      1975      F-G    6-5   210.0   \n18         Hassan Adams        2007      2009        G    6-4   220.0   \n19         Jordan Adams        2015      2016        G    6-5   209.0   \n20        Michael Adams        1986      1996        G   5-10   162.0   \n21         Steven Adams        2014      2018        C    7-0   255.0   \n22       Rafael Addison        1987      1997      F-G    6-7   215.0   \n23          Bam Adebayo        2018      2018      C-F   6-10   243.0   \n24         Rick Adelman        1969      1975        G    6-1   175.0   \n25          Jeff Adrien        2011      2015        F    6-7   245.0   \n26        Arron Afflalo        2008      2018        G    6-5   210.0   \n27         Maurice Ager        2007      2011        G    6-5   202.0   \n28         Mark Aguirre        1982      1994      F-G    6-6   232.0   \n29         Blake Ahearn        2008      2012        G    6-2   190.0   \n30          Danny Ainge        1982      1995        G    6-4   175.0   \n31        Matthew Aitch        1968      1968        F    6-7   230.0   \n32        Alexis Ajinca        2009      2017        C    7-2   248.0   \n33           Henry Akin        1967      1969      C-F   6-10   225.0   \n34         Josh Akognon        2013      2013        G   5-11   185.0   \n35        Solomon Alabi        2011      2012        C    7-1   251.0   \n36          Mark Alarie        1987      1991        F    6-8   217.0   \n37          Gary Alcorn        1960      1961        C    6-9   225.0   \n38       Furkan Aldemir        2015      2015      F-C   6-10   240.0   \n39         Cole Aldrich        2011      2018        C   6-11   250.0   \n40    LaMarcus Aldridge        2007      2018      F-C   6-11   260.0   \n41      Chuck Aleksinas        1985      1985        C   6-11   260.0   \n42      Cliff Alexander        2016      2016        F    6-8   245.0   \n43       Cory Alexander        1996      2005        G    6-1   185.0   \n44   Courtney Alexander        2001      2003        G    6-5   205.0   \n45       Gary Alexander        1994      1994        F    6-7   240.0   \n46        Joe Alexander        2009      2010        F    6-8   230.0   \n47     Victor Alexander        1992      2002      C-F    6-9   265.0   \n48         Steve Alford        1988      1991        G    6-2   183.0   \n49           Bill Allen        1968      1968      C-F    6-8   205.0   \n\n            birth_date                                 college  \n0        June 24, 1968                         Duke University  \n1        April 7, 1946                   Iowa State University  \n2       April 16, 1947   University of California, Los Angeles  \n3        March 9, 1969              Louisiana State University  \n4     November 3, 1974               San Jose State University  \n5    December 11, 1976                University of California  \n6          May 6, 1954                      Indiana University  \n7        July 27, 1932             Western Kentucky University  \n8     February 9, 1919          Salem International University  \n9       August 1, 1993                                     NaN  \n10    January 21, 1983                   Pepperdine University  \n11   September 4, 1930                  Long Island University  \n12   November 15, 1962                 Oral Roberts University  \n13    January 11, 1942                       Hillsdale College  \n14     October 6, 1990                       Baylor University  \n15       July 19, 1954                  University of Oklahoma  \n16   November 27, 1947                 Northwestern University  \n17        May 15, 1949                 Gardner-Webb University  \n18       June 20, 1984                   University of Arizona  \n19        July 8, 1994   University of California, Los Angeles  \n20    January 19, 1963                          Boston College  \n21       July 20, 1993                University of Pittsburgh  \n22       July 22, 1964                     Syracuse University  \n23       July 18, 1997                  University of Kentucky  \n24       June 16, 1946             Loyola Marymount University  \n25   February 10, 1986               University of Connecticut  \n26    October 15, 1985   University of California, Los Angeles  \n27    February 9, 1984               Michigan State University  \n28   December 10, 1959                       DePaul University  \n29        May 27, 1984               Missouri State University  \n30      March 17, 1959                Brigham Young University  \n31  September 21, 1944               Michigan State University  \n32         May 6, 1988                                     NaN  \n33       July 31, 1944               Morehead State University  \n34   February 10, 1986  California State University, Fullerton  \n35      March 21, 1988                Florida State University  \n36   December 11, 1963                         Duke University  \n37     October 8, 1936     California State University, Fresno  \n38      August 9, 1991                                     NaN  \n39    October 31, 1988                    University of Kansas  \n40       July 19, 1985           University of Texas at Austin  \n41   February 26, 1959               University of Connecticut  \n42   November 16, 1995                    University of Kansas  \n43       June 22, 1973                  University of Virginia  \n44      April 27, 1977     California State University, Fresno  \n45    November 1, 1969             University of South Florida  \n46   December 26, 1986                West Virginia University  \n47     August 31, 1969                   Iowa State University  \n48   November 23, 1964                      Indiana University  \n49                 NaN             New Mexico State University  ",
      "text/html": "<div>\n<style scoped>\n    .dataframe tbody tr th:only-of-type {\n        vertical-align: middle;\n    }\n\n    .dataframe tbody tr th {\n        vertical-align: top;\n    }\n\n    .dataframe thead th {\n        text-align: right;\n    }\n</style>\n<table border=\"1\" class=\"dataframe\">\n  <thead>\n    <tr style=\"text-align: right;\">\n      <th></th>\n      <th>name</th>\n      <th>year_start</th>\n      <th>year_end</th>\n      <th>position</th>\n      <th>height</th>\n      <th>weight</th>\n      <th>birth_date</th>\n      <th>college</th>\n    </tr>\n  </thead>\n  <tbody>\n    <tr>\n      <th>0</th>\n      <td>Alaa Abdelnaby</td>\n      <td>1991</td>\n      <td>1995</td>\n      <td>F-C</td>\n      <td>6-10</td>\n      <td>240.0</td>\n      <td>June 24, 1968</td>\n      <td>Duke University</td>\n    </tr>\n    <tr>\n      <th>1</th>\n      <td>Zaid Abdul-Aziz</td>\n      <td>1969</td>\n      <td>1978</td>\n      <td>C-F</td>\n      <td>6-9</td>\n      <td>235.0</td>\n      <td>April 7, 1946</td>\n      <td>Iowa State University</td>\n    </tr>\n    <tr>\n      <th>2</th>\n      <td>Kareem Abdul-Jabbar</td>\n      <td>1970</td>\n      <td>1989</td>\n      <td>C</td>\n      <td>7-2</td>\n      <td>225.0</td>\n      <td>April 16, 1947</td>\n      <td>University of California, Los Angeles</td>\n    </tr>\n    <tr>\n      <th>3</th>\n      <td>Mahmoud Abdul-Rauf</td>\n      <td>1991</td>\n      <td>2001</td>\n      <td>G</td>\n      <td>6-1</td>\n      <td>162.0</td>\n      <td>March 9, 1969</td>\n      <td>Louisiana State University</td>\n    </tr>\n    <tr>\n      <th>4</th>\n      <td>Tariq Abdul-Wahad</td>\n      <td>1998</td>\n      <td>2003</td>\n      <td>F</td>\n      <td>6-6</td>\n      <td>223.0</td>\n      <td>November 3, 1974</td>\n      <td>San Jose State University</td>\n    </tr>\n    <tr>\n      <th>5</th>\n      <td>Shareef Abdur-Rahim</td>\n      <td>1997</td>\n      <td>2008</td>\n      <td>F</td>\n      <td>6-9</td>\n      <td>225.0</td>\n      <td>December 11, 1976</td>\n      <td>University of California</td>\n    </tr>\n    <tr>\n      <th>6</th>\n      <td>Tom Abernethy</td>\n      <td>1977</td>\n      <td>1981</td>\n      <td>F</td>\n      <td>6-7</td>\n      <td>220.0</td>\n      <td>May 6, 1954</td>\n      <td>Indiana University</td>\n    </tr>\n    <tr>\n      <th>7</th>\n      <td>Forest Able</td>\n      <td>1957</td>\n      <td>1957</td>\n      <td>G</td>\n      <td>6-3</td>\n      <td>180.0</td>\n      <td>July 27, 1932</td>\n      <td>Western Kentucky University</td>\n    </tr>\n    <tr>\n      <th>8</th>\n      <td>John Abramovic</td>\n      <td>1947</td>\n      <td>1948</td>\n      <td>F</td>\n      <td>6-3</td>\n      <td>195.0</td>\n      <td>February 9, 1919</td>\n      <td>Salem International University</td>\n    </tr>\n    <tr>\n      <th>9</th>\n      <td>Alex Abrines</td>\n      <td>2017</td>\n      <td>2018</td>\n      <td>G-F</td>\n      <td>6-6</td>\n      <td>190.0</td>\n      <td>August 1, 1993</td>\n      <td>NaN</td>\n    </tr>\n    <tr>\n      <th>10</th>\n      <td>Alex Acker</td>\n      <td>2006</td>\n      <td>2009</td>\n      <td>G</td>\n      <td>6-5</td>\n      <td>185.0</td>\n      <td>January 21, 1983</td>\n      <td>Pepperdine University</td>\n    </tr>\n    <tr>\n      <th>11</th>\n      <td>Don Ackerman</td>\n      <td>1954</td>\n      <td>1954</td>\n      <td>G</td>\n      <td>6-0</td>\n      <td>183.0</td>\n      <td>September 4, 1930</td>\n      <td>Long Island University</td>\n    </tr>\n    <tr>\n      <th>12</th>\n      <td>Mark Acres</td>\n      <td>1988</td>\n      <td>1993</td>\n      <td>F-C</td>\n      <td>6-11</td>\n      <td>220.0</td>\n      <td>November 15, 1962</td>\n      <td>Oral Roberts University</td>\n    </tr>\n    <tr>\n      <th>13</th>\n      <td>Bud Acton</td>\n      <td>1968</td>\n      <td>1968</td>\n      <td>F</td>\n      <td>6-6</td>\n      <td>210.0</td>\n      <td>January 11, 1942</td>\n      <td>Hillsdale College</td>\n    </tr>\n    <tr>\n      <th>14</th>\n      <td>Quincy Acy</td>\n      <td>2013</td>\n      <td>2018</td>\n      <td>F</td>\n      <td>6-7</td>\n      <td>240.0</td>\n      <td>October 6, 1990</td>\n      <td>Baylor University</td>\n    </tr>\n    <tr>\n      <th>15</th>\n      <td>Alvan Adams</td>\n      <td>1976</td>\n      <td>1988</td>\n      <td>C-F</td>\n      <td>6-9</td>\n      <td>210.0</td>\n      <td>July 19, 1954</td>\n      <td>University of Oklahoma</td>\n    </tr>\n    <tr>\n      <th>16</th>\n      <td>Don Adams</td>\n      <td>1971</td>\n      <td>1977</td>\n      <td>F</td>\n      <td>6-6</td>\n      <td>210.0</td>\n      <td>November 27, 1947</td>\n      <td>Northwestern University</td>\n    </tr>\n    <tr>\n      <th>17</th>\n      <td>George Adams</td>\n      <td>1973</td>\n      <td>1975</td>\n      <td>F-G</td>\n      <td>6-5</td>\n      <td>210.0</td>\n      <td>May 15, 1949</td>\n      <td>Gardner-Webb University</td>\n    </tr>\n    <tr>\n      <th>18</th>\n      <td>Hassan Adams</td>\n      <td>2007</td>\n      <td>2009</td>\n      <td>G</td>\n      <td>6-4</td>\n      <td>220.0</td>\n      <td>June 20, 1984</td>\n      <td>University of Arizona</td>\n    </tr>\n    <tr>\n      <th>19</th>\n      <td>Jordan Adams</td>\n      <td>2015</td>\n      <td>2016</td>\n      <td>G</td>\n      <td>6-5</td>\n      <td>209.0</td>\n      <td>July 8, 1994</td>\n      <td>University of California, Los Angeles</td>\n    </tr>\n    <tr>\n      <th>20</th>\n      <td>Michael Adams</td>\n      <td>1986</td>\n      <td>1996</td>\n      <td>G</td>\n      <td>5-10</td>\n      <td>162.0</td>\n      <td>January 19, 1963</td>\n      <td>Boston College</td>\n    </tr>\n    <tr>\n      <th>21</th>\n      <td>Steven Adams</td>\n      <td>2014</td>\n      <td>2018</td>\n      <td>C</td>\n      <td>7-0</td>\n      <td>255.0</td>\n      <td>July 20, 1993</td>\n      <td>University of Pittsburgh</td>\n    </tr>\n    <tr>\n      <th>22</th>\n      <td>Rafael Addison</td>\n      <td>1987</td>\n      <td>1997</td>\n      <td>F-G</td>\n      <td>6-7</td>\n      <td>215.0</td>\n      <td>July 22, 1964</td>\n      <td>Syracuse University</td>\n    </tr>\n    <tr>\n      <th>23</th>\n      <td>Bam Adebayo</td>\n      <td>2018</td>\n      <td>2018</td>\n      <td>C-F</td>\n      <td>6-10</td>\n      <td>243.0</td>\n      <td>July 18, 1997</td>\n      <td>University of Kentucky</td>\n    </tr>\n    <tr>\n      <th>24</th>\n      <td>Rick Adelman</td>\n      <td>1969</td>\n      <td>1975</td>\n      <td>G</td>\n      <td>6-1</td>\n      <td>175.0</td>\n      <td>June 16, 1946</td>\n      <td>Loyola Marymount University</td>\n    </tr>\n    <tr>\n      <th>25</th>\n      <td>Jeff Adrien</td>\n      <td>2011</td>\n      <td>2015</td>\n      <td>F</td>\n      <td>6-7</td>\n      <td>245.0</td>\n      <td>February 10, 1986</td>\n      <td>University of Connecticut</td>\n    </tr>\n    <tr>\n      <th>26</th>\n      <td>Arron Afflalo</td>\n      <td>2008</td>\n      <td>2018</td>\n      <td>G</td>\n      <td>6-5</td>\n      <td>210.0</td>\n      <td>October 15, 1985</td>\n      <td>University of California, Los Angeles</td>\n    </tr>\n    <tr>\n      <th>27</th>\n      <td>Maurice Ager</td>\n      <td>2007</td>\n      <td>2011</td>\n      <td>G</td>\n      <td>6-5</td>\n      <td>202.0</td>\n      <td>February 9, 1984</td>\n      <td>Michigan State University</td>\n    </tr>\n    <tr>\n      <th>28</th>\n      <td>Mark Aguirre</td>\n      <td>1982</td>\n      <td>1994</td>\n      <td>F-G</td>\n      <td>6-6</td>\n      <td>232.0</td>\n      <td>December 10, 1959</td>\n      <td>DePaul University</td>\n    </tr>\n    <tr>\n      <th>29</th>\n      <td>Blake Ahearn</td>\n      <td>2008</td>\n      <td>2012</td>\n      <td>G</td>\n      <td>6-2</td>\n      <td>190.0</td>\n      <td>May 27, 1984</td>\n      <td>Missouri State University</td>\n    </tr>\n    <tr>\n      <th>30</th>\n      <td>Danny Ainge</td>\n      <td>1982</td>\n      <td>1995</td>\n      <td>G</td>\n      <td>6-4</td>\n      <td>175.0</td>\n      <td>March 17, 1959</td>\n      <td>Brigham Young University</td>\n    </tr>\n    <tr>\n      <th>31</th>\n      <td>Matthew Aitch</td>\n      <td>1968</td>\n      <td>1968</td>\n      <td>F</td>\n      <td>6-7</td>\n      <td>230.0</td>\n      <td>September 21, 1944</td>\n      <td>Michigan State University</td>\n    </tr>\n    <tr>\n      <th>32</th>\n      <td>Alexis Ajinca</td>\n      <td>2009</td>\n      <td>2017</td>\n      <td>C</td>\n      <td>7-2</td>\n      <td>248.0</td>\n      <td>May 6, 1988</td>\n      <td>NaN</td>\n    </tr>\n    <tr>\n      <th>33</th>\n      <td>Henry Akin</td>\n      <td>1967</td>\n      <td>1969</td>\n      <td>C-F</td>\n      <td>6-10</td>\n      <td>225.0</td>\n      <td>July 31, 1944</td>\n      <td>Morehead State University</td>\n    </tr>\n    <tr>\n      <th>34</th>\n      <td>Josh Akognon</td>\n      <td>2013</td>\n      <td>2013</td>\n      <td>G</td>\n      <td>5-11</td>\n      <td>185.0</td>\n      <td>February 10, 1986</td>\n      <td>California State University, Fullerton</td>\n    </tr>\n    <tr>\n      <th>35</th>\n      <td>Solomon Alabi</td>\n      <td>2011</td>\n      <td>2012</td>\n      <td>C</td>\n      <td>7-1</td>\n      <td>251.0</td>\n      <td>March 21, 1988</td>\n      <td>Florida State University</td>\n    </tr>\n    <tr>\n      <th>36</th>\n      <td>Mark Alarie</td>\n      <td>1987</td>\n      <td>1991</td>\n      <td>F</td>\n      <td>6-8</td>\n      <td>217.0</td>\n      <td>December 11, 1963</td>\n      <td>Duke University</td>\n    </tr>\n    <tr>\n      <th>37</th>\n      <td>Gary Alcorn</td>\n      <td>1960</td>\n      <td>1961</td>\n      <td>C</td>\n      <td>6-9</td>\n      <td>225.0</td>\n      <td>October 8, 1936</td>\n      <td>California State University, Fresno</td>\n    </tr>\n    <tr>\n      <th>38</th>\n      <td>Furkan Aldemir</td>\n      <td>2015</td>\n      <td>2015</td>\n      <td>F-C</td>\n      <td>6-10</td>\n      <td>240.0</td>\n      <td>August 9, 1991</td>\n      <td>NaN</td>\n    </tr>\n    <tr>\n      <th>39</th>\n      <td>Cole Aldrich</td>\n      <td>2011</td>\n      <td>2018</td>\n      <td>C</td>\n      <td>6-11</td>\n      <td>250.0</td>\n      <td>October 31, 1988</td>\n      <td>University of Kansas</td>\n    </tr>\n    <tr>\n      <th>40</th>\n      <td>LaMarcus Aldridge</td>\n      <td>2007</td>\n      <td>2018</td>\n      <td>F-C</td>\n      <td>6-11</td>\n      <td>260.0</td>\n      <td>July 19, 1985</td>\n      <td>University of Texas at Austin</td>\n    </tr>\n    <tr>\n      <th>41</th>\n      <td>Chuck Aleksinas</td>\n      <td>1985</td>\n      <td>1985</td>\n      <td>C</td>\n      <td>6-11</td>\n      <td>260.0</td>\n      <td>February 26, 1959</td>\n      <td>University of Connecticut</td>\n    </tr>\n    <tr>\n      <th>42</th>\n      <td>Cliff Alexander</td>\n      <td>2016</td>\n      <td>2016</td>\n      <td>F</td>\n      <td>6-8</td>\n      <td>245.0</td>\n      <td>November 16, 1995</td>\n      <td>University of Kansas</td>\n    </tr>\n    <tr>\n      <th>43</th>\n      <td>Cory Alexander</td>\n      <td>1996</td>\n      <td>2005</td>\n      <td>G</td>\n      <td>6-1</td>\n      <td>185.0</td>\n      <td>June 22, 1973</td>\n      <td>University of Virginia</td>\n    </tr>\n    <tr>\n      <th>44</th>\n      <td>Courtney Alexander</td>\n      <td>2001</td>\n      <td>2003</td>\n      <td>G</td>\n      <td>6-5</td>\n      <td>205.0</td>\n      <td>April 27, 1977</td>\n      <td>California State University, Fresno</td>\n    </tr>\n    <tr>\n      <th>45</th>\n      <td>Gary Alexander</td>\n      <td>1994</td>\n      <td>1994</td>\n      <td>F</td>\n      <td>6-7</td>\n      <td>240.0</td>\n      <td>November 1, 1969</td>\n      <td>University of South Florida</td>\n    </tr>\n    <tr>\n      <th>46</th>\n      <td>Joe Alexander</td>\n      <td>2009</td>\n      <td>2010</td>\n      <td>F</td>\n      <td>6-8</td>\n      <td>230.0</td>\n      <td>December 26, 1986</td>\n      <td>West Virginia University</td>\n    </tr>\n    <tr>\n      <th>47</th>\n      <td>Victor Alexander</td>\n      <td>1992</td>\n      <td>2002</td>\n      <td>C-F</td>\n      <td>6-9</td>\n      <td>265.0</td>\n      <td>August 31, 1969</td>\n      <td>Iowa State University</td>\n    </tr>\n    <tr>\n      <th>48</th>\n      <td>Steve Alford</td>\n      <td>1988</td>\n      <td>1991</td>\n      <td>G</td>\n      <td>6-2</td>\n      <td>183.0</td>\n      <td>November 23, 1964</td>\n      <td>Indiana University</td>\n    </tr>\n    <tr>\n      <th>49</th>\n      <td>Bill Allen</td>\n      <td>1968</td>\n      <td>1968</td>\n      <td>C-F</td>\n      <td>6-8</td>\n      <td>205.0</td>\n      <td>NaN</td>\n      <td>New Mexico State University</td>\n    </tr>\n  </tbody>\n</table>\n</div>"
     },
     "execution_count": 3,
     "metadata": {},
     "output_type": "execute_result"
    }
   ],
   "source": [
    "#Оцениваем что в дата сете есть, и с чем прийдется иметь дело\n",
    "first_data.head(50)"
   ],
   "metadata": {
    "collapsed": false
   }
  },
  {
   "cell_type": "code",
   "execution_count": 4,
   "outputs": [
    {
     "data": {
      "text/plain": "name          4550\nyear_start    4550\nyear_end      4550\nposition      4549\nheight        4549\nweight        4544\nbirth_date    4519\ncollege       4248\ndtype: int64"
     },
     "execution_count": 4,
     "metadata": {},
     "output_type": "execute_result"
    }
   ],
   "source": [
    "first_data.count()"
   ],
   "metadata": {
    "collapsed": false
   }
  },
  {
   "cell_type": "code",
   "execution_count": 13,
   "outputs": [
    {
     "name": "stdout",
     "output_type": "stream",
     "text": [
      "{'name': 0.0, 'year_start': 0.0, 'year_end': 0.0, 'position': 0.0, 'height': 0.0, 'weight': 0.0, 'birth_date': 0.66021, 'college': 6.64613}\n"
     ]
    }
   ],
   "source": [
    "cols = []\n",
    "persent = []\n",
    "for col in first_data.columns:\n",
    "    pct_missing = np.mean(first_data[col].isnull())\n",
    "    cols.append(col)\n",
    "    persent.append(round(pct_missing*100,5))\n"
   ],
   "metadata": {
    "collapsed": false
   }
  },
  {
   "cell_type": "code",
   "execution_count": 5,
   "metadata": {},
   "outputs": [],
   "source": [
    "def from_ft_to_m(ft):\n",
    "    size = ft.split(\"-\")\n",
    "    return ((int(size[0]) * 12) + int(size[1])) / 39.37008\n",
    "#Удаление записей с полем height nan\n",
    "ind_missing = first_data[pd.isna(first_data[\"height\"])].index\n",
    "first_data = first_data.drop(ind_missing, axis=0)\n",
    "\n",
    "#Перевод поля height из имперской системы в метрическую\n",
    "first_data[\"height\"] = first_data[\"height\"].apply(from_ft_to_m)"
   ]
  },
  {
   "cell_type": "code",
   "execution_count": 6,
   "outputs": [
    {
     "data": {
      "text/plain": "                   name  year_start  year_end position  height  weight  \\\n0        Alaa Abdelnaby        1991      1995      F-C  2.0828     109   \n1       Zaid Abdul-Aziz        1969      1978      C-F  2.0574     107   \n2   Kareem Abdul-Jabbar        1970      1989        C  2.1844     102   \n3    Mahmoud Abdul-Rauf        1991      2001        G  1.8542      73   \n4     Tariq Abdul-Wahad        1998      2003        F  1.9812     101   \n5   Shareef Abdur-Rahim        1997      2008        F  2.0574     102   \n6         Tom Abernethy        1977      1981        F  2.0066     100   \n7           Forest Able        1957      1957        G  1.9050      82   \n8        John Abramovic        1947      1948        F  1.9050      88   \n9          Alex Abrines        2017      2018      G-F  1.9812      86   \n10           Alex Acker        2006      2009        G  1.9558      84   \n11         Don Ackerman        1954      1954        G  1.8288      83   \n12           Mark Acres        1988      1993      F-C  2.1082     100   \n13            Bud Acton        1968      1968        F  1.9812      95   \n14           Quincy Acy        2013      2018        F  2.0066     109   \n15          Alvan Adams        1976      1988      C-F  2.0574      95   \n16            Don Adams        1971      1977        F  1.9812      95   \n17         George Adams        1973      1975      F-G  1.9558      95   \n18         Hassan Adams        2007      2009        G  1.9304     100   \n19         Jordan Adams        2015      2016        G  1.9558      95   \n20        Michael Adams        1986      1996        G  1.7780      73   \n21         Steven Adams        2014      2018        C  2.1336     116   \n22       Rafael Addison        1987      1997      F-G  2.0066      98   \n23          Bam Adebayo        2018      2018      C-F  2.0828     110   \n24         Rick Adelman        1969      1975        G  1.8542      79   \n25          Jeff Adrien        2011      2015        F  2.0066     111   \n26        Arron Afflalo        2008      2018        G  1.9558      95   \n27         Maurice Ager        2007      2011        G  1.9558      92   \n28         Mark Aguirre        1982      1994      F-G  1.9812     105   \n29         Blake Ahearn        2008      2012        G  1.8796      86   \n30          Danny Ainge        1982      1995        G  1.9304      79   \n31        Matthew Aitch        1968      1968        F  2.0066     104   \n32        Alexis Ajinca        2009      2017        C  2.1844     112   \n33           Henry Akin        1967      1969      C-F  2.0828     102   \n34         Josh Akognon        2013      2013        G  1.8034      84   \n35        Solomon Alabi        2011      2012        C  2.1590     114   \n36          Mark Alarie        1987      1991        F  2.0320      98   \n37          Gary Alcorn        1960      1961        C  2.0574     102   \n38       Furkan Aldemir        2015      2015      F-C  2.0828     109   \n39         Cole Aldrich        2011      2018        C  2.1082     113   \n40    LaMarcus Aldridge        2007      2018      F-C  2.1082     118   \n41      Chuck Aleksinas        1985      1985        C  2.1082     118   \n42      Cliff Alexander        2016      2016        F  2.0320     111   \n43       Cory Alexander        1996      2005        G  1.8542      84   \n44   Courtney Alexander        2001      2003        G  1.9558      93   \n45       Gary Alexander        1994      1994        F  2.0066     109   \n46        Joe Alexander        2009      2010        F  2.0320     104   \n47     Victor Alexander        1992      2002      C-F  2.0574     120   \n48         Steve Alford        1988      1991        G  1.8796      83   \n49           Bill Allen        1968      1968      C-F  2.0320      93   \n\n            birth_date                                 college  \n0        June 24, 1968                         Duke University  \n1        April 7, 1946                   Iowa State University  \n2       April 16, 1947   University of California, Los Angeles  \n3        March 9, 1969              Louisiana State University  \n4     November 3, 1974               San Jose State University  \n5    December 11, 1976                University of California  \n6          May 6, 1954                      Indiana University  \n7        July 27, 1932             Western Kentucky University  \n8     February 9, 1919          Salem International University  \n9       August 1, 1993                                     NaN  \n10    January 21, 1983                   Pepperdine University  \n11   September 4, 1930                  Long Island University  \n12   November 15, 1962                 Oral Roberts University  \n13    January 11, 1942                       Hillsdale College  \n14     October 6, 1990                       Baylor University  \n15       July 19, 1954                  University of Oklahoma  \n16   November 27, 1947                 Northwestern University  \n17        May 15, 1949                 Gardner-Webb University  \n18       June 20, 1984                   University of Arizona  \n19        July 8, 1994   University of California, Los Angeles  \n20    January 19, 1963                          Boston College  \n21       July 20, 1993                University of Pittsburgh  \n22       July 22, 1964                     Syracuse University  \n23       July 18, 1997                  University of Kentucky  \n24       June 16, 1946             Loyola Marymount University  \n25   February 10, 1986               University of Connecticut  \n26    October 15, 1985   University of California, Los Angeles  \n27    February 9, 1984               Michigan State University  \n28   December 10, 1959                       DePaul University  \n29        May 27, 1984               Missouri State University  \n30      March 17, 1959                Brigham Young University  \n31  September 21, 1944               Michigan State University  \n32         May 6, 1988                                     NaN  \n33       July 31, 1944               Morehead State University  \n34   February 10, 1986  California State University, Fullerton  \n35      March 21, 1988                Florida State University  \n36   December 11, 1963                         Duke University  \n37     October 8, 1936     California State University, Fresno  \n38      August 9, 1991                                     NaN  \n39    October 31, 1988                    University of Kansas  \n40       July 19, 1985           University of Texas at Austin  \n41   February 26, 1959               University of Connecticut  \n42   November 16, 1995                    University of Kansas  \n43       June 22, 1973                  University of Virginia  \n44      April 27, 1977     California State University, Fresno  \n45    November 1, 1969             University of South Florida  \n46   December 26, 1986                West Virginia University  \n47     August 31, 1969                   Iowa State University  \n48   November 23, 1964                      Indiana University  \n49                 NaN             New Mexico State University  ",
      "text/html": "<div>\n<style scoped>\n    .dataframe tbody tr th:only-of-type {\n        vertical-align: middle;\n    }\n\n    .dataframe tbody tr th {\n        vertical-align: top;\n    }\n\n    .dataframe thead th {\n        text-align: right;\n    }\n</style>\n<table border=\"1\" class=\"dataframe\">\n  <thead>\n    <tr style=\"text-align: right;\">\n      <th></th>\n      <th>name</th>\n      <th>year_start</th>\n      <th>year_end</th>\n      <th>position</th>\n      <th>height</th>\n      <th>weight</th>\n      <th>birth_date</th>\n      <th>college</th>\n    </tr>\n  </thead>\n  <tbody>\n    <tr>\n      <th>0</th>\n      <td>Alaa Abdelnaby</td>\n      <td>1991</td>\n      <td>1995</td>\n      <td>F-C</td>\n      <td>2.0828</td>\n      <td>109</td>\n      <td>June 24, 1968</td>\n      <td>Duke University</td>\n    </tr>\n    <tr>\n      <th>1</th>\n      <td>Zaid Abdul-Aziz</td>\n      <td>1969</td>\n      <td>1978</td>\n      <td>C-F</td>\n      <td>2.0574</td>\n      <td>107</td>\n      <td>April 7, 1946</td>\n      <td>Iowa State University</td>\n    </tr>\n    <tr>\n      <th>2</th>\n      <td>Kareem Abdul-Jabbar</td>\n      <td>1970</td>\n      <td>1989</td>\n      <td>C</td>\n      <td>2.1844</td>\n      <td>102</td>\n      <td>April 16, 1947</td>\n      <td>University of California, Los Angeles</td>\n    </tr>\n    <tr>\n      <th>3</th>\n      <td>Mahmoud Abdul-Rauf</td>\n      <td>1991</td>\n      <td>2001</td>\n      <td>G</td>\n      <td>1.8542</td>\n      <td>73</td>\n      <td>March 9, 1969</td>\n      <td>Louisiana State University</td>\n    </tr>\n    <tr>\n      <th>4</th>\n      <td>Tariq Abdul-Wahad</td>\n      <td>1998</td>\n      <td>2003</td>\n      <td>F</td>\n      <td>1.9812</td>\n      <td>101</td>\n      <td>November 3, 1974</td>\n      <td>San Jose State University</td>\n    </tr>\n    <tr>\n      <th>5</th>\n      <td>Shareef Abdur-Rahim</td>\n      <td>1997</td>\n      <td>2008</td>\n      <td>F</td>\n      <td>2.0574</td>\n      <td>102</td>\n      <td>December 11, 1976</td>\n      <td>University of California</td>\n    </tr>\n    <tr>\n      <th>6</th>\n      <td>Tom Abernethy</td>\n      <td>1977</td>\n      <td>1981</td>\n      <td>F</td>\n      <td>2.0066</td>\n      <td>100</td>\n      <td>May 6, 1954</td>\n      <td>Indiana University</td>\n    </tr>\n    <tr>\n      <th>7</th>\n      <td>Forest Able</td>\n      <td>1957</td>\n      <td>1957</td>\n      <td>G</td>\n      <td>1.9050</td>\n      <td>82</td>\n      <td>July 27, 1932</td>\n      <td>Western Kentucky University</td>\n    </tr>\n    <tr>\n      <th>8</th>\n      <td>John Abramovic</td>\n      <td>1947</td>\n      <td>1948</td>\n      <td>F</td>\n      <td>1.9050</td>\n      <td>88</td>\n      <td>February 9, 1919</td>\n      <td>Salem International University</td>\n    </tr>\n    <tr>\n      <th>9</th>\n      <td>Alex Abrines</td>\n      <td>2017</td>\n      <td>2018</td>\n      <td>G-F</td>\n      <td>1.9812</td>\n      <td>86</td>\n      <td>August 1, 1993</td>\n      <td>NaN</td>\n    </tr>\n    <tr>\n      <th>10</th>\n      <td>Alex Acker</td>\n      <td>2006</td>\n      <td>2009</td>\n      <td>G</td>\n      <td>1.9558</td>\n      <td>84</td>\n      <td>January 21, 1983</td>\n      <td>Pepperdine University</td>\n    </tr>\n    <tr>\n      <th>11</th>\n      <td>Don Ackerman</td>\n      <td>1954</td>\n      <td>1954</td>\n      <td>G</td>\n      <td>1.8288</td>\n      <td>83</td>\n      <td>September 4, 1930</td>\n      <td>Long Island University</td>\n    </tr>\n    <tr>\n      <th>12</th>\n      <td>Mark Acres</td>\n      <td>1988</td>\n      <td>1993</td>\n      <td>F-C</td>\n      <td>2.1082</td>\n      <td>100</td>\n      <td>November 15, 1962</td>\n      <td>Oral Roberts University</td>\n    </tr>\n    <tr>\n      <th>13</th>\n      <td>Bud Acton</td>\n      <td>1968</td>\n      <td>1968</td>\n      <td>F</td>\n      <td>1.9812</td>\n      <td>95</td>\n      <td>January 11, 1942</td>\n      <td>Hillsdale College</td>\n    </tr>\n    <tr>\n      <th>14</th>\n      <td>Quincy Acy</td>\n      <td>2013</td>\n      <td>2018</td>\n      <td>F</td>\n      <td>2.0066</td>\n      <td>109</td>\n      <td>October 6, 1990</td>\n      <td>Baylor University</td>\n    </tr>\n    <tr>\n      <th>15</th>\n      <td>Alvan Adams</td>\n      <td>1976</td>\n      <td>1988</td>\n      <td>C-F</td>\n      <td>2.0574</td>\n      <td>95</td>\n      <td>July 19, 1954</td>\n      <td>University of Oklahoma</td>\n    </tr>\n    <tr>\n      <th>16</th>\n      <td>Don Adams</td>\n      <td>1971</td>\n      <td>1977</td>\n      <td>F</td>\n      <td>1.9812</td>\n      <td>95</td>\n      <td>November 27, 1947</td>\n      <td>Northwestern University</td>\n    </tr>\n    <tr>\n      <th>17</th>\n      <td>George Adams</td>\n      <td>1973</td>\n      <td>1975</td>\n      <td>F-G</td>\n      <td>1.9558</td>\n      <td>95</td>\n      <td>May 15, 1949</td>\n      <td>Gardner-Webb University</td>\n    </tr>\n    <tr>\n      <th>18</th>\n      <td>Hassan Adams</td>\n      <td>2007</td>\n      <td>2009</td>\n      <td>G</td>\n      <td>1.9304</td>\n      <td>100</td>\n      <td>June 20, 1984</td>\n      <td>University of Arizona</td>\n    </tr>\n    <tr>\n      <th>19</th>\n      <td>Jordan Adams</td>\n      <td>2015</td>\n      <td>2016</td>\n      <td>G</td>\n      <td>1.9558</td>\n      <td>95</td>\n      <td>July 8, 1994</td>\n      <td>University of California, Los Angeles</td>\n    </tr>\n    <tr>\n      <th>20</th>\n      <td>Michael Adams</td>\n      <td>1986</td>\n      <td>1996</td>\n      <td>G</td>\n      <td>1.7780</td>\n      <td>73</td>\n      <td>January 19, 1963</td>\n      <td>Boston College</td>\n    </tr>\n    <tr>\n      <th>21</th>\n      <td>Steven Adams</td>\n      <td>2014</td>\n      <td>2018</td>\n      <td>C</td>\n      <td>2.1336</td>\n      <td>116</td>\n      <td>July 20, 1993</td>\n      <td>University of Pittsburgh</td>\n    </tr>\n    <tr>\n      <th>22</th>\n      <td>Rafael Addison</td>\n      <td>1987</td>\n      <td>1997</td>\n      <td>F-G</td>\n      <td>2.0066</td>\n      <td>98</td>\n      <td>July 22, 1964</td>\n      <td>Syracuse University</td>\n    </tr>\n    <tr>\n      <th>23</th>\n      <td>Bam Adebayo</td>\n      <td>2018</td>\n      <td>2018</td>\n      <td>C-F</td>\n      <td>2.0828</td>\n      <td>110</td>\n      <td>July 18, 1997</td>\n      <td>University of Kentucky</td>\n    </tr>\n    <tr>\n      <th>24</th>\n      <td>Rick Adelman</td>\n      <td>1969</td>\n      <td>1975</td>\n      <td>G</td>\n      <td>1.8542</td>\n      <td>79</td>\n      <td>June 16, 1946</td>\n      <td>Loyola Marymount University</td>\n    </tr>\n    <tr>\n      <th>25</th>\n      <td>Jeff Adrien</td>\n      <td>2011</td>\n      <td>2015</td>\n      <td>F</td>\n      <td>2.0066</td>\n      <td>111</td>\n      <td>February 10, 1986</td>\n      <td>University of Connecticut</td>\n    </tr>\n    <tr>\n      <th>26</th>\n      <td>Arron Afflalo</td>\n      <td>2008</td>\n      <td>2018</td>\n      <td>G</td>\n      <td>1.9558</td>\n      <td>95</td>\n      <td>October 15, 1985</td>\n      <td>University of California, Los Angeles</td>\n    </tr>\n    <tr>\n      <th>27</th>\n      <td>Maurice Ager</td>\n      <td>2007</td>\n      <td>2011</td>\n      <td>G</td>\n      <td>1.9558</td>\n      <td>92</td>\n      <td>February 9, 1984</td>\n      <td>Michigan State University</td>\n    </tr>\n    <tr>\n      <th>28</th>\n      <td>Mark Aguirre</td>\n      <td>1982</td>\n      <td>1994</td>\n      <td>F-G</td>\n      <td>1.9812</td>\n      <td>105</td>\n      <td>December 10, 1959</td>\n      <td>DePaul University</td>\n    </tr>\n    <tr>\n      <th>29</th>\n      <td>Blake Ahearn</td>\n      <td>2008</td>\n      <td>2012</td>\n      <td>G</td>\n      <td>1.8796</td>\n      <td>86</td>\n      <td>May 27, 1984</td>\n      <td>Missouri State University</td>\n    </tr>\n    <tr>\n      <th>30</th>\n      <td>Danny Ainge</td>\n      <td>1982</td>\n      <td>1995</td>\n      <td>G</td>\n      <td>1.9304</td>\n      <td>79</td>\n      <td>March 17, 1959</td>\n      <td>Brigham Young University</td>\n    </tr>\n    <tr>\n      <th>31</th>\n      <td>Matthew Aitch</td>\n      <td>1968</td>\n      <td>1968</td>\n      <td>F</td>\n      <td>2.0066</td>\n      <td>104</td>\n      <td>September 21, 1944</td>\n      <td>Michigan State University</td>\n    </tr>\n    <tr>\n      <th>32</th>\n      <td>Alexis Ajinca</td>\n      <td>2009</td>\n      <td>2017</td>\n      <td>C</td>\n      <td>2.1844</td>\n      <td>112</td>\n      <td>May 6, 1988</td>\n      <td>NaN</td>\n    </tr>\n    <tr>\n      <th>33</th>\n      <td>Henry Akin</td>\n      <td>1967</td>\n      <td>1969</td>\n      <td>C-F</td>\n      <td>2.0828</td>\n      <td>102</td>\n      <td>July 31, 1944</td>\n      <td>Morehead State University</td>\n    </tr>\n    <tr>\n      <th>34</th>\n      <td>Josh Akognon</td>\n      <td>2013</td>\n      <td>2013</td>\n      <td>G</td>\n      <td>1.8034</td>\n      <td>84</td>\n      <td>February 10, 1986</td>\n      <td>California State University, Fullerton</td>\n    </tr>\n    <tr>\n      <th>35</th>\n      <td>Solomon Alabi</td>\n      <td>2011</td>\n      <td>2012</td>\n      <td>C</td>\n      <td>2.1590</td>\n      <td>114</td>\n      <td>March 21, 1988</td>\n      <td>Florida State University</td>\n    </tr>\n    <tr>\n      <th>36</th>\n      <td>Mark Alarie</td>\n      <td>1987</td>\n      <td>1991</td>\n      <td>F</td>\n      <td>2.0320</td>\n      <td>98</td>\n      <td>December 11, 1963</td>\n      <td>Duke University</td>\n    </tr>\n    <tr>\n      <th>37</th>\n      <td>Gary Alcorn</td>\n      <td>1960</td>\n      <td>1961</td>\n      <td>C</td>\n      <td>2.0574</td>\n      <td>102</td>\n      <td>October 8, 1936</td>\n      <td>California State University, Fresno</td>\n    </tr>\n    <tr>\n      <th>38</th>\n      <td>Furkan Aldemir</td>\n      <td>2015</td>\n      <td>2015</td>\n      <td>F-C</td>\n      <td>2.0828</td>\n      <td>109</td>\n      <td>August 9, 1991</td>\n      <td>NaN</td>\n    </tr>\n    <tr>\n      <th>39</th>\n      <td>Cole Aldrich</td>\n      <td>2011</td>\n      <td>2018</td>\n      <td>C</td>\n      <td>2.1082</td>\n      <td>113</td>\n      <td>October 31, 1988</td>\n      <td>University of Kansas</td>\n    </tr>\n    <tr>\n      <th>40</th>\n      <td>LaMarcus Aldridge</td>\n      <td>2007</td>\n      <td>2018</td>\n      <td>F-C</td>\n      <td>2.1082</td>\n      <td>118</td>\n      <td>July 19, 1985</td>\n      <td>University of Texas at Austin</td>\n    </tr>\n    <tr>\n      <th>41</th>\n      <td>Chuck Aleksinas</td>\n      <td>1985</td>\n      <td>1985</td>\n      <td>C</td>\n      <td>2.1082</td>\n      <td>118</td>\n      <td>February 26, 1959</td>\n      <td>University of Connecticut</td>\n    </tr>\n    <tr>\n      <th>42</th>\n      <td>Cliff Alexander</td>\n      <td>2016</td>\n      <td>2016</td>\n      <td>F</td>\n      <td>2.0320</td>\n      <td>111</td>\n      <td>November 16, 1995</td>\n      <td>University of Kansas</td>\n    </tr>\n    <tr>\n      <th>43</th>\n      <td>Cory Alexander</td>\n      <td>1996</td>\n      <td>2005</td>\n      <td>G</td>\n      <td>1.8542</td>\n      <td>84</td>\n      <td>June 22, 1973</td>\n      <td>University of Virginia</td>\n    </tr>\n    <tr>\n      <th>44</th>\n      <td>Courtney Alexander</td>\n      <td>2001</td>\n      <td>2003</td>\n      <td>G</td>\n      <td>1.9558</td>\n      <td>93</td>\n      <td>April 27, 1977</td>\n      <td>California State University, Fresno</td>\n    </tr>\n    <tr>\n      <th>45</th>\n      <td>Gary Alexander</td>\n      <td>1994</td>\n      <td>1994</td>\n      <td>F</td>\n      <td>2.0066</td>\n      <td>109</td>\n      <td>November 1, 1969</td>\n      <td>University of South Florida</td>\n    </tr>\n    <tr>\n      <th>46</th>\n      <td>Joe Alexander</td>\n      <td>2009</td>\n      <td>2010</td>\n      <td>F</td>\n      <td>2.0320</td>\n      <td>104</td>\n      <td>December 26, 1986</td>\n      <td>West Virginia University</td>\n    </tr>\n    <tr>\n      <th>47</th>\n      <td>Victor Alexander</td>\n      <td>1992</td>\n      <td>2002</td>\n      <td>C-F</td>\n      <td>2.0574</td>\n      <td>120</td>\n      <td>August 31, 1969</td>\n      <td>Iowa State University</td>\n    </tr>\n    <tr>\n      <th>48</th>\n      <td>Steve Alford</td>\n      <td>1988</td>\n      <td>1991</td>\n      <td>G</td>\n      <td>1.8796</td>\n      <td>83</td>\n      <td>November 23, 1964</td>\n      <td>Indiana University</td>\n    </tr>\n    <tr>\n      <th>49</th>\n      <td>Bill Allen</td>\n      <td>1968</td>\n      <td>1968</td>\n      <td>C-F</td>\n      <td>2.0320</td>\n      <td>93</td>\n      <td>NaN</td>\n      <td>New Mexico State University</td>\n    </tr>\n  </tbody>\n</table>\n</div>"
     },
     "execution_count": 6,
     "metadata": {},
     "output_type": "execute_result"
    }
   ],
   "source": [
    "def from_lb_to_kg(lb):\n",
    "    return round(lb/2.2046)\n",
    "#Удаление записей с полем height nan\n",
    "ind_missing = first_data[pd.isna(first_data[\"weight\"])].index\n",
    "first_data = first_data.drop(ind_missing, axis=0)\n",
    "\n",
    "#Перевод поля height из имперской системы в метрическую\n",
    "first_data[\"weight\"] = first_data[\"weight\"].apply(from_lb_to_kg)\n",
    "first_data.head(50)"
   ],
   "metadata": {
    "collapsed": false
   }
  },
  {
   "cell_type": "code",
   "execution_count": 7,
   "outputs": [
    {
     "name": "stdout",
     "output_type": "stream",
     "text": [
      "name - 0.0%\n",
      "year_start - 0.0%\n",
      "year_end - 0.0%\n",
      "position - 0.0%\n",
      "height - 0.0%\n",
      "weight - 0.0%\n",
      "birth_date - 0.66021%\n",
      "college - 6.64613%\n"
     ]
    }
   ],
   "source": [
    "for col in first_data.columns:\n",
    "    pct_missing = np.mean(first_data[col].isnull())\n",
    "    print('{} - {}%'.format(col, round(pct_missing*100,5)))"
   ],
   "metadata": {
    "collapsed": false
   }
  },
  {
   "cell_type": "code",
   "execution_count": 8,
   "metadata": {
    "collapsed": true
   },
   "outputs": [
    {
     "data": {
      "text/plain": "83.0     291\n95.0     281\n86.0     273\n99.0     262\n97.0     223\n        ... \n140.0      1\n149.0      1\n125.0      1\n75.0       1\n142.0      1\nName: weight, Length: 76, dtype: int64"
     },
     "execution_count": 8,
     "metadata": {},
     "output_type": "execute_result"
    }
   ],
   "source": [
    "second_data = pd.read_csv('Players.csv')\n",
    "second_data[\"weight\"].value_counts()\n",
    "# second_data.head(100)"
   ]
  },
  {
   "cell_type": "code",
   "execution_count": 9,
   "metadata": {
    "collapsed": true
   },
   "outputs": [
    {
     "data": {
      "text/plain": "    Unnamed: 0    Year            Player  Pos   Age   Tm     G  GS  MP  PER  \\\n0            0  1950.0   Curly Armstrong  G-F  31.0  FTW  63.0 NaN NaN  NaN   \n1            1  1950.0      Cliff Barker   SG  29.0  INO  49.0 NaN NaN  NaN   \n2            2  1950.0     Leo Barnhorst   SF  25.0  CHS  67.0 NaN NaN  NaN   \n3            3  1950.0        Ed Bartels    F  24.0  TOT  15.0 NaN NaN  NaN   \n4            4  1950.0        Ed Bartels    F  24.0  DNN  13.0 NaN NaN  NaN   \n..         ...     ...               ...  ...   ...  ...   ...  ..  ..  ...   \n95          95  1950.0      Bob Harrison    G  22.0  MNL  66.0 NaN NaN  NaN   \n96          96  1950.0     Billy Hassett    G  28.0  TOT  60.0 NaN NaN  NaN   \n97          97  1950.0     Billy Hassett    G  28.0  TRI  18.0 NaN NaN  NaN   \n98          98  1950.0     Billy Hassett    G  28.0  MNL  42.0 NaN NaN  NaN   \n99          99  1950.0  Marshall Hawkins    F  25.0  INO  39.0 NaN NaN  NaN   \n\n    ...    FT%  ORB  DRB  TRB    AST  STL  BLK  TOV     PF    PTS  \n0   ...  0.705  NaN  NaN  NaN  176.0  NaN  NaN  NaN  217.0  458.0  \n1   ...  0.708  NaN  NaN  NaN  109.0  NaN  NaN  NaN   99.0  279.0  \n2   ...  0.698  NaN  NaN  NaN  140.0  NaN  NaN  NaN  192.0  438.0  \n3   ...  0.559  NaN  NaN  NaN   20.0  NaN  NaN  NaN   29.0   63.0  \n4   ...  0.548  NaN  NaN  NaN   20.0  NaN  NaN  NaN   27.0   59.0  \n..  ...    ...  ...  ...  ...    ...  ...  ...  ...    ...    ...  \n95  ...  0.676  NaN  NaN  NaN  131.0  NaN  NaN  NaN  175.0  300.0  \n96  ...  0.646  NaN  NaN  NaN  137.0  NaN  NaN  NaN  136.0  272.0  \n97  ...  0.734  NaN  NaN  NaN   68.0  NaN  NaN  NaN   54.0  161.0  \n98  ...  0.522  NaN  NaN  NaN   69.0  NaN  NaN  NaN   82.0  111.0  \n99  ...  0.689  NaN  NaN  NaN   51.0  NaN  NaN  NaN   87.0  152.0  \n\n[100 rows x 53 columns]",
      "text/html": "<div>\n<style scoped>\n    .dataframe tbody tr th:only-of-type {\n        vertical-align: middle;\n    }\n\n    .dataframe tbody tr th {\n        vertical-align: top;\n    }\n\n    .dataframe thead th {\n        text-align: right;\n    }\n</style>\n<table border=\"1\" class=\"dataframe\">\n  <thead>\n    <tr style=\"text-align: right;\">\n      <th></th>\n      <th>Unnamed: 0</th>\n      <th>Year</th>\n      <th>Player</th>\n      <th>Pos</th>\n      <th>Age</th>\n      <th>Tm</th>\n      <th>G</th>\n      <th>GS</th>\n      <th>MP</th>\n      <th>PER</th>\n      <th>...</th>\n      <th>FT%</th>\n      <th>ORB</th>\n      <th>DRB</th>\n      <th>TRB</th>\n      <th>AST</th>\n      <th>STL</th>\n      <th>BLK</th>\n      <th>TOV</th>\n      <th>PF</th>\n      <th>PTS</th>\n    </tr>\n  </thead>\n  <tbody>\n    <tr>\n      <th>0</th>\n      <td>0</td>\n      <td>1950.0</td>\n      <td>Curly Armstrong</td>\n      <td>G-F</td>\n      <td>31.0</td>\n      <td>FTW</td>\n      <td>63.0</td>\n      <td>NaN</td>\n      <td>NaN</td>\n      <td>NaN</td>\n      <td>...</td>\n      <td>0.705</td>\n      <td>NaN</td>\n      <td>NaN</td>\n      <td>NaN</td>\n      <td>176.0</td>\n      <td>NaN</td>\n      <td>NaN</td>\n      <td>NaN</td>\n      <td>217.0</td>\n      <td>458.0</td>\n    </tr>\n    <tr>\n      <th>1</th>\n      <td>1</td>\n      <td>1950.0</td>\n      <td>Cliff Barker</td>\n      <td>SG</td>\n      <td>29.0</td>\n      <td>INO</td>\n      <td>49.0</td>\n      <td>NaN</td>\n      <td>NaN</td>\n      <td>NaN</td>\n      <td>...</td>\n      <td>0.708</td>\n      <td>NaN</td>\n      <td>NaN</td>\n      <td>NaN</td>\n      <td>109.0</td>\n      <td>NaN</td>\n      <td>NaN</td>\n      <td>NaN</td>\n      <td>99.0</td>\n      <td>279.0</td>\n    </tr>\n    <tr>\n      <th>2</th>\n      <td>2</td>\n      <td>1950.0</td>\n      <td>Leo Barnhorst</td>\n      <td>SF</td>\n      <td>25.0</td>\n      <td>CHS</td>\n      <td>67.0</td>\n      <td>NaN</td>\n      <td>NaN</td>\n      <td>NaN</td>\n      <td>...</td>\n      <td>0.698</td>\n      <td>NaN</td>\n      <td>NaN</td>\n      <td>NaN</td>\n      <td>140.0</td>\n      <td>NaN</td>\n      <td>NaN</td>\n      <td>NaN</td>\n      <td>192.0</td>\n      <td>438.0</td>\n    </tr>\n    <tr>\n      <th>3</th>\n      <td>3</td>\n      <td>1950.0</td>\n      <td>Ed Bartels</td>\n      <td>F</td>\n      <td>24.0</td>\n      <td>TOT</td>\n      <td>15.0</td>\n      <td>NaN</td>\n      <td>NaN</td>\n      <td>NaN</td>\n      <td>...</td>\n      <td>0.559</td>\n      <td>NaN</td>\n      <td>NaN</td>\n      <td>NaN</td>\n      <td>20.0</td>\n      <td>NaN</td>\n      <td>NaN</td>\n      <td>NaN</td>\n      <td>29.0</td>\n      <td>63.0</td>\n    </tr>\n    <tr>\n      <th>4</th>\n      <td>4</td>\n      <td>1950.0</td>\n      <td>Ed Bartels</td>\n      <td>F</td>\n      <td>24.0</td>\n      <td>DNN</td>\n      <td>13.0</td>\n      <td>NaN</td>\n      <td>NaN</td>\n      <td>NaN</td>\n      <td>...</td>\n      <td>0.548</td>\n      <td>NaN</td>\n      <td>NaN</td>\n      <td>NaN</td>\n      <td>20.0</td>\n      <td>NaN</td>\n      <td>NaN</td>\n      <td>NaN</td>\n      <td>27.0</td>\n      <td>59.0</td>\n    </tr>\n    <tr>\n      <th>...</th>\n      <td>...</td>\n      <td>...</td>\n      <td>...</td>\n      <td>...</td>\n      <td>...</td>\n      <td>...</td>\n      <td>...</td>\n      <td>...</td>\n      <td>...</td>\n      <td>...</td>\n      <td>...</td>\n      <td>...</td>\n      <td>...</td>\n      <td>...</td>\n      <td>...</td>\n      <td>...</td>\n      <td>...</td>\n      <td>...</td>\n      <td>...</td>\n      <td>...</td>\n      <td>...</td>\n    </tr>\n    <tr>\n      <th>95</th>\n      <td>95</td>\n      <td>1950.0</td>\n      <td>Bob Harrison</td>\n      <td>G</td>\n      <td>22.0</td>\n      <td>MNL</td>\n      <td>66.0</td>\n      <td>NaN</td>\n      <td>NaN</td>\n      <td>NaN</td>\n      <td>...</td>\n      <td>0.676</td>\n      <td>NaN</td>\n      <td>NaN</td>\n      <td>NaN</td>\n      <td>131.0</td>\n      <td>NaN</td>\n      <td>NaN</td>\n      <td>NaN</td>\n      <td>175.0</td>\n      <td>300.0</td>\n    </tr>\n    <tr>\n      <th>96</th>\n      <td>96</td>\n      <td>1950.0</td>\n      <td>Billy Hassett</td>\n      <td>G</td>\n      <td>28.0</td>\n      <td>TOT</td>\n      <td>60.0</td>\n      <td>NaN</td>\n      <td>NaN</td>\n      <td>NaN</td>\n      <td>...</td>\n      <td>0.646</td>\n      <td>NaN</td>\n      <td>NaN</td>\n      <td>NaN</td>\n      <td>137.0</td>\n      <td>NaN</td>\n      <td>NaN</td>\n      <td>NaN</td>\n      <td>136.0</td>\n      <td>272.0</td>\n    </tr>\n    <tr>\n      <th>97</th>\n      <td>97</td>\n      <td>1950.0</td>\n      <td>Billy Hassett</td>\n      <td>G</td>\n      <td>28.0</td>\n      <td>TRI</td>\n      <td>18.0</td>\n      <td>NaN</td>\n      <td>NaN</td>\n      <td>NaN</td>\n      <td>...</td>\n      <td>0.734</td>\n      <td>NaN</td>\n      <td>NaN</td>\n      <td>NaN</td>\n      <td>68.0</td>\n      <td>NaN</td>\n      <td>NaN</td>\n      <td>NaN</td>\n      <td>54.0</td>\n      <td>161.0</td>\n    </tr>\n    <tr>\n      <th>98</th>\n      <td>98</td>\n      <td>1950.0</td>\n      <td>Billy Hassett</td>\n      <td>G</td>\n      <td>28.0</td>\n      <td>MNL</td>\n      <td>42.0</td>\n      <td>NaN</td>\n      <td>NaN</td>\n      <td>NaN</td>\n      <td>...</td>\n      <td>0.522</td>\n      <td>NaN</td>\n      <td>NaN</td>\n      <td>NaN</td>\n      <td>69.0</td>\n      <td>NaN</td>\n      <td>NaN</td>\n      <td>NaN</td>\n      <td>82.0</td>\n      <td>111.0</td>\n    </tr>\n    <tr>\n      <th>99</th>\n      <td>99</td>\n      <td>1950.0</td>\n      <td>Marshall Hawkins</td>\n      <td>F</td>\n      <td>25.0</td>\n      <td>INO</td>\n      <td>39.0</td>\n      <td>NaN</td>\n      <td>NaN</td>\n      <td>NaN</td>\n      <td>...</td>\n      <td>0.689</td>\n      <td>NaN</td>\n      <td>NaN</td>\n      <td>NaN</td>\n      <td>51.0</td>\n      <td>NaN</td>\n      <td>NaN</td>\n      <td>NaN</td>\n      <td>87.0</td>\n      <td>152.0</td>\n    </tr>\n  </tbody>\n</table>\n<p>100 rows × 53 columns</p>\n</div>"
     },
     "execution_count": 9,
     "metadata": {},
     "output_type": "execute_result"
    }
   ],
   "source": [
    "third_data = pd.read_csv('Seasons_Stats.csv')\n",
    "third_data.head(100)"
   ]
  },
  {
   "cell_type": "code",
   "execution_count": 10,
   "metadata": {
    "collapsed": true
   },
   "outputs": [],
   "source": [
    "data = first_data.merge(second_data)"
   ]
  },
  {
   "cell_type": "markdown",
   "metadata": {},
   "source": [
    "**4-5. Каковы средние значения и среднеквадратичные отклонения возраста тех, кто получает более 50K в год (признак *salary*) и тех, кто получает менее 50K в год? **"
   ]
  },
  {
   "cell_type": "code",
   "execution_count": 11,
   "metadata": {
    "collapsed": true
   },
   "outputs": [
    {
     "ename": "KeyError",
     "evalue": "'salary'",
     "output_type": "error",
     "traceback": [
      "\u001B[1;31m---------------------------------------------------------------------------\u001B[0m",
      "\u001B[1;31mKeyError\u001B[0m                                  Traceback (most recent call last)",
      "\u001B[1;32m~\\AppData\\Local\\Temp\\ipykernel_6600\\1249655797.py\u001B[0m in \u001B[0;36m<module>\u001B[1;34m\u001B[0m\n\u001B[1;32m----> 1\u001B[1;33m \u001B[0mdata\u001B[0m\u001B[1;33m.\u001B[0m\u001B[0mgroupby\u001B[0m\u001B[1;33m(\u001B[0m\u001B[1;33m[\u001B[0m\u001B[1;34m'salary'\u001B[0m\u001B[1;33m]\u001B[0m\u001B[1;33m)\u001B[0m\u001B[1;33m[\u001B[0m\u001B[1;34m'age'\u001B[0m\u001B[1;33m]\u001B[0m\u001B[1;33m.\u001B[0m\u001B[0magg\u001B[0m\u001B[1;33m(\u001B[0m\u001B[1;33m[\u001B[0m\u001B[0mnp\u001B[0m\u001B[1;33m.\u001B[0m\u001B[0mmean\u001B[0m\u001B[1;33m,\u001B[0m \u001B[0mnp\u001B[0m\u001B[1;33m.\u001B[0m\u001B[0mstd\u001B[0m\u001B[1;33m]\u001B[0m\u001B[1;33m)\u001B[0m\u001B[1;33m\u001B[0m\u001B[0m\n\u001B[0m",
      "\u001B[1;32m~\\AppData\\Local\\Programs\\Python\\Python37\\lib\\site-packages\\pandas\\core\\frame.py\u001B[0m in \u001B[0;36mgroupby\u001B[1;34m(self, by, axis, level, as_index, sort, group_keys, squeeze, observed, dropna)\u001B[0m\n\u001B[0;32m   6523\u001B[0m             \u001B[0msqueeze\u001B[0m\u001B[1;33m=\u001B[0m\u001B[0msqueeze\u001B[0m\u001B[1;33m,\u001B[0m\u001B[1;33m\u001B[0m\u001B[0m\n\u001B[0;32m   6524\u001B[0m             \u001B[0mobserved\u001B[0m\u001B[1;33m=\u001B[0m\u001B[0mobserved\u001B[0m\u001B[1;33m,\u001B[0m\u001B[1;33m\u001B[0m\u001B[0m\n\u001B[1;32m-> 6525\u001B[1;33m             \u001B[0mdropna\u001B[0m\u001B[1;33m=\u001B[0m\u001B[0mdropna\u001B[0m\u001B[1;33m,\u001B[0m\u001B[1;33m\u001B[0m\u001B[0m\n\u001B[0m\u001B[0;32m   6526\u001B[0m         )\n\u001B[0;32m   6527\u001B[0m \u001B[1;33m\u001B[0m\u001B[0m\n",
      "\u001B[1;32m~\\AppData\\Local\\Programs\\Python\\Python37\\lib\\site-packages\\pandas\\core\\groupby\\groupby.py\u001B[0m in \u001B[0;36m__init__\u001B[1;34m(self, obj, keys, axis, level, grouper, exclusions, selection, as_index, sort, group_keys, squeeze, observed, mutated, dropna)\u001B[0m\n\u001B[0;32m    531\u001B[0m                 \u001B[0mobserved\u001B[0m\u001B[1;33m=\u001B[0m\u001B[0mobserved\u001B[0m\u001B[1;33m,\u001B[0m\u001B[1;33m\u001B[0m\u001B[0m\n\u001B[0;32m    532\u001B[0m                 \u001B[0mmutated\u001B[0m\u001B[1;33m=\u001B[0m\u001B[0mself\u001B[0m\u001B[1;33m.\u001B[0m\u001B[0mmutated\u001B[0m\u001B[1;33m,\u001B[0m\u001B[1;33m\u001B[0m\u001B[0m\n\u001B[1;32m--> 533\u001B[1;33m                 \u001B[0mdropna\u001B[0m\u001B[1;33m=\u001B[0m\u001B[0mself\u001B[0m\u001B[1;33m.\u001B[0m\u001B[0mdropna\u001B[0m\u001B[1;33m,\u001B[0m\u001B[1;33m\u001B[0m\u001B[0m\n\u001B[0m\u001B[0;32m    534\u001B[0m             )\n\u001B[0;32m    535\u001B[0m \u001B[1;33m\u001B[0m\u001B[0m\n",
      "\u001B[1;32m~\\AppData\\Local\\Programs\\Python\\Python37\\lib\\site-packages\\pandas\\core\\groupby\\grouper.py\u001B[0m in \u001B[0;36mget_grouper\u001B[1;34m(obj, key, axis, level, sort, observed, mutated, validate, dropna)\u001B[0m\n\u001B[0;32m    784\u001B[0m                 \u001B[0min_axis\u001B[0m\u001B[1;33m,\u001B[0m \u001B[0mname\u001B[0m\u001B[1;33m,\u001B[0m \u001B[0mlevel\u001B[0m\u001B[1;33m,\u001B[0m \u001B[0mgpr\u001B[0m \u001B[1;33m=\u001B[0m \u001B[1;32mFalse\u001B[0m\u001B[1;33m,\u001B[0m \u001B[1;32mNone\u001B[0m\u001B[1;33m,\u001B[0m \u001B[0mgpr\u001B[0m\u001B[1;33m,\u001B[0m \u001B[1;32mNone\u001B[0m\u001B[1;33m\u001B[0m\u001B[0m\n\u001B[0;32m    785\u001B[0m             \u001B[1;32melse\u001B[0m\u001B[1;33m:\u001B[0m\u001B[1;33m\u001B[0m\u001B[0m\n\u001B[1;32m--> 786\u001B[1;33m                 \u001B[1;32mraise\u001B[0m \u001B[0mKeyError\u001B[0m\u001B[1;33m(\u001B[0m\u001B[0mgpr\u001B[0m\u001B[1;33m)\u001B[0m\u001B[1;33m\u001B[0m\u001B[0m\n\u001B[0m\u001B[0;32m    787\u001B[0m         \u001B[1;32melif\u001B[0m \u001B[0misinstance\u001B[0m\u001B[1;33m(\u001B[0m\u001B[0mgpr\u001B[0m\u001B[1;33m,\u001B[0m \u001B[0mGrouper\u001B[0m\u001B[1;33m)\u001B[0m \u001B[1;32mand\u001B[0m \u001B[0mgpr\u001B[0m\u001B[1;33m.\u001B[0m\u001B[0mkey\u001B[0m \u001B[1;32mis\u001B[0m \u001B[1;32mnot\u001B[0m \u001B[1;32mNone\u001B[0m\u001B[1;33m:\u001B[0m\u001B[1;33m\u001B[0m\u001B[0m\n\u001B[0;32m    788\u001B[0m             \u001B[1;31m# Add key to exclusions\u001B[0m\u001B[1;33m\u001B[0m\u001B[1;33m\u001B[0m\u001B[0m\n",
      "\u001B[1;31mKeyError\u001B[0m: 'salary'"
     ]
    }
   ],
   "source": [
    "data.groupby(['salary'])['age'].agg([np.mean, np.std])"
   ]
  },
  {
   "cell_type": "markdown",
   "metadata": {},
   "source": [
    "**6. Правда ли, что люди, которые получают больше 50k, имеют как минимум высшее образование? (признак *education – Bachelors, Prof-school, Assoc-acdm, Assoc-voc, Masters* или *Doctorate*)**"
   ]
  },
  {
   "cell_type": "code",
   "execution_count": null,
   "metadata": {
    "collapsed": true
   },
   "outputs": [],
   "source": [
    "data[data['salary'] == '>50K']['education'].value_counts(normalize=False)\n",
    "#Из таблицы видно что довольно много тех кто зарабатывает больше 50К не имеют высшего образования. Возьмём людей с образованием \"HS-grad\" их 1675 или 21,3%. По этому ответ: Нет, утверждение ложно"
   ]
  },
  {
   "cell_type": "markdown",
   "metadata": {},
   "source": [
    "**7. Выведите статистику возраста для каждой расы (признак *race*) и каждого пола. Используйте *groupby* и *describe*. Найдите таким образом максимальный возраст мужчин расы *Amer-Indian-Eskimo*.**"
   ]
  },
  {
   "cell_type": "code",
   "execution_count": null,
   "metadata": {
    "collapsed": true
   },
   "outputs": [],
   "source": [
    " data.groupby(['race', 'sex'])['age'].describe()\n",
    "# Из таблицы (строка 2, столбец 'max') видно что максимальный возраст мужчин расы \"Amer-Indian-Eskimo\" равен 82 годам"
   ]
  },
  {
   "cell_type": "markdown",
   "metadata": {},
   "source": [
    "**8. Среди кого больше доля зарабатывающих много (>50K): среди женатых или холостых мужчин (признак *marital-status*)? Женатыми считаем тех, у кого *marital-status* начинается с *Married* (Married-civ-spouse, Married-spouse-absent или Married-AF-spouse), остальных считаем холостыми.**"
   ]
  },
  {
   "cell_type": "code",
   "execution_count": null,
   "metadata": {
    "collapsed": true
   },
   "outputs": [],
   "source": [
    "data[data['sex'] == 'Male'].groupby([data['marital-status'].str.startswith('Married'), 'salary'])['age'].count()\n",
    "#Нам из тыблицы сравнить два показателя 'True'->'>50K' и 'False'->'>50K'. Как видно первого больше 5969>697. Из этого следует что доля зарабатывающих много больше среди женатых."
   ]
  },
  {
   "cell_type": "markdown",
   "metadata": {},
   "source": [
    "**9. Какое максимальное число часов человек работает в неделю (признак *hours-per-week*)? Сколько людей работают такое количество часов и каков среди них процент зарабатывающих много?**"
   ]
  },
  {
   "cell_type": "code",
   "execution_count": null,
   "metadata": {
    "collapsed": true
   },
   "outputs": [],
   "source": [
    "print(\"The maximum number of hours a person works per week: \", data['hours-per-week'].max())"
   ]
  },
  {
   "cell_type": "code",
   "execution_count": null,
   "outputs": [],
   "source": [
    "print(\"Number of people working maximum number of hours:\",\n",
    "      data[data['hours-per-week'] == data['hours-per-week'].max()]['hours-per-week'].count())"
   ],
   "metadata": {
    "collapsed": false
   }
  },
  {
   "cell_type": "code",
   "execution_count": null,
   "outputs": [],
   "source": [
    "data[data['hours-per-week'] == data['hours-per-week'].max()]['salary'].value_counts(normalize=True)\n",
    "# Как видно из предст валенной таблицы доля тех кто работает 99 часов и зарабатывает много равна 29.41%"
   ],
   "metadata": {
    "collapsed": false
   }
  },
  {
   "cell_type": "markdown",
   "metadata": {},
   "source": [
    "**10. Посчитайте среднее время работы (*hours-per-week*) зарабатывающих мало и много (*salary*) для каждой страны (**).**"
   ]
  },
  {
   "cell_type": "code",
   "execution_count": null,
   "metadata": {
    "collapsed": true
   },
   "outputs": [],
   "source": [
    " data.groupby(['native-country', 'salary'])['hours-per-week'].mean()"
   ]
  }
 ],
 "metadata": {
  "anaconda-cloud": {},
  "kernelspec": {
   "display_name": "Python 3",
   "language": "python",
   "name": "python3"
  },
  "language_info": {
   "codemirror_mode": {
    "name": "ipython",
    "version": 3
   },
   "file_extension": ".py",
   "mimetype": "text/x-python",
   "name": "python",
   "nbconvert_exporter": "python",
   "pygments_lexer": "ipython3",
   "version": "3.6.6"
  }
 },
 "nbformat": 4,
 "nbformat_minor": 1
}
