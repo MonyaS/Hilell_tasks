{
 "cells": [
  {
   "cell_type": "code",
   "execution_count": 1,
   "metadata": {
    "id": "8N4pruBWx4oo"
   },
   "outputs": [],
   "source": [
    "# Import library\n",
    "import numpy as np\n",
    "\n",
    "from numpy import pi"
   ]
  },
  {
   "cell_type": "code",
   "source": [
    "#!pip install numpy==1.24"
   ],
   "metadata": {
    "id": "8IxM3C8gyQT-"
   },
   "execution_count": 2,
   "outputs": []
  },
  {
   "cell_type": "code",
   "execution_count": 3,
   "metadata": {
    "colab": {
     "base_uri": "https://localhost:8080/",
     "height": 36
    },
    "id": "vAbUWVvmx4ou",
    "outputId": "da0b38e6-c4f3-4711-cd07-0c531c8b7b01"
   },
   "outputs": [
    {
     "data": {
      "text/plain": "'1.21.6'"
     },
     "execution_count": 3,
     "metadata": {},
     "output_type": "execute_result"
    }
   ],
   "source": [
    "np.__version__"
   ]
  },
  {
   "cell_type": "markdown",
   "metadata": {
    "id": "s8QCVzT4x4ow"
   },
   "source": [
    "### Creating"
   ]
  },
  {
   "cell_type": "code",
   "execution_count": 4,
   "metadata": {
    "colab": {
     "base_uri": "https://localhost:8080/"
    },
    "id": "N1e6VORVx4oy",
    "outputId": "32a31065-bfec-4e77-c5f0-0ea2f4afbfcd"
   },
   "outputs": [
    {
     "name": "stdout",
     "output_type": "stream",
     "text": [
      "<class 'numpy.ndarray'>\n",
      "(5,)\n"
     ]
    },
    {
     "data": {
      "text/plain": "array([0, 1, 2, 3, 4])"
     },
     "execution_count": 4,
     "metadata": {},
     "output_type": "execute_result"
    }
   ],
   "source": [
    "# Create a 1d array from a list\n",
    "list1 = [0, 1, 2, 3, 4]\n",
    "arr1d = np.array(list1) \n",
    "# arr1d = np.array([0, 1, 2, 3, 4])\n",
    "print(type(arr1d))\n",
    "print(arr1d.shape)\n",
    "arr1d"
   ]
  },
  {
   "cell_type": "code",
   "execution_count": 5,
   "metadata": {
    "colab": {
     "base_uri": "https://localhost:8080/"
    },
    "id": "kGZqwCMNx4oz",
    "outputId": "5621f86b-d3be-4f97-d3e9-f771a5463faf"
   },
   "outputs": [
    {
     "data": {
      "text/plain": "array([2, 3, 4, 5, 6])"
     },
     "execution_count": 5,
     "metadata": {},
     "output_type": "execute_result"
    }
   ],
   "source": [
    "arr1d + 2"
   ]
  },
  {
   "cell_type": "code",
   "execution_count": 6,
   "metadata": {
    "colab": {
     "base_uri": "https://localhost:8080/"
    },
    "id": "pd2m25Iax4oz",
    "outputId": "f4b8b8af-3056-4292-e3e0-41bcb9a9747f"
   },
   "outputs": [
    {
     "data": {
      "text/plain": "array([[1, 2, 3, 4, 5]])"
     },
     "execution_count": 6,
     "metadata": {},
     "output_type": "execute_result"
    }
   ],
   "source": [
    "np.array([1, 2, 3, 4, 5], ndmin = 2)"
   ]
  },
  {
   "cell_type": "code",
   "execution_count": 7,
   "metadata": {
    "colab": {
     "base_uri": "https://localhost:8080/"
    },
    "id": "fdIFLwvGx4o0",
    "outputId": "f12a01aa-9c49-486b-a0ad-631ce41ba4cb"
   },
   "outputs": [
    {
     "name": "stdout",
     "output_type": "stream",
     "text": [
      "Shape:  (3, 3)\n",
      "Datatype:  int32\n",
      "Size:  9\n",
      "Num Dimensions:  2\n"
     ]
    },
    {
     "data": {
      "text/plain": "array([[0, 1, 2],\n       [3, 4, 5],\n       [6, 7, 8]])"
     },
     "execution_count": 7,
     "metadata": {},
     "output_type": "execute_result"
    }
   ],
   "source": [
    "# Create a 2d array from a list of lists\n",
    "list2 = [[0, 1, 2], [3, 4, 5], [6, 7, 8]]\n",
    "arr2d = np.array(list2)\n",
    "\n",
    "# shape\n",
    "print('Shape: ', arr2d.shape)\n",
    "# dtype\n",
    "print('Datatype: ', arr2d.dtype)\n",
    "# size\n",
    "print('Size: ', arr2d.size)\n",
    "# ndim\n",
    "print('Num Dimensions: ', arr2d.ndim)\n",
    "\n",
    "arr2d"
   ]
  },
  {
   "cell_type": "code",
   "execution_count": 8,
   "metadata": {
    "colab": {
     "base_uri": "https://localhost:8080/"
    },
    "id": "Z6_sIpmxx4o2",
    "outputId": "79fe0ebc-bd96-406b-fd3e-d27a4c9c1e16"
   },
   "outputs": [
    {
     "data": {
      "text/plain": "array([[0., 0., 0., 0.],\n       [0., 0., 0., 0.],\n       [0., 0., 0., 0.]])"
     },
     "execution_count": 8,
     "metadata": {},
     "output_type": "execute_result"
    }
   ],
   "source": [
    "np.zeros((3, 4))"
   ]
  },
  {
   "cell_type": "code",
   "execution_count": 9,
   "metadata": {
    "colab": {
     "base_uri": "https://localhost:8080/"
    },
    "id": "FtmV65oMx4o3",
    "outputId": "1bbfc0ac-3a42-41ba-a97a-94f8b1fe0ef7"
   },
   "outputs": [
    {
     "data": {
      "text/plain": "array([[1., 1., 1., 1.],\n       [1., 1., 1., 1.],\n       [1., 1., 1., 1.]], dtype=float32)"
     },
     "execution_count": 9,
     "metadata": {},
     "output_type": "execute_result"
    }
   ],
   "source": [
    "np.ones((3, 4), dtype=np.float32)"
   ]
  },
  {
   "cell_type": "code",
   "execution_count": 10,
   "metadata": {
    "colab": {
     "base_uri": "https://localhost:8080/"
    },
    "id": "c6O84GG3x4o4",
    "outputId": "40a145c8-adc3-4d54-b196-86331172df39"
   },
   "outputs": [
    {
     "data": {
      "text/plain": "array([[0., 0., 0., 0.],\n       [0., 0., 0., 0.],\n       [0., 0., 0., 0.]])"
     },
     "execution_count": 10,
     "metadata": {},
     "output_type": "execute_result"
    }
   ],
   "source": [
    "np.empty((3, 4))  "
   ]
  },
  {
   "cell_type": "code",
   "execution_count": 11,
   "metadata": {
    "colab": {
     "base_uri": "https://localhost:8080/"
    },
    "id": "R-wRRy_ox4o4",
    "outputId": "5e90d728-95ad-486d-f1df-3c6bea5b1543"
   },
   "outputs": [
    {
     "data": {
      "text/plain": "array([10, 15, 20, 25])"
     },
     "execution_count": 11,
     "metadata": {},
     "output_type": "execute_result"
    }
   ],
   "source": [
    "np.arange(10, 30, 5)"
   ]
  },
  {
   "cell_type": "code",
   "execution_count": 12,
   "metadata": {
    "colab": {
     "base_uri": "https://localhost:8080/"
    },
    "id": "4H0wE3Kvx4o5",
    "outputId": "cd7131a7-ffa8-4fac-d4a0-5040503ec552"
   },
   "outputs": [
    {
     "data": {
      "text/plain": "array([0. , 0.3, 0.6, 0.9, 1.2, 1.5, 1.8])"
     },
     "execution_count": 12,
     "metadata": {},
     "output_type": "execute_result"
    }
   ],
   "source": [
    "np.arange(0, 2, 0.3)"
   ]
  },
  {
   "cell_type": "code",
   "execution_count": 13,
   "metadata": {
    "colab": {
     "base_uri": "https://localhost:8080/"
    },
    "id": "V5k4fYUIx4o6",
    "outputId": "5b9cd932-f178-4c46-8747-1558794cee7c"
   },
   "outputs": [
    {
     "data": {
      "text/plain": "array([0.  , 0.25, 0.5 , 0.75, 1.  , 1.25, 1.5 , 1.75, 2.  ])"
     },
     "execution_count": 13,
     "metadata": {},
     "output_type": "execute_result"
    }
   ],
   "source": [
    "np.linspace(0, 2, 9)"
   ]
  },
  {
   "cell_type": "code",
   "execution_count": 14,
   "metadata": {
    "id": "Dcv6Xp6Qx4o6"
   },
   "outputs": [],
   "source": [
    "x = np.linspace(0, 2*pi, 6)\n",
    "f = np.sin(x)"
   ]
  },
  {
   "cell_type": "code",
   "execution_count": 15,
   "outputs": [
    {
     "data": {
      "text/plain": "array([ 0.00000000e+00,  9.51056516e-01,  5.87785252e-01, -5.87785252e-01,\n       -9.51056516e-01, -2.44929360e-16])"
     },
     "execution_count": 15,
     "metadata": {},
     "output_type": "execute_result"
    }
   ],
   "source": [
    "f"
   ],
   "metadata": {
    "colab": {
     "base_uri": "https://localhost:8080/"
    },
    "id": "YzbPBLcdx4o7",
    "outputId": "6a79e99d-35e0-4a7b-db4f-fb149da34602"
   }
  },
  {
   "cell_type": "code",
   "execution_count": 16,
   "metadata": {
    "colab": {
     "base_uri": "https://localhost:8080/"
    },
    "id": "jr77JcrYx4o7",
    "outputId": "c3409c1a-f6bf-4a7c-a32e-5551d846bbd6"
   },
   "outputs": [
    {
     "data": {
      "text/plain": "array([2.71e+00, 6.17e+02, 1.40e+05, 3.20e+07, 7.28e+09, 1.66e+12,\n       3.77e+14, 8.59e+16, 1.96e+19, 4.45e+21])"
     },
     "execution_count": 16,
     "metadata": {},
     "output_type": "execute_result"
    }
   ],
   "source": [
    "np.set_printoptions(precision=2)\n",
    "np.logspace(start=1, stop=50, num=10, base=2.71)"
   ]
  },
  {
   "cell_type": "code",
   "execution_count": 17,
   "metadata": {
    "colab": {
     "base_uri": "https://localhost:8080/"
    },
    "id": "bS1zVUchx4o8",
    "outputId": "34c86524-c01f-415f-d5b5-0d5a339c62fb"
   },
   "outputs": [
    {
     "name": "stdout",
     "output_type": "stream",
     "text": [
      "Tile:    [1 2 3 1 2 3]\n",
      "Repeat:  [1 1 2 2 3 3]\n"
     ]
    }
   ],
   "source": [
    "a = [1,2,3] \n",
    "\n",
    "# Repeat whole of 'a' two times\n",
    "print('Tile:   ', np.tile(a, 2))\n",
    "\n",
    "# Repeat each element of 'a' two times\n",
    "print('Repeat: ', np.repeat(a, 2))"
   ]
  },
  {
   "cell_type": "markdown",
   "metadata": {
    "id": "ycSeH6tQx4o9"
   },
   "source": [
    "### Set types"
   ]
  },
  {
   "cell_type": "code",
   "execution_count": 18,
   "metadata": {
    "colab": {
     "base_uri": "https://localhost:8080/"
    },
    "id": "VHkh3glZx4o-",
    "outputId": "a368a84f-16c5-43ac-dab6-e09480faf428"
   },
   "outputs": [
    {
     "data": {
      "text/plain": "array([[0., 1., 2.],\n       [3., 4., 5.],\n       [6., 7., 8.]])"
     },
     "execution_count": 18,
     "metadata": {},
     "output_type": "execute_result"
    }
   ],
   "source": [
    "# Create a float 2d array\n",
    "arr2d_f = np.array(list2, dtype='float') # 'float', 'int', 'bool', 'str', 'object', 'complex'\n",
    "                                         # 'float32', 'float64', 'int8', 'int16', 'int32', 'int64'\n",
    "arr2d_f"
   ]
  },
  {
   "cell_type": "code",
   "execution_count": 19,
   "metadata": {
    "colab": {
     "base_uri": "https://localhost:8080/"
    },
    "id": "Sm96fbNSx4o_",
    "outputId": "537c6a72-6ab6-437a-ceef-dba4b4f59b5a"
   },
   "outputs": [
    {
     "data": {
      "text/plain": "array([[0, 1, 2],\n       [3, 4, 5],\n       [6, 7, 8]])"
     },
     "execution_count": 19,
     "metadata": {},
     "output_type": "execute_result"
    }
   ],
   "source": [
    "# Convert to 'int' datatype\n",
    "arr2d_i = arr2d_f.astype('int')\n",
    "arr2d_i"
   ]
  },
  {
   "cell_type": "code",
   "execution_count": 20,
   "metadata": {
    "colab": {
     "base_uri": "https://localhost:8080/"
    },
    "id": "YqmseSO7x4pA",
    "outputId": "03489e01-3c6e-4c28-aef8-0c96c73738aa"
   },
   "outputs": [
    {
     "data": {
      "text/plain": "array([['0', '1', '2'],\n       ['3', '4', '5'],\n       ['6', '7', '8']], dtype='<U11')"
     },
     "execution_count": 20,
     "metadata": {},
     "output_type": "execute_result"
    }
   ],
   "source": [
    "# Convert to int then to str datatype\n",
    "arr2d_s = arr2d_f.astype('int').astype('str')\n",
    "arr2d_s"
   ]
  },
  {
   "cell_type": "code",
   "execution_count": 21,
   "metadata": {
    "colab": {
     "base_uri": "https://localhost:8080/"
    },
    "id": "pjkB-h_Hx4pC",
    "outputId": "67334e97-6d10-4aa5-eae0-ca6e4c39bbcc"
   },
   "outputs": [
    {
     "data": {
      "text/plain": "array([ True, False,  True])"
     },
     "execution_count": 21,
     "metadata": {},
     "output_type": "execute_result"
    }
   ],
   "source": [
    "# Create a boolean array\n",
    "arr2d_b = np.array([-1, 0, 10], dtype='bool')\n",
    "arr2d_b"
   ]
  },
  {
   "cell_type": "code",
   "execution_count": 22,
   "metadata": {
    "colab": {
     "base_uri": "https://localhost:8080/"
    },
    "id": "Dw6qA0CZx4pD",
    "outputId": "acd8e438-08d0-4c28-be35-314aaee8f3a6"
   },
   "outputs": [
    {
     "data": {
      "text/plain": "array([1, 'a'], dtype=object)"
     },
     "execution_count": 22,
     "metadata": {},
     "output_type": "execute_result"
    }
   ],
   "source": [
    "# Create an object array to hold numbers as well as strings\n",
    "arr1d_obj = np.array([1, 'a'], dtype='object')\n",
    "arr1d_obj"
   ]
  },
  {
   "cell_type": "code",
   "execution_count": 23,
   "metadata": {
    "colab": {
     "base_uri": "https://localhost:8080/"
    },
    "id": "I3Cy9Ujhx4pE",
    "outputId": "f06a216f-7a1c-49f8-d0eb-77473dfcca60"
   },
   "outputs": [
    {
     "data": {
      "text/plain": "[1, 'a']"
     },
     "execution_count": 23,
     "metadata": {},
     "output_type": "execute_result"
    }
   ],
   "source": [
    "# Convert an array back to a list\n",
    "arr1d_obj.tolist()"
   ]
  },
  {
   "cell_type": "code",
   "execution_count": 24,
   "outputs": [
    {
     "data": {
      "text/plain": "True"
     },
     "execution_count": 24,
     "metadata": {},
     "output_type": "execute_result"
    }
   ],
   "source": [
    "bool(np.nan)"
   ],
   "metadata": {
    "colab": {
     "base_uri": "https://localhost:8080/"
    },
    "id": "p2dxPR9vx4pH",
    "outputId": "b1ea012b-01c2-4c33-ffb4-3f6b8d6118f1"
   }
  },
  {
   "cell_type": "markdown",
   "metadata": {
    "id": "hIrpDlvTx4pI"
   },
   "source": [
    "### Random numbers"
   ]
  },
  {
   "cell_type": "code",
   "execution_count": 25,
   "metadata": {
    "colab": {
     "base_uri": "https://localhost:8080/"
    },
    "id": "0pr4Yk1sx4pI",
    "outputId": "4ca6701e-4645-41d5-dd89-497a0372f41b"
   },
   "outputs": [
    {
     "name": "stdout",
     "output_type": "stream",
     "text": [
      "[[0.54 0.28]\n",
      " [0.42 0.84]]\n",
      "[[ 0.98  0.51]\n",
      " [ 0.22 -1.07]]\n",
      "[[4 0]\n",
      " [9 6]]\n",
      "0.3074232114748938\n",
      "[[0.95 0.13]\n",
      " [0.08 0.31]]\n",
      "['u' 'o' 'o' 'o' 'e' 'e' 'o' 'a' 'i' 'e']\n",
      "['o' 'a' 'o' 'i' 'e' 'i' 'i' 'i' 'a' 'o']\n"
     ]
    }
   ],
   "source": [
    "np.random.seed(100)\n",
    "\n",
    "# Random numbers between [0,1) of shape 2,2\n",
    "print(np.random.rand(2,2))\n",
    "\n",
    "# Normal distribution with mean=0 and variance=1 of shape 2,2\n",
    "print(np.random.randn(2,2))\n",
    "\n",
    "# Random integers between [0, 10) of shape 2,2\n",
    "print(np.random.randint(0, 10, size=[2,2]))\n",
    "\n",
    "# One random number between [0,1)\n",
    "print(np.random.random())\n",
    "\n",
    "# Random numbers between [0,1) of shape 2,2\n",
    "print(np.random.random(size=[2,2]))\n",
    "\n",
    "# Pick 10 items from a given list, with equal probability\n",
    "print(np.random.choice(['a', 'e', 'i', 'o', 'u'], size=10))  \n",
    "\n",
    "# Pick 10 items from a given list with a predefined probability 'p'\n",
    "print(np.random.choice(['a', 'e', 'i', 'o', 'u'], size=10, p=[0.3, .1, 0.1, 0.4, 0.1]))"
   ]
  },
  {
   "cell_type": "markdown",
   "metadata": {
    "id": "ptTqtsAWx4pK"
   },
   "source": [
    "### Concatenate"
   ]
  },
  {
   "cell_type": "code",
   "execution_count": 26,
   "metadata": {
    "colab": {
     "base_uri": "https://localhost:8080/"
    },
    "id": "RyYOOeMjx4pL",
    "outputId": "082cd6cc-8d96-4051-bad2-eb50223f7c33"
   },
   "outputs": [
    {
     "name": "stdout",
     "output_type": "stream",
     "text": [
      "[[0. 0. 0. 0.]\n",
      " [0. 0. 0. 0.]\n",
      " [0. 0. 0. 0.]\n",
      " [0. 0. 0. 0.]]\n",
      "[[1. 1. 1. 1.]\n",
      " [1. 1. 1. 1.]\n",
      " [1. 1. 1. 1.]\n",
      " [1. 1. 1. 1.]]\n"
     ]
    }
   ],
   "source": [
    "a = np.zeros([4, 4])\n",
    "b = np.ones([4, 4])\n",
    "print(a)\n",
    "print(b)"
   ]
  },
  {
   "cell_type": "code",
   "execution_count": 27,
   "metadata": {
    "colab": {
     "base_uri": "https://localhost:8080/"
    },
    "id": "FAzJCtDTx4pL",
    "outputId": "40eb3719-d656-44a3-8c51-3b84a6a2daf0"
   },
   "outputs": [
    {
     "data": {
      "text/plain": "array([[0., 0., 0., 0.],\n       [0., 0., 0., 0.],\n       [0., 0., 0., 0.],\n       [0., 0., 0., 0.],\n       [1., 1., 1., 1.],\n       [1., 1., 1., 1.],\n       [1., 1., 1., 1.],\n       [1., 1., 1., 1.]])"
     },
     "execution_count": 27,
     "metadata": {},
     "output_type": "execute_result"
    }
   ],
   "source": [
    "# Vertical Stack Equivalents (Row wise)\n",
    "np.concatenate([a, b], axis=0)  \n",
    "np.vstack([a,b])  \n",
    "np.r_[a,b]  "
   ]
  },
  {
   "cell_type": "code",
   "execution_count": 28,
   "metadata": {
    "colab": {
     "base_uri": "https://localhost:8080/"
    },
    "id": "oq0R2wnzx4pN",
    "outputId": "c8ec831e-cc19-4b1a-f221-38a9e862c127"
   },
   "outputs": [
    {
     "data": {
      "text/plain": "array([[0., 0., 0., 0., 1., 1., 1., 1.],\n       [0., 0., 0., 0., 1., 1., 1., 1.],\n       [0., 0., 0., 0., 1., 1., 1., 1.],\n       [0., 0., 0., 0., 1., 1., 1., 1.]])"
     },
     "execution_count": 28,
     "metadata": {},
     "output_type": "execute_result"
    }
   ],
   "source": [
    "# Horizontal Stack Equivalents (Coliumn wise)\n",
    "np.concatenate([a, b], axis=1) \n",
    "np.hstack([a,b])  \n",
    "np.c_[a,b]"
   ]
  },
  {
   "cell_type": "code",
   "execution_count": 29,
   "metadata": {
    "colab": {
     "base_uri": "https://localhost:8080/"
    },
    "id": "BLQJkIFPx4pO",
    "outputId": "00942389-c3fb-4edb-defc-a17c46ea43d6"
   },
   "outputs": [
    {
     "data": {
      "text/plain": "array([1, 2, 3, 0, 0, 4, 5, 6])"
     },
     "execution_count": 29,
     "metadata": {},
     "output_type": "execute_result"
    }
   ],
   "source": [
    "np.r_[[1, 2, 3], 0, 0, [4, 5, 6]]"
   ]
  },
  {
   "cell_type": "markdown",
   "metadata": {
    "id": "uf5yzjDjx4pO"
   },
   "source": [
    "### Flatten"
   ]
  },
  {
   "cell_type": "code",
   "execution_count": 30,
   "metadata": {
    "colab": {
     "base_uri": "https://localhost:8080/"
    },
    "id": "vyD-g1ZUx4pP",
    "outputId": "1d903bb5-7c7c-45b1-aae0-f06b6abd13b4"
   },
   "outputs": [
    {
     "data": {
      "text/plain": "array([[1., 2., 3., 4.],\n       [3., 4., 5., 6.],\n       [5., 6., 7., 8.]])"
     },
     "execution_count": 30,
     "metadata": {},
     "output_type": "execute_result"
    }
   ],
   "source": [
    "list2 = [[1, 2, 3, 4],[3, 4, 5, 6], [5, 6, 7, 8]]\n",
    "arr2 = np.array(list2, dtype='float')\n",
    "arr2"
   ]
  },
  {
   "cell_type": "code",
   "execution_count": 31,
   "metadata": {
    "colab": {
     "base_uri": "https://localhost:8080/"
    },
    "id": "MJVFD6k3x4pQ",
    "outputId": "2e6a74de-c536-42fe-a22c-6f98df272ecf"
   },
   "outputs": [
    {
     "data": {
      "text/plain": "array([1., 2., 3., 4., 3., 4., 5., 6., 5., 6., 7., 8.])"
     },
     "execution_count": 31,
     "metadata": {},
     "output_type": "execute_result"
    }
   ],
   "source": [
    "arr2.flatten()"
   ]
  },
  {
   "cell_type": "code",
   "execution_count": 32,
   "metadata": {
    "colab": {
     "base_uri": "https://localhost:8080/"
    },
    "id": "ayBqeJKFx4pR",
    "outputId": "993d5f04-e474-4e10-cf62-11f7710421cd"
   },
   "outputs": [
    {
     "data": {
      "text/plain": "array([[1., 2., 3., 4.],\n       [3., 4., 5., 6.],\n       [5., 6., 7., 8.]])"
     },
     "execution_count": 32,
     "metadata": {},
     "output_type": "execute_result"
    }
   ],
   "source": [
    "b1 = arr2.flatten()  \n",
    "b1[0] = 100  # changing b1 does not affect arr2\n",
    "arr2"
   ]
  },
  {
   "cell_type": "code",
   "execution_count": 33,
   "metadata": {
    "colab": {
     "base_uri": "https://localhost:8080/"
    },
    "id": "z_mMR735x4pS",
    "outputId": "6496e13a-c342-4f96-c4af-16eb5f504900"
   },
   "outputs": [
    {
     "data": {
      "text/plain": "array([[101.,   2.,   3.,   4.],\n       [  3.,   4.,   5.,   6.],\n       [  5.,   6.,   7.,   8.]])"
     },
     "execution_count": 33,
     "metadata": {},
     "output_type": "execute_result"
    }
   ],
   "source": [
    "# Changing the raveled array changes the parent also.\n",
    "b2 = arr2.ravel()  \n",
    "b2[0] = 101  # changing b2 changes arr2 also\n",
    "arr2"
   ]
  },
  {
   "cell_type": "markdown",
   "metadata": {
    "id": "P6Cs_Hu9x4pT"
   },
   "source": [
    "### Reshape"
   ]
  },
  {
   "cell_type": "code",
   "execution_count": 34,
   "metadata": {
    "colab": {
     "base_uri": "https://localhost:8080/"
    },
    "id": "NuNml3Uox4pU",
    "outputId": "86304616-3d0a-46a0-c610-33622a5bad58"
   },
   "outputs": [
    {
     "data": {
      "text/plain": "array([[101.,   2.,   3.,   4.,   3.,   4.],\n       [  5.,   6.,   5.,   6.,   7.,   8.]])"
     },
     "execution_count": 34,
     "metadata": {},
     "output_type": "execute_result"
    }
   ],
   "source": [
    "# Reshape a 3x4 array to 4x3 array\n",
    "arr2.reshape(2, 6)"
   ]
  },
  {
   "cell_type": "markdown",
   "metadata": {
    "id": "8_Okw6Rpx4pV"
   },
   "source": [
    "### Missing values"
   ]
  },
  {
   "cell_type": "code",
   "execution_count": 35,
   "metadata": {
    "colab": {
     "base_uri": "https://localhost:8080/"
    },
    "id": "tmxzRA5Fx4pV",
    "outputId": "9612356c-4a4f-4c74-d44f-467cf0a50702"
   },
   "outputs": [
    {
     "data": {
      "text/plain": "array([[101.,   2.,   3.,   4.],\n       [  3.,  nan,  inf,   6.],\n       [  5.,   6.,   7.,   8.]])"
     },
     "execution_count": 35,
     "metadata": {},
     "output_type": "execute_result"
    }
   ],
   "source": [
    "# Insert a nan and an inf\n",
    "arr2[1,1] = np.nan  # not a number\n",
    "arr2[1,2] = np.inf  # infinite\n",
    "arr2"
   ]
  },
  {
   "cell_type": "code",
   "execution_count": 36,
   "metadata": {
    "colab": {
     "base_uri": "https://localhost:8080/"
    },
    "id": "89SeQDRnx4pX",
    "outputId": "543dfe92-6e1c-4c98-dccd-89a0e758f775"
   },
   "outputs": [
    {
     "data": {
      "text/plain": "array([[101.,   2.,   3.,   4.],\n       [  3.,  -1.,  -1.,   6.],\n       [  5.,   6.,   7.,   8.]])"
     },
     "execution_count": 36,
     "metadata": {},
     "output_type": "execute_result"
    }
   ],
   "source": [
    "# Replace nan and inf with -1. Don't use arr2 == np.nan\n",
    "missing_bool = np.isnan(arr2) | np.isinf(arr2)\n",
    "missing_bool\n",
    "arr2[missing_bool] = -1\n",
    "arr2"
   ]
  },
  {
   "cell_type": "code",
   "source": [
    "missing_bool"
   ],
   "metadata": {
    "colab": {
     "base_uri": "https://localhost:8080/"
    },
    "id": "gXMKkt9S2MrA",
    "outputId": "ad196fde-e014-4e19-9eeb-0213cc49a2c5"
   },
   "execution_count": 37,
   "outputs": [
    {
     "data": {
      "text/plain": "array([[False, False, False, False],\n       [False,  True,  True, False],\n       [False, False, False, False]])"
     },
     "execution_count": 37,
     "metadata": {},
     "output_type": "execute_result"
    }
   ]
  },
  {
   "cell_type": "markdown",
   "metadata": {
    "id": "dsyArnK4x4pY"
   },
   "source": [
    "### Unique"
   ]
  },
  {
   "cell_type": "code",
   "execution_count": 38,
   "metadata": {
    "colab": {
     "base_uri": "https://localhost:8080/"
    },
    "id": "BkLdvtOkx4pY",
    "outputId": "c9869c93-57c2-47d5-b0ab-c160de882e1b"
   },
   "outputs": [
    {
     "name": "stdout",
     "output_type": "stream",
     "text": [
      "[8 8 3 7 7 0 4 2 5 2]\n"
     ]
    }
   ],
   "source": [
    "# Create random integers of size 10 between [0,10)\n",
    "np.random.seed(100)\n",
    "arr_rand = np.random.randint(0, 10, size=10)\n",
    "print(arr_rand)"
   ]
  },
  {
   "cell_type": "code",
   "execution_count": 39,
   "metadata": {
    "colab": {
     "base_uri": "https://localhost:8080/"
    },
    "id": "_mjRF2wxx4pa",
    "outputId": "7b83ee91-1d1d-400f-f3d3-b6b0920dd452"
   },
   "outputs": [
    {
     "name": "stdout",
     "output_type": "stream",
     "text": [
      "Unique items :  [0 2 3 4 5 7 8]\n",
      "Counts       :  [1 2 1 1 1 2 2]\n"
     ]
    }
   ],
   "source": [
    "# Get the unique items and their counts\n",
    "uniqs, counts = np.unique(arr_rand, return_counts=True)\n",
    "print(\"Unique items : \", uniqs)\n",
    "print(\"Counts       : \", counts)"
   ]
  },
  {
   "cell_type": "markdown",
   "metadata": {
    "id": "b5RAvDCKx4pa"
   },
   "source": [
    "### Indexing"
   ]
  },
  {
   "cell_type": "code",
   "execution_count": 40,
   "metadata": {
    "colab": {
     "base_uri": "https://localhost:8080/"
    },
    "id": "hVlR3GH1x4pa",
    "outputId": "89617074-c2c8-4b6d-c612-3461cffd1eae"
   },
   "outputs": [
    {
     "data": {
      "text/plain": "array([[101.,   2.,   3.,   4.],\n       [  3.,  -1.,  -1.,   6.],\n       [  5.,   6.,   7.,   8.]])"
     },
     "execution_count": 40,
     "metadata": {},
     "output_type": "execute_result"
    }
   ],
   "source": [
    "arr2"
   ]
  },
  {
   "cell_type": "code",
   "execution_count": 41,
   "metadata": {
    "colab": {
     "base_uri": "https://localhost:8080/"
    },
    "id": "ZAZmXT3Nx4pb",
    "outputId": "405c63da-f574-4fe5-8340-4fe9087ddf33"
   },
   "outputs": [
    {
     "data": {
      "text/plain": "array([[101.,   2.],\n       [  3.,  -1.]])"
     },
     "execution_count": 41,
     "metadata": {},
     "output_type": "execute_result"
    }
   ],
   "source": [
    "arr2[:2, :2]"
   ]
  },
  {
   "cell_type": "code",
   "execution_count": 42,
   "metadata": {
    "colab": {
     "base_uri": "https://localhost:8080/"
    },
    "id": "BswpJ_zCx4pb",
    "outputId": "cbf2079b-7e11-4749-fa2b-b140bfd4b29e"
   },
   "outputs": [
    {
     "data": {
      "text/plain": "array([[ 3., -1., -1.],\n       [ 5.,  6.,  7.]])"
     },
     "execution_count": 42,
     "metadata": {},
     "output_type": "execute_result"
    }
   ],
   "source": [
    "arr2[1:3, 0:3]"
   ]
  },
  {
   "cell_type": "code",
   "execution_count": 43,
   "metadata": {
    "colab": {
     "base_uri": "https://localhost:8080/"
    },
    "id": "rep9hI25x4pc",
    "outputId": "f0fdddb8-dd9e-496d-b620-c766ceab9d07"
   },
   "outputs": [
    {
     "data": {
      "text/plain": "array([[100., 100.,   3.,   4.],\n       [100., 100.,  -1.,   6.],\n       [  5.,   6.,   7.,   8.]])"
     },
     "execution_count": 43,
     "metadata": {},
     "output_type": "execute_result"
    }
   ],
   "source": [
    "# Assign portion of arr2 to arr2a. Doesn't really create a new array.\n",
    "arr2a = arr2[:2,:2]  \n",
    "arr2a[:2, :2] = 100  # 100 will reflect in arr2\n",
    "arr2"
   ]
  },
  {
   "cell_type": "code",
   "execution_count": 44,
   "metadata": {
    "colab": {
     "base_uri": "https://localhost:8080/"
    },
    "id": "5Ak_bP3dx4pc",
    "outputId": "06c30912-4ae0-459e-e8f9-7cae7b015776"
   },
   "outputs": [
    {
     "data": {
      "text/plain": "array([[100., 100.,   3.,   4.],\n       [100., 100.,  -1.,   6.],\n       [  5.,   6.,   7.,   8.]])"
     },
     "execution_count": 44,
     "metadata": {},
     "output_type": "execute_result"
    }
   ],
   "source": [
    "# Copy portion of arr2 to arr2b\n",
    "arr2b = arr2[:2, :2].copy()\n",
    "arr2b[:1, :1] = 101  # 101 will not reflect in arr2\n",
    "arr2"
   ]
  },
  {
   "cell_type": "code",
   "execution_count": 45,
   "outputs": [
    {
     "data": {
      "text/plain": "array([[[100., 100.,   3.,   4.]],\n\n       [[100., 100.,  -1.,   6.]],\n\n       [[  5.,   6.,   7.,   8.]]])"
     },
     "execution_count": 45,
     "metadata": {},
     "output_type": "execute_result"
    }
   ],
   "source": [
    "# add new dimension\n",
    "arr3d = arr2[:, np.newaxis, :]\n",
    "arr3d"
   ],
   "metadata": {
    "colab": {
     "base_uri": "https://localhost:8080/"
    },
    "id": "i5CjwZS9x4pd",
    "outputId": "1480038a-d802-4a95-8971-2fa25fe710f9"
   }
  },
  {
   "cell_type": "code",
   "execution_count": 46,
   "metadata": {
    "colab": {
     "base_uri": "https://localhost:8080/"
    },
    "id": "zBEfu5QWx4pd",
    "outputId": "096fca13-98f6-4aa7-b163-c1118e0b4da8"
   },
   "outputs": [
    {
     "data": {
      "text/plain": "array([[ True,  True, False, False],\n       [ True,  True, False,  True],\n       [ True,  True,  True,  True]])"
     },
     "execution_count": 46,
     "metadata": {},
     "output_type": "execute_result"
    }
   ],
   "source": [
    "b = arr2 > 4\n",
    "b"
   ]
  },
  {
   "cell_type": "code",
   "execution_count": 47,
   "metadata": {
    "colab": {
     "base_uri": "https://localhost:8080/"
    },
    "id": "Oilbcmbex4pe",
    "outputId": "3782b89d-a6b8-491d-96bc-60732876d8a9"
   },
   "outputs": [
    {
     "data": {
      "text/plain": "array([100., 100., 100., 100.,   6.,   5.,   6.,   7.,   8.])"
     },
     "execution_count": 47,
     "metadata": {},
     "output_type": "execute_result"
    }
   ],
   "source": [
    "arr2[b]"
   ]
  },
  {
   "cell_type": "code",
   "execution_count": 48,
   "metadata": {
    "colab": {
     "base_uri": "https://localhost:8080/"
    },
    "id": "f6GxPMyFx4pe",
    "outputId": "3bb6a047-9ed7-44ef-e0ae-741be1c16707"
   },
   "outputs": [
    {
     "name": "stdout",
     "output_type": "stream",
     "text": [
      "Array:  [8 8 3 7 7 0 4 2 5 2]\n",
      "Positions where value > 5:  (array([0, 1, 3, 4], dtype=int64),)\n"
     ]
    }
   ],
   "source": [
    "arr_rand = np.array([8, 8, 3, 7, 7, 0, 4, 2, 5, 2])\n",
    "print(\"Array: \", arr_rand)\n",
    "\n",
    "# Positions where value > 5\n",
    "index_gt5 = np.where(arr_rand > 5)\n",
    "print(\"Positions where value > 5: \", index_gt5)"
   ]
  },
  {
   "cell_type": "code",
   "execution_count": 49,
   "metadata": {
    "colab": {
     "base_uri": "https://localhost:8080/"
    },
    "id": "DhkK7Wscx4pe",
    "outputId": "395d5da4-0970-42d7-91aa-898838f9ad8c"
   },
   "outputs": [
    {
     "data": {
      "text/plain": "array([[8, 8, 7, 7]])"
     },
     "execution_count": 49,
     "metadata": {},
     "output_type": "execute_result"
    }
   ],
   "source": [
    "# Take items at given index\n",
    "arr_rand.take(index_gt5)"
   ]
  },
  {
   "cell_type": "code",
   "execution_count": 50,
   "metadata": {
    "colab": {
     "base_uri": "https://localhost:8080/"
    },
    "id": "hwGX1ts9x4pf",
    "outputId": "6509872a-d740-4805-cae5-1d2676be063a"
   },
   "outputs": [
    {
     "data": {
      "text/plain": "array(['gt5', 'gt5', 'le5', 'gt5', 'gt5', 'le5', 'le5', 'le5', 'le5',\n       'le5'], dtype='<U3')"
     },
     "execution_count": 50,
     "metadata": {},
     "output_type": "execute_result"
    }
   ],
   "source": [
    "# If value > 5, then yield 'gt5' else 'le5'\n",
    "np.where(arr_rand > 5, 'gt5', 'le5')"
   ]
  },
  {
   "cell_type": "code",
   "execution_count": 51,
   "metadata": {
    "colab": {
     "base_uri": "https://localhost:8080/"
    },
    "id": "kt6z_nSJx4pg",
    "outputId": "fb853f4e-9ffa-4a6a-a6ad-aed0c99d5773"
   },
   "outputs": [
    {
     "name": "stdout",
     "output_type": "stream",
     "text": [
      "Position of max value:  0\n",
      "Position of min value:  5\n"
     ]
    }
   ],
   "source": [
    "# Location of the max\n",
    "print('Position of max value: ', np.argmax(arr_rand))  \n",
    "\n",
    "# Location of the min\n",
    "print('Position of min value: ', np.argmin(arr_rand))  "
   ]
  },
  {
   "cell_type": "markdown",
   "metadata": {
    "id": "UsBzxezFx4pg"
   },
   "source": [
    "### Reversing"
   ]
  },
  {
   "cell_type": "code",
   "execution_count": 52,
   "metadata": {
    "colab": {
     "base_uri": "https://localhost:8080/"
    },
    "id": "c_jqX6WNx4pg",
    "outputId": "64796c8f-3b08-44e1-c6fb-64d9904aca63"
   },
   "outputs": [
    {
     "data": {
      "text/plain": "array([[100., 100.,   3.,   4.],\n       [100., 100.,  -1.,   6.],\n       [  5.,   6.,   7.,   8.]])"
     },
     "execution_count": 52,
     "metadata": {},
     "output_type": "execute_result"
    }
   ],
   "source": [
    "arr2"
   ]
  },
  {
   "cell_type": "code",
   "execution_count": 53,
   "metadata": {
    "colab": {
     "base_uri": "https://localhost:8080/"
    },
    "id": "ljSZhlGax4ph",
    "outputId": "6d26bfa4-4539-4094-c5d6-0f92ba9c76cc"
   },
   "outputs": [
    {
     "data": {
      "text/plain": "array([[  5.,   6.,   7.,   8.],\n       [100., 100.,  -1.,   6.],\n       [100., 100.,   3.,   4.]])"
     },
     "execution_count": 53,
     "metadata": {},
     "output_type": "execute_result"
    }
   ],
   "source": [
    "# Reverse only the row positions\n",
    "arr2[::-1, ]"
   ]
  },
  {
   "cell_type": "code",
   "execution_count": 54,
   "metadata": {
    "colab": {
     "base_uri": "https://localhost:8080/"
    },
    "id": "HeHGwKWIx4ph",
    "outputId": "5ce340ce-90a4-4654-fffe-ce679a4edab8"
   },
   "outputs": [
    {
     "data": {
      "text/plain": "array([[  8.,   7.,   6.,   5.],\n       [  6.,  -1., 100., 100.],\n       [  4.,   3., 100., 100.]])"
     },
     "execution_count": 54,
     "metadata": {},
     "output_type": "execute_result"
    }
   ],
   "source": [
    "# Reverse the row and column positions\n",
    "arr2[::-1, ::-1]"
   ]
  },
  {
   "cell_type": "markdown",
   "metadata": {
    "id": "dahpUNH1x4pi"
   },
   "source": [
    "### Iteration"
   ]
  },
  {
   "cell_type": "code",
   "execution_count": 55,
   "metadata": {
    "colab": {
     "base_uri": "https://localhost:8080/"
    },
    "id": "HVEjezMzx4pi",
    "outputId": "215ff9af-dac8-42f6-b562-d45d309223e6"
   },
   "outputs": [
    {
     "name": "stdout",
     "output_type": "stream",
     "text": [
      "[[ 0  5 10 15]\n",
      " [20 25 30 35]\n",
      " [40 45 50 55]]\n",
      "\n",
      "\n",
      "0\n",
      "5\n",
      "10\n",
      "15\n",
      "20\n",
      "25\n",
      "30\n",
      "35\n",
      "40\n",
      "45\n",
      "50\n",
      "55\n"
     ]
    }
   ],
   "source": [
    "a = np.arange(0, 60, 5)\n",
    "a = a.reshape(3, 4)\n",
    "\n",
    "print(a)\n",
    "print('\\n')\n",
    "\n",
    "for x in np.nditer(a):\n",
    "    print(x)"
   ]
  },
  {
   "cell_type": "markdown",
   "metadata": {
    "id": "mB7uY3Uqx4pj"
   },
   "source": [
    "### Sorting"
   ]
  },
  {
   "cell_type": "code",
   "execution_count": 56,
   "metadata": {
    "colab": {
     "base_uri": "https://localhost:8080/"
    },
    "id": "Fa7sahI_x4pj",
    "outputId": "9b73f94c-527c-46e7-c304-045112cfffaa"
   },
   "outputs": [
    {
     "data": {
      "text/plain": "array([[1, 1, 4, 1],\n       [3, 5, 3, 3],\n       [3, 3, 2, 1],\n       [1, 5, 4, 5],\n       [3, 1, 4, 2],\n       [3, 4, 5, 5],\n       [2, 4, 5, 5],\n       [4, 4, 4, 2]])"
     },
     "execution_count": 56,
     "metadata": {},
     "output_type": "execute_result"
    }
   ],
   "source": [
    "np.random.seed(100)\n",
    "arr = np.random.randint(1,6, size=[8, 4])\n",
    "arr"
   ]
  },
  {
   "cell_type": "code",
   "execution_count": 57,
   "metadata": {
    "colab": {
     "base_uri": "https://localhost:8080/"
    },
    "id": "qJGBhRa7x4pj",
    "outputId": "28240291-5c9a-4aaf-fe5e-1630a7e2a7bf"
   },
   "outputs": [
    {
     "data": {
      "text/plain": "array([[1, 1, 2, 1],\n       [1, 1, 3, 1],\n       [2, 3, 4, 2],\n       [3, 4, 4, 2],\n       [3, 4, 4, 3],\n       [3, 4, 4, 5],\n       [3, 5, 5, 5],\n       [4, 5, 5, 5]])"
     },
     "execution_count": 57,
     "metadata": {},
     "output_type": "execute_result"
    }
   ],
   "source": [
    "# Sort each columns of arr\n",
    "np.sort(arr, axis=0)"
   ]
  },
  {
   "cell_type": "code",
   "execution_count": 58,
   "metadata": {
    "colab": {
     "base_uri": "https://localhost:8080/"
    },
    "id": "01SObppOx4pk",
    "outputId": "1bb3ef9c-f182-4be8-c824-e58c27035912"
   },
   "outputs": [
    {
     "name": "stdout",
     "output_type": "stream",
     "text": [
      "[0 3 2 4 5 1]\n"
     ]
    }
   ],
   "source": [
    "# Get the index positions that would sort the array\n",
    "x = np.array([1, 10, 5, 2, 8, 9])\n",
    "sort_index = np.argsort(x)\n",
    "print(sort_index)"
   ]
  },
  {
   "cell_type": "code",
   "execution_count": 59,
   "metadata": {
    "colab": {
     "base_uri": "https://localhost:8080/"
    },
    "id": "jbZ3HZA7x4pl",
    "outputId": "00ce5cbe-47e1-4f75-d1ef-ec779f3b5cc7"
   },
   "outputs": [
    {
     "data": {
      "text/plain": "array([ 1,  2,  5,  8,  9, 10])"
     },
     "execution_count": 59,
     "metadata": {},
     "output_type": "execute_result"
    }
   ],
   "source": [
    "x[sort_index]"
   ]
  },
  {
   "cell_type": "code",
   "execution_count": 60,
   "metadata": {
    "colab": {
     "base_uri": "https://localhost:8080/"
    },
    "id": "kKO75A43x4pl",
    "outputId": "618a8244-4863-44ff-950c-ee00b5ec4a80"
   },
   "outputs": [
    {
     "data": {
      "text/plain": "array([[1, 1, 4, 1],\n       [1, 5, 4, 5],\n       [2, 4, 5, 5],\n       [3, 5, 3, 3],\n       [3, 3, 2, 1],\n       [3, 1, 4, 2],\n       [3, 4, 5, 5],\n       [4, 4, 4, 2]])"
     },
     "execution_count": 60,
     "metadata": {},
     "output_type": "execute_result"
    }
   ],
   "source": [
    "# Argsort the first column\n",
    "sorted_index_1stcol = arr[:, 0].argsort()\n",
    "\n",
    "# Sort 'arr' by first column without disturbing the integrity of rows\n",
    "arr[sorted_index_1stcol]"
   ]
  },
  {
   "cell_type": "code",
   "execution_count": 61,
   "metadata": {
    "colab": {
     "base_uri": "https://localhost:8080/"
    },
    "id": "jXafCVpvx4pl",
    "outputId": "789703f8-6fed-4cb4-d579-5a4c9638eae0"
   },
   "outputs": [
    {
     "data": {
      "text/plain": "array([[4, 4, 4, 2],\n       [3, 4, 5, 5],\n       [3, 1, 4, 2],\n       [3, 3, 2, 1],\n       [3, 5, 3, 3],\n       [2, 4, 5, 5],\n       [1, 5, 4, 5],\n       [1, 1, 4, 1]])"
     },
     "execution_count": 61,
     "metadata": {},
     "output_type": "execute_result"
    }
   ],
   "source": [
    "# Descending sort\n",
    "arr[sorted_index_1stcol[::-1]]"
   ]
  },
  {
   "cell_type": "code",
   "execution_count": 62,
   "metadata": {
    "colab": {
     "base_uri": "https://localhost:8080/"
    },
    "id": "X1ZKrvf-x4pm",
    "outputId": "75fa9064-a69c-4a2b-903b-f16c1d3c0159"
   },
   "outputs": [
    {
     "data": {
      "text/plain": "array([[1, 1, 4, 1],\n       [1, 5, 4, 5],\n       [2, 4, 5, 5],\n       [3, 1, 4, 2],\n       [3, 3, 2, 1],\n       [3, 4, 5, 5],\n       [3, 5, 3, 3],\n       [4, 4, 4, 2]])"
     },
     "execution_count": 62,
     "metadata": {},
     "output_type": "execute_result"
    }
   ],
   "source": [
    "# Sort by column 0, then by column 1\n",
    "lexsorted_index = np.lexsort((arr[:, 1], arr[:, 0])) \n",
    "arr[lexsorted_index]"
   ]
  },
  {
   "cell_type": "markdown",
   "metadata": {
    "id": "VFLfubO8x4pm"
   },
   "source": [
    "### mean, min, max"
   ]
  },
  {
   "cell_type": "code",
   "execution_count": 63,
   "metadata": {
    "colab": {
     "base_uri": "https://localhost:8080/"
    },
    "id": "6OxA2gx1x4pn",
    "outputId": "984106b8-8f9e-46a7-ef6a-7166902ddd22"
   },
   "outputs": [
    {
     "data": {
      "text/plain": "array([[100., 100.,   3.,   4.],\n       [100., 100.,  -1.,   6.],\n       [  5.,   6.,   7.,   8.]])"
     },
     "execution_count": 63,
     "metadata": {},
     "output_type": "execute_result"
    }
   ],
   "source": [
    "arr2"
   ]
  },
  {
   "cell_type": "code",
   "execution_count": 64,
   "metadata": {
    "colab": {
     "base_uri": "https://localhost:8080/"
    },
    "id": "OaePYMSmx4pn",
    "outputId": "2fc42b05-db2f-408d-b9be-913d956a2ce3"
   },
   "outputs": [
    {
     "name": "stdout",
     "output_type": "stream",
     "text": [
      "Mean value is:  36.5\n",
      "Max value is:  100.0\n",
      "Min value is:  -1.0\n"
     ]
    }
   ],
   "source": [
    "# mean, max and min\n",
    "print(\"Mean value is: \", arr2.mean())\n",
    "print(\"Max value is: \", arr2.max())\n",
    "print(\"Min value is: \", arr2.min())"
   ]
  },
  {
   "cell_type": "code",
   "execution_count": 65,
   "metadata": {
    "colab": {
     "base_uri": "https://localhost:8080/"
    },
    "id": "KE8AqdnBx4po",
    "outputId": "1bfda22a-0192-4021-cf06-2c1bcd378157"
   },
   "outputs": [
    {
     "name": "stdout",
     "output_type": "stream",
     "text": [
      "Column wise minimum:  [ 5.  6. -1.  4.]\n",
      "Row wise minimum:  [ 3. -1.  5.]\n"
     ]
    }
   ],
   "source": [
    "# Row wise and column wise min\n",
    "print(\"Column wise minimum: \", np.amin(arr2, axis=0))\n",
    "print(\"Row wise minimum: \", np.amin(arr2, axis=1))"
   ]
  },
  {
   "cell_type": "markdown",
   "source": [],
   "metadata": {
    "id": "dH1eVXKR5D3Y"
   }
  },
  {
   "cell_type": "code",
   "execution_count": 66,
   "metadata": {
    "colab": {
     "base_uri": "https://localhost:8080/"
    },
    "id": "j5POtueSx4po",
    "outputId": "de2f66c1-b3ea-456a-f5b4-59e37b82ccc6"
   },
   "outputs": [
    {
     "data": {
      "text/plain": "array([100., 200., 203., 207., 307., 407., 406., 412., 417., 423., 430.,\n       438.])"
     },
     "execution_count": 66,
     "metadata": {},
     "output_type": "execute_result"
    }
   ],
   "source": [
    "# Cumulative Sum\n",
    "np.cumsum(arr2)"
   ]
  },
  {
   "cell_type": "markdown",
   "metadata": {
    "id": "TOvgt_Myx4pp"
   },
   "source": [
    "### Applying functions"
   ]
  },
  {
   "cell_type": "code",
   "execution_count": 67,
   "metadata": {
    "colab": {
     "base_uri": "https://localhost:8080/"
    },
    "id": "qrwRgyYBx4pp",
    "outputId": "8d0062cb-01f4-46e8-8c58-17bcab2e9f7d"
   },
   "outputs": [
    {
     "name": "stdout",
     "output_type": "stream",
     "text": [
      "x = 10 returns  5.0\n",
      "x = 11 returns  121\n"
     ]
    }
   ],
   "source": [
    "# Define a scalar function\n",
    "def foo(x):\n",
    "    if x % 2 == 1:\n",
    "        return x**2\n",
    "    else:\n",
    "        return x/2\n",
    "\n",
    "# On a scalar\n",
    "print('x = 10 returns ', foo(10))\n",
    "print('x = 11 returns ', foo(11))\n",
    "\n",
    "# On a vector, doesn't work\n",
    "#print('x = [10, 11, 12] returns ', foo([10, 11, 12]))  # Error "
   ]
  },
  {
   "cell_type": "code",
   "execution_count": 68,
   "metadata": {
    "colab": {
     "base_uri": "https://localhost:8080/"
    },
    "id": "JaJu9YK7x4pq",
    "outputId": "7e14ce55-97b3-44ef-a37c-ab60587e7e6a"
   },
   "outputs": [
    {
     "name": "stdout",
     "output_type": "stream",
     "text": [
      "x = [10, 11, 12] returns  [  5. 121.   6.]\n",
      "x = [[10, 11, 12], [1, 2, 3]] returns  [[  5. 121.   6.]\n",
      " [  1.   1.   9.]]\n"
     ]
    }
   ],
   "source": [
    "# Vectorize foo(). Make it work on vectors.\n",
    "foo_v = np.vectorize(foo, otypes=[float])\n",
    "\n",
    "print('x = [10, 11, 12] returns ', foo_v([10, 11, 12]))\n",
    "print('x = [[10, 11, 12], [1, 2, 3]] returns ', foo_v([[10, 11, 12], [1, 2, 3]]))"
   ]
  },
  {
   "cell_type": "code",
   "execution_count": 69,
   "metadata": {
    "colab": {
     "base_uri": "https://localhost:8080/"
    },
    "id": "UCN5XpFnx4pr",
    "outputId": "3edeb8c3-9b54-4933-d581-4ddfc177e480"
   },
   "outputs": [
    {
     "data": {
      "text/plain": "array([[9, 9, 4, 8, 8, 1, 5, 3, 6, 3],\n       [3, 3, 2, 1, 9, 5, 1, 7, 3, 5],\n       [2, 6, 4, 5, 5, 4, 8, 2, 2, 8],\n       [8, 1, 3, 4, 3, 6, 9, 2, 1, 8]])"
     },
     "execution_count": 69,
     "metadata": {},
     "output_type": "execute_result"
    }
   ],
   "source": [
    "# Create a 4x10 random array\n",
    "np.random.seed(100)\n",
    "arr_x = np.random.randint(1,10,size=[4,10])\n",
    "arr_x"
   ]
  },
  {
   "cell_type": "code",
   "execution_count": 70,
   "outputs": [
    {
     "name": "stdout",
     "output_type": "stream",
     "text": [
      "Row wise:  [8 8 6 8]\n",
      "Column wise:  [7 8 2 7 6 5 8 5 5 5]\n"
     ]
    }
   ],
   "source": [
    "# Define func1d\n",
    "def max_minus_min(x):\n",
    "    return np.max(x) - np.min(x)\n",
    "\n",
    "# Apply along the rows\n",
    "print('Row wise: ', np.apply_along_axis(max_minus_min, 1, arr=arr_x))\n",
    "\n",
    "# Apply along the columns\n",
    "print('Column wise: ', np.apply_along_axis(max_minus_min, 0, arr=arr_x))"
   ],
   "metadata": {
    "colab": {
     "base_uri": "https://localhost:8080/"
    },
    "id": "xv6XxZYsx4pr",
    "outputId": "ed305cc6-f390-4bcb-931f-5f3a55100b5c"
   }
  },
  {
   "cell_type": "code",
   "execution_count": 71,
   "outputs": [],
   "source": [
    "def max_minus_min_fast(x, axis):\n",
    "    return x.max(axis=axis) - x.min(axis=axis)"
   ],
   "metadata": {
    "id": "jlbRqC3vx4pr"
   }
  },
  {
   "cell_type": "code",
   "execution_count": 72,
   "outputs": [
    {
     "name": "stdout",
     "output_type": "stream",
     "text": [
      "Row wise:  [8 8 6 8]\n",
      "Column wise:  [7 8 2 7 6 5 8 5 5 5]\n"
     ]
    }
   ],
   "source": [
    "# Apply along the rows\n",
    "print('Row wise: ', max_minus_min_fast(arr_x, 1))\n",
    "\n",
    "# Apply along the columns\n",
    "print('Column wise: ', max_minus_min_fast(arr_x, 0))"
   ],
   "metadata": {
    "colab": {
     "base_uri": "https://localhost:8080/"
    },
    "id": "uC0TnwJxx4ps",
    "outputId": "24bc55a7-30e2-4405-f5c2-11a7a5c543b3"
   }
  },
  {
   "cell_type": "code",
   "execution_count": 73,
   "outputs": [
    {
     "name": "stdout",
     "output_type": "stream",
     "text": [
      "53.5 µs ± 297 ns per loop (mean ± std. dev. of 7 runs, 10000 loops each)\n"
     ]
    }
   ],
   "source": [
    "%timeit np.apply_along_axis(max_minus_min, 1, arr=arr_x)"
   ],
   "metadata": {
    "colab": {
     "base_uri": "https://localhost:8080/"
    },
    "id": "58lEGM6rx4ps",
    "outputId": "534e4d9d-a0c8-44a6-dc30-e86874a1cd69"
   }
  },
  {
   "cell_type": "code",
   "execution_count": 74,
   "outputs": [
    {
     "name": "stdout",
     "output_type": "stream",
     "text": [
      "3.66 µs ± 6.7 ns per loop (mean ± std. dev. of 7 runs, 100000 loops each)\n"
     ]
    }
   ],
   "source": [
    "%timeit max_minus_min_fast(arr_x, 1)"
   ],
   "metadata": {
    "colab": {
     "base_uri": "https://localhost:8080/"
    },
    "id": "11g_J2iCx4pt",
    "outputId": "a7ef89a1-01fd-465f-8c9e-bcee3303446e"
   }
  },
  {
   "cell_type": "markdown",
   "source": [
    "# Linear algebra"
   ],
   "metadata": {
    "collapsed": false,
    "id": "KHkaeslwx4pt"
   }
  },
  {
   "cell_type": "code",
   "execution_count": 75,
   "outputs": [
    {
     "data": {
      "text/plain": "array([[100., 100.,   3.,   4.],\n       [100., 100.,  -1.,   6.],\n       [  5.,   6.,   7.,   8.]])"
     },
     "execution_count": 75,
     "metadata": {},
     "output_type": "execute_result"
    }
   ],
   "source": [
    "arr2"
   ],
   "metadata": {
    "colab": {
     "base_uri": "https://localhost:8080/"
    },
    "id": "ZVnwQPd7x4pt",
    "outputId": "7560f899-bfb1-4ef1-e4a8-012374768108"
   }
  },
  {
   "cell_type": "code",
   "execution_count": 76,
   "outputs": [
    {
     "data": {
      "text/plain": "array([[100., 100.,   5.],\n       [100., 100.,   6.],\n       [  3.,  -1.,   7.],\n       [  4.,   6.,   8.]])"
     },
     "execution_count": 76,
     "metadata": {},
     "output_type": "execute_result"
    }
   ],
   "source": [
    "arr2.transpose()"
   ],
   "metadata": {
    "colab": {
     "base_uri": "https://localhost:8080/"
    },
    "id": "Vcr3XX2ex4pt",
    "outputId": "9a457ad6-b838-4c3a-fa5c-f59032b80edf"
   }
  },
  {
   "cell_type": "code",
   "execution_count": 77,
   "outputs": [
    {
     "data": {
      "text/plain": "array([[ -4,   0,   2],\n       [ 14,   5, -23],\n       [ 13, -11,   0],\n       [  1,   5,  11]], dtype=int64)"
     },
     "execution_count": 77,
     "metadata": {},
     "output_type": "execute_result"
    }
   ],
   "source": [
    "arr_tmp = np.array(np.random.randn(4, 3)*10, dtype=np.int64)\n",
    "arr_tmp"
   ],
   "metadata": {
    "colab": {
     "base_uri": "https://localhost:8080/"
    },
    "id": "47U4KZ9px4pu",
    "outputId": "6249c85e-3484-4d98-d6c5-6ea19d896c23"
   }
  },
  {
   "cell_type": "code",
   "execution_count": 78,
   "outputs": [
    {
     "data": {
      "text/plain": "array([[ 1043.,   487., -2056.],\n       [  993.,   541., -2034.],\n       [  163.,    -7.,   -40.]])"
     },
     "execution_count": 78,
     "metadata": {},
     "output_type": "execute_result"
    }
   ],
   "source": [
    "np.dot(arr2, arr_tmp)"
   ],
   "metadata": {
    "colab": {
     "base_uri": "https://localhost:8080/"
    },
    "id": "J6Sijq0Tx4pu",
    "outputId": "2b8675b6-9177-4fe2-95a8-acd0b7d0b782"
   }
  },
  {
   "cell_type": "code",
   "execution_count": 79,
   "outputs": [
    {
     "data": {
      "text/plain": "array([[20015., 20018.,   221.],\n       [19995., 19994.,   193.],\n       [ 1135.,  1142.,    58.]])"
     },
     "execution_count": 79,
     "metadata": {},
     "output_type": "execute_result"
    }
   ],
   "source": [
    "np.linalg.matrix_power(arr2[:, :3], 2)"
   ],
   "metadata": {
    "colab": {
     "base_uri": "https://localhost:8080/"
    },
    "id": "47agC18Jx4pu",
    "outputId": "e1bb7d13-c45a-496e-9fc1-ad06a9c90d28"
   }
  },
  {
   "cell_type": "code",
   "execution_count": 80,
   "outputs": [
    {
     "data": {
      "text/plain": "400.0000000000002"
     },
     "execution_count": 80,
     "metadata": {},
     "output_type": "execute_result"
    }
   ],
   "source": [
    "np.linalg.det(arr2[:, :3])"
   ],
   "metadata": {
    "colab": {
     "base_uri": "https://localhost:8080/"
    },
    "id": "5CmM2dBRx4pv",
    "outputId": "886acfc5-015b-48c3-a7fa-d02665ae879c"
   }
  },
  {
   "cell_type": "code",
   "execution_count": 81,
   "outputs": [
    {
     "data": {
      "text/plain": "(array([200.06,   0.3 ,   6.64]),\n array([[-0.71, -0.7 ,  0.27],\n        [-0.71,  0.7 , -0.28],\n        [-0.04, -0.11,  0.92]]))"
     },
     "execution_count": 81,
     "metadata": {},
     "output_type": "execute_result"
    }
   ],
   "source": [
    "np.linalg.eig(arr2[:, :3])"
   ],
   "metadata": {
    "colab": {
     "base_uri": "https://localhost:8080/"
    },
    "id": "e30lUIZUx4pv",
    "outputId": "6ed7a4b2-1bcb-4eee-9958-d92fdb02b5e6"
   }
  },
  {
   "cell_type": "code",
   "execution_count": 81,
   "outputs": [],
   "source": [],
   "metadata": {
    "id": "FYvYGt2lx4pv"
   }
  }
 ],
 "metadata": {
  "kernelspec": {
   "display_name": "Python 3",
   "language": "python",
   "name": "python3"
  },
  "language_info": {
   "codemirror_mode": {
    "name": "ipython",
    "version": 3
   },
   "file_extension": ".py",
   "mimetype": "text/x-python",
   "name": "python",
   "nbconvert_exporter": "python",
   "pygments_lexer": "ipython3",
   "version": "3.7.1"
  },
  "colab": {
   "provenance": []
  }
 },
 "nbformat": 4,
 "nbformat_minor": 0
}
