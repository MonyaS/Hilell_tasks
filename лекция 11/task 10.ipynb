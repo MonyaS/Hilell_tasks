{
 "cells": [
  {
   "cell_type": "code",
   "execution_count": 3,
   "metadata": {},
   "outputs": [],
   "source": [
    "import matplotlib.pyplot as plt\n",
    "import numpy as np\n",
    "import pandas as pd\n",
    "import seaborn as sns\n",
    "from sklearn import preprocessing\n",
    "from sklearn.cluster import AgglomerativeClustering, KMeans, Birch\n",
    "from sklearn.decomposition import PCA\n",
    "from sklearn.metrics import silhouette_score, davies_bouldin_score, adjusted_rand_score\n",
    "from sklearn.model_selection import train_test_split\n",
    "\n",
    "sns.set()"
   ]
  },
  {
   "cell_type": "markdown",
   "metadata": {},
   "source": [
    "Загрузка данные сета."
   ]
  },
  {
   "cell_type": "code",
   "execution_count": 4,
   "metadata": {},
   "outputs": [],
   "source": [
    "data = pd.read_csv('T10Y2Y.csv', sep=\",\")"
   ]
  },
  {
   "cell_type": "markdown",
   "metadata": {},
   "source": [
    "Оцениваем что в дата-сете есть, и с чем прийдется иметь дело."
   ]
  },
  {
   "cell_type": "code",
   "execution_count": 5,
   "metadata": {},
   "outputs": [
    {
     "data": {
      "text/plain": "            DATE T10Y2Y\n0     2018-02-20   0.63\n1     2018-02-21   0.68\n2     2018-02-22   0.67\n3     2018-02-23   0.63\n4     2018-02-26   0.64\n...          ...    ...\n1299  2023-02-13   -0.8\n1300  2023-02-14  -0.83\n1301  2023-02-15  -0.81\n1302  2023-02-16  -0.76\n1303  2023-02-17  -0.78\n\n[1304 rows x 2 columns]",
      "text/html": "<div>\n<style scoped>\n    .dataframe tbody tr th:only-of-type {\n        vertical-align: middle;\n    }\n\n    .dataframe tbody tr th {\n        vertical-align: top;\n    }\n\n    .dataframe thead th {\n        text-align: right;\n    }\n</style>\n<table border=\"1\" class=\"dataframe\">\n  <thead>\n    <tr style=\"text-align: right;\">\n      <th></th>\n      <th>DATE</th>\n      <th>T10Y2Y</th>\n    </tr>\n  </thead>\n  <tbody>\n    <tr>\n      <th>0</th>\n      <td>2018-02-20</td>\n      <td>0.63</td>\n    </tr>\n    <tr>\n      <th>1</th>\n      <td>2018-02-21</td>\n      <td>0.68</td>\n    </tr>\n    <tr>\n      <th>2</th>\n      <td>2018-02-22</td>\n      <td>0.67</td>\n    </tr>\n    <tr>\n      <th>3</th>\n      <td>2018-02-23</td>\n      <td>0.63</td>\n    </tr>\n    <tr>\n      <th>4</th>\n      <td>2018-02-26</td>\n      <td>0.64</td>\n    </tr>\n    <tr>\n      <th>...</th>\n      <td>...</td>\n      <td>...</td>\n    </tr>\n    <tr>\n      <th>1299</th>\n      <td>2023-02-13</td>\n      <td>-0.8</td>\n    </tr>\n    <tr>\n      <th>1300</th>\n      <td>2023-02-14</td>\n      <td>-0.83</td>\n    </tr>\n    <tr>\n      <th>1301</th>\n      <td>2023-02-15</td>\n      <td>-0.81</td>\n    </tr>\n    <tr>\n      <th>1302</th>\n      <td>2023-02-16</td>\n      <td>-0.76</td>\n    </tr>\n    <tr>\n      <th>1303</th>\n      <td>2023-02-17</td>\n      <td>-0.78</td>\n    </tr>\n  </tbody>\n</table>\n<p>1304 rows × 2 columns</p>\n</div>"
     },
     "execution_count": 5,
     "metadata": {},
     "output_type": "execute_result"
    }
   ],
   "source": [
    "data"
   ]
  },
  {
   "cell_type": "markdown",
   "metadata": {},
   "source": [
    "Cмотрим насколько однородны данные и сколько пропущенных элементов в тех или иных столбцах."
   ]
  },
  {
   "cell_type": "code",
   "execution_count": 6,
   "metadata": {},
   "outputs": [
    {
     "data": {
      "text/plain": "DATE      1304\nT10Y2Y    1304\ndtype: int64"
     },
     "execution_count": 6,
     "metadata": {},
     "output_type": "execute_result"
    }
   ],
   "source": [
    "data.count()"
   ]
  },
  {
   "cell_type": "markdown",
   "source": [
    "В процентном соотношении."
   ],
   "metadata": {
    "collapsed": false
   }
  },
  {
   "cell_type": "code",
   "execution_count": 7,
   "outputs": [
    {
     "name": "stdout",
     "output_type": "stream",
     "text": [
      "DATE - 0.0     min: 2018-02-20     max:2023-02-17\n",
      "T10Y2Y - 0.0     min: -0.01     max:1.59\n"
     ]
    }
   ],
   "source": [
    "for col in data.columns:\n",
    "    pct_missing = np.mean(data[col].isnull())\n",
    "    print(f'{col} - {round(pct_missing * 100, 5)}     min: {data[col].min()}     max:{data[col].max()}')"
   ],
   "metadata": {
    "collapsed": false
   }
  },
  {
   "cell_type": "code",
   "execution_count": 8,
   "metadata": {},
   "outputs": [
    {
     "data": {
      "text/plain": "              DATE T10Y2Y\ncount         1304   1304\nunique        1304    225\ntop     2021-07-07      .\nfreq             1     54",
      "text/html": "<div>\n<style scoped>\n    .dataframe tbody tr th:only-of-type {\n        vertical-align: middle;\n    }\n\n    .dataframe tbody tr th {\n        vertical-align: top;\n    }\n\n    .dataframe thead th {\n        text-align: right;\n    }\n</style>\n<table border=\"1\" class=\"dataframe\">\n  <thead>\n    <tr style=\"text-align: right;\">\n      <th></th>\n      <th>DATE</th>\n      <th>T10Y2Y</th>\n    </tr>\n  </thead>\n  <tbody>\n    <tr>\n      <th>count</th>\n      <td>1304</td>\n      <td>1304</td>\n    </tr>\n    <tr>\n      <th>unique</th>\n      <td>1304</td>\n      <td>225</td>\n    </tr>\n    <tr>\n      <th>top</th>\n      <td>2021-07-07</td>\n      <td>.</td>\n    </tr>\n    <tr>\n      <th>freq</th>\n      <td>1</td>\n      <td>54</td>\n    </tr>\n  </tbody>\n</table>\n</div>"
     },
     "execution_count": 8,
     "metadata": {},
     "output_type": "execute_result"
    }
   ],
   "source": [
    "data.describe()"
   ]
  },
  {
   "cell_type": "markdown",
   "source": [
    "Видим появившуюся точку заменяем"
   ],
   "metadata": {
    "collapsed": false
   }
  },
  {
   "cell_type": "code",
   "execution_count": 9,
   "outputs": [],
   "source": [
    "data[\"T10Y2Y\"] = np.where(data[\"T10Y2Y\"] == \".\", \"0\", data[\"T10Y2Y\"])"
   ],
   "metadata": {
    "collapsed": false
   }
  },
  {
   "cell_type": "code",
   "execution_count": 10,
   "outputs": [
    {
     "name": "stderr",
     "output_type": "stream",
     "text": [
      "C:\\Users\\Monya\\AppData\\Local\\Programs\\Python\\Python37\\lib\\site-packages\\ipykernel_launcher.py:1: DeprecationWarning: `np.float` is a deprecated alias for the builtin `float`. To silence this warning, use `float` by itself. Doing this will not modify any behavior and is safe. If you specifically wanted the numpy scalar type, use `np.float64` here.\n",
      "Deprecated in NumPy 1.20; for more details and guidance: https://numpy.org/devdocs/release/1.20.0-notes.html#deprecations\n",
      "  \"\"\"Entry point for launching an IPython kernel.\n"
     ]
    },
    {
     "data": {
      "text/plain": "{'whiskers': [<matplotlib.lines.Line2D at 0x26b9adb4668>,\n  <matplotlib.lines.Line2D at 0x26b9adb46a0>],\n 'caps': [<matplotlib.lines.Line2D at 0x26b9adb49b0>,\n  <matplotlib.lines.Line2D at 0x26b9adb4c88>],\n 'boxes': [<matplotlib.lines.Line2D at 0x26b9adb4400>],\n 'medians': [<matplotlib.lines.Line2D at 0x26b9adb4f98>],\n 'fliers': [<matplotlib.lines.Line2D at 0x26b9add1588>],\n 'means': []}"
     },
     "execution_count": 10,
     "metadata": {},
     "output_type": "execute_result"
    },
    {
     "data": {
      "text/plain": "<Figure size 640x480 with 1 Axes>",
      "image/png": "[encoded data removed]"
     },
     "metadata": {},
     "output_type": "display_data"
    }
   ],
   "source": [
    "plt.boxplot(data[\"T10Y2Y\"].astype(np.float))"
   ],
   "metadata": {
    "collapsed": false
   }
  },
  {
   "cell_type": "code",
   "execution_count": null,
   "outputs": [],
   "source": [
    "data = TimeSeries.from_dataframe(data,time_col='DATE')"
   ],
   "metadata": {
    "collapsed": false
   }
  },
  {
   "cell_type": "code",
   "execution_count": null,
   "outputs": [],
   "source": [
    "data.plot()"
   ],
   "metadata": {
    "collapsed": false
   }
  },
  {
   "cell_type": "markdown",
   "source": [
    "Убираем таргет из датасета"
   ],
   "metadata": {
    "collapsed": false
   }
  },
  {
   "cell_type": "code",
   "execution_count": null,
   "outputs": [],
   "source": [
    "data.split"
   ],
   "metadata": {
    "collapsed": false
   }
  },
  {
   "cell_type": "code",
   "execution_count": null,
   "outputs": [],
   "source": [
    "columns = data.columns\n",
    "data = pd.DataFrame(preprocessing.MinMaxScaler().fit_transform(data))\n",
    "data.columns = columns"
   ],
   "metadata": {
    "collapsed": false
   }
  },
  {
   "cell_type": "markdown",
   "source": [
    "Делим датасет на тренировочную и тестовую часть"
   ],
   "metadata": {
    "collapsed": false
   }
  },
  {
   "cell_type": "code",
   "execution_count": null,
   "outputs": [],
   "source": [
    "datasets = {\"train\": {}, \"test\": {}}\n",
    "datasets[\"train\"][\"data\"], datasets[\"test\"][\"data\"], datasets[\"train\"][\"target\"], datasets[\"test\"][\n",
    "    \"target\"] = train_test_split(data, target, train_size=0.9, shuffle=True)\n",
    "print(datasets[\"train\"][\"data\"].shape)"
   ],
   "metadata": {
    "collapsed": false
   }
  },
  {
   "cell_type": "code",
   "execution_count": null,
   "outputs": [],
   "source": [
    "#create list to hold Silhouette Coefficient values for each k\n",
    "silhouette_scores = []\n",
    "for k in range(2, 11):\n",
    "    cluster_kmeans = KMeans(n_clusters=k)\n",
    "    cluster_kmeans.fit(datasets[\"train\"][\"data\"])\n",
    "    silhouette_scores.append(silhouette_score(datasets[\"train\"][\"data\"], cluster_kmeans.labels_))\n",
    "\n",
    "#visualize results\n",
    "plt.plot(range(2, 11), silhouette_scores)\n",
    "plt.xticks(range(2, 11))\n",
    "plt.xlabel(\"Number of Clusters\")\n",
    "plt.ylabel(\"Silhouette Coefficient\")\n",
    "plt.show()\n",
    "\n",
    "silhouette_scores.clear()\n",
    "for k in range(2, 11):\n",
    "    cluster_agglomerative = AgglomerativeClustering(n_clusters=k)\n",
    "    cluster_agglomerative.fit(datasets[\"train\"][\"data\"])\n",
    "    silhouette_scores.append(silhouette_score(datasets[\"train\"][\"data\"], cluster_agglomerative.labels_))\n",
    "\n",
    "#visualize results\n",
    "plt.plot(range(2, 11), silhouette_scores)\n",
    "plt.xticks(range(2, 11))\n",
    "plt.xlabel(\"Number of Clusters\")\n",
    "plt.ylabel(\"Silhouette Coefficient\")\n",
    "plt.show()\n",
    "\n",
    "silhouette_scores.clear()\n",
    "for k in range(2, 11):\n",
    "    cluster_birch = Birch(n_clusters=k)\n",
    "    cluster_birch.fit(datasets[\"train\"][\"data\"])\n",
    "    silhouette_scores.append(silhouette_score(datasets[\"train\"][\"data\"], cluster_birch.labels_))\n",
    "\n",
    "#visualize results\n",
    "plt.plot(range(2, 11), silhouette_scores)\n",
    "plt.xticks(range(2, 11))\n",
    "plt.xlabel(\"Number of Clusters\")\n",
    "plt.ylabel(\"Silhouette Coefficient\")\n",
    "plt.show()"
   ],
   "metadata": {
    "collapsed": false
   }
  },
  {
   "cell_type": "code",
   "execution_count": null,
   "outputs": [],
   "source": [
    "#create list to hold Davies-Bouldin score values for each k\n",
    "davies_bouldin_scores = []\n",
    "for k in range(2, 11):\n",
    "    cluster_kmeans = KMeans(n_clusters=k)\n",
    "    cluster_kmeans.fit(datasets[\"train\"][\"data\"])\n",
    "    davies_bouldin_scores.append(davies_bouldin_score(datasets[\"train\"][\"data\"], cluster_kmeans.labels_))\n",
    "\n",
    "#visualize results\n",
    "plt.plot(range(2, 11), davies_bouldin_scores)\n",
    "plt.xticks(range(2, 11))\n",
    "plt.xlabel(\"Number of Clusters\")\n",
    "plt.ylabel(\"Davies-Bouldin score\")\n",
    "plt.show()\n",
    "\n",
    "davies_bouldin_scores.clear()\n",
    "for k in range(2, 11):\n",
    "    cluster_agglomerative = AgglomerativeClustering(n_clusters=k)\n",
    "    cluster_agglomerative.fit(datasets[\"train\"][\"data\"])\n",
    "    davies_bouldin_scores.append(davies_bouldin_score(datasets[\"train\"][\"data\"], cluster_agglomerative.labels_))\n",
    "\n",
    "#visualize results\n",
    "plt.plot(range(2, 11), davies_bouldin_scores)\n",
    "plt.xticks(range(2, 11))\n",
    "plt.xlabel(\"Number of Clusters\")\n",
    "plt.ylabel(\"Davies-Bouldin score\")\n",
    "plt.show()\n",
    "\n",
    "davies_bouldin_scores.clear()\n",
    "for k in range(2, 11):\n",
    "    cluster_birch = Birch(n_clusters=k)\n",
    "    cluster_birch.fit(datasets[\"train\"][\"data\"])\n",
    "    davies_bouldin_scores.append(davies_bouldin_score(datasets[\"train\"][\"data\"], cluster_birch.labels_))\n",
    "\n",
    "#visualize results\n",
    "plt.plot(range(2, 11), davies_bouldin_scores)\n",
    "plt.xticks(range(2, 11))\n",
    "plt.xlabel(\"Number of Clusters\")\n",
    "plt.ylabel(\"Davies-Bouldin score\")\n",
    "plt.show()"
   ],
   "metadata": {
    "collapsed": false
   }
  },
  {
   "cell_type": "code",
   "execution_count": null,
   "outputs": [],
   "source": [
    "adjusted_rand_scores = []\n",
    "for k in range(2, 11):\n",
    "    cluster_kmeans = KMeans(n_clusters=k)\n",
    "    cluster_kmeans.fit(datasets[\"train\"][\"data\"])\n",
    "    cluster_kmeans_predict = cluster_kmeans.predict(datasets[\"test\"][\"data\"])\n",
    "    adjusted_rand_scores.append(adjusted_rand_score(cluster_kmeans_predict, datasets[\"test\"][\"target\"]))\n",
    "\n",
    "#visualize results\n",
    "plt.plot(range(2, 11), adjusted_rand_scores)\n",
    "plt.xticks(range(2, 11))\n",
    "plt.xlabel(\"Number of Clusters\")\n",
    "plt.ylabel(\"Adjusted rand scores\")\n",
    "plt.show()\n",
    "\n",
    "adjusted_rand_scores.clear()\n",
    "for k in range(2, 11):\n",
    "    cluster_agglomerative = AgglomerativeClustering(n_clusters=k)\n",
    "    cluster_agglomerative.fit(datasets[\"train\"][\"data\"])\n",
    "    cluster_agglomerative_predict = cluster_agglomerative.fit_predict(datasets[\"test\"][\"data\"])\n",
    "    adjusted_rand_scores.append(adjusted_rand_score(cluster_agglomerative_predict, datasets[\"test\"][\"target\"]))\n",
    "\n",
    "#visualize results\n",
    "plt.plot(range(2, 11), adjusted_rand_scores)\n",
    "plt.xticks(range(2, 11))\n",
    "plt.xlabel(\"Number of Clusters\")\n",
    "plt.ylabel(\"Adjusted rand scores\")\n",
    "plt.show()\n",
    "\n",
    "adjusted_rand_scores = []\n",
    "for k in range(2, 11):\n",
    "    cluster_birch = Birch(n_clusters=k)\n",
    "    cluster_birch.fit(datasets[\"train\"][\"data\"])\n",
    "    cluster_birch_predict = cluster_birch.predict(datasets[\"test\"][\"data\"])\n",
    "    adjusted_rand_scores.append(adjusted_rand_score(cluster_birch_predict, datasets[\"test\"][\"target\"]))\n",
    "\n",
    "#visualize results\n",
    "plt.plot(range(2, 11), adjusted_rand_scores)\n",
    "plt.xticks(range(2, 11))\n",
    "plt.xlabel(\"Number of Clusters\")\n",
    "plt.ylabel(\"Adjusted rand scores\")\n",
    "plt.show()"
   ],
   "metadata": {
    "collapsed": false
   }
  },
  {
   "cell_type": "markdown",
   "source": [
    "Из графиков метрик видно что оптимальным количеством кластеров является 4. Для моделей Agglomerative Clustering и KMeans метрики при значении кластеров 4 оптимально, для Birch приемлемы."
   ],
   "metadata": {
    "collapsed": false
   }
  },
  {
   "cell_type": "code",
   "execution_count": null,
   "outputs": [],
   "source": [
    "pca = PCA().fit(data)\n",
    "\n",
    "plt.rcParams[\"figure.figsize\"] = (26, 10)\n",
    "fig, ax = plt.subplots()\n",
    "xi = np.arange(1, 22, step=1)\n",
    "y = np.cumsum(pca.explained_variance_ratio_)\n",
    "plt.ylim(0.0, 1.1)\n",
    "plt.plot(xi, y, marker='o', linestyle='--', color='b')\n",
    "\n",
    "plt.xlabel('Number of Components')\n",
    "plt.xticks(np.arange(0, 22, step=1))  #change from 0-based array index to 1-based human-readable label\n",
    "plt.ylabel('Cumulative variance (%)')\n",
    "plt.title('The number of components needed to explain variance')\n",
    "\n",
    "plt.axhline(y=0.70, color='r', linestyle='-')\n",
    "plt.text(0.5, 0.73, '70% cut-off threshold', color='red', fontsize=16)\n",
    "\n",
    "ax.grid(axis='y')\n",
    "plt.show()"
   ],
   "metadata": {
    "collapsed": false
   }
  },
  {
   "cell_type": "markdown",
   "source": [
    "Мы утратим приблизительно 30% информации если уменьшим количество фичей до 8. Что мы собственно и сделаем."
   ],
   "metadata": {
    "collapsed": false
   }
  },
  {
   "cell_type": "code",
   "execution_count": null,
   "outputs": [],
   "source": [
    "pca = PCA(n_components=8)\n",
    "data_pca = pca.fit_transform(data)\n",
    "datasets_pca = {\"train\": {}, \"test\": {}}\n",
    "datasets_pca[\"train\"][\"data\"], datasets_pca[\"test\"][\"data\"], datasets_pca[\"train\"][\"target\"], datasets_pca[\"test\"][\n",
    "    \"target\"] = train_test_split(data_pca, target, train_size=0.9, shuffle=True)\n",
    "print(datasets_pca[\"train\"][\"data\"].shape)"
   ],
   "metadata": {
    "collapsed": false
   }
  },
  {
   "cell_type": "markdown",
   "source": [
    "Возьмём модель Birch и на её примере рассмотрим влияние уменьшения кол. фич на метрики."
   ],
   "metadata": {
    "collapsed": false
   }
  },
  {
   "cell_type": "code",
   "execution_count": null,
   "outputs": [],
   "source": [
    "cluster_aglo = AgglomerativeClustering(n_clusters=4)"
   ],
   "metadata": {
    "collapsed": false
   }
  },
  {
   "cell_type": "code",
   "execution_count": null,
   "outputs": [],
   "source": [
    "cluster_aglo_pca = AgglomerativeClustering(n_clusters=4)"
   ],
   "metadata": {
    "collapsed": false
   }
  },
  {
   "cell_type": "code",
   "execution_count": null,
   "outputs": [],
   "source": [
    "cluster_aglo.fit(datasets[\"train\"][\"data\"])"
   ],
   "metadata": {
    "collapsed": false
   }
  },
  {
   "cell_type": "code",
   "execution_count": null,
   "outputs": [],
   "source": [
    "cluster_aglo_pca.fit(datasets_pca[\"train\"][\"data\"])"
   ],
   "metadata": {
    "collapsed": false
   }
  },
  {
   "cell_type": "code",
   "execution_count": null,
   "outputs": [],
   "source": [
    "print(\"Silhouette Coefficient for 21 features: \", silhouette_score(datasets[\"train\"][\"data\"], cluster_aglo.labels_))\n",
    "print(\"Silhouette Coefficient for 8 features: \",\n",
    "      silhouette_score(datasets_pca[\"train\"][\"data\"], cluster_aglo_pca.labels_))"
   ],
   "metadata": {
    "collapsed": false
   }
  },
  {
   "cell_type": "code",
   "execution_count": null,
   "outputs": [],
   "source": [
    "print(\"Davies-Bouldin score for 21 features: \", davies_bouldin_score(datasets[\"train\"][\"data\"], cluster_aglo.labels_))\n",
    "print(\"Davies-Bouldin score for 8 features: \",\n",
    "      davies_bouldin_score(datasets_pca[\"train\"][\"data\"], cluster_aglo_pca.labels_))"
   ],
   "metadata": {
    "collapsed": false
   }
  },
  {
   "cell_type": "code",
   "execution_count": null,
   "outputs": [],
   "source": [
    "cluster_agglomerative_predict = cluster_aglo.fit_predict(datasets[\"test\"][\"data\"])\n",
    "cluster_agglomerative_pca_predict = cluster_aglo_pca.fit_predict(datasets[\"test\"][\"data\"])\n",
    "print(\"Adjusted rand scores for 21 features: \",\n",
    "      adjusted_rand_score(datasets[\"test\"][\"target\"], cluster_agglomerative_predict))\n",
    "print(\"Adjusted rand scores for 8 features: \",\n",
    "      adjusted_rand_score(datasets_pca[\"test\"][\"target\"], cluster_agglomerative_pca_predict))"
   ],
   "metadata": {
    "collapsed": false
   }
  },
  {
   "cell_type": "markdown",
   "source": [
    "Как видно утеря 30% данных ощутимо сказалась на метриках. Метрики Silhouette Coefficient и Davies-Bouldin показали что результаты немного улучшились, а вот метрика Adjusted rand scores показала довольно сильное падение точности результата."
   ],
   "metadata": {
    "collapsed": false
   }
  }
 ],
 "metadata": {
  "anaconda-cloud": {},
  "kernelspec": {
   "display_name": "Python 3 (ipykernel)",
   "language": "python",
   "name": "python3"
  },
  "language_info": {
   "codemirror_mode": {
    "name": "ipython",
    "version": 3
   },
   "file_extension": ".py",
   "mimetype": "text/x-python",
   "name": "python",
   "nbconvert_exporter": "python",
   "pygments_lexer": "ipython3",
   "version": "3.10.9"
  }
 },
 "nbformat": 4,
 "nbformat_minor": 1
}
